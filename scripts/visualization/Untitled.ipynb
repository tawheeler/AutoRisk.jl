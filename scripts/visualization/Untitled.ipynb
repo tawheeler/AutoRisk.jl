{
 "cells": [
  {
   "cell_type": "code",
   "execution_count": 3,
   "metadata": {
    "collapsed": false
   },
   "outputs": [
    {
     "name": "stderr",
     "output_type": "stream",
     "text": [
      "WARNING: Method definition simulate!(AutomotiveDrivingModels.AutoCore.Scene, Base.Dict{Int64, AutomotiveDrivingModels.DriverModel}, AutomotiveDrivingModels.AutoCore.Roadway, AutomotiveDrivingModels.IntegratedContinuous, Float64, AutomotiveDrivingModels.AutoCore.SceneRecord, AutomotiveDrivingModels.AutoCore.Trajdata) in module Main at /Users/wulfebw/Dropbox/School/Stanford/research/risk/risk/src/evaluation/simulation.jl:5 overwritten at /Users/wulfebw/Dropbox/School/Stanford/research/risk/risk/src/evaluation/simulation.jl:5.\n",
      "WARNING: Method definition simulate!(AutomotiveDrivingModels.AutoCore.Scene, Base.Dict{Int64, AutomotiveDrivingModels.DriverModel}, AutomotiveDrivingModels.AutoCore.Roadway, AutomotiveDrivingModels.IntegratedContinuous, Float64, AutomotiveDrivingModels.AutoCore.SceneRecord, Array{Float64, N<:Any}, Base.Dict{Int64, Int64}) in module Main at /Users/wulfebw/Dropbox/School/Stanford/research/risk/risk/src/evaluation/simulation.jl:27 overwritten at /Users/wulfebw/Dropbox/School/Stanford/research/risk/risk/src/evaluation/simulation.jl:27.\n",
      "WARNING: Method definition simulate!(AutomotiveDrivingModels.AutoCore.Scene, Base.Dict{Int64, AutomotiveDrivingModels.DriverModel}, AutomotiveDrivingModels.AutoCore.Roadway, AutomotiveDrivingModels.AutoCore.SceneRecord, Float64) in module Main at /Users/wulfebw/Dropbox/School/Stanford/research/risk/risk/src/evaluation/simulation.jl:59 overwritten at /Users/wulfebw/Dropbox/School/Stanford/research/risk/risk/src/evaluation/simulation.jl:59.\n",
      "WARNING: Method definition stadium_roadway_length(AutomotiveDrivingModels.AutoCore.Roadway) in module Main at /Users/wulfebw/Dropbox/School/Stanford/research/risk/risk/src/utils/automotive.jl:10 overwritten at /Users/wulfebw/Dropbox/School/Stanford/research/risk/risk/src/utils/automotive.jl:10.\n",
      "WARNING: Method definition ==(AutomotiveDrivingModels.AutoCore.VehicleDef, AutomotiveDrivingModels.AutoCore.VehicleDef) in module Main at /Users/wulfebw/Dropbox/School/Stanford/research/risk/risk/src/utils/automotive.jl:18 overwritten at /Users/wulfebw/Dropbox/School/Stanford/research/risk/risk/src/utils/automotive.jl:18.\n",
      "WARNING: Method definition ==(AutomotiveDrivingModels.AutoCore.Frenet, AutomotiveDrivingModels.AutoCore.Frenet) in module Main at /Users/wulfebw/Dropbox/School/Stanford/research/risk/risk/src/utils/automotive.jl:25 overwritten at /Users/wulfebw/Dropbox/School/Stanford/research/risk/risk/src/utils/automotive.jl:25.\n",
      "WARNING: Method definition ==(AutomotiveDrivingModels.AutoCore.VehicleState, AutomotiveDrivingModels.AutoCore.VehicleState) in module Main at /Users/wulfebw/Dropbox/School/Stanford/research/risk/risk/src/utils/automotive.jl:32 overwritten at /Users/wulfebw/Dropbox/School/Stanford/research/risk/risk/src/utils/automotive.jl:32.\n",
      "WARNING: Method definition ==(AutomotiveDrivingModels.AutoCore.Vehicle, AutomotiveDrivingModels.AutoCore.Vehicle) in module Main at /Users/wulfebw/Dropbox/School/Stanford/research/risk/risk/src/utils/automotive.jl:38 overwritten at /Users/wulfebw/Dropbox/School/Stanford/research/risk/risk/src/utils/automotive.jl:38.\n",
      "WARNING: Method definition show(IO, AutomotiveDrivingModels.AutoCore.Vehicle) in module Main at /Users/wulfebw/Dropbox/School/Stanford/research/risk/risk/src/utils/automotive.jl:43 overwritten at /Users/wulfebw/Dropbox/School/Stanford/research/risk/risk/src/utils/automotive.jl:43.\n",
      "WARNING: Method definition show(IO, AutomotiveDrivingModels.AutoCore.VehicleDef) in module Main at /Users/wulfebw/Dropbox/School/Stanford/research/risk/risk/src/utils/automotive.jl:48 overwritten at /Users/wulfebw/Dropbox/School/Stanford/research/risk/risk/src/utils/automotive.jl:48.\n",
      "WARNING: Method definition show(IO, AutomotiveDrivingModels.AutoCore.VehicleState) in module Main at /Users/wulfebw/Dropbox/School/Stanford/research/risk/risk/src/utils/automotive.jl:55 overwritten at /Users/wulfebw/Dropbox/School/Stanford/research/risk/risk/src/utils/automotive.jl:55.\n",
      "WARNING: Method definition show(IO, AutomotiveDrivingModels.AutoCore.Frenet) in module Main at /Users/wulfebw/Dropbox/School/Stanford/research/risk/risk/src/utils/automotive.jl:61 overwritten at /Users/wulfebw/Dropbox/School/Stanford/research/risk/risk/src/utils/automotive.jl:61.\n",
      "WARNING: Method definition ==(AutomotiveDrivingModels.AutoCore.Scene, AutomotiveDrivingModels.AutoCore.Scene) in module Main at /Users/wulfebw/Dropbox/School/Stanford/research/risk/risk/src/utils/automotive.jl:69 overwritten at /Users/wulfebw/Dropbox/School/Stanford/research/risk/risk/src/utils/automotive.jl:69.\n",
      "WARNING: Method definition show(IO, AutomotiveDrivingModels.AutoCore.Scene) in module Main at /Users/wulfebw/Dropbox/School/Stanford/research/risk/risk/src/utils/automotive.jl:83 overwritten at /Users/wulfebw/Dropbox/School/Stanford/research/risk/risk/src/utils/automotive.jl:83.\n",
      "WARNING: Method definition extract_vehicle_frame_targets!(AutomotiveDrivingModels.AutoCore.SceneRecord, AutomotiveDrivingModels.AutoCore.Roadway, Array{Float64, N<:Any}, Int64, Int64, Int64) in module Main at /Users/wulfebw/Dropbox/School/Stanford/research/risk/risk/src/evaluation/dataset_extraction.jl:19 overwritten at /Users/wulfebw/Dropbox/School/Stanford/research/risk/risk/src/evaluation/dataset_extraction.jl:19.\n",
      "WARNING: Method definition extract_frame_targets!(AutomotiveDrivingModels.AutoCore.SceneRecord, AutomotiveDrivingModels.AutoCore.Roadway, Array{Float64, N<:Any}, Base.Dict{Int64, Int64}, Bool, Base.Set{Int64}, Int64) in module Main at /Users/wulfebw/Dropbox/School/Stanford/research/risk/risk/src/evaluation/dataset_extraction.jl:38 overwritten at /Users/wulfebw/Dropbox/School/Stanford/research/risk/risk/src/evaluation/dataset_extraction.jl:38.\n",
      "WARNING: Method definition extract_targets!(AutomotiveDrivingModels.AutoCore.SceneRecord, AutomotiveDrivingModels.AutoCore.Roadway, Array{Float64, N<:Any}, Base.Dict{Int64, Int64}, Bool) in module Main at /Users/wulfebw/Dropbox/School/Stanford/research/risk/risk/src/evaluation/dataset_extraction.jl:80 overwritten at /Users/wulfebw/Dropbox/School/Stanford/research/risk/risk/src/evaluation/dataset_extraction.jl:80.\n",
      "WARNING: Method definition set_feature_missing!(Array{Float64, N<:Any}, Int64, Int64) in module Main at /Users/wulfebw/Dropbox/School/Stanford/research/risk/risk/src/evaluation/dataset_extraction.jl:92 overwritten at /Users/wulfebw/Dropbox/School/Stanford/research/risk/risk/src/evaluation/dataset_extraction.jl:92.\n",
      "WARNING: Method definition set_feature!(Array{Float64, N<:Any}, Int64, Float64, Int64) in module Main at /Users/wulfebw/Dropbox/School/Stanford/research/risk/risk/src/evaluation/dataset_extraction.jl:98 overwritten at /Users/wulfebw/Dropbox/School/Stanford/research/risk/risk/src/evaluation/dataset_extraction.jl:98.\n",
      "WARNING: Method definition set_dual_feature!(Array{Float64, N<:Any}, Int64, AutomotiveDrivingModels.FeatureValue, Int64) in module Main at /Users/wulfebw/Dropbox/School/Stanford/research/risk/risk/src/evaluation/dataset_extraction.jl:104 overwritten at /Users/wulfebw/Dropbox/School/Stanford/research/risk/risk/src/evaluation/dataset_extraction.jl:104.\n",
      "WARNING: Method definition set_neighbor_features!(Array{Float64, N<:Any}, Int64, AutomotiveDrivingModels.AutoCore.NeighborLongitudinalResult, AutomotiveDrivingModels.AutoCore.Scene, Int64) in module Main at /Users/wulfebw/Dropbox/School/Stanford/research/risk/risk/src/evaluation/dataset_extraction.jl:113 overwritten at /Users/wulfebw/Dropbox/School/Stanford/research/risk/risk/src/evaluation/dataset_extraction.jl:113.\n",
      "WARNING: Method definition extract_features!(AutomotiveDrivingModels.AutoCore.SceneRecord, AutomotiveDrivingModels.AutoCore.Roadway, Base.Dict{Int64, AutomotiveDrivingModels.DriverModel}, Array{Float64, 1}, Int64, Int64) in module Main at /Users/wulfebw/Dropbox/School/Stanford/research/risk/risk/src/evaluation/dataset_extraction.jl:125 overwritten at /Users/wulfebw/Dropbox/School/Stanford/research/risk/risk/src/evaluation/dataset_extraction.jl:125.\n",
      "WARNING: Method definition extract_features!(AutomotiveDrivingModels.AutoCore.SceneRecord, AutomotiveDrivingModels.AutoCore.Roadway, Base.Dict{Int64, AutomotiveDrivingModels.DriverModel}, Array{Float64, N<:Any}) in module Main at /Users/wulfebw/Dropbox/School/Stanford/research/risk/risk/src/evaluation/dataset_extraction.jl:212 overwritten at /Users/wulfebw/Dropbox/School/Stanford/research/risk/risk/src/evaluation/dataset_extraction.jl:212.\n"
     ]
    }
   ],
   "source": [
    "using AutomotiveDrivingModels\n",
    "using AutoViz\n",
    "\n",
    "push!(LOAD_PATH, \"../../src\")\n",
    "include(\"../../src/evaluation/simulation.jl\")\n",
    "include(\"../../src/utils/automotive.jl\")\n",
    "include(\"../../src/evaluation/dataset_extraction.jl\");"
   ]
  },
  {
   "cell_type": "code",
   "execution_count": 9,
   "metadata": {
    "collapsed": false
   },
   "outputs": [
    {
     "data": {
      "text/plain": [
       "1.0"
      ]
     },
     "execution_count": 9,
     "metadata": {},
     "output_type": "execute_result"
    }
   ],
   "source": [
    "timestep = 0.1\n",
    "num_veh = 2\n",
    "models = Dict{Int, DriverModel}()\n",
    "mlon = StaticLongitudinalDriver(0.)\n",
    "models[1] = Tim2DDriver(timestep, mlon = mlon)\n",
    "models[2] = Tim2DDriver(timestep, mlon = mlon)\n",
    "roadway = gen_straight_roadway(1, 50.)\n",
    "scene = Scene(num_veh)\n",
    "road_idx = RoadIndex(proj(VecSE2(0.0, 0.0, 0.0), roadway))\n",
    "road_pos = 10.\n",
    "base_speed = 1.\n",
    "veh_state = VehicleState(Frenet(road_idx, roadway), roadway, base_speed)\n",
    "veh_state = move_along(veh_state, roadway, road_pos)\n",
    "veh_def = VehicleDef(1, AgentClass.CAR, 5., 2.)\n",
    "push!(scene, Vehicle(veh_state, veh_def))\n",
    "veh_state = VehicleState(Frenet(road_idx, roadway), roadway, base_speed)\n",
    "veh_def = VehicleDef(2, AgentClass.CAR, 5., 2.)\n",
    "push!(scene, Vehicle(veh_state, veh_def))\n",
    "rec = SceneRecord(500, .1, num_veh)\n",
    "T = 1.\n",
    "simulate!(scene, models, roadway, rec, T)\n",
    "\n",
    "targets = Array{Float64}(2, 2)\n",
    "veh_idx = 1\n",
    "t_idx = 1\n",
    "extract_vehicle_frame_targets!(rec, roadway, targets, veh_idx, t_idx, 0)\n",
    "veh_idx = 2\n",
    "t_idx = 2\n",
    "extract_vehicle_frame_targets!(rec, roadway, targets, veh_idx, t_idx, 0)\n",
    "\n",
    "scene[2].state = VehicleState(Frenet(road_idx, roadway), roadway, 10.)\n",
    "simulate!(scene, models, roadway, rec, T)\n",
    "render(scene, roadway, cam=FitToContentCamera())\n",
    "in_collision = convert(Float64, get(IS_COLLIDING, rec, roadway, 1, 0))"
   ]
  },
  {
   "cell_type": "code",
   "execution_count": 24,
   "metadata": {
    "collapsed": false
   },
   "outputs": [
    {
     "data": {
      "text/plain": [
       "1.0"
      ]
     },
     "execution_count": 24,
     "metadata": {},
     "output_type": "execute_result"
    }
   ],
   "source": [
    "# add three vehicles and specifically check neighbor features\n",
    "    timestep = 0.1\n",
    "    num_veh = 3\n",
    "    # one lane roadway\n",
    "    roadway = gen_straight_roadway(1, 100.)\n",
    "    scene = Scene(num_veh)\n",
    "\n",
    "    models = Dict{Int, DriverModel}()\n",
    "\n",
    "    # 1: first vehicle, moving the fastest\n",
    "    mlon = StaticLongitudinalDriver(2.)\n",
    "    models[1] = Tim2DDriver(timestep, mlon = mlon)\n",
    "    road_idx = RoadIndex(proj(VecSE2(0.0, 0.0, 0.0), roadway))\n",
    "    base_speed = 2.\n",
    "    veh_state = VehicleState(Frenet(road_idx, roadway), roadway, base_speed)\n",
    "    veh_def = VehicleDef(1, AgentClass.CAR, 5., 2.)\n",
    "    push!(scene, Vehicle(veh_state, veh_def))\n",
    "\n",
    "    # 2: second vehicle, in the middle, moving at intermediate speed\n",
    "    mlon = StaticLongitudinalDriver(1.)\n",
    "    models[2] = Tim2DDriver(timestep, mlon = mlon)\n",
    "    base_speed = 1.\n",
    "    road_pos = 10.\n",
    "    veh_state = VehicleState(Frenet(road_idx, roadway), roadway, base_speed)\n",
    "    veh_state = move_along(veh_state, roadway, road_pos)\n",
    "    veh_def = VehicleDef(2, AgentClass.CAR, 5., 2.)\n",
    "    push!(scene, Vehicle(veh_state, veh_def))\n",
    "\n",
    "    # 3: thrid vehicle, in the front, not moving\n",
    "    mlon = StaticLongitudinalDriver(0.)\n",
    "    models[3] = Tim2DDriver(timestep, mlon = mlon)\n",
    "    base_speed = 0.\n",
    "    road_pos = 20.\n",
    "    veh_state = VehicleState(Frenet(road_idx, roadway), roadway, base_speed)\n",
    "    veh_state = move_along(veh_state, roadway, road_pos)\n",
    "    veh_def = VehicleDef(3, AgentClass.CAR, 5., 2.)\n",
    "    push!(scene, Vehicle(veh_state, veh_def))\n",
    "\n",
    "    # simulate the scene for 1 second\n",
    "    rec = SceneRecord(500, .1, num_veh)\n",
    "    T = 1.\n",
    "#     simulate!(scene, models, roadway, rec, T)"
   ]
  },
  {
   "cell_type": "code",
   "execution_count": 25,
   "metadata": {
    "collapsed": false
   },
   "outputs": [
    {
     "data": {
      "image/png": "[encoded data removed]",
      "text/plain": [
       "Cairo.CairoSurface{UInt32}(Ptr{Void} @0x00007fc01670f330,1000.0,600.0,#undef)"
      ]
     },
     "execution_count": 25,
     "metadata": {},
     "output_type": "execute_result"
    }
   ],
   "source": [
    "render(scene, roadway, cam=FitToContentCamera())"
   ]
  },
  {
   "cell_type": "code",
   "execution_count": 26,
   "metadata": {
    "collapsed": false
   },
   "outputs": [
    {
     "data": {
      "text/plain": [
       "AutomotiveDrivingModels.AutoCore.NeighborLongitudinalResult(2,10.0)"
      ]
     },
     "execution_count": 26,
     "metadata": {},
     "output_type": "execute_result"
    }
   ],
   "source": [
    "fore_M_ = get_neighbor_fore_along_lane(scene, 1, roadway)"
   ]
  },
  {
   "cell_type": "code",
   "execution_count": 27,
   "metadata": {
    "collapsed": false
   },
   "outputs": [
    {
     "data": {
      "text/plain": [
       "AutomotiveDrivingModels.AutoCore.NeighborLongitudinalResult(2,5.0)"
      ]
     },
     "execution_count": 27,
     "metadata": {},
     "output_type": "execute_result"
    }
   ],
   "source": [
    "F = VehicleTargetPointFront()\n",
    "R = VehicleTargetPointRear()\n",
    "fore_M = get_neighbor_fore_along_lane(scene, 1, roadway, F, R, F)"
   ]
  },
  {
   "cell_type": "code",
   "execution_count": null,
   "metadata": {
    "collapsed": true
   },
   "outputs": [],
   "source": []
  }
 ],
 "metadata": {
  "kernelspec": {
   "display_name": "Julia 0.5.0",
   "language": "julia",
   "name": "julia-0.5"
  },
  "language_info": {
   "file_extension": ".jl",
   "mimetype": "application/julia",
   "name": "julia",
   "version": "0.5.0"
  }
 },
 "nbformat": 4,
 "nbformat_minor": 1
}
