{
 "cells": [
  {
   "cell_type": "code",
   "execution_count": 2,
   "metadata": {
    "collapsed": true
   },
   "outputs": [],
   "source": [
    "using AutomotiveDrivingModels\n",
    "using AutoViz"
   ]
  },
  {
   "cell_type": "code",
   "execution_count": 6,
   "metadata": {
    "collapsed": false
   },
   "outputs": [
    {
     "ename": "LoadError",
     "evalue": "LoadError: error in method definition: function AutomotiveDrivingModels.simulate! must be explicitly imported to be extended\nwhile loading In[6], in expression starting on line 1",
     "output_type": "error",
     "traceback": [
      "LoadError: error in method definition: function AutomotiveDrivingModels.simulate! must be explicitly imported to be extended\nwhile loading In[6], in expression starting on line 1",
      ""
     ]
    }
   ],
   "source": [
    "function simulate!(scene::Scene, models::Dict{Int, DriverModel},\n",
    "        roadway::Roadway, rec::SceneRecord, T::Float64)\n",
    "    actions = Array(DriveAction, length(scene))\n",
    "    # simulate for T seconds in rec.timestep-length substeps\n",
    "    for t in 0:rec.timestep:(T - rec.timestep)\n",
    "        get_actions!(actions, scene, roadway, models)\n",
    "        tick!(scene, roadway, actions, models)\n",
    "        update!(rec, scene)\n",
    "    end\n",
    "    return rec\n",
    "end"
   ]
  },
  {
   "cell_type": "code",
   "execution_count": 4,
   "metadata": {
    "collapsed": false
   },
   "outputs": [
    {
     "ename": "LoadError",
     "evalue": "LoadError: MethodError: no method matching simulate!(::AutomotiveDrivingModels.AutoCore.Scene, ::Dict{Int64,AutomotiveDrivingModels.DriverModel}, ::AutomotiveDrivingModels.AutoCore.Roadway, ::AutomotiveDrivingModels.AutoCore.SceneRecord, ::Float64)\nClosest candidates are:\n  simulate!(!Matched::AutomotiveDrivingModels.AutoCore.SceneRecord, !Matched::AutomotiveDrivingModels.DriverModel{DriveAction,ActionContext}, !Matched::Int64, !Matched::AutomotiveDrivingModels.AutoCore.Trajdata, ::Float64, !Matched::Float64; prime_history, scene) at /Users/wulfebw/.julia/v0.5/AutomotiveDrivingModels/src/simulation/simulation.jl:81\nwhile loading In[4], in expression starting on line 45",
     "output_type": "error",
     "traceback": [
      "LoadError: MethodError: no method matching simulate!(::AutomotiveDrivingModels.AutoCore.Scene, ::Dict{Int64,AutomotiveDrivingModels.DriverModel}, ::AutomotiveDrivingModels.AutoCore.Roadway, ::AutomotiveDrivingModels.AutoCore.SceneRecord, ::Float64)\nClosest candidates are:\n  simulate!(!Matched::AutomotiveDrivingModels.AutoCore.SceneRecord, !Matched::AutomotiveDrivingModels.DriverModel{DriveAction,ActionContext}, !Matched::Int64, !Matched::AutomotiveDrivingModels.AutoCore.Trajdata, ::Float64, !Matched::Float64; prime_history, scene) at /Users/wulfebw/.julia/v0.5/AutomotiveDrivingModels/src/simulation/simulation.jl:81\nwhile loading In[4], in expression starting on line 45",
      ""
     ]
    }
   ],
   "source": [
    "# add three vehicles where each is approaching the one in front \n",
    "# faster than the front one is moving away\n",
    "timestep = 0.1\n",
    "num_veh = 3\n",
    "\n",
    "# one lane roadway\n",
    "roadway = gen_straight_roadway(1, 30.)\n",
    "scene = Scene(num_veh)\n",
    "\n",
    "models = Dict{Int, DriverModel}()\n",
    "\n",
    "# 1: first vehicle, moving the fastest\n",
    "mlon = StaticLongitudinalDriver(2.)\n",
    "models[1] = Tim2DDriver(timestep, mlon = mlon)\n",
    "road_idx = RoadIndex(proj(VecSE2(0.0, 0.0, 0.0), roadway))\n",
    "base_speed = 2.\n",
    "veh_state = VehicleState(Frenet(road_idx, roadway), roadway, base_speed)\n",
    "veh_def = VehicleDef(1, AgentClass.CAR, 5., 2.)\n",
    "push!(scene, Vehicle(veh_state, veh_def))\n",
    "\n",
    "# 2: second vehicle, in the middle, moving at intermediate speed\n",
    "mlon = StaticLongitudinalDriver(1.)\n",
    "models[2] = Tim2DDriver(timestep, mlon = mlon)\n",
    "base_speed = 1.\n",
    "road_pos = 10.\n",
    "veh_state = VehicleState(Frenet(road_idx, roadway), roadway, base_speed)\n",
    "veh_state = move_along(veh_state, roadway, road_pos)\n",
    "veh_def = VehicleDef(2, AgentClass.CAR, 5., 2.)\n",
    "push!(scene, Vehicle(veh_state, veh_def))\n",
    "\n",
    "# 3: thrid vehicle, in the front, not moving\n",
    "mlon = StaticLongitudinalDriver(0.)\n",
    "models[3] = Tim2DDriver(timestep, mlon = mlon)\n",
    "base_speed = 0.\n",
    "road_pos = 20.\n",
    "veh_state = VehicleState(Frenet(road_idx, roadway), roadway, base_speed)\n",
    "veh_state = move_along(veh_state, roadway, road_pos)\n",
    "veh_def = VehicleDef(3, AgentClass.CAR, 5., 2.)\n",
    "push!(scene, Vehicle(veh_state, veh_def))\n",
    "\n",
    "# simulate the scene for 1 second\n",
    "rec = SceneRecord(500, .1, num_veh)\n",
    "T = 1.\n",
    "# simulate here because some features need priming\n",
    "simulate!(scene, models, roadway, rec, T)"
   ]
  },
  {
   "cell_type": "code",
   "execution_count": null,
   "metadata": {
    "collapsed": true
   },
   "outputs": [],
   "source": [
    "render(scene, roadway, cam=FitToContentCamera())"
   ]
  },
  {
   "cell_type": "code",
   "execution_count": 11,
   "metadata": {
    "collapsed": false
   },
   "outputs": [
    {
     "data": {
      "text/plain": [
       "SceneRecord(nscenes=1)"
      ]
     },
     "execution_count": 11,
     "metadata": {},
     "output_type": "execute_result"
    }
   ],
   "source": [
    "roadway = gen_straight_roadway(3, 50.0, lane_width=1.0)\n",
    "    rec = SceneRecord(1, 0.1, 5)\n",
    "    update!(rec, Scene([\n",
    "            Vehicle(VehicleState(VecSE2( 0.0,0.0,0.0), roadway, 10.0), VehicleDef(1, AgentClass.CAR, 5.0, 2.0)),\n",
    "            Vehicle(VehicleState(VecSE2(10.0,0.0,0.0), roadway, 10.0), VehicleDef(2, AgentClass.CAR, 5.0, 2.0)),\n",
    "        ]))"
   ]
  },
  {
   "cell_type": "code",
   "execution_count": 12,
   "metadata": {
    "collapsed": false
   },
   "outputs": [
    {
     "data": {
      "image/png": "[encoded data removed]",
      "text/plain": [
       "Cairo.CairoSurface{UInt32}(Ptr{Void} @0x00007f861c4c6550,1000.0,600.0,#undef)"
      ]
     },
     "execution_count": 12,
     "metadata": {},
     "output_type": "execute_result"
    }
   ],
   "source": [
    "render(get_scene(rec,0), roadway, cam=FitToContentCamera())"
   ]
  },
  {
   "cell_type": "code",
   "execution_count": null,
   "metadata": {
    "collapsed": true
   },
   "outputs": [],
   "source": []
  }
 ],
 "metadata": {
  "kernelspec": {
   "display_name": "Julia 0.5.0",
   "language": "julia",
   "name": "julia-0.5"
  },
  "language_info": {
   "file_extension": ".jl",
   "mimetype": "application/julia",
   "name": "julia",
   "version": "0.5.0"
  }
 },
 "nbformat": 4,
 "nbformat_minor": 1
}
