{
 "cells": [
  {
   "cell_type": "code",
   "execution_count": null,
   "metadata": {
    "collapsed": false
   },
   "outputs": [],
   "source": [
    "using AutomotiveDrivingModels\n",
    "using AutoViz\n",
    "using Interact"
   ]
  },
  {
   "cell_type": "code",
   "execution_count": null,
   "metadata": {
    "collapsed": false
   },
   "outputs": [],
   "source": [
    "# not relevant to the bug\n",
    "function simulate!(scene::Scene, models::Dict{Int, DriverModel},\n",
    "        roadway::Roadway, rec::SceneRecord, T::Float64)\n",
    "    actions = Array(DriveAction, length(scene))\n",
    "    for t in 0:rec.timestep:(T - rec.timestep)\n",
    "        get_actions!(actions, scene, roadway, models)\n",
    "        tick!(scene, roadway, actions, models)\n",
    "        AutomotiveDrivingModels.update!(rec, scene)\n",
    "    end\n",
    "    return rec\n",
    "end"
   ]
  },
  {
   "cell_type": "code",
   "execution_count": null,
   "metadata": {
    "collapsed": false
   },
   "outputs": [],
   "source": [
    "# function containing bug\n",
    "# set with_fix option for temporary solution\n",
    "# with_fix = true keeps track of which neighbors have already been evaluated as being \n",
    "# in front of the ego vehicle and skips them in later iterations of the while loop\n",
    "function AutomotiveDrivingModels.get_neighbor_rear_along_lane(\n",
    "    scene::Scene,\n",
    "    roadway::Roadway,\n",
    "    tag_start::LaneTag,\n",
    "    s_base::Float64,\n",
    "    targetpoint_primary::VehicleTargetPoint, # the reference point whose distance we want to minimize\n",
    "    targetpoint_valid::VehicleTargetPoint; # the reference point, which if distance to is positive, we include the vehicle\n",
    "    max_distance_rear::Float64 = 250.0, # max distance to search rearward [m]\n",
    "    index_to_ignore::Int=-1,\n",
    "    with_fix::Bool=false\n",
    "    )\n",
    "    best_ind = 0\n",
    "    best_dist = max_distance_rear\n",
    "    tag_target = tag_start\n",
    "    \n",
    "    ignore = Set{Int}()\n",
    "\n",
    "    dist_searched = 0.0\n",
    "    while dist_searched < max_distance_rear\n",
    "\n",
    "        lane = roadway[tag_target]\n",
    "        for (i,veh) in enumerate(scene)\n",
    "            if i != index_to_ignore && !in(veh.def.id, ignore)\n",
    "\n",
    "                s_adjust = NaN\n",
    "\n",
    "                if veh.state.posF.roadind.tag == tag_target\n",
    "                    s_adjust = 0.0\n",
    "\n",
    "                elseif is_between_segments_hi(veh.state.posF.roadind.ind, lane.curve) &&\n",
    "                       is_in_entrances(roadway[tag_target], veh.state.posF.roadind.tag)\n",
    "\n",
    "                    distance_between_lanes = abs(roadway[tag_target].curve[1].pos - roadway[veh.state.posF.roadind.tag].curve[end].pos)\n",
    "                    s_adjust = -(roadway[veh.state.posF.roadind.tag].curve[end].s + distance_between_lanes)\n",
    "\n",
    "                elseif is_between_segments_lo(veh.state.posF.roadind.ind) &&\n",
    "                       is_in_exits(roadway[tag_target], veh.state.posF.roadind.tag)\n",
    "\n",
    "                    distance_between_lanes = abs(roadway[tag_target].curve[end].pos - roadway[veh.state.posF.roadind.tag].curve[1].pos)\n",
    "                    s_adjust = roadway[tag_target].curve[end].s + distance_between_lanes\n",
    "                end\n",
    "                \n",
    "\n",
    "                if !isnan(s_adjust)\n",
    "                    s_valid = veh.state.posF.s + get_targetpoint_delta(targetpoint_valid, veh) + s_adjust\n",
    "                    dist_valid = s_base - s_valid + dist_searched\n",
    "                    \n",
    "                    if dist_valid ≥ 0.0\n",
    "                        s_primary = veh.state.posF.s + get_targetpoint_delta(targetpoint_primary, veh) + s_adjust\n",
    "                        dist = s_base - s_primary + dist_searched\n",
    "                        \n",
    "                        if dist < best_dist\n",
    "                            best_dist = dist\n",
    "                            best_ind = i\n",
    "                        end\n",
    "                    else\n",
    "                        if with_fix\n",
    "                            push!(ignore, veh.def.id)\n",
    "                        end\n",
    "                    end\n",
    "                end\n",
    "            end\n",
    "        end\n",
    "\n",
    "        if best_ind != 0\n",
    "            break\n",
    "        end\n",
    "\n",
    "        if !has_prev(lane) ||\n",
    "           (tag_target == tag_start && dist_searched != 0.0) # exit after visiting this lane a 2nd time\n",
    "            break\n",
    "        end\n",
    "\n",
    "        dist_searched += s_base\n",
    "        s_base = lane.curve[end].s + abs(lane.curve[end].pos - prev_lane_point(lane, roadway).pos) # end of prev lane plus crossover\n",
    "        tag_target = prev_lane(lane, roadway).tag\n",
    "    end\n",
    "    NeighborLongitudinalResult(best_ind, best_dist)\n",
    "end\n"
   ]
  },
  {
   "cell_type": "code",
   "execution_count": null,
   "metadata": {
    "collapsed": false,
    "scrolled": true
   },
   "outputs": [],
   "source": [
    "# minimal bug example\n",
    "# get_neighbor_rear_along_lane returns the neighbor fore along lane rather than the neighbor rear\n",
    "# when the rear is in a different road segment\n",
    "\n",
    "timestep = 0.1\n",
    "num_veh = 3\n",
    "num_lanes = 1\n",
    "roadway = gen_stadium_roadway(num_lanes, length = 400.0, radius = 100.0)\n",
    "\n",
    "# build the scene\n",
    "scene = Scene(num_veh)\n",
    "\n",
    "road_idx = RoadIndex(proj(VecSE2(0.0, 0.0, 0.0), roadway))\n",
    "road_pos = 0.\n",
    "veh_state = VehicleState(Frenet(road_idx, roadway), roadway, base_speed)\n",
    "veh_state = move_along(veh_state, roadway, road_pos)\n",
    "veh_def = VehicleDef(1, AgentClass.CAR, 5., 2.)\n",
    "push!(scene, Vehicle(veh_state, veh_def))\n",
    "\n",
    "road_pos = -20.\n",
    "veh_state = VehicleState(Frenet(road_idx, roadway), roadway, base_speed)\n",
    "veh_state = move_along(veh_state, roadway, road_pos)\n",
    "veh_def = VehicleDef(2, AgentClass.CAR, 5., 2.)\n",
    "push!(scene, Vehicle(veh_state, veh_def))\n",
    "\n",
    "road_pos = 20.\n",
    "veh_state = VehicleState(Frenet(road_idx, roadway), roadway, base_speed)\n",
    "veh_state = move_along(veh_state, roadway, road_pos)\n",
    "veh_def = VehicleDef(3, AgentClass.CAR, 5., 2.)\n",
    "push!(scene, Vehicle(veh_state, veh_def))\n",
    "\n",
    "models = Dict{Int,DriverModel}()\n",
    "for veh_id in 1:num_veh\n",
    "    models[veh_id] = Tim2DDriver(timestep)\n",
    "end\n",
    "\n",
    "rec = SceneRecord(500, .1, num_veh)\n",
    "T = 5.\n",
    "simulate!(scene, models, roadway, rec, T)"
   ]
  },
  {
   "cell_type": "code",
   "execution_count": null,
   "metadata": {
    "collapsed": false,
    "scrolled": false
   },
   "outputs": [],
   "source": [
    "# check out vehicle id 1 at the start of the scenario\n",
    "scene = Scene()\n",
    "@manipulate for i in 0:(rec.nscenes - 1),\n",
    "    veh_id in collect(1:num_veh)\n",
    "    render(get_scene(rec, -(rec.nscenes - i)), \n",
    "            roadway, \n",
    "    [CarFollowingStatsOverlay(veh_id, 2), NeighborsOverlay(veh_id, textparams = TextParams(y_start=300))], \n",
    "            cam=CarFollowCamera(veh_id, 10.))\n",
    "end"
   ]
  },
  {
   "cell_type": "code",
   "execution_count": null,
   "metadata": {
    "collapsed": true
   },
   "outputs": [],
   "source": []
  },
  {
   "cell_type": "code",
   "execution_count": null,
   "metadata": {
    "collapsed": true
   },
   "outputs": [],
   "source": []
  }
 ],
 "metadata": {
  "kernelspec": {
   "display_name": "Julia 0.5.0",
   "language": "julia",
   "name": "julia-0.5"
  },
  "language_info": {
   "file_extension": ".jl",
   "mimetype": "application/julia",
   "name": "julia",
   "version": "0.5.0"
  },
  "widgets": {
   "state": {
    "1e63b9f3-9921-4aa7-b8d2-e9afc5bba2ca": {
     "views": [
      {
       "cell_index": 4
      }
     ]
    },
    "28d24d65-43e7-42f9-a5a6-ffafc5191b47": {
     "views": [
      {
       "cell_index": 4
      }
     ]
    },
    "3122fe16-a521-4a4a-95f3-440ebc8f7404": {
     "views": [
      {
       "cell_index": 4
      }
     ]
    },
    "56a8535c-752b-4988-9058-57a1a5b8c875": {
     "views": [
      {
       "cell_index": 4
      }
     ]
    },
    "5898f50c-3f7a-4034-82ef-5391b6b238b6": {
     "views": [
      {
       "cell_index": 4
      }
     ]
    },
    "58bf6efd-33be-4494-9ce8-14042d069523": {
     "views": [
      {
       "cell_index": 4
      }
     ]
    },
    "765584a7-d75d-432d-a88a-73941f7b52f9": {
     "views": [
      {
       "cell_index": 4
      }
     ]
    },
    "8800be73-c279-4cb1-9d2d-c615f069d2f2": {
     "views": [
      {
       "cell_index": 4
      }
     ]
    },
    "907ab76a-7de4-4ed3-962f-a8c6dae970ea": {
     "views": [
      {
       "cell_index": 4
      }
     ]
    },
    "c7eff843-6beb-4e00-9fe2-2ec714101e6c": {
     "views": [
      {
       "cell_index": 4
      }
     ]
    },
    "d9a17a23-95f3-442d-a55b-e418faf05e38": {
     "views": [
      {
       "cell_index": 4
      }
     ]
    },
    "df67e0c9-f68f-4767-a525-96ffface2765": {
     "views": [
      {
       "cell_index": 4
      }
     ]
    }
   },
   "version": "1.2.0"
  }
 },
 "nbformat": 4,
 "nbformat_minor": 1
}
