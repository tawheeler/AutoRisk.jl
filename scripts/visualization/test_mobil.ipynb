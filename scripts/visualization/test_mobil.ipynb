{
 "cells": [
  {
   "cell_type": "code",
   "execution_count": 16,
   "metadata": {
    "collapsed": false
   },
   "outputs": [],
   "source": [
    "using AutoRisk\n",
    "using AutomotiveDrivingModels\n",
    "using AutoViz\n",
    "using Interact"
   ]
  },
  {
   "cell_type": "code",
   "execution_count": 17,
   "metadata": {
    "collapsed": false
   },
   "outputs": [
    {
     "name": "stderr",
     "output_type": "stream",
     "text": [
      "WARNING: Method definition simulate!(AutomotiveDrivingModels.AutoCore.Scene, Base.Dict{Int64, AutomotiveDrivingModels.DriverModel}, AutomotiveDrivingModels.AutoCore.Roadway, AutomotiveDrivingModels.AutoCore.SceneRecord, Float64) in module Main at In[2]:3 overwritten at In[17]:3.\n"
     ]
    },
    {
     "data": {
      "text/plain": [
       "simulate! (generic function with 1 method)"
      ]
     },
     "execution_count": 17,
     "metadata": {},
     "output_type": "execute_result"
    }
   ],
   "source": [
    "function simulate!(scene::Scene, models::Dict{Int, DriverModel},\n",
    "        roadway::Roadway, rec::SceneRecord, T::Float64)\n",
    "    actions = Array(DriveAction, length(scene))\n",
    "    # simulate for T seconds in rec.timestep-length substeps\n",
    "    for t in 0:rec.timestep:(T - rec.timestep)\n",
    "        get_actions!(actions, scene, roadway, models)\n",
    "        tick!(scene, roadway, actions, models)\n",
    "        AutomotiveDrivingModels.update!(rec, scene)\n",
    "    end\n",
    "    return rec\n",
    "end"
   ]
  },
  {
   "cell_type": "code",
   "execution_count": 18,
   "metadata": {
    "collapsed": false
   },
   "outputs": [
    {
     "name": "stderr",
     "output_type": "stream",
     "text": [
      "WARNING: Method definition (::Type{Main.MY_MOBIL})(AutomotiveDrivingModels.IntegratedContinuous) in module Main at In[3]:24 overwritten at In[18]:24.\n",
      "WARNING: Method definition Type(Array{Any, 1}, Type{Main.MY_MOBIL}, AutomotiveDrivingModels.IntegratedContinuous) in module Main overwritten.\n",
      "\u001b[1m\u001b[31mWARNING: replacing docs for 'MY_MOBIL :: Union{}' in module 'Main'.\u001b[0m\n",
      "WARNING: Method definition get_name(Main.MY_MOBIL) in module Main at In[3]:34 overwritten at In[18]:34.\n",
      "WARNING: Method definition set_desired_speed!(Main.MY_MOBIL, Float64) in module Main at In[3]:36 overwritten at In[18]:36.\n",
      "WARNING: Method definition observe!(Main.MY_MOBIL, AutomotiveDrivingModels.AutoCore.Scene, AutomotiveDrivingModels.AutoCore.Roadway, Int64) in module Main at In[3]:40 overwritten at In[18]:40.\n",
      "WARNING: Method definition rand(Main.MY_MOBIL) in module Main at In[3]:166 overwritten at In[18]:166.\n"
     ]
    }
   ],
   "source": [
    "export MY_MOBIL\n",
    "\n",
    "\"\"\"\n",
    "    MY_MOBIL\n",
    "See Treiber & Kesting, 'Modeling Lane-Changing Decisions with MY_MOBIL'\n",
    "\"\"\"\n",
    "type MY_MOBIL <: LaneChangeModel{LaneChangeChoice}\n",
    "\n",
    "    dir::Int\n",
    "    rec::SceneRecord\n",
    "    mlon::LaneFollowingDriver\n",
    "    safe_decel::Float64 # safe deceleration (positive value)\n",
    "    politeness::Float64 # politeness factor (suggested p ∈ [0.2,0.5])\n",
    "    advantage_threshold::Float64 # Δaₜₕ\n",
    "\n",
    "    function MY_MOBIL(\n",
    "        action_context::IntegratedContinuous;\n",
    "        rec::SceneRecord=SceneRecord(2,action_context.Δt),\n",
    "        mlon::LaneFollowingDriver=IntelligentDriverModel(),\n",
    "        safe_decel::Float64=2.0, # [m/s²]\n",
    "        politeness::Float64=0.35,\n",
    "        advantage_threshold::Float64=0.1,\n",
    "        )\n",
    "        retval = new()\n",
    "        retval.dir = DIR_MIDDLE\n",
    "        retval.rec = rec\n",
    "        retval.mlon = mlon\n",
    "        retval.safe_decel = safe_decel\n",
    "        retval.politeness = politeness\n",
    "        retval.advantage_threshold = advantage_threshold\n",
    "        retval\n",
    "    end\n",
    "end\n",
    "get_name(::MY_MOBIL) = \"MY_MOBIL\"\n",
    "function set_desired_speed!(model::MY_MOBIL, v_des::Float64)\n",
    "    set_desired_speed!(model.mlon, v_des)\n",
    "    model\n",
    "end\n",
    "function AutomotiveDrivingModels.observe!(model::MY_MOBIL, scene::Scene, roadway::Roadway, egoid::Int)\n",
    "    rec = model.rec\n",
    "    AutomotiveDrivingModels.update!(rec, scene)\n",
    "\n",
    "    vehicle_index = get_index_of_first_vehicle_with_id(rec, egoid)\n",
    "    veh_ego = scene[vehicle_index]\n",
    "    v = veh_ego.state.v\n",
    "    egostate_M = veh_ego.state\n",
    "\n",
    "    left_lane_exists = convert(Float64, get(N_LANE_LEFT, rec, roadway, vehicle_index)) > 0\n",
    "    right_lane_exists = convert(Float64, get(N_LANE_RIGHT, rec, roadway, vehicle_index)) > 0\n",
    "    fore_M = get_neighbor_fore_along_lane(scene, vehicle_index, roadway, VehicleTargetPointFront(), VehicleTargetPointRear(), VehicleTargetPointFront())\n",
    "    rear_M = get_neighbor_rear_along_lane(scene, vehicle_index, roadway, VehicleTargetPointFront(), VehicleTargetPointFront(), VehicleTargetPointRear())\n",
    "\n",
    "    # accel if we do not make a lane change\n",
    "    accel_M_orig = rand(observe!(reset_hidden_state!(model.mlon), scene, roadway, egoid))\n",
    "    model.dir = DIR_MIDDLE\n",
    "\n",
    "    advantage_threshold = model.advantage_threshold\n",
    "    if right_lane_exists\n",
    "\n",
    "        rear_R = get_neighbor_rear_along_right_lane(scene, vehicle_index, roadway, VehicleTargetPointFront(), VehicleTargetPointFront(), VehicleTargetPointRear())\n",
    "        \n",
    "        # candidate position after lane change is over\n",
    "        footpoint = get_footpoint(veh_ego)\n",
    "        lane = roadway[veh_ego.state.posF.roadind.tag]\n",
    "        lane_R = roadway[LaneTag(lane.tag.segment, lane.tag.lane - 1)]\n",
    "        roadproj = proj(footpoint, lane_R, roadway)\n",
    "        frenet_R = Frenet(RoadIndex(roadproj), roadway)\n",
    "        egostate_R = VehicleState(frenet_R, roadway, veh_ego.state.v)\n",
    "\n",
    "        Δaccel_n = 0.0\n",
    "        passes_safety_criterion = true\n",
    "        if rear_R.ind != 0\n",
    "            id = scene[rear_R.ind].def.id\n",
    "            accel_n_orig = rand(observe!(reset_hidden_state!(model.mlon), scene, roadway, id))\n",
    "            veh_ego.state = egostate_R\n",
    "            accel_n_test = rand(observe!(reset_hidden_state!(model.mlon), scene, roadway, id))\n",
    "\n",
    "            body = inertial2body(get_rear_center(scene[rear_R.ind]), get_front_center(veh_ego)) # project target to be relative to ego\n",
    "            s_gap = body.x\n",
    "\n",
    "            veh_ego.state = egostate_M\n",
    "            passes_safety_criterion = accel_n_test ≥ -model.safe_decel && s_gap ≥ 0\n",
    "            Δaccel_n = accel_n_test - accel_n_orig\n",
    "        end\n",
    "\n",
    "        if passes_safety_criterion\n",
    "\n",
    "            Δaccel_o = 0.0\n",
    "            if rear_M.ind != 0\n",
    "                id = scene[rear_M.ind].def.id\n",
    "                accel_o_orig = rand(observe!(reset_hidden_state!(model.mlon), scene, roadway, id))\n",
    "                veh_ego.state = egostate_R\n",
    "                accel_o_test = rand(observe!(reset_hidden_state!(model.mlon), scene, roadway, id))\n",
    "                veh_ego.state = egostate_M\n",
    "                Δaccel_o = accel_o_test - accel_o_orig\n",
    "            end\n",
    "\n",
    "            veh_ego.state = egostate_R\n",
    "            accel_M_test = rand(observe!(reset_hidden_state!(model.mlon), scene, roadway, egoid))\n",
    "            veh_ego.state = egostate_M\n",
    "            Δaccel_M = accel_M_test - accel_M_orig\n",
    "\n",
    "            Δaₜₕ = Δaccel_M + model.politeness*(Δaccel_n + Δaccel_o)\n",
    "            if Δaₜₕ > advantage_threshold\n",
    "                model.dir = DIR_RIGHT\n",
    "                advantage_threshold = Δaₜₕ\n",
    "            end\n",
    "        end\n",
    "    end\n",
    "\n",
    "    if left_lane_exists\n",
    "        rear_L = get_neighbor_rear_along_left_lane(scene, vehicle_index, roadway, VehicleTargetPointFront(), VehicleTargetPointFront(), VehicleTargetPointRear())\n",
    "        \n",
    "        # candidate position after lane change is over\n",
    "        footpoint = get_footpoint(veh_ego)\n",
    "        lane = roadway[veh_ego.state.posF.roadind.tag]\n",
    "        lane_L = roadway[LaneTag(lane.tag.segment, lane.tag.lane + 1)]\n",
    "        roadproj = proj(footpoint, lane_L, roadway)\n",
    "        frenet_L = Frenet(RoadIndex(roadproj), roadway)\n",
    "        egostate_L = VehicleState(frenet_L, roadway, veh_ego.state.v)\n",
    "\n",
    "        Δaccel_n = 0.0\n",
    "        passes_safety_criterion = true\n",
    "        if rear_L.ind != 0\n",
    "            id = scene[rear_L.ind].def.id\n",
    "            accel_n_orig = rand(observe!(reset_hidden_state!(model.mlon), scene, roadway, id))\n",
    "            veh_ego.state = egostate_L\n",
    "            accel_n_test = rand(observe!(reset_hidden_state!(model.mlon), scene, roadway, id))\n",
    "\n",
    "            body = inertial2body(get_rear_center(scene[rear_L.ind]), get_front_center(veh_ego)) # project target to be relative to ego\n",
    "            s_gap = body.x\n",
    "\n",
    "            veh_ego.state = egostate_M\n",
    "            passes_safety_criterion = accel_n_test ≥ -model.safe_decel && s_gap ≥ 0\n",
    "            Δaccel_n = accel_n_test - accel_n_orig\n",
    "        end\n",
    "\n",
    "        if passes_safety_criterion\n",
    "\n",
    "\n",
    "            Δaccel_o = 0.0\n",
    "            if rear_M.ind != 0\n",
    "                id = scene[rear_M.ind].def.id\n",
    "                accel_o_orig = rand(observe!(reset_hidden_state!(model.mlon), scene, roadway, id))\n",
    "                veh_ego.state = egostate_L\n",
    "                accel_o_test = rand(observe!(reset_hidden_state!(model.mlon), scene, roadway, id))\n",
    "                veh_ego.state = egostate_M\n",
    "                Δaccel_o = accel_o_test - accel_o_orig\n",
    "            end\n",
    "\n",
    "            veh_ego.state = egostate_L\n",
    "            accel_M_test = rand(observe!(reset_hidden_state!(model.mlon), scene, roadway, egoid))\n",
    "            veh_ego.state = egostate_M\n",
    "            Δaccel_M = accel_M_test - accel_M_orig\n",
    "\n",
    "            Δaₜₕ = Δaccel_M + model.politeness*(Δaccel_n + Δaccel_o)\n",
    "            if Δaₜₕ > advantage_threshold\n",
    "                model.dir = DIR_LEFT\n",
    "                advantage_threshold = Δaₜₕ\n",
    "            end\n",
    "        end\n",
    "    end\n",
    "\n",
    "    model\n",
    "end\n",
    "Base.rand(model::MY_MOBIL) = LaneChangeChoice(model.dir)"
   ]
  },
  {
   "cell_type": "code",
   "execution_count": 19,
   "metadata": {
    "collapsed": false,
    "scrolled": false
   },
   "outputs": [
    {
     "data": {
      "text/plain": [
       "SceneRecord(nscenes=50)"
      ]
     },
     "execution_count": 19,
     "metadata": {},
     "output_type": "execute_result"
    }
   ],
   "source": [
    "# simultaneous lane change eval\n",
    "context = IntegratedContinuous(.1, 1)\n",
    "num_veh = 4\n",
    "roadway = gen_stadium_roadway(3, length = 400.0, radius = 100.0)\n",
    "\n",
    "# build the scene\n",
    "scene = Scene(num_veh)\n",
    "road_idx = RoadIndex(proj(VecSE2(0.0, 0.0, 0.0), roadway))\n",
    "road_pos = 20.\n",
    "base_speed = 10.\n",
    "veh_state = VehicleState(Frenet(road_idx, roadway), roadway, base_speed)\n",
    "veh_state = move_along(veh_state, roadway, road_pos)\n",
    "veh_def = VehicleDef(1, AgentClass.CAR, 5., 2.)\n",
    "push!(scene, Vehicle(veh_state, veh_def))\n",
    "\n",
    "road_idx = RoadIndex(proj(VecSE2(0.0, 0.0, 0.0), roadway))\n",
    "road_pos = 10.\n",
    "veh_state = VehicleState(Frenet(road_idx, roadway), roadway, base_speed)\n",
    "veh_state = move_along(veh_state, roadway, road_pos)\n",
    "veh_def = VehicleDef(2, AgentClass.CAR, 5., 2.)\n",
    "push!(scene, Vehicle(veh_state, veh_def))\n",
    "\n",
    "road_idx = RoadIndex(proj(VecSE2(0.0, -6.0, 0.0), roadway))\n",
    "road_pos = 10.\n",
    "veh_state = VehicleState(Frenet(road_idx, roadway), roadway, base_speed)\n",
    "veh_state = move_along(veh_state, roadway, road_pos)\n",
    "veh_def = VehicleDef(3, AgentClass.CAR, 5., 2.)\n",
    "push!(scene, Vehicle(veh_state, veh_def))\n",
    "\n",
    "road_idx = RoadIndex(proj(VecSE2(0.0, -6.0, 0.0), roadway))\n",
    "road_pos = 20.\n",
    "veh_state = VehicleState(Frenet(road_idx, roadway), roadway, base_speed)\n",
    "veh_state = move_along(veh_state, roadway, road_pos)\n",
    "veh_def = VehicleDef(4, AgentClass.CAR, 5., 2.)\n",
    "push!(scene, Vehicle(veh_state, veh_def))\n",
    "\n",
    "rec = SceneRecord(500, .1, num_veh)\n",
    "T = 5.\n",
    "\n",
    "# simulate the scene with 0 second time delay idm and compare with normal\n",
    "# 0 second delay simulation\n",
    "models = Dict{Int, DriverModel}()\n",
    "models[1] = Tim2DDriver(context, mlane=MY_MOBIL(context, politeness=.7))\n",
    "models[2] = Tim2DDriver(context, mlane=MY_MOBIL(context, politeness=.7))\n",
    "models[3] = Tim2DDriver(context, mlane=MY_MOBIL(context, politeness=.7))\n",
    "models[4] = Tim2DDriver(context, mlane=MY_MOBIL(context, politeness=.7))\n",
    "simulate!(scene, models, roadway, rec, T)"
   ]
  },
  {
   "cell_type": "code",
   "execution_count": 6,
   "metadata": {
    "collapsed": false
   },
   "outputs": [
    {
     "data": {
      "text/html": [],
      "text/plain": [
       "Interact.Options{:SelectionSlider,Int64}(Signal{Int64}(24, nactions=1),\"i\",24,\"24\",Interact.OptionDict(DataStructures.OrderedDict(\"0\"=>0,\"1\"=>1,\"2\"=>2,\"3\"=>3,\"4\"=>4,\"5\"=>5,\"6\"=>6,\"7\"=>7,\"8\"=>8,\"9\"=>9…),Dict(2=>\"2\",11=>\"11\",39=>\"39\",46=>\"46\",25=>\"25\",42=>\"42\",29=>\"29\",8=>\"8\",20=>\"20\",14=>\"14\"…)),Any[],Any[],true,\"horizontal\")"
      ]
     },
     "metadata": {},
     "output_type": "display_data"
    },
    {
     "data": {
      "text/html": [],
      "text/plain": [
       "Interact.Options{:ToggleButtons,Float64}(Signal{Float64}(2.0, nactions=1),\"zoom\",2.0,\"2.0\",Interact.OptionDict(DataStructures.OrderedDict(\"2.0\"=>2.0,\"4.0\"=>4.0,\"6.0\"=>6.0,\"8.0\"=>8.0,\"10.0\"=>10.0,\"12.0\"=>12.0,\"14.0\"=>14.0,\"16.0\"=>16.0,\"18.0\"=>18.0,\"20.0\"=>20.0…),Dict(18.0=>\"18.0\",4.0=>\"4.0\",14.0=>\"14.0\",10.0=>\"10.0\",20.0=>\"20.0\",2.0=>\"2.0\",16.0=>\"16.0\",8.0=>\"8.0\",6.0=>\"6.0\",12.0=>\"12.0\"…)),Any[],Any[],true,\"horizontal\")"
      ]
     },
     "metadata": {},
     "output_type": "display_data"
    },
    {
     "data": {
      "text/html": [],
      "text/plain": [
       "Interact.Options{:ToggleButtons,Int64}(Signal{Int64}(1, nactions=1),\"veh_id\",1,\"1\",Interact.OptionDict(DataStructures.OrderedDict(\"1\"=>1,\"2\"=>2,\"3\"=>3,\"4\"=>4),Dict(4=>\"4\",2=>\"2\",3=>\"3\",1=>\"1\")),Any[],Any[],true,\"horizontal\")"
      ]
     },
     "metadata": {},
     "output_type": "display_data"
    },
    {
     "data": {
      "image/png": "[encoded data removed]",
      "text/plain": [
       "Cairo.CairoSurface{UInt32}(Ptr{Void} @0x00007fb61cba42b0,1000.0,600.0,#undef)"
      ]
     },
     "execution_count": 6,
     "metadata": {
      "comm_id": "a8a0fdc0-d086-4f5c-9f77-a07c583d5a5b",
      "reactive": true
     },
     "output_type": "execute_result"
    }
   ],
   "source": [
    "scene = Scene()\n",
    "@manipulate for i in 0:(rec.nscenes - 1),\n",
    "        zoom in collect(2:2:20.),\n",
    "        veh_id in collect(1:4)\n",
    "    render(get_scene(rec, -(rec.nscenes - i)), roadway, [CarFollowingStatsOverlay(veh_id, 2)], cam=CarFollowCamera(veh_id, zoom))\n",
    "end"
   ]
  },
  {
   "cell_type": "code",
   "execution_count": 20,
   "metadata": {
    "collapsed": false
   },
   "outputs": [],
   "source": [
    "type MY_DelayedIntelligentDriverModel <: LaneFollowingDriver\n",
    "    a::Float64 # predicted acceleration\n",
    "    σ::Float64 # optional stdev on top of the model, set to zero or NaN for deterministic behavior\n",
    "\n",
    "    k_spd::Float64 # proportional constant for speed tracking when in freeflow [s⁻¹]\n",
    "\n",
    "    δ::Float64 # acceleration exponent [-]\n",
    "    T::Float64 # desired time headway [s]\n",
    "    v_des::Float64 # desired speed [m/s]\n",
    "    s_min::Float64 # minimum acceptable gap [m]\n",
    "    a_max::Float64 # maximum acceleration ability [m/s²]\n",
    "    d_cmf::Float64 # comfortable deceleration [m/s²] (positive)\n",
    "    d_max::Float64 # maximum decelleration [m/s²] (positive)\n",
    "\n",
    "    t_d::Float64 # reaction time (time delay in responding) [s]\n",
    "    buf::CircularBuffer{Tuple{Float64, Float64}} # state buffer\n",
    "    _print::Bool\n",
    " \n",
    "    function MY_DelayedIntelligentDriverModel(Δt;\n",
    "        σ::Float64     =   NaN,\n",
    "        k_spd::Float64 =   1.0,\n",
    "        δ::Float64     =   4.0,\n",
    "        T::Float64     =   1.5,\n",
    "        v_des::Float64 =  29.0, # typically overwritten\n",
    "        s_min::Float64 =   5.0,\n",
    "        a_max::Float64 =   3.0,\n",
    "        d_cmf::Float64 =   2.0,\n",
    "        d_max::Float64 =   9.0,\n",
    "        t_d::Float64   =   0.0,\n",
    "        _print::Bool   =   false)\n",
    "\n",
    "        retval = new()\n",
    "        retval.a = NaN\n",
    "        retval.k_spd = k_spd\n",
    "        retval.δ     = δ\n",
    "        retval.T     = T\n",
    "        retval.v_des = v_des\n",
    "        retval.s_min = s_min\n",
    "        retval.a_max = a_max\n",
    "        retval.d_cmf = d_cmf\n",
    "        retval.d_max = d_max\n",
    "        retval._print = _print\n",
    "\n",
    "        # delayed reaction members\n",
    "        retval.t_d = t_d\n",
    "        # buffer holds states from previous timesteps\n",
    "        # where state = (s_gap, lead_velocity)\n",
    "        buf_size = Int(ceil(t_d / Δt)) + 1\n",
    "        buf = CircularBuffer{Tuple{Float64, Float64}}(buf_size)\n",
    "\n",
    "        # start the buffer filled with states that will cause the vehicle to \n",
    "        # act as though it does not have a lead vehicle\n",
    "        append!(buf, fill!(Vector{Tuple{Float64,Float64}}(buf_size), (-Inf, 0)))\n",
    "        retval.buf = buf\n",
    "\n",
    "        retval\n",
    "    end\n",
    "end\n",
    "\n",
    "get_name(::MY_DelayedIntelligentDriverModel) = \"Delayed_IDM\"\n",
    "\n",
    "function AutomotiveDrivingModels.set_desired_speed!(model::MY_DelayedIntelligentDriverModel, \n",
    "        v_des::Float64)\n",
    "    model.v_des = v_des\n",
    "    model\n",
    "end\n",
    "\n",
    "function AutomotiveDrivingModels.track_longitudinal!(model::MY_DelayedIntelligentDriverModel, \n",
    "        scene::Scene, roadway::Roadway, ego_index::Int, target_index::Int)\n",
    "    \n",
    "    # get the ego vehicle and its velocity\n",
    "    veh_ego = scene[ego_index]\n",
    "    v = veh_ego.state.v\n",
    "\n",
    "    # first add samples to the buffer so that t_d = 0 gives the current sample\n",
    "    # if the target exists at the current timestep, then add its state to the buffer\n",
    "    if target_index > 0\n",
    "        veh_target = scene[target_index]\n",
    "        s_gap = get_frenet_relative_position(get_rear_center(veh_target),\n",
    "                                            veh_ego.state.posF.roadind, roadway).Δs\n",
    "        push!(model.buf, (s_gap, veh_target.state.v))\n",
    "\n",
    "    # if a target is not found, then add (s_gap, lead_velocity) value s.t. \n",
    "    # driver behaves as though no vehicle is in front (i.e., s_gap = -Inf)\n",
    "    else\n",
    "        push!(model.buf, (-Inf, 0))\n",
    "    end\n",
    "\n",
    "    # regardless of whether a target vehicle _currently_ exists, act according\n",
    "    # to the stored state in the buffer\n",
    "    s_gap, lead_v = model.buf[1]\n",
    "\n",
    "    # s_gap > 0.0, then execute IDM model\n",
    "    if s_gap > 0.0\n",
    "        Δv = lead_v - v\n",
    "        s_des = model.s_min + v*model.T - v*Δv / (2*sqrt(model.a_max*model.d_cmf))\n",
    "        v_ratio = model.v_des > 0.0 ? (v/model.v_des) : 1.0\n",
    "        model.a = model.a_max * (1.0 - v_ratio^model.δ - (s_des / s_gap)^2)\n",
    "    \n",
    "    # if collision imminent, apply maximum decel \n",
    "    elseif s_gap > -veh_ego.def.length \n",
    "        if model._print\n",
    "            println(\"maximum decel applied with s_gap: $(s_gap)\\t veh len: $(-veh_ego.def.length)\")\n",
    "        end\n",
    "        model.a = -model.d_max\n",
    "\n",
    "    # otherwise, drive to match desired velocity\n",
    "    else\n",
    "        if model._print\n",
    "            println(\"driving normally s_gap: $(s_gap)\")\n",
    "        end\n",
    "        Δv = model.v_des - v\n",
    "        model.a = Δv*model.k_spd\n",
    "    end\n",
    "    \n",
    "    # if velocity is negative, then prevent negative acceleration, otherwise clamp to max decel\n",
    "    low = v < 0. ? 0. : -model.d_max\n",
    "    model.a = clamp(model.a, low, model.a_max)\n",
    "    model\n",
    "end\n",
    "\n",
    "function AutomotiveDrivingModels.observe!(model::MY_DelayedIntelligentDriverModel, \n",
    "        scene::Scene, roadway::Roadway, egoid::Int)    \n",
    "    # update the predicted accel\n",
    "    vehicle_index = get_index_of_first_vehicle_with_id(scene, egoid)\n",
    "    veh_ego = scene[vehicle_index]\n",
    "    fore_res = get_neighbor_fore_along_lane(scene, vehicle_index, roadway, VehicleTargetPointFront(), VehicleTargetPointRear(), VehicleTargetPointFront())\n",
    "\n",
    "    track_longitudinal!(model, scene, roadway, vehicle_index, fore_res.ind)\n",
    "    model\n",
    "end\n",
    "\n",
    "function Base.rand(model::MY_DelayedIntelligentDriverModel)\n",
    "    if isnan(model.σ) || model.σ ≤ 0.0\n",
    "        model.a\n",
    "    else\n",
    "        rand(Normal(model.a, model.σ))\n",
    "    end\n",
    "end\n",
    "\n",
    "function Distributions.pdf(model::MY_DelayedIntelligentDriverModel, a_lon::Float64)\n",
    "    if isnan(model.σ) || model.σ ≤ 0.0\n",
    "        Inf\n",
    "    else\n",
    "        pdf(Normal(model.a, model.σ), a_lon)\n",
    "    end\n",
    "end\n",
    "\n",
    "function Distributions.logpdf(model::MY_DelayedIntelligentDriverModel, a_lon::Float64)\n",
    "    if isnan(model.σ) || model.σ ≤ 0.0\n",
    "        Inf\n",
    "    else\n",
    "        logpdf(Normal(model.a, model.σ), a_lon)\n",
    "    end\n",
    "end"
   ]
  },
  {
   "cell_type": "code",
   "execution_count": 7,
   "metadata": {
    "collapsed": false,
    "scrolled": true
   },
   "outputs": [
    {
     "data": {
      "text/plain": [
       "SceneRecord(nscenes=500)"
      ]
     },
     "execution_count": 7,
     "metadata": {},
     "output_type": "execute_result"
    }
   ],
   "source": [
    "# collision eval\n",
    "srand(1)\n",
    "\n",
    "context = IntegratedContinuous(.1, 1)\n",
    "num_veh = 20\n",
    "roadway = gen_stadium_roadway(3, length = 400.0, radius = 100.0)\n",
    "\n",
    "# build the scene\n",
    "scene = Scene(num_veh)\n",
    "for veh_id in 1:num_veh\n",
    "    road_idx = RoadIndex(proj(VecSE2(0.0, 0.0, 0.0), roadway))\n",
    "    road_pos = rand() * 10\n",
    "    veh_state = VehicleState(Frenet(road_idx, roadway), roadway, base_speed)\n",
    "    veh_state = move_along(veh_state, roadway, road_pos)\n",
    "    veh_def = VehicleDef(veh_id, AgentClass.CAR, 5., 2.)\n",
    "    push!(scene, Vehicle(veh_state, veh_def))\n",
    "end\n",
    "\n",
    "models = Dict{Int, DriverModel}()\n",
    "for veh_id in 1:num_veh\n",
    "#     mlon = DelayedIntelligentDriverModel(context.Δt, t_d = .0)\n",
    "#     _print = veh_id == 2 ? true : false\n",
    "    _print = false\n",
    "    mlon = MY_DelayedIntelligentDriverModel(context.Δt, t_d = .0, _print = _print)\n",
    "    mlon.σ = 1.\n",
    "    mlane = MY_MOBIL(context, politeness=.7)\n",
    "    mlat = ProportionalLaneTracker()\n",
    "    mlat.σ = .2\n",
    "    models[veh_id] = Tim2DDriver(context, mlane=mlane, mlon=mlon, mlat=mlat)\n",
    "end\n",
    "\n",
    "rec = SceneRecord(500, .1, num_veh)\n",
    "T = 50.\n",
    "simulate!(scene, models, roadway, rec, T)"
   ]
  },
  {
   "cell_type": "code",
   "execution_count": 8,
   "metadata": {
    "collapsed": false
   },
   "outputs": [
    {
     "data": {
      "text/html": [],
      "text/plain": [
       "Interact.Options{:SelectionSlider,Int64}(Signal{Int64}(249, nactions=1),\"i\",249,\"249\",Interact.OptionDict(DataStructures.OrderedDict(\"0\"=>0,\"1\"=>1,\"2\"=>2,\"3\"=>3,\"4\"=>4,\"5\"=>5,\"6\"=>6,\"7\"=>7,\"8\"=>8,\"9\"=>9…),Dict(288=>\"288\",306=>\"306\",11=>\"11\",491=>\"491\",134=>\"134\",158=>\"158\",160=>\"160\",215=>\"215\",464=>\"464\",29=>\"29\"…)),Any[],Any[],true,\"horizontal\")"
      ]
     },
     "metadata": {},
     "output_type": "display_data"
    },
    {
     "data": {
      "text/html": [],
      "text/plain": [
       "Interact.Options{:ToggleButtons,Float64}(Signal{Float64}(1.0, nactions=1),\"zoom\",1.0,\"1.0\",Interact.OptionDict(DataStructures.OrderedDict(\"1.0\"=>1.0,\"3.0\"=>3.0,\"5.0\"=>5.0,\"7.0\"=>7.0,\"9.0\"=>9.0,\"11.0\"=>11.0,\"13.0\"=>13.0,\"15.0\"=>15.0,\"17.0\"=>17.0,\"19.0\"=>19.0…),Dict(7.0=>\"7.0\",9.0=>\"9.0\",13.0=>\"13.0\",3.0=>\"3.0\",19.0=>\"19.0\",17.0=>\"17.0\",11.0=>\"11.0\",5.0=>\"5.0\",15.0=>\"15.0\",1.0=>\"1.0\"…)),Any[],Any[],true,\"horizontal\")"
      ]
     },
     "metadata": {},
     "output_type": "display_data"
    },
    {
     "data": {
      "text/html": [],
      "text/plain": [
       "Interact.Options{:ToggleButtons,Int64}(Signal{Int64}(1, nactions=1),\"veh_id\",1,\"1\",Interact.OptionDict(DataStructures.OrderedDict(\"1\"=>1,\"2\"=>2,\"3\"=>3,\"4\"=>4,\"5\"=>5,\"6\"=>6,\"7\"=>7,\"8\"=>8,\"9\"=>9,\"10\"=>10…),Dict(18=>\"18\",2=>\"2\",16=>\"16\",11=>\"11\",7=>\"7\",9=>\"9\",10=>\"10\",19=>\"19\",17=>\"17\",8=>\"8\"…)),Any[],Any[],true,\"horizontal\")"
      ]
     },
     "metadata": {},
     "output_type": "display_data"
    },
    {
     "data": {
      "image/png": "[encoded data removed]",
      "text/plain": [
       "Cairo.CairoSurface{UInt32}(Ptr{Void} @0x00007fc57bd64130,1000.0,600.0,#undef)"
      ]
     },
     "execution_count": 8,
     "metadata": {
      "comm_id": "328315b4-c705-4888-b506-8c062d6b3290",
      "reactive": true
     },
     "output_type": "execute_result"
    },
    {
     "name": "stderr",
     "output_type": "stream",
     "text": [
      "Failed to push!\n",
      "    0\n",
      "to node\n",
      "    ::Int64) at /Users/wulfebw/.julia/v0.5/AutomotiveDrivingModels/src/core/scene_records.jl:28\n",
      " in (::Reactive.##16#17{##27#28,Tuple{Reactive.Signal{Int64},Reactive.Signal{Float64},Reactive.Signal{Int64}}})(::Reactive.Signal{Any}, ::Int64) at /Users/wulfebw/.julia/v0.5/Reactive/src/operators.jl:39\n",
      " in do_action(::Reactive.Action, ::Int64) at /Users/wulfebw/.julia/v0.5/Reactive/src/core.jl:135\n",
      " in send_value!(::Reactive.Signal{Int64}, ::Int64, ::Int64) at /Users/wulfebw/.julia/v0.5/Reactive/src/core.jl:130\n",
      " in send_value!(::WeakRef, ::Int64, ::Int64) at /Users/wulfebw/.julia/v0.5/Reactive/src/core.jl:133\n",
      " in run(::Int64) at /Users/wulfebw/.julia/v0.5/Reactive/src/core.jl:215\n",
      " in run() at /Users/wulfebw/.julia/v0.5/Reactive/src/core.jl:235\n",
      " in macro expansion at /Users/wulfebw/.julia/v0.5/Reactive/src/core.jl:263 [inlined]\n",
      " in (::Reactive.##12#14)() at ./task.jl:360\n"
     ]
    }
   ],
   "source": [
    "scene = Scene()\n",
    "@manipulate for i in 0:(rec.nscenes - 1),\n",
    "        zoom in collect(1:2:20.),\n",
    "    veh_id in collect(1:num_veh)\n",
    "    render(get_scene(rec, -(rec.nscenes - i)), roadway, [CarFollowingStatsOverlay(veh_id, 2)], cam=CarFollowCamera(veh_id, zoom))\n",
    "end"
   ]
  },
  {
   "cell_type": "code",
   "execution_count": 44,
   "metadata": {
    "collapsed": false
   },
   "outputs": [
    {
     "data": {
      "text/plain": [
       "SceneRecord(nscenes=500)"
      ]
     },
     "execution_count": 44,
     "metadata": {},
     "output_type": "execute_result"
    }
   ],
   "source": [
    "# exit curve eval\n",
    "srand(1)\n",
    "\n",
    "context = IntegratedContinuous(.1, 1)\n",
    "num_veh = 4\n",
    "num_lanes = 2\n",
    "roadway = gen_stadium_roadway(num_lanes, length = 400.0, radius = 100.0)\n",
    "\n",
    "# build the scene\n",
    "\n",
    "# build the scene\n",
    "scene = Scene(num_veh)\n",
    "road_idx = RoadIndex(proj(VecSE2(0.0, 0.0, 0.0), roadway))\n",
    "road_pos = -30.\n",
    "base_speed = 10.\n",
    "veh_state = VehicleState(Frenet(road_idx, roadway), roadway, base_speed)\n",
    "veh_state = move_along(veh_state, roadway, road_pos)\n",
    "veh_def = VehicleDef(1, AgentClass.CAR, 5., 2.)\n",
    "push!(scene, Vehicle(veh_state, veh_def))\n",
    "\n",
    "road_idx = RoadIndex(proj(VecSE2(0.0, 0.0, 0.0), roadway))\n",
    "road_pos = -100.\n",
    "veh_state = VehicleState(Frenet(road_idx, roadway), roadway, base_speed)\n",
    "veh_state = move_along(veh_state, roadway, road_pos)\n",
    "veh_def = VehicleDef(2, AgentClass.CAR, 5., 2.)\n",
    "push!(scene, Vehicle(veh_state, veh_def))\n",
    "\n",
    "road_idx = RoadIndex(proj(VecSE2(0.0, -2.9, 0.0), roadway))\n",
    "road_pos = 0.\n",
    "veh_state = VehicleState(Frenet(road_idx, roadway), roadway, base_speed)\n",
    "veh_state = move_along(veh_state, roadway, road_pos)\n",
    "veh_def = VehicleDef(3, AgentClass.CAR, 5., 2.)\n",
    "push!(scene, Vehicle(veh_state, veh_def))\n",
    "\n",
    "road_idx = RoadIndex(proj(VecSE2(0.0, -2.9, 0.0), roadway))\n",
    "road_pos = -20.\n",
    "veh_state = VehicleState(Frenet(road_idx, roadway), roadway, base_speed)\n",
    "veh_state = move_along(veh_state, roadway, road_pos)\n",
    "veh_def = VehicleDef(4, AgentClass.CAR, 5., 2.)\n",
    "push!(scene, Vehicle(veh_state, veh_def))\n",
    "\n",
    "for veh_id in 1:num_veh\n",
    "    mlon = MY_DelayedIntelligentDriverModel(context.Δt, t_d = .0)\n",
    "    mlon.σ = .5\n",
    "    mlane = MY_MOBIL(context, politeness=.7)\n",
    "    mlat = ProportionalLaneTracker()\n",
    "    mlat.σ = .1\n",
    "    models[veh_id] = Tim2DDriver(context, mlane=mlane, mlon=mlon, mlat=mlat)\n",
    "end\n",
    "\n",
    "\n",
    "\n",
    "rec = SceneRecord(500, .1, num_veh)\n",
    "T = 50.\n",
    "simulate!(scene, models, roadway, rec, T)"
   ]
  },
  {
   "cell_type": "code",
   "execution_count": 45,
   "metadata": {
    "collapsed": false
   },
   "outputs": [
    {
     "data": {
      "text/html": [],
      "text/plain": [
       "Interact.Options{:SelectionSlider,Int64}(Signal{Int64}(249, nactions=1),\"i\",249,\"249\",Interact.OptionDict(DataStructures.OrderedDict(\"0\"=>0,\"1\"=>1,\"2\"=>2,\"3\"=>3,\"4\"=>4,\"5\"=>5,\"6\"=>6,\"7\"=>7,\"8\"=>8,\"9\"=>9…),Dict(288=>\"288\",306=>\"306\",11=>\"11\",491=>\"491\",134=>\"134\",158=>\"158\",160=>\"160\",215=>\"215\",464=>\"464\",29=>\"29\"…)),Any[],Any[],true,\"horizontal\")"
      ]
     },
     "metadata": {},
     "output_type": "display_data"
    },
    {
     "data": {
      "text/html": [],
      "text/plain": [
       "Interact.Options{:ToggleButtons,Float64}(Signal{Float64}(1.0, nactions=1),\"zoom\",1.0,\"1.0\",Interact.OptionDict(DataStructures.OrderedDict(\"1.0\"=>1.0,\"3.0\"=>3.0,\"5.0\"=>5.0,\"7.0\"=>7.0,\"9.0\"=>9.0,\"11.0\"=>11.0,\"13.0\"=>13.0,\"15.0\"=>15.0,\"17.0\"=>17.0,\"19.0\"=>19.0…),Dict(7.0=>\"7.0\",9.0=>\"9.0\",13.0=>\"13.0\",3.0=>\"3.0\",19.0=>\"19.0\",17.0=>\"17.0\",11.0=>\"11.0\",5.0=>\"5.0\",15.0=>\"15.0\",1.0=>\"1.0\"…)),Any[],Any[],true,\"horizontal\")"
      ]
     },
     "metadata": {},
     "output_type": "display_data"
    },
    {
     "data": {
      "text/html": [],
      "text/plain": [
       "Interact.Options{:ToggleButtons,Int64}(Signal{Int64}(1, nactions=1),\"veh_id\",1,\"1\",Interact.OptionDict(DataStructures.OrderedDict(\"1\"=>1,\"2\"=>2,\"3\"=>3,\"4\"=>4),Dict(4=>\"4\",2=>\"2\",3=>\"3\",1=>\"1\")),Any[],Any[],true,\"horizontal\")"
      ]
     },
     "metadata": {},
     "output_type": "display_data"
    },
    {
     "data": {
      "image/png": "[encoded data removed]",
      "text/plain": [
       "Cairo.CairoSurface{UInt32}(Ptr{Void} @0x00007fb61cca1fe0,1000.0,600.0,#undef)"
      ]
     },
     "execution_count": 45,
     "metadata": {
      "comm_id": "f113014d-e20e-48e8-8699-bbe555bf281a",
      "reactive": true
     },
     "output_type": "execute_result"
    },
    {
     "name": "stderr",
     "output_type": "stream",
     "text": [
      "Failed to push!\n",
      "    0\n",
      "to node\n",
      "    WeakRef(Signal{Int64}(0, nactions=2))\n",
      "BoundsError: attempt to access 500-element Array{AutomotiveDrivingModels.AutoCore.Scene,1} at index [501]\n",
      " in get_scene(::AutomotiveDrivingModels.AutoCore.SceneRecord, ::Int64) at /Users/wulfebw/.julia/v0.5/AutomotiveDrivingModels/src/core/scene_records.jl:28\n",
      " in (::Reactive.##16#17{##55#56,Tuple{Reactive.Signal{Int64},Reactive.Signal{Float64},Reactive.Signal{Int64}}})(::Reactive.Signal{Any}, ::Int64) at /Users/wulfebw/.julia/v0.5/Reactive/src/operators.jl:39\n",
      " in do_action(::Reactive.Action, ::Int64) at /Users/wulfebw/.julia/v0.5/Reactive/src/core.jl:135\n",
      " in send_value!(::Reactive.Signal{Int64}, ::Int64, ::Int64) at /Users/wulfebw/.julia/v0.5/Reactive/src/core.jl:130\n",
      " in send_value!(::WeakRef, ::Int64, ::Int64) at /Users/wulfebw/.julia/v0.5/Reactive/src/core.jl:133\n",
      " in run(::Int64) at /Users/wulfebw/.julia/v0.5/Reactive/src/core.jl:215\n",
      " in run() at /Users/wulfebw/.julia/v0.5/Reactive/src/core.jl:235\n",
      " in macro expansion at /Users/wulfebw/.julia/v0.5/Reactive/src/core.jl:263 [inlined]\n",
      " in (::Reactive.##12#14)() at ./task.jl:360\n"
     ]
    }
   ],
   "source": [
    "scene = Scene()\n",
    "@manipulate for i in 0:(rec.nscenes - 1),\n",
    "        zoom in collect(1:2:20.),\n",
    "    veh_id in collect(1:num_veh)\n",
    "    render(get_scene(rec, -(rec.nscenes - i)), roadway, [CarFollowingStatsOverlay(veh_id, 2)], cam=CarFollowCamera(veh_id, zoom))\n",
    "end"
   ]
  },
  {
   "cell_type": "code",
   "execution_count": null,
   "metadata": {
    "collapsed": true
   },
   "outputs": [],
   "source": []
  }
 ],
 "metadata": {
  "kernelspec": {
   "display_name": "Julia 0.5.0",
   "language": "julia",
   "name": "julia-0.5"
  },
  "language_info": {
   "file_extension": ".jl",
   "mimetype": "application/julia",
   "name": "julia",
   "version": "0.5.0"
  },
  "widgets": {
   "state": {
    "13a9c6b1-bb2d-465a-a51e-6a84b61eb495": {
     "views": [
      {
       "cell_index": 4
      }
     ]
    },
    "2618f5bc-bc9a-4f54-99ff-1ec00fb7df58": {
     "views": [
      {
       "cell_index": 9
      }
     ]
    },
    "3c726bc8-3ae6-4db2-925a-f7a3d9fa9cee": {
     "views": [
      {
       "cell_index": 4
      }
     ]
    },
    "474faebc-f4f1-4d9c-a33f-ea64cd77cff0": {
     "views": [
      {
       "cell_index": 4
      }
     ]
    },
    "6c338ddb-1f4a-4c82-9da6-64712959ccd7": {
     "views": [
      {
       "cell_index": 9
      }
     ]
    },
    "7a7d0df3-0816-4ce3-a4a0-c5c2d372e3cd": {
     "views": [
      {
       "cell_index": 9
      }
     ]
    },
    "98164eac-02e8-4bb3-8d5f-e6a38d0fc88b": {
     "views": [
      {
       "cell_index": 9
      }
     ]
    },
    "a3affabd-1279-4afd-aa12-006fe8ae82bf": {
     "views": [
      {
       "cell_index": 9
      }
     ]
    },
    "ab00edc2-2955-43d8-98cb-3424d4e6639e": {
     "views": [
      {
       "cell_index": 9
      }
     ]
    },
    "b3ce025d-b690-4ae1-9912-30a00a542591": {
     "views": [
      {
       "cell_index": 9
      }
     ]
    },
    "b48a0878-865e-4da8-b0e9-bf21e58fe1e1": {
     "views": [
      {
       "cell_index": 9
      }
     ]
    },
    "b4c95018-85ef-4420-8896-cdd583d0360b": {
     "views": [
      {
       "cell_index": 9
      }
     ]
    },
    "c5f71144-cf26-40b4-a738-00bd338b9265": {
     "views": [
      {
       "cell_index": 9
      }
     ]
    },
    "d92402bf-d59c-443e-9fa1-4c7b3620d638": {
     "views": [
      {
       "cell_index": 4
      }
     ]
    },
    "e8c9a844-1812-4e59-9d48-c3309d8ae0d4": {
     "views": [
      {
       "cell_index": 9
      }
     ]
    },
    "e8d6ad3b-befa-40e4-b1b7-8a5cca264910": {
     "views": [
      {
       "cell_index": 9
      }
     ]
    },
    "f532ca79-0704-440c-a943-63f6f783d76c": {
     "views": [
      {
       "cell_index": 9
      }
     ]
    },
    "ff56e3e4-96e0-4e97-9519-30788c7b1a78": {
     "views": [
      {
       "cell_index": 9
      }
     ]
    }
   },
   "version": "1.2.0"
  }
 },
 "nbformat": 4,
 "nbformat_minor": 1
}
