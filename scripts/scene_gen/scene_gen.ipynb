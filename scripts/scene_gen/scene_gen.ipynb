{
 "cells": [
  {
   "cell_type": "code",
   "execution_count": 1,
   "metadata": {
    "collapsed": false
   },
   "outputs": [
    {
     "data": {
      "text/html": [
       "<div id=\"interact-js-shim\">\n",
       "    <script charset=\"utf-8\">\n",
       "(function (IPython, $, _, MathJax) {\n",
       "    $.event.special.destroyed = {\n",
       "\tremove: function(o) {\n",
       "\t    if (o.handler) {\n",
       "\t\to.handler.apply(this, arguments)\n",
       "\t    }\n",
       "\t}\n",
       "    }\n",
       "\n",
       "    var OutputArea = IPython.version >= \"4.0.0\" ? require(\"notebook/js/outputarea\").OutputArea : IPython.OutputArea;\n",
       "\n",
       "    var redrawValue = function (container, type, val) {\n",
       "\tvar selector = $(\"<div/>\");\n",
       "\tvar oa = new OutputArea(_.extend(selector, {\n",
       "\t    selector: selector,\n",
       "\t    prompt_area: true,\n",
       "\t    events: IPython.events,\n",
       "\t    keyboard_manager: IPython.keyboard_manager\n",
       "\t})); // Hack to work with IPython 2.1.0\n",
       "\n",
       "\tswitch (type) {\n",
       "\tcase \"image/png\":\n",
       "            var _src = 'data:' + type + ';base64,' + val;\n",
       "\t    $(container).find(\"img\").attr('src', _src);\n",
       "\t    break;\n",
       "\tcase \"text/latex\":\n",
       "\t\tif (MathJax){\n",
       "\t\t\tvar math = MathJax.Hub.getAllJax(container)[0];\n",
       "\t\t\tMathJax.Hub.Queue([\"Text\", math, val.replace(/^\\${1,2}|\\${1,2}$/g, '')]);\n",
       "\t\t\tbreak;\n",
       "\t\t}\n",
       "\tdefault:\n",
       "\t    var toinsert = OutputArea.append_map[type].apply(\n",
       "\t\toa, [val, {}, selector]\n",
       "\t    );\n",
       "\t    $(container).empty().append(toinsert.contents());\n",
       "\t    selector.remove();\n",
       "\t}\n",
       "    }\n",
       "\n",
       "\n",
       "    $(document).ready(function() {\n",
       "\tfunction initComm(evt, data) {\n",
       "\t    var comm_manager = data.kernel.comm_manager;\n",
       "        //_.extend(comm_manager.targets, require(\"widgets/js/widget\"))\n",
       "\t    comm_manager.register_target(\"Signal\", function (comm) {\n",
       "            comm.on_msg(function (msg) {\n",
       "                var val = msg.content.data.value;\n",
       "                $(\".signal-\" + comm.comm_id).each(function() {\n",
       "                var type = $(this).data(\"type\");\n",
       "                if (typeof(val[type]) !== \"undefined\" && val[type] !== null) {\n",
       "                    redrawValue(this, type, val[type], type);\n",
       "                }\n",
       "                });\n",
       "                delete val;\n",
       "                delete msg.content.data.value;\n",
       "            });\n",
       "\t    });\n",
       "\n",
       "\t    // coordingate with Comm and redraw Signals\n",
       "\t    // XXX: Test using Reactive here to improve performance\n",
       "\t    $([IPython.events]).on(\n",
       "\t\t'output_appended.OutputArea', function (event, type, value, md, toinsert) {\n",
       "\t\t    if (md && md.reactive) {\n",
       "                // console.log(md.comm_id);\n",
       "                toinsert.addClass(\"signal-\" + md.comm_id);\n",
       "                toinsert.data(\"type\", type);\n",
       "                // Signal back indicating the mimetype required\n",
       "                var comm_manager = IPython.notebook.kernel.comm_manager;\n",
       "                var comm = comm_manager.comms[md.comm_id];\n",
       "                comm.then(function (c) {\n",
       "                    c.send({action: \"subscribe_mime\",\n",
       "                       mime: type});\n",
       "                    toinsert.bind(\"destroyed\", function() {\n",
       "                        c.send({action: \"unsubscribe_mime\",\n",
       "                               mime: type});\n",
       "                    });\n",
       "                })\n",
       "\t\t    }\n",
       "\t    });\n",
       "\t}\n",
       "\n",
       "\ttry {\n",
       "\t    // try to initialize right away. otherwise, wait on the status_started event.\n",
       "\t    initComm(undefined, IPython.notebook);\n",
       "\t} catch (e) {\n",
       "\t    $([IPython.events]).on('kernel_created.Kernel kernel_created.Session', initComm);\n",
       "\t}\n",
       "    });\n",
       "})(IPython, jQuery, _, MathJax);\n",
       "</script>\n",
       "    <script>\n",
       "        window.interactLoadedFlag = true\n",
       "       $(\"#interact-js-shim\").bind(\"destroyed\", function () {\n",
       "           if (window.interactLoadedFlag) {\n",
       "               console.warn(\"JavaScript required by Interact will be removed if you remove this cell or run using Interact more than once.\")\n",
       "           }\n",
       "       })\n",
       "       $([IPython.events]).on(\"kernel_starting.Kernel kernel_restarting.Kernel\", function () { window.interactLoadedFlag = false })\n",
       "   </script>\n",
       "</div>"
      ]
     },
     "metadata": {},
     "output_type": "display_data"
    }
   ],
   "source": [
    "using AutomotiveDrivingModels\n",
    "using AutoViz\n",
    "using BayesNets\n",
    "using DataFrames\n",
    "using Discretizers\n",
    "using Distributions\n",
    "using HDF5\n",
    "using Interact\n",
    "using PGFPlots\n",
    "using TikzPictures"
   ]
  },
  {
   "cell_type": "code",
   "execution_count": 2,
   "metadata": {
    "collapsed": false
   },
   "outputs": [],
   "source": [
    "# load the data\n",
    "input_filepath = \"../../data/datasets/2_19/risk_10_sec_10_timesteps.h5\"\n",
    "raw_features = h5open(input_filepath, \"r\") do file\n",
    "    read(file, \"risk/features\")\n",
    "end;"
   ]
  },
  {
   "cell_type": "code",
   "execution_count": 3,
   "metadata": {
    "collapsed": false
   },
   "outputs": [],
   "source": [
    "debug_size = min(10000, size(raw_features, 3))\n",
    "timestep = size(raw_features, 2)\n",
    "features = view(raw_features, :, timestep, 1:debug_size)\n",
    "\n",
    "# discard samples that have features outside of bounds\n",
    "min_v, max_v = 0., 50.\n",
    "min_d_fore, max_d_fore = 0., 100.\n",
    "valid_idxs_v = find(min_v .< features[3,:] .< max_v)\n",
    "valid_idxs_d_fore = find(min_d_fore .< features[26,:] .< max_d_fore)\n",
    "valid_idxs_v_fore = find(min_v .< features[27,:] .< max_v)\n",
    "valid_idxs = intersect(valid_idxs_v, valid_idxs_d_fore, valid_idxs_v_fore)\n",
    "features = view(features, :, valid_idxs)\n",
    "\n",
    "# make targets a feature\n",
    "use_target_variable = true\n",
    "target_idx = 3\n",
    "if use_target_variable\n",
    "    targets = h5open(input_filepath, \"r\") do file\n",
    "        read(file, \"risk/targets\")\n",
    "    end;\n",
    "    target = view(targets, target_idx, valid_idxs)\n",
    "else\n",
    "    target = zeros(1, size(features, 2))\n",
    "end\n",
    "\n",
    "# select features\n",
    "v = features[3,:]\n",
    "d_fore = features[26,:]\n",
    "v_fore = features[27,:];"
   ]
  },
  {
   "cell_type": "code",
   "execution_count": 4,
   "metadata": {
    "collapsed": false
   },
   "outputs": [],
   "source": [
    "# discretize the data\n",
    "# features\n",
    "num_bins = [5, 5, 5]\n",
    "data = [v, d_fore, v_fore]\n",
    "num_samples = length(v)\n",
    "disc_data = zeros(Int, num_samples, 3)\n",
    "cutpoints = []\n",
    "discs = []\n",
    "for (f, vals) in enumerate(data)\n",
    "    disc = LinearDiscretizer(binedges(DiscretizeUniformCount(num_bins[f]), vals))\n",
    "    push!(cutpoints, disc.binedges)\n",
    "    for (i, val) in enumerate(vals)\n",
    "        c = 0\n",
    "        for (c, (lo, hi)) in enumerate(zip(disc.binedges, disc.binedges[2:end]))\n",
    "            if lo <= val < hi\n",
    "                break\n",
    "            end\n",
    "        end\n",
    "        disc_data[i, f] = c\n",
    "    end\n",
    "end\n",
    "\n",
    "# targets\n",
    "disc_target = ones(Int, num_samples)\n",
    "idxs = find(target .> 0)\n",
    "disc_target[idxs] = 2;"
   ]
  },
  {
   "cell_type": "code",
   "execution_count": 5,
   "metadata": {
    "collapsed": false
   },
   "outputs": [],
   "source": [
    "# convert data to dataframe\n",
    "data = DataFrame(\n",
    "        velocity = disc_data[:,1], \n",
    "        foredistance = disc_data[:,2], \n",
    "        forevelocity = disc_data[:,3],\n",
    "        target = disc_target\n",
    ");"
   ]
  },
  {
   "cell_type": "code",
   "execution_count": 6,
   "metadata": {
    "collapsed": false
   },
   "outputs": [
    {
     "data": {
      "image/svg+xml": [
       "<?xml version=\"1.0\" encoding=\"UTF-8\"?>\n",
       "<svg xmlns=\"http://www.w3.org/2000/svg\" xmlns:xlink=\"http://www.w3.org/1999/xlink\" width=\"142.132pt\" height=\"71.902pt\" viewBox=\"0 0 142.132 71.902\" version=\"1.1\">\n",
       "<defs>\n",
       "<g>\n",
       "<symbol overflow=\"visible\" id=\"glyph-1487623024713064-0-0\">\n",
       "<path style=\"stroke:none;\" d=\"\"/>\n",
       "</symbol>\n",
       "<symbol overflow=\"visible\" id=\"glyph-1487623024713064-0-1\">\n",
       "<path style=\"stroke:none;\" d=\"M 3.3125 -1.234375 L 3.3125 -1.796875 L 3.0625 -1.796875 L 3.0625 -1.25 C 3.0625 -0.515625 2.765625 -0.140625 2.390625 -0.140625 C 1.71875 -0.140625 1.71875 -1.046875 1.71875 -1.21875 L 1.71875 -3.984375 L 3.15625 -3.984375 L 3.15625 -4.296875 L 1.71875 -4.296875 L 1.71875 -6.125 L 1.46875 -6.125 C 1.46875 -5.3125 1.171875 -4.25 0.1875 -4.203125 L 0.1875 -3.984375 L 1.03125 -3.984375 L 1.03125 -1.234375 C 1.03125 -0.015625 1.96875 0.109375 2.328125 0.109375 C 3.03125 0.109375 3.3125 -0.59375 3.3125 -1.234375 Z M 3.3125 -1.234375 \"/>\n",
       "</symbol>\n",
       "<symbol overflow=\"visible\" id=\"glyph-1487623024713064-0-2\">\n",
       "<path style=\"stroke:none;\" d=\"M 4.8125 -0.890625 L 4.8125 -1.453125 L 4.5625 -1.453125 L 4.5625 -0.890625 C 4.5625 -0.3125 4.3125 -0.25 4.203125 -0.25 C 3.875 -0.25 3.84375 -0.703125 3.84375 -0.75 L 3.84375 -2.734375 C 3.84375 -3.15625 3.84375 -3.546875 3.484375 -3.921875 C 3.09375 -4.3125 2.59375 -4.46875 2.109375 -4.46875 C 1.296875 -4.46875 0.609375 -4 0.609375 -3.34375 C 0.609375 -3.046875 0.8125 -2.875 1.0625 -2.875 C 1.34375 -2.875 1.53125 -3.078125 1.53125 -3.328125 C 1.53125 -3.453125 1.46875 -3.78125 1.015625 -3.78125 C 1.28125 -4.140625 1.78125 -4.25 2.09375 -4.25 C 2.578125 -4.25 3.15625 -3.859375 3.15625 -2.96875 L 3.15625 -2.609375 C 2.640625 -2.578125 1.9375 -2.546875 1.3125 -2.25 C 0.5625 -1.90625 0.3125 -1.390625 0.3125 -0.953125 C 0.3125 -0.140625 1.28125 0.109375 1.90625 0.109375 C 2.578125 0.109375 3.03125 -0.296875 3.21875 -0.75 C 3.265625 -0.359375 3.53125 0.0625 4 0.0625 C 4.203125 0.0625 4.8125 -0.078125 4.8125 -0.890625 Z M 3.15625 -1.390625 C 3.15625 -0.453125 2.4375 -0.109375 1.984375 -0.109375 C 1.5 -0.109375 1.09375 -0.453125 1.09375 -0.953125 C 1.09375 -1.5 1.5 -2.328125 3.15625 -2.390625 Z M 3.15625 -1.390625 \"/>\n",
       "</symbol>\n",
       "<symbol overflow=\"visible\" id=\"glyph-1487623024713064-0-3\">\n",
       "<path style=\"stroke:none;\" d=\"M 3.625 -3.796875 C 3.625 -4.109375 3.3125 -4.40625 2.890625 -4.40625 C 2.15625 -4.40625 1.796875 -3.734375 1.671875 -3.3125 L 1.671875 -4.40625 L 0.28125 -4.296875 L 0.28125 -3.984375 C 0.984375 -3.984375 1.0625 -3.921875 1.0625 -3.421875 L 1.0625 -0.75 C 1.0625 -0.3125 0.953125 -0.3125 0.28125 -0.3125 L 0.28125 0 L 1.421875 -0.03125 C 1.8125 -0.03125 2.28125 -0.03125 2.6875 0 L 2.6875 -0.3125 L 2.46875 -0.3125 C 1.734375 -0.3125 1.71875 -0.421875 1.71875 -0.78125 L 1.71875 -2.3125 C 1.71875 -3.296875 2.140625 -4.1875 2.890625 -4.1875 C 2.953125 -4.1875 2.984375 -4.1875 3 -4.171875 C 2.96875 -4.171875 2.765625 -4.046875 2.765625 -3.78125 C 2.765625 -3.515625 2.984375 -3.359375 3.203125 -3.359375 C 3.375 -3.359375 3.625 -3.484375 3.625 -3.796875 Z M 3.625 -3.796875 \"/>\n",
       "</symbol>\n",
       "<symbol overflow=\"visible\" id=\"glyph-1487623024713064-0-4\">\n",
       "<path style=\"stroke:none;\" d=\"M 4.828125 -4.03125 C 4.828125 -4.203125 4.71875 -4.515625 4.328125 -4.515625 C 4.125 -4.515625 3.6875 -4.453125 3.265625 -4.046875 C 2.84375 -4.375 2.4375 -4.40625 2.21875 -4.40625 C 1.28125 -4.40625 0.59375 -3.71875 0.59375 -2.953125 C 0.59375 -2.515625 0.8125 -2.140625 1.0625 -1.921875 C 0.9375 -1.78125 0.75 -1.453125 0.75 -1.09375 C 0.75 -0.78125 0.890625 -0.40625 1.203125 -0.203125 C 0.59375 -0.046875 0.28125 0.390625 0.28125 0.78125 C 0.28125 1.5 1.265625 2.046875 2.484375 2.046875 C 3.65625 2.046875 4.6875 1.546875 4.6875 0.765625 C 4.6875 0.421875 4.5625 -0.09375 4.046875 -0.375 C 3.515625 -0.640625 2.9375 -0.640625 2.328125 -0.640625 C 2.078125 -0.640625 1.65625 -0.640625 1.578125 -0.65625 C 1.265625 -0.703125 1.0625 -1 1.0625 -1.328125 C 1.0625 -1.359375 1.0625 -1.59375 1.21875 -1.796875 C 1.609375 -1.515625 2.03125 -1.484375 2.21875 -1.484375 C 3.140625 -1.484375 3.828125 -2.171875 3.828125 -2.9375 C 3.828125 -3.3125 3.671875 -3.671875 3.421875 -3.90625 C 3.78125 -4.25 4.140625 -4.296875 4.3125 -4.296875 C 4.3125 -4.296875 4.390625 -4.296875 4.421875 -4.28125 C 4.3125 -4.25 4.25 -4.140625 4.25 -4.015625 C 4.25 -3.84375 4.390625 -3.734375 4.546875 -3.734375 C 4.640625 -3.734375 4.828125 -3.796875 4.828125 -4.03125 Z M 3.078125 -2.953125 C 3.078125 -2.6875 3.078125 -2.359375 2.921875 -2.109375 C 2.84375 -2 2.609375 -1.71875 2.21875 -1.71875 C 1.34375 -1.71875 1.34375 -2.71875 1.34375 -2.9375 C 1.34375 -3.203125 1.359375 -3.53125 1.5 -3.78125 C 1.578125 -3.890625 1.8125 -4.171875 2.21875 -4.171875 C 3.078125 -4.171875 3.078125 -3.1875 3.078125 -2.953125 Z M 4.171875 0.78125 C 4.171875 1.328125 3.46875 1.828125 2.5 1.828125 C 1.484375 1.828125 0.796875 1.3125 0.796875 0.78125 C 0.796875 0.328125 1.171875 -0.046875 1.609375 -0.0625 L 2.203125 -0.0625 C 3.0625 -0.0625 4.171875 -0.0625 4.171875 0.78125 Z M 4.171875 0.78125 \"/>\n",
       "</symbol>\n",
       "<symbol overflow=\"visible\" id=\"glyph-1487623024713064-0-5\">\n",
       "<path style=\"stroke:none;\" d=\"M 4.140625 -1.1875 C 4.140625 -1.28125 4.0625 -1.3125 4 -1.3125 C 3.921875 -1.3125 3.890625 -1.25 3.875 -1.171875 C 3.53125 -0.140625 2.625 -0.140625 2.53125 -0.140625 C 2.03125 -0.140625 1.640625 -0.4375 1.40625 -0.8125 C 1.109375 -1.28125 1.109375 -1.9375 1.109375 -2.296875 L 3.890625 -2.296875 C 4.109375 -2.296875 4.140625 -2.296875 4.140625 -2.515625 C 4.140625 -3.5 3.59375 -4.46875 2.359375 -4.46875 C 1.203125 -4.46875 0.28125 -3.4375 0.28125 -2.1875 C 0.28125 -0.859375 1.328125 0.109375 2.46875 0.109375 C 3.6875 0.109375 4.140625 -1 4.140625 -1.1875 Z M 3.484375 -2.515625 L 1.109375 -2.515625 C 1.171875 -4 2.015625 -4.25 2.359375 -4.25 C 3.375 -4.25 3.484375 -2.90625 3.484375 -2.515625 Z M 3.484375 -2.515625 \"/>\n",
       "</symbol>\n",
       "<symbol overflow=\"visible\" id=\"glyph-1487623024713064-0-6\">\n",
       "<path style=\"stroke:none;\" d=\"M 3.5625 -6.328125 C 3.5625 -6.703125 3.1875 -7.03125 2.65625 -7.03125 C 1.96875 -7.03125 1.109375 -6.5 1.109375 -5.4375 L 1.109375 -4.296875 L 0.328125 -4.296875 L 0.328125 -3.984375 L 1.109375 -3.984375 L 1.109375 -0.75 C 1.109375 -0.3125 1 -0.3125 0.34375 -0.3125 L 0.34375 0 L 1.46875 -0.03125 C 1.875 -0.03125 2.34375 -0.03125 2.734375 0 L 2.734375 -0.3125 L 2.53125 -0.3125 C 1.796875 -0.3125 1.78125 -0.421875 1.78125 -0.78125 L 1.78125 -3.984375 L 2.90625 -3.984375 L 2.90625 -4.296875 L 1.75 -4.296875 L 1.75 -5.453125 C 1.75 -6.328125 2.21875 -6.8125 2.65625 -6.8125 C 2.6875 -6.8125 2.84375 -6.8125 2.984375 -6.734375 C 2.875 -6.703125 2.6875 -6.5625 2.6875 -6.3125 C 2.6875 -6.09375 2.84375 -5.890625 3.125 -5.890625 C 3.40625 -5.890625 3.5625 -6.09375 3.5625 -6.328125 Z M 3.5625 -6.328125 \"/>\n",
       "</symbol>\n",
       "<symbol overflow=\"visible\" id=\"glyph-1487623024713064-0-7\">\n",
       "<path style=\"stroke:none;\" d=\"M 4.6875 -2.140625 C 4.6875 -3.40625 3.703125 -4.46875 2.5 -4.46875 C 1.25 -4.46875 0.28125 -3.375 0.28125 -2.140625 C 0.28125 -0.84375 1.3125 0.109375 2.484375 0.109375 C 3.6875 0.109375 4.6875 -0.875 4.6875 -2.140625 Z M 3.875 -2.21875 C 3.875 -1.859375 3.875 -1.3125 3.65625 -0.875 C 3.421875 -0.421875 2.984375 -0.140625 2.5 -0.140625 C 2.0625 -0.140625 1.625 -0.34375 1.359375 -0.8125 C 1.109375 -1.25 1.109375 -1.859375 1.109375 -2.21875 C 1.109375 -2.609375 1.109375 -3.140625 1.34375 -3.578125 C 1.609375 -4.03125 2.078125 -4.25 2.484375 -4.25 C 2.921875 -4.25 3.34375 -4.03125 3.609375 -3.59375 C 3.875 -3.171875 3.875 -2.59375 3.875 -2.21875 Z M 3.875 -2.21875 \"/>\n",
       "</symbol>\n",
       "<symbol overflow=\"visible\" id=\"glyph-1487623024713064-0-8\">\n",
       "<path style=\"stroke:none;\" d=\"M 5.0625 -3.984375 L 5.0625 -4.296875 C 4.828125 -4.28125 4.546875 -4.265625 4.3125 -4.265625 L 3.453125 -4.296875 L 3.453125 -3.984375 C 3.8125 -3.984375 3.921875 -3.75 3.921875 -3.5625 C 3.921875 -3.46875 3.90625 -3.421875 3.875 -3.3125 L 2.84375 -0.78125 L 1.734375 -3.5625 C 1.671875 -3.6875 1.671875 -3.734375 1.671875 -3.734375 C 1.671875 -3.984375 2.0625 -3.984375 2.25 -3.984375 L 2.25 -4.296875 L 1.15625 -4.265625 C 0.890625 -4.265625 0.484375 -4.28125 0.1875 -4.296875 L 0.1875 -3.984375 C 0.8125 -3.984375 0.859375 -3.921875 0.984375 -3.625 L 2.421875 -0.078125 C 2.484375 0.0625 2.5 0.109375 2.625 0.109375 C 2.765625 0.109375 2.796875 0.015625 2.84375 -0.078125 L 4.140625 -3.3125 C 4.234375 -3.546875 4.40625 -3.984375 5.0625 -3.984375 Z M 5.0625 -3.984375 \"/>\n",
       "</symbol>\n",
       "<symbol overflow=\"visible\" id=\"glyph-1487623024713064-0-9\">\n",
       "<path style=\"stroke:none;\" d=\"M 2.546875 0 L 2.546875 -0.3125 C 1.875 -0.3125 1.765625 -0.3125 1.765625 -0.75 L 1.765625 -6.921875 L 0.328125 -6.8125 L 0.328125 -6.5 C 1.03125 -6.5 1.109375 -6.4375 1.109375 -5.9375 L 1.109375 -0.75 C 1.109375 -0.3125 1 -0.3125 0.328125 -0.3125 L 0.328125 0 L 1.4375 -0.03125 Z M 2.546875 0 \"/>\n",
       "</symbol>\n",
       "<symbol overflow=\"visible\" id=\"glyph-1487623024713064-0-10\">\n",
       "<path style=\"stroke:none;\" d=\"M 4.140625 -1.1875 C 4.140625 -1.28125 4.03125 -1.28125 4 -1.28125 C 3.921875 -1.28125 3.890625 -1.25 3.875 -1.1875 C 3.59375 -0.265625 2.9375 -0.140625 2.578125 -0.140625 C 2.046875 -0.140625 1.171875 -0.5625 1.171875 -2.171875 C 1.171875 -3.796875 1.984375 -4.21875 2.515625 -4.21875 C 2.609375 -4.21875 3.234375 -4.203125 3.578125 -3.84375 C 3.171875 -3.8125 3.109375 -3.515625 3.109375 -3.390625 C 3.109375 -3.125 3.296875 -2.9375 3.5625 -2.9375 C 3.828125 -2.9375 4.03125 -3.09375 4.03125 -3.40625 C 4.03125 -4.078125 3.265625 -4.46875 2.5 -4.46875 C 1.25 -4.46875 0.34375 -3.390625 0.34375 -2.15625 C 0.34375 -0.875 1.328125 0.109375 2.484375 0.109375 C 3.8125 0.109375 4.140625 -1.09375 4.140625 -1.1875 Z M 4.140625 -1.1875 \"/>\n",
       "</symbol>\n",
       "<symbol overflow=\"visible\" id=\"glyph-1487623024713064-0-11\">\n",
       "<path style=\"stroke:none;\" d=\"M 2.46875 0 L 2.46875 -0.3125 C 1.796875 -0.3125 1.765625 -0.359375 1.765625 -0.75 L 1.765625 -4.40625 L 0.375 -4.296875 L 0.375 -3.984375 C 1.015625 -3.984375 1.109375 -3.921875 1.109375 -3.4375 L 1.109375 -0.75 C 1.109375 -0.3125 1 -0.3125 0.328125 -0.3125 L 0.328125 0 L 1.421875 -0.03125 C 1.78125 -0.03125 2.125 -0.015625 2.46875 0 Z M 1.90625 -6.015625 C 1.90625 -6.296875 1.6875 -6.546875 1.390625 -6.546875 C 1.046875 -6.546875 0.84375 -6.265625 0.84375 -6.015625 C 0.84375 -5.75 1.078125 -5.5 1.375 -5.5 C 1.71875 -5.5 1.90625 -5.765625 1.90625 -6.015625 Z M 1.90625 -6.015625 \"/>\n",
       "</symbol>\n",
       "<symbol overflow=\"visible\" id=\"glyph-1487623024713064-0-12\">\n",
       "<path style=\"stroke:none;\" d=\"M 5.0625 -3.984375 L 5.0625 -4.296875 C 4.828125 -4.28125 4.546875 -4.265625 4.3125 -4.265625 L 3.453125 -4.296875 L 3.453125 -3.984375 C 3.765625 -3.984375 3.921875 -3.8125 3.921875 -3.5625 C 3.921875 -3.453125 3.90625 -3.4375 3.859375 -3.3125 L 2.84375 -0.875 L 1.75 -3.546875 C 1.703125 -3.65625 1.6875 -3.6875 1.6875 -3.734375 C 1.6875 -3.984375 2.046875 -3.984375 2.25 -3.984375 L 2.25 -4.296875 L 1.15625 -4.265625 C 0.890625 -4.265625 0.484375 -4.28125 0.1875 -4.296875 L 0.1875 -3.984375 C 0.671875 -3.984375 0.859375 -3.984375 1 -3.640625 L 2.5 0 L 2.25 0.59375 C 2.03125 1.140625 1.75 1.828125 1.109375 1.828125 C 1.0625 1.828125 0.828125 1.828125 0.640625 1.640625 C 0.953125 1.609375 1.03125 1.390625 1.03125 1.21875 C 1.03125 0.96875 0.84375 0.8125 0.609375 0.8125 C 0.40625 0.8125 0.1875 0.9375 0.1875 1.234375 C 0.1875 1.6875 0.609375 2.046875 1.109375 2.046875 C 1.734375 2.046875 2.140625 1.46875 2.375 0.90625 L 4.140625 -3.34375 C 4.390625 -3.984375 4.90625 -3.984375 5.0625 -3.984375 Z M 5.0625 -3.984375 \"/>\n",
       "</symbol>\n",
       "<symbol overflow=\"visible\" id=\"glyph-1487623024713064-0-13\">\n",
       "<path style=\"stroke:none;\" d=\"M 5.25 0 L 5.25 -0.3125 C 4.5625 -0.3125 4.46875 -0.375 4.46875 -0.875 L 4.46875 -6.921875 L 3.046875 -6.8125 L 3.046875 -6.5 C 3.734375 -6.5 3.8125 -6.4375 3.8125 -5.9375 L 3.8125 -3.78125 C 3.53125 -4.140625 3.09375 -4.40625 2.5625 -4.40625 C 1.390625 -4.40625 0.34375 -3.421875 0.34375 -2.140625 C 0.34375 -0.875 1.3125 0.109375 2.453125 0.109375 C 3.09375 0.109375 3.53125 -0.234375 3.78125 -0.546875 L 3.78125 0.109375 Z M 3.78125 -1.171875 C 3.78125 -1 3.78125 -0.984375 3.671875 -0.8125 C 3.375 -0.328125 2.9375 -0.109375 2.5 -0.109375 C 2.046875 -0.109375 1.6875 -0.375 1.453125 -0.75 C 1.203125 -1.15625 1.171875 -1.71875 1.171875 -2.140625 C 1.171875 -2.5 1.1875 -3.09375 1.46875 -3.546875 C 1.6875 -3.859375 2.0625 -4.1875 2.609375 -4.1875 C 2.953125 -4.1875 3.375 -4.03125 3.671875 -3.59375 C 3.78125 -3.421875 3.78125 -3.40625 3.78125 -3.21875 Z M 3.78125 -1.171875 \"/>\n",
       "</symbol>\n",
       "<symbol overflow=\"visible\" id=\"glyph-1487623024713064-0-14\">\n",
       "<path style=\"stroke:none;\" d=\"M 3.59375 -1.28125 C 3.59375 -1.796875 3.296875 -2.109375 3.171875 -2.21875 C 2.84375 -2.546875 2.453125 -2.625 2.03125 -2.703125 C 1.46875 -2.8125 0.8125 -2.9375 0.8125 -3.515625 C 0.8125 -3.875 1.0625 -4.28125 1.921875 -4.28125 C 3.015625 -4.28125 3.078125 -3.375 3.09375 -3.078125 C 3.09375 -2.984375 3.203125 -2.984375 3.203125 -2.984375 C 3.34375 -2.984375 3.34375 -3.03125 3.34375 -3.21875 L 3.34375 -4.234375 C 3.34375 -4.390625 3.34375 -4.46875 3.234375 -4.46875 C 3.1875 -4.46875 3.15625 -4.46875 3.03125 -4.34375 C 3 -4.3125 2.90625 -4.21875 2.859375 -4.1875 C 2.484375 -4.46875 2.078125 -4.46875 1.921875 -4.46875 C 0.703125 -4.46875 0.328125 -3.796875 0.328125 -3.234375 C 0.328125 -2.890625 0.484375 -2.609375 0.75 -2.390625 C 1.078125 -2.140625 1.359375 -2.078125 2.078125 -1.9375 C 2.296875 -1.890625 3.109375 -1.734375 3.109375 -1.015625 C 3.109375 -0.515625 2.765625 -0.109375 1.984375 -0.109375 C 1.140625 -0.109375 0.78125 -0.671875 0.59375 -1.53125 C 0.5625 -1.65625 0.5625 -1.6875 0.453125 -1.6875 C 0.328125 -1.6875 0.328125 -1.625 0.328125 -1.453125 L 0.328125 -0.125 C 0.328125 0.046875 0.328125 0.109375 0.4375 0.109375 C 0.484375 0.109375 0.5 0.09375 0.6875 -0.09375 C 0.703125 -0.109375 0.703125 -0.125 0.890625 -0.3125 C 1.328125 0.09375 1.78125 0.109375 1.984375 0.109375 C 3.125 0.109375 3.59375 -0.5625 3.59375 -1.28125 Z M 3.59375 -1.28125 \"/>\n",
       "</symbol>\n",
       "<symbol overflow=\"visible\" id=\"glyph-1487623024713064-0-15\">\n",
       "<path style=\"stroke:none;\" d=\"M 5.328125 0 L 5.328125 -0.3125 C 4.8125 -0.3125 4.5625 -0.3125 4.5625 -0.609375 L 4.5625 -2.515625 C 4.5625 -3.375 4.5625 -3.671875 4.25 -4.03125 C 4.109375 -4.203125 3.78125 -4.40625 3.203125 -4.40625 C 2.46875 -4.40625 2 -3.984375 1.71875 -3.359375 L 1.71875 -4.40625 L 0.3125 -4.296875 L 0.3125 -3.984375 C 1.015625 -3.984375 1.09375 -3.921875 1.09375 -3.421875 L 1.09375 -0.75 C 1.09375 -0.3125 0.984375 -0.3125 0.3125 -0.3125 L 0.3125 0 L 1.453125 -0.03125 L 2.5625 0 L 2.5625 -0.3125 C 1.890625 -0.3125 1.78125 -0.3125 1.78125 -0.75 L 1.78125 -2.59375 C 1.78125 -3.625 2.5 -4.1875 3.125 -4.1875 C 3.765625 -4.1875 3.875 -3.65625 3.875 -3.078125 L 3.875 -0.75 C 3.875 -0.3125 3.765625 -0.3125 3.09375 -0.3125 L 3.09375 0 L 4.21875 -0.03125 Z M 5.328125 0 \"/>\n",
       "</symbol>\n",
       "</g>\n",
       "</defs>\n",
       "<g id=\"surface1\">\n",
       "<path style=\"fill:none;stroke-width:0.3985;stroke-linecap:butt;stroke-linejoin:miter;stroke:rgb(0%,0%,0%);stroke-opacity:1;stroke-miterlimit:10;\" d=\"M -8.793906 -7.609531 L -24.219688 -20.961094 \" transform=\"matrix(1,0,0,-1,125.79,7.41)\"/>\n",
       "<path style=\"fill:none;stroke-width:0.31879;stroke-linecap:round;stroke-linejoin:round;stroke:rgb(0%,0%,0%);stroke-opacity:1;stroke-miterlimit:10;\" d=\"M -1.196375 1.593809 C -1.095277 0.996251 -0.000477394 0.100274 0.299485 0.000386559 C 0.000251058 -0.10129 -1.095073 -0.997804 -1.195539 -1.59609 \" transform=\"matrix(-0.75818,0.65617,0.65617,0.75818,101.57056,28.3696)\"/>\n",
       "<path style=\"fill:none;stroke-width:0.3985;stroke-linecap:butt;stroke-linejoin:miter;stroke:rgb(0%,0%,0%);stroke-opacity:1;stroke-miterlimit:10;\" d=\"M -0.0009375 -7.609531 L -0.0009375 -28.347813 L -11.528281 -48.297031 \" transform=\"matrix(1,0,0,-1,125.79,7.41)\"/>\n",
       "<path style=\"fill:none;stroke-width:0.31879;stroke-linecap:round;stroke-linejoin:round;stroke:rgb(0%,0%,0%);stroke-opacity:1;stroke-miterlimit:10;\" d=\"M -1.19653 1.595472 C -1.097566 0.996193 -0.000497572 0.10133 0.300342 0.000879561 C -0.000495128 -0.101002 -1.097692 -0.995741 -1.19769 -1.593075 \" transform=\"matrix(-0.50197,0.86877,0.86877,0.50197,114.26328,55.70738)\"/>\n",
       "<path style=\"fill:none;stroke-width:0.3985;stroke-linecap:butt;stroke-linejoin:miter;stroke:rgb(0%,0%,0%);stroke-opacity:1;stroke-miterlimit:10;\" d=\"M -74.391563 -36.398594 L -37.211875 -49.406406 \" transform=\"matrix(1,0,0,-1,125.79,7.41)\"/>\n",
       "<path style=\"fill:none;stroke-width:0.31879;stroke-linecap:round;stroke-linejoin:round;stroke:rgb(0%,0%,0%);stroke-opacity:1;stroke-miterlimit:10;\" d=\"M -1.195373 1.593621 C -1.097883 0.996472 -0.000813944 0.101228 0.298746 -0.000275639 C -0.000297358 -0.100757 -1.094367 -0.995072 -1.1939 -1.595128 \" transform=\"matrix(0.94678,0.33119,0.33119,-0.94678,88.57662,56.81486)\"/>\n",
       "<path style=\"fill:none;stroke-width:0.3985;stroke-linecap:butt;stroke-linejoin:miter;stroke:rgb(0%,0%,0%);stroke-opacity:1;stroke-miterlimit:10;\" d=\"M -28.661094 -35.43375 L -21.2275 -48.297031 \" transform=\"matrix(1,0,0,-1,125.79,7.41)\"/>\n",
       "<path style=\"fill:none;stroke-width:0.31879;stroke-linecap:round;stroke-linejoin:round;stroke:rgb(0%,0%,0%);stroke-opacity:1;stroke-miterlimit:10;\" d=\"M -1.195917 1.596207 C -1.097855 0.995498 -0.000632122 0.100769 0.30021 -0.00110847 C 0.00131659 -0.0981944 -1.097695 -0.996456 -1.194702 -1.592371 \" transform=\"matrix(0.50195,0.86877,0.86877,-0.50195,104.56121,55.70738)\"/>\n",
       "<g style=\"fill:rgb(0%,0%,0%);fill-opacity:1;\">\n",
       "  <use xlink:href=\"#glyph-1487623024713064-0-1\" x=\"112.769\" y=\"9.448\"/>\n",
       "  <use xlink:href=\"#glyph-1487623024713064-0-2\" x=\"116.644467\" y=\"9.448\"/>\n",
       "  <use xlink:href=\"#glyph-1487623024713064-0-3\" x=\"121.625787\" y=\"9.448\"/>\n",
       "  <use xlink:href=\"#glyph-1487623024713064-0-4\" x=\"125.531142\" y=\"9.448\"/>\n",
       "  <use xlink:href=\"#glyph-1487623024713064-0-5\" x=\"130.512462\" y=\"9.448\"/>\n",
       "  <use xlink:href=\"#glyph-1487623024713064-0-1\" x=\"134.935874\" y=\"9.448\"/>\n",
       "</g>\n",
       "<g style=\"fill:rgb(0%,0%,0%);fill-opacity:1;\">\n",
       "  <use xlink:href=\"#glyph-1487623024713064-0-6\" x=\"3.321\" y=\"38.247\"/>\n",
       "  <use xlink:href=\"#glyph-1487623024713064-0-7\" x=\"6.369568\" y=\"38.247\"/>\n",
       "  <use xlink:href=\"#glyph-1487623024713064-0-3\" x=\"11.350888\" y=\"38.247\"/>\n",
       "  <use xlink:href=\"#glyph-1487623024713064-0-5\" x=\"15.256243\" y=\"38.247\"/>\n",
       "  <use xlink:href=\"#glyph-1487623024713064-0-8\" x=\"19.679655\" y=\"38.247\"/>\n",
       "  <use xlink:href=\"#glyph-1487623024713064-0-5\" x=\"24.939929\" y=\"38.247\"/>\n",
       "  <use xlink:href=\"#glyph-1487623024713064-0-9\" x=\"29.363341\" y=\"38.247\"/>\n",
       "  <use xlink:href=\"#glyph-1487623024713064-0-7\" x=\"32.132955\" y=\"38.247\"/>\n",
       "  <use xlink:href=\"#glyph-1487623024713064-0-10\" x=\"37.114275\" y=\"38.247\"/>\n",
       "  <use xlink:href=\"#glyph-1487623024713064-0-11\" x=\"41.537687\" y=\"38.247\"/>\n",
       "  <use xlink:href=\"#glyph-1487623024713064-0-1\" x=\"44.307301\" y=\"38.247\"/>\n",
       "  <use xlink:href=\"#glyph-1487623024713064-0-12\" x=\"48.182768\" y=\"38.247\"/>\n",
       "</g>\n",
       "<g style=\"fill:rgb(0%,0%,0%);fill-opacity:1;\">\n",
       "  <use xlink:href=\"#glyph-1487623024713064-0-6\" x=\"67.117\" y=\"39.214\"/>\n",
       "  <use xlink:href=\"#glyph-1487623024713064-0-7\" x=\"70.165568\" y=\"39.214\"/>\n",
       "  <use xlink:href=\"#glyph-1487623024713064-0-3\" x=\"75.146888\" y=\"39.214\"/>\n",
       "  <use xlink:href=\"#glyph-1487623024713064-0-5\" x=\"79.052243\" y=\"39.214\"/>\n",
       "  <use xlink:href=\"#glyph-1487623024713064-0-13\" x=\"83.475655\" y=\"39.214\"/>\n",
       "  <use xlink:href=\"#glyph-1487623024713064-0-11\" x=\"89.014883\" y=\"39.214\"/>\n",
       "  <use xlink:href=\"#glyph-1487623024713064-0-14\" x=\"91.784497\" y=\"39.214\"/>\n",
       "  <use xlink:href=\"#glyph-1487623024713064-0-1\" x=\"95.709777\" y=\"39.214\"/>\n",
       "  <use xlink:href=\"#glyph-1487623024713064-0-2\" x=\"99.585244\" y=\"39.214\"/>\n",
       "  <use xlink:href=\"#glyph-1487623024713064-0-15\" x=\"104.566564\" y=\"39.214\"/>\n",
       "  <use xlink:href=\"#glyph-1487623024713064-0-10\" x=\"110.105792\" y=\"39.214\"/>\n",
       "  <use xlink:href=\"#glyph-1487623024713064-0-5\" x=\"114.529204\" y=\"39.214\"/>\n",
       "</g>\n",
       "<g style=\"fill:rgb(0%,0%,0%);fill-opacity:1;\">\n",
       "  <use xlink:href=\"#glyph-1487623024713064-0-8\" x=\"92.531\" y=\"66.539\"/>\n",
       "  <use xlink:href=\"#glyph-1487623024713064-0-5\" x=\"97.791274\" y=\"66.539\"/>\n",
       "  <use xlink:href=\"#glyph-1487623024713064-0-9\" x=\"102.214686\" y=\"66.539\"/>\n",
       "  <use xlink:href=\"#glyph-1487623024713064-0-7\" x=\"104.9843\" y=\"66.539\"/>\n",
       "  <use xlink:href=\"#glyph-1487623024713064-0-10\" x=\"109.96562\" y=\"66.539\"/>\n",
       "  <use xlink:href=\"#glyph-1487623024713064-0-11\" x=\"114.389032\" y=\"66.539\"/>\n",
       "  <use xlink:href=\"#glyph-1487623024713064-0-1\" x=\"117.158646\" y=\"66.539\"/>\n",
       "  <use xlink:href=\"#glyph-1487623024713064-0-12\" x=\"121.034113\" y=\"66.539\"/>\n",
       "</g>\n",
       "</g>\n",
       "</svg>\n",
       "\n"
      ],
      "text/plain": [
       "BayesNets.BayesNet{BayesNets.CPDs.CategoricalCPD{Distributions.Categorical{Float64}}}({4, 4} directed graph,BayesNets.CPDs.CategoricalCPD{Distributions.Categorical{Float64}}[BayesNets.CPDs.CategoricalCPD{Distributions.Categorical{Float64}}(:target,Symbol[],Int64[],Distributions.Categorical{Float64}[Distributions.Categorical{Float64}(K=2, p=[0.998055,0.00194473])]),BayesNets.CPDs.CategoricalCPD{Distributions.Categorical{Float64}}(:forevelocity,Symbol[],Int64[],Distributions.Categorical{Float64}[Distributions.Categorical{Float64}(K=5, p=[0.2,0.2,0.2,0.2,0.2])]),BayesNets.CPDs.CategoricalCPD{Distributions.Categorical{Float64}}(:foredistance,Symbol[:target],[2],Distributions.Categorical{Float64}[Distributions.Categorical{Float64}(K=5, p=[0.199672,0.199877,0.200185,0.200287,0.199979]),Distributions.Categorical{Float64}(K=5, p=[0.368421,0.263158,0.105263,0.0526316,0.210526])]),BayesNets.CPDs.CategoricalCPD{Distributions.Categorical{Float64}}(:velocity,Symbol[:foredistance,:forevelocity,:target],[5,5,2],Distributions.Categorical{Float64}[Distributions.Categorical{Float64}(K=5, p=[0.912851,0.0768095,0.0103397,0.0,0.0]),Distributions.Categorical{Float64}(K=5, p=[0.853354,0.138846,0.00312012,0.00468019,0.0]),Distributions.Categorical{Float64}(K=5, p=[0.698052,0.220779,0.0746753,0.0,0.00649351]),Distributions.Categorical{Float64}(K=5, p=[0.348958,0.359375,0.1875,0.0625,0.0416667]),Distributions.Categorical{Float64}(K=5, p=[0.0373134,0.320896,0.313433,0.171642,0.156716]),Distributions.Categorical{Float64}(K=5, p=[0.0732394,0.71831,0.2,0.0084507,0.0]),Distributions.Categorical{Float64}(K=5, p=[0.270073,0.642336,0.0788321,0.00583942,0.00291971]),Distributions.Categorical{Float64}(K=5, p=[0.353723,0.289894,0.292553,0.0531915,0.0106383]),Distributions.Categorical{Float64}(K=5, p=[0.156863,0.460784,0.183007,0.183007,0.0163399]),Distributions.Categorical{Float64}(K=5, p=[0.030837,0.127753,0.365639,0.242291,0.23348])  …  Distributions.Categorical{Float64}(K=5, p=[0.0,0.0,1.0,0.0,0.0]),Distributions.Categorical{Float64}(K=5, p=[0.0,0.0,1.0,0.0,0.0]),Distributions.Categorical{Float64}(K=5, p=[0.2,0.2,0.2,0.2,0.2]),Distributions.Categorical{Float64}(K=5, p=[0.2,0.2,0.2,0.2,0.2]),Distributions.Categorical{Float64}(K=5, p=[0.2,0.2,0.2,0.2,0.2]),Distributions.Categorical{Float64}(K=5, p=[0.0,0.0,0.0,0.0,1.0]),Distributions.Categorical{Float64}(K=5, p=[0.2,0.2,0.2,0.2,0.2]),Distributions.Categorical{Float64}(K=5, p=[0.0,0.0,0.0,0.0,1.0]),Distributions.Categorical{Float64}(K=5, p=[0.2,0.2,0.2,0.2,0.2]),Distributions.Categorical{Float64}(K=5, p=[0.333333,0.0,0.0,0.0,0.666667])])],Dict(:velocity=>4,:foredistance=>3,:forevelocity=>2,:target=>1))"
      ]
     },
     "execution_count": 6,
     "metadata": {},
     "output_type": "execute_result"
    }
   ],
   "source": [
    "# fit a bayesnet\n",
    "bn = fit(DiscreteBayesNet, data, \n",
    "    (:target=>:foredistance, \n",
    "    :target=>:velocity,\n",
    "    :foredistance=>:velocity,\n",
    "    :forevelocity=>:velocity)\n",
    ")"
   ]
  },
  {
   "cell_type": "code",
   "execution_count": 7,
   "metadata": {
    "collapsed": false
   },
   "outputs": [],
   "source": [
    "# # could also fit the structure, but skip that for now\n",
    "# params = GreedyHillClimbing(ScoreComponentCache(data), max_n_parents=3, prior=UniformPrior())\n",
    "# bn = fit(DiscreteBayesNet, data, params)"
   ]
  },
  {
   "cell_type": "code",
   "execution_count": 8,
   "metadata": {
    "collapsed": false
   },
   "outputs": [
    {
     "name": "stdout",
     "output_type": "stream",
     "text": [
      "250×5 DataFrames.DataFrame\n",
      "│ Row │ foredistance │ forevelocity │ target │ velocity │ p         │\n",
      "├─────┼──────────────┼──────────────┼────────┼──────────┼───────────┤\n",
      "│ 1   │ 1            │ 1            │ 1      │ 1        │ 0.202851  │\n",
      "│ 2   │ 2            │ 1            │ 1      │ 1        │ 0.853354  │\n",
      "│ 3   │ 3            │ 1            │ 1      │ 1        │ 0.698052  │\n",
      "│ 4   │ 4            │ 1            │ 1      │ 1        │ 0.348958  │\n",
      "│ 5   │ 5            │ 1            │ 1      │ 1        │ 0.0373134 │\n",
      "│ 6   │ 1            │ 2            │ 1      │ 1        │ 0.0732394 │\n",
      "│ 7   │ 2            │ 2            │ 1      │ 1        │ 0.270073  │\n",
      "│ 8   │ 3            │ 2            │ 1      │ 1        │ 0.353723  │\n",
      "│ 9   │ 4            │ 2            │ 1      │ 1        │ 0.156863  │\n",
      "│ 10  │ 5            │ 2            │ 1      │ 1        │ 0.030837  │\n",
      "│ 11  │ 1            │ 3            │ 1      │ 1        │ 0.0       │\n",
      "⋮\n",
      "│ 239 │ 4            │ 3            │ 2      │ 5        │ 0.2       │\n",
      "│ 240 │ 5            │ 3            │ 2      │ 5        │ 0.2       │\n",
      "│ 241 │ 1            │ 4            │ 2      │ 5        │ 0.0       │\n",
      "│ 242 │ 2            │ 4            │ 2      │ 5        │ 0.0       │\n",
      "│ 243 │ 3            │ 4            │ 2      │ 5        │ 0.2       │\n",
      "│ 244 │ 4            │ 4            │ 2      │ 5        │ 0.2       │\n",
      "│ 245 │ 5            │ 4            │ 2      │ 5        │ 0.2       │\n",
      "│ 246 │ 1            │ 5            │ 2      │ 5        │ 1.0       │\n",
      "│ 247 │ 2            │ 5            │ 2      │ 5        │ 0.2       │\n",
      "│ 248 │ 3            │ 5            │ 2      │ 5        │ 1.0       │\n",
      "│ 249 │ 4            │ 5            │ 2      │ 5        │ 0.2       │\n",
      "│ 250 │ 5            │ 5            │ 2      │ 5        │ 0.666667  │\n",
      "10×3 DataFrames.DataFrame\n",
      "│ Row │ target │ foredistance │ p         │\n",
      "├─────┼────────┼──────────────┼───────────┤\n",
      "│ 1   │ 1      │ 1            │ 0.199672  │\n",
      "│ 2   │ 2      │ 1            │ 0.368421  │\n",
      "│ 3   │ 1      │ 2            │ 0.199877  │\n",
      "│ 4   │ 2      │ 2            │ 0.263158  │\n",
      "│ 5   │ 1      │ 3            │ 0.200185  │\n",
      "│ 6   │ 2      │ 3            │ 0.105263  │\n",
      "│ 7   │ 1      │ 4            │ 0.200287  │\n",
      "│ 8   │ 2      │ 4            │ 0.0526316 │\n",
      "│ 9   │ 1      │ 5            │ 0.199979  │\n",
      "│ 10  │ 2      │ 5            │ 0.210526  │\n",
      "5×2 DataFrames.DataFrame\n",
      "│ Row │ forevelocity │ p   │\n",
      "├─────┼──────────────┼─────┤\n",
      "│ 1   │ 1            │ 0.2 │\n",
      "│ 2   │ 2            │ 0.2 │\n",
      "│ 3   │ 3            │ 0.2 │\n",
      "│ 4   │ 4            │ 0.2 │\n",
      "│ 5   │ 5            │ 0.2 │\n",
      "2×2 DataFrames.DataFrame\n",
      "│ Row │ target │ p          │\n",
      "├─────┼────────┼────────────┤\n",
      "│ 1   │ 1      │ 0.998055   │\n",
      "│ 2   │ 2      │ 0.00194473 │\n"
     ]
    }
   ],
   "source": [
    "# report CPDs\n",
    "for k in [:velocity, :foredistance, :forevelocity, :target]\n",
    "    println(table(bn, k))\n",
    "end"
   ]
  },
  {
   "cell_type": "code",
   "execution_count": 9,
   "metadata": {
    "collapsed": false
   },
   "outputs": [
    {
     "name": "stdout",
     "output_type": "stream",
     "text": [
      "1\n",
      "target\n",
      "2\n",
      "forevelocity\n",
      "3\n",
      "foredistance\n",
      "4\n",
      "velocity\n"
     ]
    }
   ],
   "source": [
    "for i in 1:length(bn.cpds)\n",
    "    println(i)\n",
    "    println(bn.cpds[i].target)\n",
    "end\n"
   ]
  },
  {
   "cell_type": "code",
   "execution_count": 10,
   "metadata": {
    "collapsed": false
   },
   "outputs": [],
   "source": [
    "# build continuous distributions\n",
    "v_dists = [Uniform(cutpoints[1][i], cutpoints[1][i+1]) for i in 1:(length(cutpoints[1]) - 1)]\n",
    "d_fore_dists = [Uniform(cutpoints[2][i], cutpoints[2][i+1]) for i in 1:(length(cutpoints[2]) - 1)]\n",
    "v_fore_dists = [Uniform(cutpoints[3][i], cutpoints[3][i+1]) for i in 1:(length(cutpoints[3]) - 1)];"
   ]
  },
  {
   "cell_type": "code",
   "execution_count": 11,
   "metadata": {
    "collapsed": false
   },
   "outputs": [
    {
     "data": {
      "text/plain": [
       "1"
      ]
     },
     "execution_count": 11,
     "metadata": {},
     "output_type": "execute_result"
    }
   ],
   "source": [
    "rand(bn.cpds[1])"
   ]
  },
  {
   "cell_type": "code",
   "execution_count": 20,
   "metadata": {
    "collapsed": false
   },
   "outputs": [
    {
     "data": {
      "text/plain": [
       "generate_lane (generic function with 2 methods)"
      ]
     },
     "execution_count": 20,
     "metadata": {},
     "output_type": "execute_result"
    }
   ],
   "source": [
    "# generate a lane\n",
    "function generate_lane(num_veh = 10)\n",
    "    t_cpd_idx = 1\n",
    "    fore_v_cpd_idx = 2\n",
    "    fore_d_cpd_idx = 3\n",
    "    v_cpd_idx = 4\n",
    "    v_cpd = bn.cpds[v_cpd_idx]\n",
    "    states = zeros(num_veh, 4)\n",
    "\n",
    "    # sample the initial car\n",
    "    state = rand(bn)\n",
    "    v, fore_d, fore_v, t = state[:velocity], state[:foredistance], state[:forevelocity], state[:target]\n",
    "    states[1, 1] = rand(v_dists[v])\n",
    "    states[1, 2] = rand(d_fore_dists[fore_d])\n",
    "    states[1, 3] = rand(v_fore_dists[fore_v])\n",
    "    states[1, 4] = t\n",
    "\n",
    "    for veh_idx in 2:num_veh\n",
    "        # sample the target\n",
    "        t = rand(bn.cpds[t_cpd_idx])\n",
    "        \n",
    "        # sample the distance bin\n",
    "        fore_d = rand(bn.cpds[fore_d_cpd_idx], :target=>t)\n",
    "\n",
    "        # sample the velocity bin\n",
    "        v = rand(bn.cpds[v_cpd_idx], :forevelocity=>fore_v, :foredistance=>fore_d, :target=>t)\n",
    "\n",
    "        # sample the float values uniformly\n",
    "        states[veh_idx, 1] = rand(v_dists[v])\n",
    "        states[veh_idx, 2] = rand(d_fore_dists[fore_d])\n",
    "        states[veh_idx, 3] = rand(v_fore_dists[fore_v])\n",
    "        states[veh_idx, 4] = t\n",
    "\n",
    "        # replace the fore velocity with the current one\n",
    "        fore_v = v\n",
    "    end\n",
    "    return states\n",
    "end"
   ]
  },
  {
   "cell_type": "code",
   "execution_count": 21,
   "metadata": {
    "collapsed": false
   },
   "outputs": [
    {
     "data": {
      "text/plain": [
       "get_features (generic function with 1 method)"
      ]
     },
     "execution_count": 21,
     "metadata": {},
     "output_type": "execute_result"
    }
   ],
   "source": [
    "# scene feature extractors\n",
    "function get_features(scene::Scene, roadway::Roadway)\n",
    "    # feature containers, censors\n",
    "    timegaps = zeros(Float64, length(scene))\n",
    "    timegap_censor_hi = 10.\n",
    "    ttcs = zeros(Float64, length(scene))\n",
    "    ttc_censor_hi = 30.\n",
    "    velocities = zeros(Float64, length(scene))\n",
    "    distance_fores = zeros(Float64, length(scene))\n",
    "    distance_fore_censor_hi = 100.\n",
    "    \n",
    "    for veh_idx in 1:length(scene)\n",
    "        ego_veh = scene.vehicles[veh_idx]\n",
    "        velocities[veh_idx] = ego_veh.state.v\n",
    "        \n",
    "        neigh = get_neighbor_fore_along_lane(scene, veh_idx, roadway)\n",
    "        \n",
    "        # if the fore vehicle does not exist then set as censor high\n",
    "        if neigh.ind == 0\n",
    "            timegaps[veh_idx] = timegap_censor_hi\n",
    "            distance_fores[veh_idx] = distance_fore_censor_hi\n",
    "            ttcs[veh_idx] = ttc_censor_hi\n",
    "        else\n",
    "            # get both vehicles \n",
    "            rear_veh = scene.vehicles[veh_idx]\n",
    "            fore_veh = scene.vehicles[neigh.ind]\n",
    "            \n",
    "            # want the time for the rear vehicle's front to reach the fore vehicle's back\n",
    "            v = rear_veh.state.v\n",
    "            \n",
    "            # first term is distance between centers\n",
    "            # second moves from fore vehicle center to back bumper\n",
    "            # third moves from rear vehicle center to front bumper\n",
    "            Δs = (fore_veh.state.posF.s - rear_veh.state.posF.s) - (fore_veh.def.length / 2) - (rear_veh.def.length / 2)\n",
    "            timegaps[veh_idx] = min(Δs / v, timegap_censor_hi)\n",
    "            \n",
    "            # distance fore\n",
    "            distance_fores[veh_idx] = min(Δs, distance_fore_censor_hi)\n",
    "            \n",
    "            # time to collision\n",
    "            Δv = fore_veh.state.v - rear_veh.state.v\n",
    "            if Δv < 0.\n",
    "                ttcs[veh_idx] = min(max(-1 * Δs / Δv, 0.), ttc_censor_hi)\n",
    "            else # this means fore vehicle moving away too quickly\n",
    "                ttcs[veh_idx] = ttc_censor_hi\n",
    "            end\n",
    "            \n",
    "        end\n",
    "    end\n",
    "    return timegaps, ttcs, velocities, distance_fores\n",
    "end"
   ]
  },
  {
   "cell_type": "code",
   "execution_count": 30,
   "metadata": {
    "collapsed": false,
    "scrolled": false
   },
   "outputs": [
    {
     "data": {
      "text/html": [],
      "text/plain": [
       "Interact.Options{:ToggleButtons,Int64}(Signal{Int64}(1, nactions=1),\"veh_idx\",1,\"1\",Interact.OptionDict(DataStructures.OrderedDict(\"1\"=>1,\"2\"=>2,\"3\"=>3,\"4\"=>4,\"5\"=>5,\"6\"=>6,\"7\"=>7,\"8\"=>8,\"9\"=>9,\"10\"=>10…),Dict(68=>\"68\",2=>\"2\",89=>\"89\",11=>\"11\",39=>\"39\",46=>\"46\",85=>\"85\",25=>\"25\",55=>\"55\",42=>\"42\"…)),Any[],Any[],true,\"horizontal\")"
      ]
     },
     "metadata": {},
     "output_type": "display_data"
    },
    {
     "data": {
      "text/html": [],
      "text/plain": [
       "Interact.Options{:ToggleButtons,Int64}(Signal{Int64}(1, nactions=1),\"lane_idx\",1,\"1\",Interact.OptionDict(DataStructures.OrderedDict(\"1\"=>1,\"2\"=>2,\"3\"=>3,\"4\"=>4),Dict(4=>\"4\",2=>\"2\",3=>\"3\",1=>\"1\")),Any[],Any[],true,\"horizontal\")"
      ]
     },
     "metadata": {},
     "output_type": "display_data"
    },
    {
     "data": {
      "text/html": [],
      "text/plain": [
       "Interact.Options{:ToggleButtons,Float64}(Signal{Float64}(1.0, nactions=1),\"zoom\",1.0,\"1.0\",Interact.OptionDict(DataStructures.OrderedDict(\"1.0\"=>1.0,\"2.0\"=>2.0,\"3.0\"=>3.0,\"4.0\"=>4.0,\"5.0\"=>5.0,\"6.0\"=>6.0,\"7.0\"=>7.0,\"8.0\"=>8.0,\"9.0\"=>9.0,\"10.0\"=>10.0…),Dict(7.0=>\"7.0\",4.0=>\"4.0\",9.0=>\"9.0\",10.0=>\"10.0\",2.0=>\"2.0\",3.0=>\"3.0\",5.0=>\"5.0\",8.0=>\"8.0\",6.0=>\"6.0\",1.0=>\"1.0\"…)),Any[],Any[],true,\"horizontal\")"
      ]
     },
     "metadata": {},
     "output_type": "display_data"
    },
    {
     "data": {
      "image/png": "[encoded data removed]",
      "text/plain": [
       "Cairo.CairoSurface{UInt32}(Ptr{Void} @0x00007fccac3bae90,1000.0,600.0,#undef)"
      ]
     },
     "execution_count": 30,
     "metadata": {
      "comm_id": "89eda1e0-ba56-4207-96bc-1db5c54509f0",
      "reactive": true
     },
     "output_type": "execute_result"
    }
   ],
   "source": [
    "# populate and display a scene\n",
    "num_lanes = 4\n",
    "num_veh = 100\n",
    "num_scenes = 1000\n",
    "roadway_length = 10000.\n",
    "roadway = gen_straight_roadway(num_lanes, roadway_length)\n",
    "\n",
    "# track features \n",
    "emergent = Dict{String, Array{Float64}}()\n",
    "emergent[\"timegap\"] = zeros(Float64, num_scenes * num_veh * num_lanes)\n",
    "emergent[\"ttc\"] = zeros(Float64, num_scenes * num_veh * num_lanes)\n",
    "emergent[\"velocity\"] = zeros(Float64, num_scenes * num_veh * num_lanes)\n",
    "emergent[\"distance_fore\"] = zeros(Float64, num_scenes * num_veh * num_lanes)\n",
    "\n",
    "# unpack indices\n",
    "v_idx, fore_d_idx, fore_v_idx, t_idx = 1, 2, 3, 4\n",
    "\n",
    "# build the scene\n",
    "scene = Scene(num_veh * num_lanes)\n",
    "carcolors = Dict{Int,Colorant}()\n",
    "for scene_idx in 1:num_scenes\n",
    "    empty!(scene)\n",
    "    for lane_idx in 1:num_lanes\n",
    "        states = generate_lane(num_veh)\n",
    "        remaining_length = roadway_length * 2. / 3.\n",
    "        for veh_idx in 1:num_veh\n",
    "            veh_id = veh_idx + (lane_idx - 1) * num_veh\n",
    "            # if this car was sampled as a hard brake, then color it\n",
    "            if states[veh_idx, t_idx] == 2\n",
    "                carcolors[veh_id] = colorant\"red\"\n",
    "            else\n",
    "                carcolors[veh_id] = colorant\"green\"\n",
    "            end\n",
    "            \n",
    "            remaining_length -= states[veh_idx, fore_d_idx]\n",
    "            if remaining_length > 0\n",
    "                road_idx = RoadIndex(proj(VecSE2(0.0, 3. * (lane_idx-1), 0.0), roadway))\n",
    "                base_speed = states[veh_idx, v_idx]\n",
    "                veh_state = VehicleState(Frenet(road_idx, roadway), roadway, base_speed)\n",
    "                veh_state = move_along(veh_state, roadway, remaining_length)\n",
    "                veh_def = VehicleDef(veh_id, AgentClass.CAR, 5., 2.)\n",
    "                push!(scene, Vehicle(veh_state, veh_def))\n",
    "            else\n",
    "                break\n",
    "            end\n",
    "        end\n",
    "    end\n",
    "    # compute features of scene\n",
    "    timegaps, ttcs, velocities, distance_fores = get_features(scene, roadway)\n",
    "    s = (scene_idx - 1) * num_lanes * num_veh\n",
    "    e = s + num_lanes * num_veh\n",
    "    emergent[\"timegap\"][s+1:e] = timegaps\n",
    "    emergent[\"ttc\"][s+1:e] = ttcs\n",
    "    emergent[\"velocity\"][s+1:e] = velocities\n",
    "    emergent[\"distance_fore\"][s+1:e] = distance_fores\n",
    "end\n",
    "\n",
    "# or just look at it\n",
    "@manipulate for veh_idx in collect(1:num_veh),\n",
    "                lane_idx in collect(1:num_lanes),\n",
    "              zoom in collect(1:10.)\n",
    "    veh_id = veh_idx + (lane_idx - 1) * num_veh\n",
    "    stats = [CarFollowingStatsOverlay(veh_id, 2), \n",
    "        NeighborsOverlay(veh_id, textparams = TextParams(x = 600, y_start=300))]\n",
    "        \n",
    "    render(scene, roadway, stats, cam = CarFollowCamera(veh_id, zoom), car_colors = carcolors)\n",
    "end"
   ]
  },
  {
   "cell_type": "code",
   "execution_count": 31,
   "metadata": {
    "collapsed": false
   },
   "outputs": [
    {
     "data": {
      "image/svg+xml": [
       "<?xml version=\"1.0\" encoding=\"UTF-8\"?>\n",
       "<svg xmlns=\"http://www.w3.org/2000/svg\" xmlns:xlink=\"http://www.w3.org/1999/xlink\" width=\"660.024pt\" height=\"554.607pt\" viewBox=\"0 0 660.024 554.607\" version=\"1.1\">\n",
       "<defs>\n",
       "<g>\n",
       "<symbol overflow=\"visible\" id=\"glyph-1487623024713066-0-0\">\n",
       "<path style=\"stroke:none;\" d=\"\"/>\n",
       "</symbol>\n",
       "<symbol overflow=\"visible\" id=\"glyph-1487623024713066-0-1\">\n",
       "<path style=\"stroke:none;\" d=\"M 6.5625 -2.296875 C 6.734375 -2.296875 6.921875 -2.296875 6.921875 -2.5 C 6.921875 -2.6875 6.734375 -2.6875 6.5625 -2.6875 L 1.171875 -2.6875 C 1 -2.6875 0.828125 -2.6875 0.828125 -2.5 C 0.828125 -2.296875 1 -2.296875 1.171875 -2.296875 Z M 6.5625 -2.296875 \"/>\n",
       "</symbol>\n",
       "<symbol overflow=\"visible\" id=\"glyph-1487623024713066-0-2\">\n",
       "<path style=\"stroke:none;\" d=\"M 1.90625 -2.5 C 1.90625 -2.78125 1.671875 -3.015625 1.390625 -3.015625 C 1.09375 -3.015625 0.859375 -2.78125 0.859375 -2.5 C 0.859375 -2.203125 1.09375 -1.96875 1.390625 -1.96875 C 1.671875 -1.96875 1.90625 -2.203125 1.90625 -2.5 Z M 1.90625 -2.5 \"/>\n",
       "</symbol>\n",
       "<symbol overflow=\"visible\" id=\"glyph-1487623024713066-1-0\">\n",
       "<path style=\"stroke:none;\" d=\"\"/>\n",
       "</symbol>\n",
       "<symbol overflow=\"visible\" id=\"glyph-1487623024713066-1-1\">\n",
       "<path style=\"stroke:none;\" d=\"M 2.9375 -1.640625 L 2.9375 -0.78125 C 2.9375 -0.421875 2.90625 -0.3125 2.171875 -0.3125 L 1.96875 -0.3125 L 1.96875 0 C 2.375 -0.03125 2.890625 -0.03125 3.3125 -0.03125 C 3.734375 -0.03125 4.25 -0.03125 4.671875 0 L 4.671875 -0.3125 L 4.453125 -0.3125 C 3.71875 -0.3125 3.703125 -0.421875 3.703125 -0.78125 L 3.703125 -1.640625 L 4.6875 -1.640625 L 4.6875 -1.953125 L 3.703125 -1.953125 L 3.703125 -6.484375 C 3.703125 -6.6875 3.703125 -6.75 3.53125 -6.75 C 3.453125 -6.75 3.421875 -6.75 3.34375 -6.625 L 0.28125 -1.953125 L 0.28125 -1.640625 Z M 2.984375 -1.953125 L 0.5625 -1.953125 L 2.984375 -5.671875 Z M 2.984375 -1.953125 \"/>\n",
       "</symbol>\n",
       "<symbol overflow=\"visible\" id=\"glyph-1487623024713066-1-2\">\n",
       "<path style=\"stroke:none;\" d=\"M 1.265625 -0.765625 L 2.328125 -1.796875 C 3.875 -3.171875 4.46875 -3.703125 4.46875 -4.703125 C 4.46875 -5.84375 3.578125 -6.640625 2.359375 -6.640625 C 1.234375 -6.640625 0.5 -5.71875 0.5 -4.828125 C 0.5 -4.28125 1 -4.28125 1.03125 -4.28125 C 1.203125 -4.28125 1.546875 -4.390625 1.546875 -4.8125 C 1.546875 -5.0625 1.359375 -5.328125 1.015625 -5.328125 C 0.9375 -5.328125 0.921875 -5.328125 0.890625 -5.3125 C 1.109375 -5.96875 1.65625 -6.328125 2.234375 -6.328125 C 3.140625 -6.328125 3.5625 -5.515625 3.5625 -4.703125 C 3.5625 -3.90625 3.078125 -3.125 2.515625 -2.5 L 0.609375 -0.375 C 0.5 -0.265625 0.5 -0.234375 0.5 0 L 4.203125 0 L 4.46875 -1.734375 L 4.234375 -1.734375 C 4.171875 -1.4375 4.109375 -1 4 -0.84375 C 3.9375 -0.765625 3.28125 -0.765625 3.0625 -0.765625 Z M 1.265625 -0.765625 \"/>\n",
       "</symbol>\n",
       "<symbol overflow=\"visible\" id=\"glyph-1487623024713066-1-3\">\n",
       "<path style=\"stroke:none;\" d=\"M 4.578125 -3.1875 C 4.578125 -3.984375 4.53125 -4.78125 4.1875 -5.515625 C 3.734375 -6.484375 2.90625 -6.640625 2.5 -6.640625 C 1.890625 -6.640625 1.171875 -6.375 0.75 -5.453125 C 0.4375 -4.765625 0.390625 -3.984375 0.390625 -3.1875 C 0.390625 -2.4375 0.421875 -1.546875 0.84375 -0.78125 C 1.265625 0.015625 2 0.21875 2.484375 0.21875 C 3.015625 0.21875 3.78125 0.015625 4.21875 -0.9375 C 4.53125 -1.625 4.578125 -2.40625 4.578125 -3.1875 Z M 2.484375 0 C 2.09375 0 1.5 -0.25 1.328125 -1.203125 C 1.21875 -1.796875 1.21875 -2.71875 1.21875 -3.3125 C 1.21875 -3.953125 1.21875 -4.609375 1.296875 -5.140625 C 1.484375 -6.328125 2.234375 -6.421875 2.484375 -6.421875 C 2.8125 -6.421875 3.46875 -6.234375 3.65625 -5.25 C 3.765625 -4.6875 3.765625 -3.9375 3.765625 -3.3125 C 3.765625 -2.5625 3.765625 -1.890625 3.65625 -1.25 C 3.5 -0.296875 2.9375 0 2.484375 0 Z M 2.484375 0 \"/>\n",
       "</symbol>\n",
       "<symbol overflow=\"visible\" id=\"glyph-1487623024713066-1-4\">\n",
       "<path style=\"stroke:none;\" d=\"M 1.3125 -3.265625 L 1.3125 -3.515625 C 1.3125 -6.03125 2.546875 -6.390625 3.0625 -6.390625 C 3.296875 -6.390625 3.71875 -6.328125 3.9375 -5.984375 C 3.78125 -5.984375 3.390625 -5.984375 3.390625 -5.546875 C 3.390625 -5.234375 3.625 -5.078125 3.84375 -5.078125 C 4 -5.078125 4.3125 -5.171875 4.3125 -5.5625 C 4.3125 -6.15625 3.875 -6.640625 3.046875 -6.640625 C 1.765625 -6.640625 0.421875 -5.359375 0.421875 -3.15625 C 0.421875 -0.484375 1.578125 0.21875 2.5 0.21875 C 3.609375 0.21875 4.5625 -0.71875 4.5625 -2.03125 C 4.5625 -3.296875 3.671875 -4.25 2.5625 -4.25 C 1.890625 -4.25 1.515625 -3.75 1.3125 -3.265625 Z M 2.5 -0.0625 C 1.875 -0.0625 1.578125 -0.65625 1.515625 -0.8125 C 1.328125 -1.28125 1.328125 -2.078125 1.328125 -2.25 C 1.328125 -3.03125 1.65625 -4.03125 2.546875 -4.03125 C 2.71875 -4.03125 3.171875 -4.03125 3.484375 -3.40625 C 3.65625 -3.046875 3.65625 -2.53125 3.65625 -2.046875 C 3.65625 -1.5625 3.65625 -1.0625 3.484375 -0.703125 C 3.1875 -0.109375 2.734375 -0.0625 2.5 -0.0625 Z M 2.5 -0.0625 \"/>\n",
       "</symbol>\n",
       "<symbol overflow=\"visible\" id=\"glyph-1487623024713066-1-5\">\n",
       "<path style=\"stroke:none;\" d=\"M 1.625 -4.5625 C 1.171875 -4.859375 1.125 -5.1875 1.125 -5.359375 C 1.125 -5.96875 1.78125 -6.390625 2.484375 -6.390625 C 3.203125 -6.390625 3.84375 -5.875 3.84375 -5.15625 C 3.84375 -4.578125 3.453125 -4.109375 2.859375 -3.765625 Z M 3.078125 -3.609375 C 3.796875 -3.984375 4.28125 -4.5 4.28125 -5.15625 C 4.28125 -6.078125 3.40625 -6.640625 2.5 -6.640625 C 1.5 -6.640625 0.6875 -5.90625 0.6875 -4.96875 C 0.6875 -4.796875 0.703125 -4.34375 1.125 -3.875 C 1.234375 -3.765625 1.609375 -3.515625 1.859375 -3.34375 C 1.28125 -3.046875 0.421875 -2.5 0.421875 -1.5 C 0.421875 -0.453125 1.4375 0.21875 2.484375 0.21875 C 3.609375 0.21875 4.5625 -0.609375 4.5625 -1.671875 C 4.5625 -2.03125 4.453125 -2.484375 4.0625 -2.90625 C 3.875 -3.109375 3.71875 -3.203125 3.078125 -3.609375 Z M 2.078125 -3.1875 L 3.3125 -2.40625 C 3.59375 -2.21875 4.0625 -1.921875 4.0625 -1.3125 C 4.0625 -0.578125 3.3125 -0.0625 2.5 -0.0625 C 1.640625 -0.0625 0.921875 -0.671875 0.921875 -1.5 C 0.921875 -2.078125 1.234375 -2.71875 2.078125 -3.1875 Z M 2.078125 -3.1875 \"/>\n",
       "</symbol>\n",
       "<symbol overflow=\"visible\" id=\"glyph-1487623024713066-1-6\">\n",
       "<path style=\"stroke:none;\" d=\"M 2.9375 -6.375 C 2.9375 -6.625 2.9375 -6.640625 2.703125 -6.640625 C 2.078125 -6 1.203125 -6 0.890625 -6 L 0.890625 -5.6875 C 1.09375 -5.6875 1.671875 -5.6875 2.1875 -5.953125 L 2.1875 -0.78125 C 2.1875 -0.421875 2.15625 -0.3125 1.265625 -0.3125 L 0.953125 -0.3125 L 0.953125 0 C 1.296875 -0.03125 2.15625 -0.03125 2.5625 -0.03125 C 2.953125 -0.03125 3.828125 -0.03125 4.171875 0 L 4.171875 -0.3125 L 3.859375 -0.3125 C 2.953125 -0.3125 2.9375 -0.421875 2.9375 -0.78125 Z M 2.9375 -6.375 \"/>\n",
       "</symbol>\n",
       "<symbol overflow=\"visible\" id=\"glyph-1487623024713066-1-7\">\n",
       "<path style=\"stroke:none;\" d=\"M 6.640625 -6.75 L 0.546875 -6.75 L 0.359375 -4.5 L 0.609375 -4.5 C 0.75 -6.109375 0.890625 -6.4375 2.40625 -6.4375 C 2.578125 -6.4375 2.84375 -6.4375 2.9375 -6.421875 C 3.15625 -6.375 3.15625 -6.265625 3.15625 -6.046875 L 3.15625 -0.78125 C 3.15625 -0.453125 3.15625 -0.3125 2.109375 -0.3125 L 1.703125 -0.3125 L 1.703125 0 C 2.109375 -0.03125 3.125 -0.03125 3.59375 -0.03125 C 4.046875 -0.03125 5.078125 -0.03125 5.484375 0 L 5.484375 -0.3125 L 5.078125 -0.3125 C 4.03125 -0.3125 4.03125 -0.453125 4.03125 -0.78125 L 4.03125 -6.046875 C 4.03125 -6.234375 4.03125 -6.375 4.21875 -6.421875 C 4.328125 -6.4375 4.59375 -6.4375 4.78125 -6.4375 C 6.296875 -6.4375 6.4375 -6.109375 6.578125 -4.5 L 6.828125 -4.5 Z M 6.640625 -6.75 \"/>\n",
       "</symbol>\n",
       "<symbol overflow=\"visible\" id=\"glyph-1487623024713066-1-8\">\n",
       "<path style=\"stroke:none;\" d=\"M 1.765625 -4.40625 L 0.375 -4.296875 L 0.375 -3.984375 C 1.015625 -3.984375 1.109375 -3.921875 1.109375 -3.4375 L 1.109375 -0.75 C 1.109375 -0.3125 1 -0.3125 0.328125 -0.3125 L 0.328125 0 C 0.640625 -0.015625 1.1875 -0.03125 1.421875 -0.03125 C 1.78125 -0.03125 2.125 -0.015625 2.46875 0 L 2.46875 -0.3125 C 1.796875 -0.3125 1.765625 -0.359375 1.765625 -0.75 Z M 1.796875 -6.140625 C 1.796875 -6.453125 1.5625 -6.671875 1.28125 -6.671875 C 0.96875 -6.671875 0.75 -6.40625 0.75 -6.140625 C 0.75 -5.875 0.96875 -5.609375 1.28125 -5.609375 C 1.5625 -5.609375 1.796875 -5.828125 1.796875 -6.140625 Z M 1.796875 -6.140625 \"/>\n",
       "</symbol>\n",
       "<symbol overflow=\"visible\" id=\"glyph-1487623024713066-1-9\">\n",
       "<path style=\"stroke:none;\" d=\"M 1.09375 -3.421875 L 1.09375 -0.75 C 1.09375 -0.3125 0.984375 -0.3125 0.3125 -0.3125 L 0.3125 0 C 0.671875 -0.015625 1.171875 -0.03125 1.453125 -0.03125 C 1.703125 -0.03125 2.21875 -0.015625 2.5625 0 L 2.5625 -0.3125 C 1.890625 -0.3125 1.78125 -0.3125 1.78125 -0.75 L 1.78125 -2.59375 C 1.78125 -3.625 2.5 -4.1875 3.125 -4.1875 C 3.765625 -4.1875 3.875 -3.65625 3.875 -3.078125 L 3.875 -0.75 C 3.875 -0.3125 3.765625 -0.3125 3.09375 -0.3125 L 3.09375 0 C 3.4375 -0.015625 3.953125 -0.03125 4.21875 -0.03125 C 4.46875 -0.03125 5 -0.015625 5.328125 0 L 5.328125 -0.3125 C 4.671875 -0.3125 4.5625 -0.3125 4.5625 -0.75 L 4.5625 -2.59375 C 4.5625 -3.625 5.265625 -4.1875 5.90625 -4.1875 C 6.53125 -4.1875 6.640625 -3.65625 6.640625 -3.078125 L 6.640625 -0.75 C 6.640625 -0.3125 6.53125 -0.3125 5.859375 -0.3125 L 5.859375 0 C 6.203125 -0.015625 6.71875 -0.03125 6.984375 -0.03125 C 7.25 -0.03125 7.765625 -0.015625 8.109375 0 L 8.109375 -0.3125 C 7.59375 -0.3125 7.34375 -0.3125 7.328125 -0.609375 L 7.328125 -2.515625 C 7.328125 -3.375 7.328125 -3.671875 7.015625 -4.03125 C 6.875 -4.203125 6.546875 -4.40625 5.96875 -4.40625 C 5.140625 -4.40625 4.6875 -3.8125 4.53125 -3.421875 C 4.390625 -4.296875 3.65625 -4.40625 3.203125 -4.40625 C 2.46875 -4.40625 2 -3.984375 1.71875 -3.359375 L 1.71875 -4.40625 L 0.3125 -4.296875 L 0.3125 -3.984375 C 1.015625 -3.984375 1.09375 -3.921875 1.09375 -3.421875 Z M 1.09375 -3.421875 \"/>\n",
       "</symbol>\n",
       "<symbol overflow=\"visible\" id=\"glyph-1487623024713066-1-10\">\n",
       "<path style=\"stroke:none;\" d=\"M 1.109375 -2.515625 C 1.171875 -4 2.015625 -4.25 2.359375 -4.25 C 3.375 -4.25 3.484375 -2.90625 3.484375 -2.515625 Z M 1.109375 -2.296875 L 3.890625 -2.296875 C 4.109375 -2.296875 4.140625 -2.296875 4.140625 -2.515625 C 4.140625 -3.5 3.59375 -4.46875 2.359375 -4.46875 C 1.203125 -4.46875 0.28125 -3.4375 0.28125 -2.1875 C 0.28125 -0.859375 1.328125 0.109375 2.46875 0.109375 C 3.6875 0.109375 4.140625 -1 4.140625 -1.1875 C 4.140625 -1.28125 4.0625 -1.3125 4 -1.3125 C 3.921875 -1.3125 3.890625 -1.25 3.875 -1.171875 C 3.53125 -0.140625 2.625 -0.140625 2.53125 -0.140625 C 2.03125 -0.140625 1.640625 -0.4375 1.40625 -0.8125 C 1.109375 -1.28125 1.109375 -1.9375 1.109375 -2.296875 Z M 1.109375 -2.296875 \"/>\n",
       "</symbol>\n",
       "<symbol overflow=\"visible\" id=\"glyph-1487623024713066-1-11\">\n",
       "<path style=\"stroke:none;\" d=\"M 2.21875 -1.71875 C 1.34375 -1.71875 1.34375 -2.71875 1.34375 -2.9375 C 1.34375 -3.203125 1.359375 -3.53125 1.5 -3.78125 C 1.578125 -3.890625 1.8125 -4.171875 2.21875 -4.171875 C 3.078125 -4.171875 3.078125 -3.1875 3.078125 -2.953125 C 3.078125 -2.6875 3.078125 -2.359375 2.921875 -2.109375 C 2.84375 -2 2.609375 -1.71875 2.21875 -1.71875 Z M 1.0625 -1.328125 C 1.0625 -1.359375 1.0625 -1.59375 1.21875 -1.796875 C 1.609375 -1.515625 2.03125 -1.484375 2.21875 -1.484375 C 3.140625 -1.484375 3.828125 -2.171875 3.828125 -2.9375 C 3.828125 -3.3125 3.671875 -3.671875 3.421875 -3.90625 C 3.78125 -4.25 4.140625 -4.296875 4.3125 -4.296875 C 4.34375 -4.296875 4.390625 -4.296875 4.421875 -4.28125 C 4.3125 -4.25 4.25 -4.140625 4.25 -4.015625 C 4.25 -3.84375 4.390625 -3.734375 4.546875 -3.734375 C 4.640625 -3.734375 4.828125 -3.796875 4.828125 -4.03125 C 4.828125 -4.203125 4.71875 -4.515625 4.328125 -4.515625 C 4.125 -4.515625 3.6875 -4.453125 3.265625 -4.046875 C 2.84375 -4.375 2.4375 -4.40625 2.21875 -4.40625 C 1.28125 -4.40625 0.59375 -3.71875 0.59375 -2.953125 C 0.59375 -2.515625 0.8125 -2.140625 1.0625 -1.921875 C 0.9375 -1.78125 0.75 -1.453125 0.75 -1.09375 C 0.75 -0.78125 0.890625 -0.40625 1.203125 -0.203125 C 0.59375 -0.046875 0.28125 0.390625 0.28125 0.78125 C 0.28125 1.5 1.265625 2.046875 2.484375 2.046875 C 3.65625 2.046875 4.6875 1.546875 4.6875 0.765625 C 4.6875 0.421875 4.5625 -0.09375 4.046875 -0.375 C 3.515625 -0.640625 2.9375 -0.640625 2.328125 -0.640625 C 2.078125 -0.640625 1.65625 -0.640625 1.578125 -0.65625 C 1.265625 -0.703125 1.0625 -1 1.0625 -1.328125 Z M 2.5 1.828125 C 1.484375 1.828125 0.796875 1.3125 0.796875 0.78125 C 0.796875 0.328125 1.171875 -0.046875 1.609375 -0.0625 L 2.203125 -0.0625 C 3.0625 -0.0625 4.171875 -0.0625 4.171875 0.78125 C 4.171875 1.328125 3.46875 1.828125 2.5 1.828125 Z M 2.5 1.828125 \"/>\n",
       "</symbol>\n",
       "<symbol overflow=\"visible\" id=\"glyph-1487623024713066-1-12\">\n",
       "<path style=\"stroke:none;\" d=\"M 3.3125 -0.75 C 3.359375 -0.359375 3.625 0.0625 4.09375 0.0625 C 4.3125 0.0625 4.921875 -0.078125 4.921875 -0.890625 L 4.921875 -1.453125 L 4.671875 -1.453125 L 4.671875 -0.890625 C 4.671875 -0.3125 4.421875 -0.25 4.3125 -0.25 C 3.984375 -0.25 3.9375 -0.703125 3.9375 -0.75 L 3.9375 -2.734375 C 3.9375 -3.15625 3.9375 -3.546875 3.578125 -3.921875 C 3.1875 -4.3125 2.6875 -4.46875 2.21875 -4.46875 C 1.390625 -4.46875 0.703125 -4 0.703125 -3.34375 C 0.703125 -3.046875 0.90625 -2.875 1.171875 -2.875 C 1.453125 -2.875 1.625 -3.078125 1.625 -3.328125 C 1.625 -3.453125 1.578125 -3.78125 1.109375 -3.78125 C 1.390625 -4.140625 1.875 -4.25 2.1875 -4.25 C 2.6875 -4.25 3.25 -3.859375 3.25 -2.96875 L 3.25 -2.609375 C 2.734375 -2.578125 2.046875 -2.546875 1.421875 -2.25 C 0.671875 -1.90625 0.421875 -1.390625 0.421875 -0.953125 C 0.421875 -0.140625 1.390625 0.109375 2.015625 0.109375 C 2.671875 0.109375 3.125 -0.296875 3.3125 -0.75 Z M 3.25 -2.390625 L 3.25 -1.390625 C 3.25 -0.453125 2.53125 -0.109375 2.078125 -0.109375 C 1.59375 -0.109375 1.1875 -0.453125 1.1875 -0.953125 C 1.1875 -1.5 1.609375 -2.328125 3.25 -2.390625 Z M 3.25 -2.390625 \"/>\n",
       "</symbol>\n",
       "<symbol overflow=\"visible\" id=\"glyph-1487623024713066-1-13\">\n",
       "<path style=\"stroke:none;\" d=\"M 1.71875 -3.75 L 1.71875 -4.40625 L 0.28125 -4.296875 L 0.28125 -3.984375 C 0.984375 -3.984375 1.0625 -3.921875 1.0625 -3.484375 L 1.0625 1.171875 C 1.0625 1.625 0.953125 1.625 0.28125 1.625 L 0.28125 1.9375 C 0.625 1.921875 1.140625 1.90625 1.390625 1.90625 C 1.671875 1.90625 2.171875 1.921875 2.515625 1.9375 L 2.515625 1.625 C 1.859375 1.625 1.75 1.625 1.75 1.171875 L 1.75 -0.59375 C 1.796875 -0.421875 2.21875 0.109375 2.96875 0.109375 C 4.15625 0.109375 5.1875 -0.875 5.1875 -2.15625 C 5.1875 -3.421875 4.234375 -4.40625 3.109375 -4.40625 C 2.328125 -4.40625 1.90625 -3.96875 1.71875 -3.75 Z M 1.75 -1.140625 L 1.75 -3.359375 C 2.03125 -3.875 2.515625 -4.15625 3.03125 -4.15625 C 3.765625 -4.15625 4.359375 -3.28125 4.359375 -2.15625 C 4.359375 -0.953125 3.671875 -0.109375 2.9375 -0.109375 C 2.53125 -0.109375 2.15625 -0.3125 1.890625 -0.71875 C 1.75 -0.921875 1.75 -0.9375 1.75 -1.140625 Z M 1.75 -1.140625 \"/>\n",
       "</symbol>\n",
       "<symbol overflow=\"visible\" id=\"glyph-1487623024713066-1-14\">\n",
       "<path style=\"stroke:none;\" d=\"M 4.46875 -2 C 4.46875 -3.1875 3.65625 -4.1875 2.578125 -4.1875 C 2.109375 -4.1875 1.671875 -4.03125 1.3125 -3.671875 L 1.3125 -5.625 C 1.515625 -5.5625 1.84375 -5.5 2.15625 -5.5 C 3.390625 -5.5 4.09375 -6.40625 4.09375 -6.53125 C 4.09375 -6.59375 4.0625 -6.640625 3.984375 -6.640625 C 3.984375 -6.640625 3.953125 -6.640625 3.90625 -6.609375 C 3.703125 -6.515625 3.21875 -6.3125 2.546875 -6.3125 C 2.15625 -6.3125 1.6875 -6.390625 1.21875 -6.59375 C 1.140625 -6.625 1.125 -6.625 1.109375 -6.625 C 1 -6.625 1 -6.546875 1 -6.390625 L 1 -3.4375 C 1 -3.265625 1 -3.1875 1.140625 -3.1875 C 1.21875 -3.1875 1.234375 -3.203125 1.28125 -3.265625 C 1.390625 -3.421875 1.75 -3.96875 2.5625 -3.96875 C 3.078125 -3.96875 3.328125 -3.515625 3.40625 -3.328125 C 3.5625 -2.953125 3.59375 -2.578125 3.59375 -2.078125 C 3.59375 -1.71875 3.59375 -1.125 3.34375 -0.703125 C 3.109375 -0.3125 2.734375 -0.0625 2.28125 -0.0625 C 1.5625 -0.0625 0.984375 -0.59375 0.8125 -1.171875 C 0.84375 -1.171875 0.875 -1.15625 0.984375 -1.15625 C 1.3125 -1.15625 1.484375 -1.40625 1.484375 -1.640625 C 1.484375 -1.890625 1.3125 -2.140625 0.984375 -2.140625 C 0.84375 -2.140625 0.5 -2.0625 0.5 -1.609375 C 0.5 -0.75 1.1875 0.21875 2.296875 0.21875 C 3.453125 0.21875 4.46875 -0.734375 4.46875 -2 Z M 4.46875 -2 \"/>\n",
       "</symbol>\n",
       "<symbol overflow=\"visible\" id=\"glyph-1487623024713066-1-15\">\n",
       "<path style=\"stroke:none;\" d=\"M 1.71875 -3.984375 L 3.15625 -3.984375 L 3.15625 -4.296875 L 1.71875 -4.296875 L 1.71875 -6.125 L 1.46875 -6.125 C 1.46875 -5.3125 1.171875 -4.25 0.1875 -4.203125 L 0.1875 -3.984375 L 1.03125 -3.984375 L 1.03125 -1.234375 C 1.03125 -0.015625 1.96875 0.109375 2.328125 0.109375 C 3.03125 0.109375 3.3125 -0.59375 3.3125 -1.234375 L 3.3125 -1.796875 L 3.0625 -1.796875 L 3.0625 -1.25 C 3.0625 -0.515625 2.765625 -0.140625 2.390625 -0.140625 C 1.71875 -0.140625 1.71875 -1.046875 1.71875 -1.21875 Z M 1.71875 -3.984375 \"/>\n",
       "</symbol>\n",
       "<symbol overflow=\"visible\" id=\"glyph-1487623024713066-1-16\">\n",
       "<path style=\"stroke:none;\" d=\"M 4.6875 -2.140625 C 4.6875 -3.40625 3.703125 -4.46875 2.5 -4.46875 C 1.25 -4.46875 0.28125 -3.375 0.28125 -2.140625 C 0.28125 -0.84375 1.3125 0.109375 2.484375 0.109375 C 3.6875 0.109375 4.6875 -0.875 4.6875 -2.140625 Z M 2.5 -0.140625 C 2.0625 -0.140625 1.625 -0.34375 1.359375 -0.8125 C 1.109375 -1.25 1.109375 -1.859375 1.109375 -2.21875 C 1.109375 -2.609375 1.109375 -3.140625 1.34375 -3.578125 C 1.609375 -4.03125 2.078125 -4.25 2.484375 -4.25 C 2.921875 -4.25 3.34375 -4.03125 3.609375 -3.59375 C 3.875 -3.171875 3.875 -2.59375 3.875 -2.21875 C 3.875 -1.859375 3.875 -1.3125 3.65625 -0.875 C 3.421875 -0.421875 2.984375 -0.140625 2.5 -0.140625 Z M 2.5 -0.140625 \"/>\n",
       "</symbol>\n",
       "<symbol overflow=\"visible\" id=\"glyph-1487623024713066-1-17\">\n",
       "<path style=\"stroke:none;\" d=\"M 0.5625 -3.40625 C 0.5625 -1.34375 2.171875 0.21875 4.03125 0.21875 C 5.65625 0.21875 6.625 -1.171875 6.625 -2.328125 C 6.625 -2.421875 6.625 -2.5 6.5 -2.5 C 6.390625 -2.5 6.390625 -2.4375 6.375 -2.328125 C 6.296875 -0.90625 5.234375 -0.09375 4.140625 -0.09375 C 3.53125 -0.09375 1.578125 -0.421875 1.578125 -3.40625 C 1.578125 -6.375 3.53125 -6.71875 4.140625 -6.71875 C 5.21875 -6.71875 6.109375 -5.8125 6.3125 -4.359375 C 6.328125 -4.21875 6.328125 -4.1875 6.46875 -4.1875 C 6.625 -4.1875 6.625 -4.21875 6.625 -4.421875 L 6.625 -6.78125 C 6.625 -6.953125 6.625 -7.03125 6.515625 -7.03125 C 6.484375 -7.03125 6.4375 -7.03125 6.359375 -6.90625 L 5.859375 -6.171875 C 5.5 -6.53125 4.984375 -7.03125 4.03125 -7.03125 C 2.15625 -7.03125 0.5625 -5.4375 0.5625 -3.40625 Z M 0.5625 -3.40625 \"/>\n",
       "</symbol>\n",
       "<symbol overflow=\"visible\" id=\"glyph-1487623024713066-1-18\">\n",
       "<path style=\"stroke:none;\" d=\"M 1.765625 -6.921875 L 0.328125 -6.8125 L 0.328125 -6.5 C 1.03125 -6.5 1.109375 -6.4375 1.109375 -5.9375 L 1.109375 -0.75 C 1.109375 -0.3125 1 -0.3125 0.328125 -0.3125 L 0.328125 0 C 0.65625 -0.015625 1.1875 -0.03125 1.4375 -0.03125 C 1.6875 -0.03125 2.171875 -0.015625 2.546875 0 L 2.546875 -0.3125 C 1.875 -0.3125 1.765625 -0.3125 1.765625 -0.75 Z M 1.765625 -6.921875 \"/>\n",
       "</symbol>\n",
       "<symbol overflow=\"visible\" id=\"glyph-1487623024713066-1-19\">\n",
       "<path style=\"stroke:none;\" d=\"M 2.078125 -1.9375 C 2.296875 -1.890625 3.109375 -1.734375 3.109375 -1.015625 C 3.109375 -0.515625 2.765625 -0.109375 1.984375 -0.109375 C 1.140625 -0.109375 0.78125 -0.671875 0.59375 -1.53125 C 0.5625 -1.65625 0.5625 -1.6875 0.453125 -1.6875 C 0.328125 -1.6875 0.328125 -1.625 0.328125 -1.453125 L 0.328125 -0.125 C 0.328125 0.046875 0.328125 0.109375 0.4375 0.109375 C 0.484375 0.109375 0.5 0.09375 0.6875 -0.09375 C 0.703125 -0.109375 0.703125 -0.125 0.890625 -0.3125 C 1.328125 0.09375 1.78125 0.109375 1.984375 0.109375 C 3.125 0.109375 3.59375 -0.5625 3.59375 -1.28125 C 3.59375 -1.796875 3.296875 -2.109375 3.171875 -2.21875 C 2.84375 -2.546875 2.453125 -2.625 2.03125 -2.703125 C 1.46875 -2.8125 0.8125 -2.9375 0.8125 -3.515625 C 0.8125 -3.875 1.0625 -4.28125 1.921875 -4.28125 C 3.015625 -4.28125 3.078125 -3.375 3.09375 -3.078125 C 3.09375 -2.984375 3.1875 -2.984375 3.203125 -2.984375 C 3.34375 -2.984375 3.34375 -3.03125 3.34375 -3.21875 L 3.34375 -4.234375 C 3.34375 -4.390625 3.34375 -4.46875 3.234375 -4.46875 C 3.1875 -4.46875 3.15625 -4.46875 3.03125 -4.34375 C 3 -4.3125 2.90625 -4.21875 2.859375 -4.1875 C 2.484375 -4.46875 2.078125 -4.46875 1.921875 -4.46875 C 0.703125 -4.46875 0.328125 -3.796875 0.328125 -3.234375 C 0.328125 -2.890625 0.484375 -2.609375 0.75 -2.390625 C 1.078125 -2.140625 1.359375 -2.078125 2.078125 -1.9375 Z M 2.078125 -1.9375 \"/>\n",
       "</symbol>\n",
       "<symbol overflow=\"visible\" id=\"glyph-1487623024713066-1-20\">\n",
       "<path style=\"stroke:none;\" d=\"M 1.09375 -3.421875 L 1.09375 -0.75 C 1.09375 -0.3125 0.984375 -0.3125 0.3125 -0.3125 L 0.3125 0 C 0.671875 -0.015625 1.171875 -0.03125 1.453125 -0.03125 C 1.703125 -0.03125 2.21875 -0.015625 2.5625 0 L 2.5625 -0.3125 C 1.890625 -0.3125 1.78125 -0.3125 1.78125 -0.75 L 1.78125 -2.59375 C 1.78125 -3.625 2.5 -4.1875 3.125 -4.1875 C 3.765625 -4.1875 3.875 -3.65625 3.875 -3.078125 L 3.875 -0.75 C 3.875 -0.3125 3.765625 -0.3125 3.09375 -0.3125 L 3.09375 0 C 3.4375 -0.015625 3.953125 -0.03125 4.21875 -0.03125 C 4.46875 -0.03125 5 -0.015625 5.328125 0 L 5.328125 -0.3125 C 4.8125 -0.3125 4.5625 -0.3125 4.5625 -0.609375 L 4.5625 -2.515625 C 4.5625 -3.375 4.5625 -3.671875 4.25 -4.03125 C 4.109375 -4.203125 3.78125 -4.40625 3.203125 -4.40625 C 2.46875 -4.40625 2 -3.984375 1.71875 -3.359375 L 1.71875 -4.40625 L 0.3125 -4.296875 L 0.3125 -3.984375 C 1.015625 -3.984375 1.09375 -3.921875 1.09375 -3.421875 Z M 1.09375 -3.421875 \"/>\n",
       "</symbol>\n",
       "<symbol overflow=\"visible\" id=\"glyph-1487623024713066-1-21\">\n",
       "<path style=\"stroke:none;\" d=\"M 2.890625 -3.515625 C 3.703125 -3.78125 4.28125 -4.46875 4.28125 -5.265625 C 4.28125 -6.078125 3.40625 -6.640625 2.453125 -6.640625 C 1.453125 -6.640625 0.6875 -6.046875 0.6875 -5.28125 C 0.6875 -4.953125 0.90625 -4.765625 1.203125 -4.765625 C 1.5 -4.765625 1.703125 -4.984375 1.703125 -5.28125 C 1.703125 -5.765625 1.234375 -5.765625 1.09375 -5.765625 C 1.390625 -6.265625 2.046875 -6.390625 2.40625 -6.390625 C 2.828125 -6.390625 3.375 -6.171875 3.375 -5.28125 C 3.375 -5.15625 3.34375 -4.578125 3.09375 -4.140625 C 2.796875 -3.65625 2.453125 -3.625 2.203125 -3.625 C 2.125 -3.609375 1.890625 -3.59375 1.8125 -3.59375 C 1.734375 -3.578125 1.671875 -3.5625 1.671875 -3.46875 C 1.671875 -3.359375 1.734375 -3.359375 1.90625 -3.359375 L 2.34375 -3.359375 C 3.15625 -3.359375 3.53125 -2.6875 3.53125 -1.703125 C 3.53125 -0.34375 2.84375 -0.0625 2.40625 -0.0625 C 1.96875 -0.0625 1.21875 -0.234375 0.875 -0.8125 C 1.21875 -0.765625 1.53125 -0.984375 1.53125 -1.359375 C 1.53125 -1.71875 1.265625 -1.921875 0.984375 -1.921875 C 0.734375 -1.921875 0.421875 -1.78125 0.421875 -1.34375 C 0.421875 -0.4375 1.34375 0.21875 2.4375 0.21875 C 3.65625 0.21875 4.5625 -0.6875 4.5625 -1.703125 C 4.5625 -2.515625 3.921875 -3.296875 2.890625 -3.515625 Z M 2.890625 -3.515625 \"/>\n",
       "</symbol>\n",
       "<symbol overflow=\"visible\" id=\"glyph-1487623024713066-1-22\">\n",
       "<path style=\"stroke:none;\" d=\"M 6.1875 -5.828125 C 6.328125 -6.203125 6.59375 -6.484375 7.28125 -6.5 L 7.28125 -6.8125 C 6.96875 -6.78125 6.5625 -6.78125 6.3125 -6.78125 C 6.015625 -6.78125 5.4375 -6.796875 5.171875 -6.8125 L 5.171875 -6.5 C 5.6875 -6.484375 5.90625 -6.234375 5.90625 -6 C 5.90625 -5.921875 5.875 -5.859375 5.859375 -5.796875 L 4.03125 -1 L 2.125 -6.03125 C 2.0625 -6.171875 2.0625 -6.1875 2.0625 -6.203125 C 2.0625 -6.5 2.625 -6.5 2.875 -6.5 L 2.875 -6.8125 C 2.515625 -6.78125 1.828125 -6.78125 1.453125 -6.78125 C 0.984375 -6.78125 0.546875 -6.796875 0.1875 -6.8125 L 0.1875 -6.5 C 0.84375 -6.5 1.03125 -6.5 1.171875 -6.125 L 3.484375 0 C 3.546875 0.1875 3.59375 0.21875 3.734375 0.21875 C 3.890625 0.21875 3.921875 0.171875 3.96875 0.03125 Z M 6.1875 -5.828125 \"/>\n",
       "</symbol>\n",
       "<symbol overflow=\"visible\" id=\"glyph-1487623024713066-1-23\">\n",
       "<path style=\"stroke:none;\" d=\"M 1.171875 -2.171875 C 1.171875 -3.796875 1.984375 -4.21875 2.515625 -4.21875 C 2.609375 -4.21875 3.234375 -4.203125 3.578125 -3.84375 C 3.171875 -3.8125 3.109375 -3.515625 3.109375 -3.390625 C 3.109375 -3.125 3.296875 -2.9375 3.5625 -2.9375 C 3.828125 -2.9375 4.03125 -3.09375 4.03125 -3.40625 C 4.03125 -4.078125 3.265625 -4.46875 2.5 -4.46875 C 1.25 -4.46875 0.34375 -3.390625 0.34375 -2.15625 C 0.34375 -0.875 1.328125 0.109375 2.484375 0.109375 C 3.8125 0.109375 4.140625 -1.09375 4.140625 -1.1875 C 4.140625 -1.28125 4.03125 -1.28125 4 -1.28125 C 3.921875 -1.28125 3.890625 -1.25 3.875 -1.1875 C 3.59375 -0.265625 2.9375 -0.140625 2.578125 -0.140625 C 2.046875 -0.140625 1.171875 -0.5625 1.171875 -2.171875 Z M 1.171875 -2.171875 \"/>\n",
       "</symbol>\n",
       "<symbol overflow=\"visible\" id=\"glyph-1487623024713066-1-24\">\n",
       "<path style=\"stroke:none;\" d=\"M 4.140625 -3.34375 C 4.390625 -3.984375 4.90625 -3.984375 5.0625 -3.984375 L 5.0625 -4.296875 C 4.828125 -4.28125 4.546875 -4.265625 4.3125 -4.265625 C 4.140625 -4.265625 3.671875 -4.28125 3.453125 -4.296875 L 3.453125 -3.984375 C 3.765625 -3.984375 3.921875 -3.8125 3.921875 -3.5625 C 3.921875 -3.453125 3.90625 -3.4375 3.859375 -3.3125 L 2.84375 -0.875 L 1.75 -3.546875 C 1.703125 -3.65625 1.6875 -3.6875 1.6875 -3.734375 C 1.6875 -3.984375 2.046875 -3.984375 2.25 -3.984375 L 2.25 -4.296875 C 1.984375 -4.28125 1.328125 -4.265625 1.15625 -4.265625 C 0.890625 -4.265625 0.484375 -4.28125 0.1875 -4.296875 L 0.1875 -3.984375 C 0.671875 -3.984375 0.859375 -3.984375 1 -3.640625 L 2.5 0 C 2.4375 0.125 2.296875 0.453125 2.25 0.59375 C 2.03125 1.140625 1.75 1.828125 1.109375 1.828125 C 1.0625 1.828125 0.828125 1.828125 0.640625 1.640625 C 0.953125 1.609375 1.03125 1.390625 1.03125 1.21875 C 1.03125 0.96875 0.84375 0.8125 0.609375 0.8125 C 0.40625 0.8125 0.1875 0.9375 0.1875 1.234375 C 0.1875 1.6875 0.609375 2.046875 1.109375 2.046875 C 1.734375 2.046875 2.140625 1.46875 2.375 0.90625 Z M 4.140625 -3.34375 \"/>\n",
       "</symbol>\n",
       "<symbol overflow=\"visible\" id=\"glyph-1487623024713066-1-25\">\n",
       "<path style=\"stroke:none;\" d=\"M 4.75 -6.078125 C 4.828125 -6.1875 4.828125 -6.203125 4.828125 -6.421875 L 2.40625 -6.421875 C 1.203125 -6.421875 1.171875 -6.546875 1.140625 -6.734375 L 0.890625 -6.734375 L 0.5625 -4.6875 L 0.8125 -4.6875 C 0.84375 -4.84375 0.921875 -5.46875 1.0625 -5.59375 C 1.125 -5.65625 1.90625 -5.65625 2.03125 -5.65625 L 4.09375 -5.65625 C 3.984375 -5.5 3.203125 -4.40625 2.984375 -4.078125 C 2.078125 -2.734375 1.75 -1.34375 1.75 -0.328125 C 1.75 -0.234375 1.75 0.21875 2.21875 0.21875 C 2.671875 0.21875 2.671875 -0.234375 2.671875 -0.328125 L 2.671875 -0.84375 C 2.671875 -1.390625 2.703125 -1.9375 2.78125 -2.46875 C 2.828125 -2.703125 2.953125 -3.5625 3.40625 -4.171875 Z M 4.75 -6.078125 \"/>\n",
       "</symbol>\n",
       "<symbol overflow=\"visible\" id=\"glyph-1487623024713066-1-26\">\n",
       "<path style=\"stroke:none;\" d=\"M 3.65625 -3.171875 L 3.65625 -2.84375 C 3.65625 -0.515625 2.625 -0.0625 2.046875 -0.0625 C 1.875 -0.0625 1.328125 -0.078125 1.0625 -0.421875 C 1.5 -0.421875 1.578125 -0.703125 1.578125 -0.875 C 1.578125 -1.1875 1.34375 -1.328125 1.125 -1.328125 C 0.96875 -1.328125 0.671875 -1.25 0.671875 -0.859375 C 0.671875 -0.1875 1.203125 0.21875 2.046875 0.21875 C 3.34375 0.21875 4.5625 -1.140625 4.5625 -3.28125 C 4.5625 -5.96875 3.40625 -6.640625 2.515625 -6.640625 C 1.96875 -6.640625 1.484375 -6.453125 1.0625 -6.015625 C 0.640625 -5.5625 0.421875 -5.140625 0.421875 -4.390625 C 0.421875 -3.15625 1.296875 -2.171875 2.40625 -2.171875 C 3.015625 -2.171875 3.421875 -2.59375 3.65625 -3.171875 Z M 2.421875 -2.40625 C 2.265625 -2.40625 1.796875 -2.40625 1.5 -3.03125 C 1.3125 -3.40625 1.3125 -3.890625 1.3125 -4.390625 C 1.3125 -4.921875 1.3125 -5.390625 1.53125 -5.765625 C 1.796875 -6.265625 2.171875 -6.390625 2.515625 -6.390625 C 2.984375 -6.390625 3.3125 -6.046875 3.484375 -5.609375 C 3.59375 -5.28125 3.640625 -4.65625 3.640625 -4.203125 C 3.640625 -3.375 3.296875 -2.40625 2.421875 -2.40625 Z M 2.421875 -2.40625 \"/>\n",
       "</symbol>\n",
       "<symbol overflow=\"visible\" id=\"glyph-1487623024713066-1-27\">\n",
       "<path style=\"stroke:none;\" d=\"M 0.34375 -6.8125 L 0.34375 -6.5 L 0.59375 -6.5 C 1.359375 -6.5 1.375 -6.390625 1.375 -6.03125 L 1.375 -0.78125 C 1.375 -0.421875 1.359375 -0.3125 0.59375 -0.3125 L 0.34375 -0.3125 L 0.34375 0 L 4 0 C 5.671875 0 7.046875 -1.46875 7.046875 -3.34375 C 7.046875 -5.25 5.703125 -6.8125 4 -6.8125 Z M 2.71875 -0.3125 C 2.25 -0.3125 2.234375 -0.375 2.234375 -0.703125 L 2.234375 -6.09375 C 2.234375 -6.4375 2.25 -6.5 2.71875 -6.5 L 3.71875 -6.5 C 4.34375 -6.5 5.03125 -6.28125 5.53125 -5.578125 C 5.96875 -4.984375 6.046875 -4.125 6.046875 -3.34375 C 6.046875 -2.25 5.859375 -1.640625 5.5 -1.15625 C 5.296875 -0.890625 4.734375 -0.3125 3.734375 -0.3125 Z M 2.71875 -0.3125 \"/>\n",
       "</symbol>\n",
       "<symbol overflow=\"visible\" id=\"glyph-1487623024713066-1-28\">\n",
       "<path style=\"stroke:none;\" d=\"M 5.796875 -6.78125 L 0.328125 -6.78125 L 0.328125 -6.46875 L 0.5625 -6.46875 C 1.328125 -6.46875 1.359375 -6.359375 1.359375 -6 L 1.359375 -0.78125 C 1.359375 -0.421875 1.328125 -0.3125 0.5625 -0.3125 L 0.328125 -0.3125 L 0.328125 0 C 0.671875 -0.03125 1.453125 -0.03125 1.84375 -0.03125 C 2.25 -0.03125 3.15625 -0.03125 3.515625 0 L 3.515625 -0.3125 L 3.1875 -0.3125 C 2.25 -0.3125 2.25 -0.4375 2.25 -0.78125 L 2.25 -3.234375 L 3.09375 -3.234375 C 4.0625 -3.234375 4.15625 -2.921875 4.15625 -2.078125 L 4.40625 -2.078125 L 4.40625 -4.71875 L 4.15625 -4.71875 C 4.15625 -3.875 4.0625 -3.546875 3.09375 -3.546875 L 2.25 -3.546875 L 2.25 -6.078125 C 2.25 -6.40625 2.265625 -6.46875 2.734375 -6.46875 L 3.921875 -6.46875 C 5.421875 -6.46875 5.671875 -5.90625 5.828125 -4.53125 L 6.078125 -4.53125 Z M 5.796875 -6.78125 \"/>\n",
       "</symbol>\n",
       "<symbol overflow=\"visible\" id=\"glyph-1487623024713066-1-29\">\n",
       "<path style=\"stroke:none;\" d=\"M 1.671875 -3.3125 L 1.671875 -4.40625 L 0.28125 -4.296875 L 0.28125 -3.984375 C 0.984375 -3.984375 1.0625 -3.921875 1.0625 -3.421875 L 1.0625 -0.75 C 1.0625 -0.3125 0.953125 -0.3125 0.28125 -0.3125 L 0.28125 0 C 0.671875 -0.015625 1.140625 -0.03125 1.421875 -0.03125 C 1.8125 -0.03125 2.28125 -0.03125 2.6875 0 L 2.6875 -0.3125 L 2.46875 -0.3125 C 1.734375 -0.3125 1.71875 -0.421875 1.71875 -0.78125 L 1.71875 -2.3125 C 1.71875 -3.296875 2.140625 -4.1875 2.890625 -4.1875 C 2.953125 -4.1875 2.984375 -4.1875 3 -4.171875 C 2.96875 -4.171875 2.765625 -4.046875 2.765625 -3.78125 C 2.765625 -3.515625 2.984375 -3.359375 3.203125 -3.359375 C 3.375 -3.359375 3.625 -3.484375 3.625 -3.796875 C 3.625 -4.109375 3.3125 -4.40625 2.890625 -4.40625 C 2.15625 -4.40625 1.796875 -3.734375 1.671875 -3.3125 Z M 1.671875 -3.3125 \"/>\n",
       "</symbol>\n",
       "<symbol overflow=\"visible\" id=\"glyph-1487623024713066-2-0\">\n",
       "<path style=\"stroke:none;\" d=\"\"/>\n",
       "</symbol>\n",
       "<symbol overflow=\"visible\" id=\"glyph-1487623024713066-2-1\">\n",
       "<path style=\"stroke:none;\" d=\"M 1.90625 -0.53125 C 1.90625 -0.8125 1.671875 -1.0625 1.390625 -1.0625 C 1.09375 -1.0625 0.859375 -0.8125 0.859375 -0.53125 C 0.859375 -0.234375 1.09375 0 1.390625 0 C 1.671875 0 1.90625 -0.234375 1.90625 -0.53125 Z M 1.90625 -0.53125 \"/>\n",
       "</symbol>\n",
       "<symbol overflow=\"visible\" id=\"glyph-1487623024713066-2-2\">\n",
       "<path style=\"stroke:none;\" d=\"M 2.03125 -0.015625 C 2.03125 -0.671875 1.78125 -1.0625 1.390625 -1.0625 C 1.0625 -1.0625 0.859375 -0.8125 0.859375 -0.53125 C 0.859375 -0.265625 1.0625 0 1.390625 0 C 1.5 0 1.640625 -0.046875 1.734375 -0.125 C 1.765625 -0.15625 1.78125 -0.15625 1.78125 -0.15625 C 1.796875 -0.15625 1.796875 -0.15625 1.796875 -0.015625 C 1.796875 0.734375 1.453125 1.328125 1.125 1.65625 C 1.015625 1.765625 1.015625 1.78125 1.015625 1.8125 C 1.015625 1.890625 1.0625 1.921875 1.109375 1.921875 C 1.21875 1.921875 2.03125 1.15625 2.03125 -0.015625 Z M 2.03125 -0.015625 \"/>\n",
       "</symbol>\n",
       "<symbol overflow=\"visible\" id=\"glyph-1487623024713066-3-0\">\n",
       "<path style=\"stroke:none;\" d=\"\"/>\n",
       "</symbol>\n",
       "<symbol overflow=\"visible\" id=\"glyph-1487623024713066-3-1\">\n",
       "<path style=\"stroke:none;\" d=\"M 3.6875 -1.140625 L 3.6875 -1.390625 L 2.90625 -1.390625 L 2.90625 -4.5 C 2.90625 -4.640625 2.90625 -4.703125 2.765625 -4.703125 C 2.671875 -4.703125 2.640625 -4.703125 2.578125 -4.59375 L 0.265625 -1.390625 L 0.265625 -1.140625 L 2.328125 -1.140625 L 2.328125 -0.578125 C 2.328125 -0.328125 2.328125 -0.25 1.75 -0.25 L 1.5625 -0.25 L 1.5625 0 C 1.921875 -0.015625 2.359375 -0.03125 2.609375 -0.03125 C 2.875 -0.03125 3.3125 -0.015625 3.671875 0 L 3.671875 -0.25 L 3.484375 -0.25 C 2.90625 -0.25 2.90625 -0.328125 2.90625 -0.578125 L 2.90625 -1.140625 Z M 2.375 -3.9375 L 2.375 -1.390625 L 0.53125 -1.390625 Z M 2.375 -3.9375 \"/>\n",
       "</symbol>\n",
       "</g>\n",
       "<clipPath id=\"clip-1487623024713066-1\">\n",
       "  <path d=\"M 125 43 L 314.894531 43 L 314.894531 260.1875 L 125 260.1875 Z M 125 43 \"/>\n",
       "</clipPath>\n",
       "<clipPath id=\"clip-1487623024713066-2\">\n",
       "  <path d=\"M 364 21 L 660.023438 21 L 660.023438 261 L 364 261 Z M 364 21 \"/>\n",
       "</clipPath>\n",
       "<clipPath id=\"clip-1487623024713066-3\">\n",
       "  <path d=\"M 391 21.554688 L 659.824219 21.554688 L 659.824219 260.191406 L 391 260.191406 Z M 391 21.554688 \"/>\n",
       "</clipPath>\n",
       "<clipPath id=\"clip-1487623024713066-4\">\n",
       "  <path d=\"M 44 324 L 291 324 L 291 541.347656 L 44 541.347656 Z M 44 324 \"/>\n",
       "</clipPath>\n",
       "<clipPath id=\"clip-1487623024713066-5\">\n",
       "  <path d=\"M 43 324 L 291 324 L 291 541.347656 L 43 541.347656 Z M 43 324 \"/>\n",
       "</clipPath>\n",
       "<clipPath id=\"clip-1487623024713066-6\">\n",
       "  <path d=\"M 364 302 L 660.023438 302 L 660.023438 542 L 364 542 Z M 364 302 \"/>\n",
       "</clipPath>\n",
       "<clipPath id=\"clip-1487623024713066-7\">\n",
       "  <path d=\"M 391 324 L 659.828125 324 L 659.828125 541.347656 L 391 541.347656 Z M 391 324 \"/>\n",
       "</clipPath>\n",
       "</defs>\n",
       "<g id=\"surface1\">\n",
       "<path style=\"fill:none;stroke-width:0.19925;stroke-linecap:butt;stroke-linejoin:miter;stroke:rgb(50%,50%,50%);stroke-opacity:1;stroke-miterlimit:10;\" d=\"M 21.094969 -0.0005 L 21.094969 4.253406 M 21.094969 238.628406 L 21.094969 234.3745 M 63.282469 -0.0005 L 63.282469 4.253406 M 63.282469 238.628406 L 63.282469 234.3745 M 105.469969 -0.0005 L 105.469969 4.253406 M 105.469969 238.628406 L 105.469969 234.3745 M 147.661375 -0.0005 L 147.661375 4.253406 M 147.661375 238.628406 L 147.661375 234.3745 M 189.848875 -0.0005 L 189.848875 4.253406 M 189.848875 238.628406 L 189.848875 234.3745 M 232.036375 -0.0005 L 232.036375 4.253406 M 232.036375 238.628406 L 232.036375 234.3745 M 274.223875 -0.0005 L 274.223875 4.253406 M 274.223875 238.628406 L 274.223875 234.3745 \" transform=\"matrix(1,0,0,-1,19.573,260.187)\"/>\n",
       "<path style=\"fill:none;stroke-width:0.19925;stroke-linecap:butt;stroke-linejoin:miter;stroke:rgb(50%,50%,50%);stroke-opacity:1;stroke-miterlimit:10;\" d=\"M 0.00121875 -0.0005 L 4.251219 -0.0005 M 295.321531 -0.0005 L 291.067625 -0.0005 M 0.00121875 44.573719 L 4.251219 44.573719 M 295.321531 44.573719 L 291.067625 44.573719 M 0.00121875 89.144031 L 4.251219 89.144031 M 295.321531 89.144031 L 291.067625 89.144031 M 0.00121875 133.71825 L 4.251219 133.71825 M 295.321531 133.71825 L 291.067625 133.71825 M 0.00121875 178.288563 L 4.251219 178.288563 M 295.321531 178.288563 L 291.067625 178.288563 M 0.00121875 222.862781 L 4.251219 222.862781 M 295.321531 222.862781 L 291.067625 222.862781 \" transform=\"matrix(1,0,0,-1,19.573,260.187)\"/>\n",
       "<path style=\"fill:none;stroke-width:0.3985;stroke-linecap:butt;stroke-linejoin:miter;stroke:rgb(0%,0%,0%);stroke-opacity:1;stroke-miterlimit:10;\" d=\"M 0.00121875 -0.0005 L 0.00121875 238.628406 L 295.321531 238.628406 L 295.321531 -0.0005 Z M 0.00121875 -0.0005 \" transform=\"matrix(1,0,0,-1,19.573,260.187)\"/>\n",
       "<g style=\"fill:rgb(0%,0%,0%);fill-opacity:1;\">\n",
       "  <use xlink:href=\"#glyph-1487623024713066-0-1\" x=\"34.302\" y=\"270.127\"/>\n",
       "</g>\n",
       "<g style=\"fill:rgb(0%,0%,0%);fill-opacity:1;\">\n",
       "  <use xlink:href=\"#glyph-1487623024713066-1-1\" x=\"42.051\" y=\"270.127\"/>\n",
       "</g>\n",
       "<g style=\"fill:rgb(0%,0%,0%);fill-opacity:1;\">\n",
       "  <use xlink:href=\"#glyph-1487623024713066-0-1\" x=\"76.49\" y=\"270.127\"/>\n",
       "</g>\n",
       "<g style=\"fill:rgb(0%,0%,0%);fill-opacity:1;\">\n",
       "  <use xlink:href=\"#glyph-1487623024713066-1-2\" x=\"84.239\" y=\"270.127\"/>\n",
       "</g>\n",
       "<g style=\"fill:rgb(0%,0%,0%);fill-opacity:1;\">\n",
       "  <use xlink:href=\"#glyph-1487623024713066-1-3\" x=\"122.553\" y=\"270.127\"/>\n",
       "</g>\n",
       "<g style=\"fill:rgb(0%,0%,0%);fill-opacity:1;\">\n",
       "  <use xlink:href=\"#glyph-1487623024713066-1-2\" x=\"164.741\" y=\"270.127\"/>\n",
       "</g>\n",
       "<g style=\"fill:rgb(0%,0%,0%);fill-opacity:1;\">\n",
       "  <use xlink:href=\"#glyph-1487623024713066-1-1\" x=\"206.929\" y=\"270.127\"/>\n",
       "</g>\n",
       "<g style=\"fill:rgb(0%,0%,0%);fill-opacity:1;\">\n",
       "  <use xlink:href=\"#glyph-1487623024713066-1-4\" x=\"249.117\" y=\"270.127\"/>\n",
       "</g>\n",
       "<g style=\"fill:rgb(0%,0%,0%);fill-opacity:1;\">\n",
       "  <use xlink:href=\"#glyph-1487623024713066-1-5\" x=\"291.305\" y=\"270.127\"/>\n",
       "</g>\n",
       "<g style=\"fill:rgb(0%,0%,0%);fill-opacity:1;\">\n",
       "  <use xlink:href=\"#glyph-1487623024713066-1-3\" x=\"11.072\" y=\"263.397\"/>\n",
       "</g>\n",
       "<g style=\"fill:rgb(0%,0%,0%);fill-opacity:1;\">\n",
       "  <use xlink:href=\"#glyph-1487623024713066-1-3\" x=\"3.323\" y=\"218.825\"/>\n",
       "</g>\n",
       "<g style=\"fill:rgb(0%,0%,0%);fill-opacity:1;\">\n",
       "  <use xlink:href=\"#glyph-1487623024713066-2-1\" x=\"8.305\" y=\"218.825\"/>\n",
       "</g>\n",
       "<g style=\"fill:rgb(0%,0%,0%);fill-opacity:1;\">\n",
       "  <use xlink:href=\"#glyph-1487623024713066-1-2\" x=\"11.072\" y=\"218.825\"/>\n",
       "</g>\n",
       "<g style=\"fill:rgb(0%,0%,0%);fill-opacity:1;\">\n",
       "  <use xlink:href=\"#glyph-1487623024713066-1-3\" x=\"3.323\" y=\"174.254\"/>\n",
       "</g>\n",
       "<g style=\"fill:rgb(0%,0%,0%);fill-opacity:1;\">\n",
       "  <use xlink:href=\"#glyph-1487623024713066-2-1\" x=\"8.305\" y=\"174.254\"/>\n",
       "</g>\n",
       "<g style=\"fill:rgb(0%,0%,0%);fill-opacity:1;\">\n",
       "  <use xlink:href=\"#glyph-1487623024713066-1-1\" x=\"11.072\" y=\"174.254\"/>\n",
       "</g>\n",
       "<g style=\"fill:rgb(0%,0%,0%);fill-opacity:1;\">\n",
       "  <use xlink:href=\"#glyph-1487623024713066-1-3\" x=\"3.323\" y=\"129.682\"/>\n",
       "</g>\n",
       "<g style=\"fill:rgb(0%,0%,0%);fill-opacity:1;\">\n",
       "  <use xlink:href=\"#glyph-1487623024713066-2-1\" x=\"8.305\" y=\"129.682\"/>\n",
       "</g>\n",
       "<g style=\"fill:rgb(0%,0%,0%);fill-opacity:1;\">\n",
       "  <use xlink:href=\"#glyph-1487623024713066-1-4\" x=\"11.072\" y=\"129.682\"/>\n",
       "</g>\n",
       "<g style=\"fill:rgb(0%,0%,0%);fill-opacity:1;\">\n",
       "  <use xlink:href=\"#glyph-1487623024713066-1-3\" x=\"3.323\" y=\"85.111\"/>\n",
       "</g>\n",
       "<g style=\"fill:rgb(0%,0%,0%);fill-opacity:1;\">\n",
       "  <use xlink:href=\"#glyph-1487623024713066-2-1\" x=\"8.305\" y=\"85.111\"/>\n",
       "</g>\n",
       "<g style=\"fill:rgb(0%,0%,0%);fill-opacity:1;\">\n",
       "  <use xlink:href=\"#glyph-1487623024713066-1-5\" x=\"11.072\" y=\"85.111\"/>\n",
       "</g>\n",
       "<g style=\"fill:rgb(0%,0%,0%);fill-opacity:1;\">\n",
       "  <use xlink:href=\"#glyph-1487623024713066-1-6\" x=\"11.072\" y=\"40.539\"/>\n",
       "</g>\n",
       "<g style=\"fill:rgb(0%,0%,0%);fill-opacity:1;\">\n",
       "  <use xlink:href=\"#glyph-1487623024713066-0-2\" x=\"22.761\" y=\"14.205\"/>\n",
       "</g>\n",
       "<g style=\"fill:rgb(0%,0%,0%);fill-opacity:1;\">\n",
       "  <use xlink:href=\"#glyph-1487623024713066-1-6\" x=\"25.529\" y=\"14.205\"/>\n",
       "  <use xlink:href=\"#glyph-1487623024713066-1-3\" x=\"30.51032\" y=\"14.205\"/>\n",
       "</g>\n",
       "<g style=\"fill:rgb(0%,0%,0%);fill-opacity:1;\">\n",
       "  <use xlink:href=\"#glyph-1487623024713066-3-1\" x=\"35.491\" y=\"10.589\"/>\n",
       "</g>\n",
       "<g clip-path=\"url(#clip-1487623024713066-1)\" clip-rule=\"nonzero\">\n",
       "<path style=\"fill-rule:nonzero;fill:rgb(89.99939%,89.99939%,100%);fill-opacity:1;stroke-width:0.3985;stroke-linecap:butt;stroke-linejoin:miter;stroke:rgb(0%,0%,100%);stroke-opacity:1;stroke-miterlimit:10;\" d=\"M 105.712156 -0.0005 L 106.587156 -0.0005 L 106.587156 86.964344 L 105.712156 86.964344 Z M 106.587156 -0.0005 L 107.45825 -0.0005 L 107.45825 115.78075 L 106.587156 115.78075 Z M 107.45825 -0.0005 L 108.33325 -0.0005 L 108.33325 110.362781 L 107.45825 110.362781 Z M 108.33325 -0.0005 L 109.20825 -0.0005 L 109.20825 111.546375 L 108.33325 111.546375 Z M 109.20825 -0.0005 L 110.08325 -0.0005 L 110.08325 110.944813 L 109.20825 110.944813 Z M 110.08325 -0.0005 L 110.95825 -0.0005 L 110.95825 114.800281 L 110.08325 114.800281 Z M 110.95825 -0.0005 L 111.829344 -0.0005 L 111.829344 111.054188 L 110.95825 111.054188 Z M 111.829344 -0.0005 L 112.704344 -0.0005 L 112.704344 115.132313 L 111.829344 115.132313 Z M 112.704344 -0.0005 L 113.579344 -0.0005 L 113.579344 112.460438 L 112.704344 112.460438 Z M 113.579344 -0.0005 L 114.454344 -0.0005 L 114.454344 132.050281 L 113.579344 132.050281 Z M 114.454344 -0.0005 L 115.329344 -0.0005 L 115.329344 146.022938 L 114.454344 146.022938 Z M 115.329344 -0.0005 L 116.204344 -0.0005 L 116.204344 163.452625 L 115.329344 163.452625 Z M 116.204344 -0.0005 L 117.075437 -0.0005 L 117.075437 166.370594 L 116.204344 166.370594 Z M 117.075437 -0.0005 L 117.950437 -0.0005 L 117.950437 156.03075 L 117.075437 156.03075 Z M 117.950437 -0.0005 L 118.825437 -0.0005 L 118.825437 153.710438 L 117.950437 153.710438 Z M 118.825437 -0.0005 L 119.700437 -0.0005 L 119.700437 144.952625 L 118.825437 144.952625 Z M 119.700437 -0.0005 L 120.575437 -0.0005 L 120.575437 133.765125 L 119.700437 133.765125 Z M 120.575437 -0.0005 L 121.446531 -0.0005 L 121.446531 113.147938 L 120.575437 113.147938 Z M 121.446531 -0.0005 L 122.321531 -0.0005 L 122.321531 117.429188 L 121.446531 117.429188 Z M 122.321531 -0.0005 L 123.196531 -0.0005 L 123.196531 127.702625 L 122.321531 127.702625 Z M 123.196531 -0.0005 L 124.071531 -0.0005 L 124.071531 137.241688 L 123.196531 137.241688 Z M 124.071531 -0.0005 L 124.946531 -0.0005 L 124.946531 144.976063 L 124.071531 144.976063 Z M 124.946531 -0.0005 L 125.817625 -0.0005 L 125.817625 151.503406 L 124.946531 151.503406 Z M 125.817625 -0.0005 L 126.692625 -0.0005 L 126.692625 159.819813 L 125.817625 159.819813 Z M 126.692625 -0.0005 L 127.567625 -0.0005 L 127.567625 182.772938 L 126.692625 182.772938 Z M 127.567625 -0.0005 L 128.442625 -0.0005 L 128.442625 206.53075 L 127.567625 206.53075 Z M 128.442625 -0.0005 L 129.317625 -0.0005 L 129.317625 216.937 L 128.442625 216.937 Z M 129.317625 -0.0005 L 130.192625 -0.0005 L 130.192625 213.53075 L 129.317625 213.53075 Z M 130.192625 -0.0005 L 131.063719 -0.0005 L 131.063719 207.444813 L 130.192625 207.444813 Z M 131.063719 -0.0005 L 131.938719 -0.0005 L 131.938719 199.288563 L 131.063719 199.288563 Z M 131.938719 -0.0005 L 132.813719 -0.0005 L 132.813719 192.132313 L 131.938719 192.132313 Z M 132.813719 -0.0005 L 133.688719 -0.0005 L 133.688719 183.800281 L 132.813719 183.800281 Z M 133.688719 -0.0005 L 134.563719 -0.0005 L 134.563719 165.96825 L 133.688719 165.96825 Z M 134.563719 -0.0005 L 135.434812 -0.0005 L 135.434812 145.733875 L 134.563719 145.733875 Z M 135.434812 -0.0005 L 136.309812 -0.0005 L 136.309812 130.444813 L 135.434812 130.444813 Z M 136.309812 -0.0005 L 137.184812 -0.0005 L 137.184812 116.292469 L 136.309812 116.292469 Z M 137.184812 -0.0005 L 138.059812 -0.0005 L 138.059812 106.819813 L 137.184812 106.819813 Z M 138.059812 -0.0005 L 138.934812 -0.0005 L 138.934812 98.976063 L 138.059812 98.976063 Z M 138.934812 -0.0005 L 139.809812 -0.0005 L 139.809812 88.858875 L 138.934812 88.858875 Z M 139.809812 -0.0005 L 140.680906 -0.0005 L 140.680906 82.573719 L 139.809812 82.573719 Z M 140.680906 -0.0005 L 141.555906 -0.0005 L 141.555906 75.597156 L 140.680906 75.597156 Z M 141.555906 -0.0005 L 142.430906 -0.0005 L 142.430906 75.440906 L 141.555906 75.440906 Z M 142.430906 -0.0005 L 143.305906 -0.0005 L 143.305906 74.815906 L 142.430906 74.815906 Z M 143.305906 -0.0005 L 144.180906 -0.0005 L 144.180906 74.237781 L 143.305906 74.237781 Z M 144.180906 -0.0005 L 145.052 -0.0005 L 145.052 71.987781 L 144.180906 71.987781 Z M 145.052 -0.0005 L 145.927 -0.0005 L 145.927 74.616688 L 145.052 74.616688 Z M 145.927 -0.0005 L 146.802 -0.0005 L 146.802 73.300281 L 145.927 73.300281 Z M 146.802 -0.0005 L 147.677 -0.0005 L 147.677 72.366688 L 146.802 72.366688 Z M 147.677 -0.0005 L 148.552 -0.0005 L 148.552 70.226063 L 147.677 70.226063 Z M 148.552 -0.0005 L 149.427 -0.0005 L 149.427 69.421375 L 148.552 69.421375 Z M 149.427 -0.0005 L 150.298094 -0.0005 L 150.298094 63.003406 L 149.427 63.003406 Z M 150.298094 -0.0005 L 151.173094 -0.0005 L 151.173094 65.858875 L 150.298094 65.858875 Z M 151.173094 -0.0005 L 152.048094 -0.0005 L 152.048094 65.456531 L 151.173094 65.456531 Z M 152.048094 -0.0005 L 152.923094 -0.0005 L 152.923094 63.917469 L 152.048094 63.917469 Z M 152.923094 -0.0005 L 153.798094 -0.0005 L 153.798094 61.065906 L 152.923094 61.065906 Z M 153.798094 -0.0005 L 154.669187 -0.0005 L 154.669187 58.815906 L 153.798094 58.815906 Z M 154.669187 -0.0005 L 155.544187 -0.0005 L 155.544187 55.784656 L 154.669187 55.784656 Z M 155.544187 -0.0005 L 156.419187 -0.0005 L 156.419187 54.601063 L 155.544187 54.601063 Z M 156.419187 -0.0005 L 157.294187 -0.0005 L 157.294187 51.394031 L 156.419187 51.394031 Z M 157.294187 -0.0005 L 158.169187 -0.0005 L 158.169187 49.452625 L 157.294187 49.452625 Z M 158.169187 -0.0005 L 159.040281 -0.0005 L 159.040281 47.40575 L 158.169187 47.40575 Z M 159.040281 -0.0005 L 159.915281 -0.0005 L 159.915281 45.511219 L 159.040281 45.511219 Z M 159.915281 -0.0005 L 160.790281 -0.0005 L 160.790281 40.2495 L 159.915281 40.2495 Z M 160.790281 -0.0005 L 161.665281 -0.0005 L 161.665281 39.894031 L 160.790281 39.894031 Z M 161.665281 -0.0005 L 162.540281 -0.0005 L 162.540281 36.038563 L 161.665281 36.038563 Z M 162.540281 -0.0005 L 163.415281 -0.0005 L 163.415281 35.214344 L 162.540281 35.214344 Z M 163.415281 -0.0005 L 164.286375 -0.0005 L 164.286375 32.358875 L 163.415281 32.358875 Z M 164.286375 -0.0005 L 165.161375 -0.0005 L 165.161375 30.175281 L 164.286375 30.175281 Z M 165.161375 -0.0005 L 166.036375 -0.0005 L 166.036375 29.796375 L 165.161375 29.796375 Z M 166.036375 -0.0005 L 166.911375 -0.0005 L 166.911375 28.772938 L 166.036375 28.772938 Z M 166.911375 -0.0005 L 167.786375 -0.0005 L 167.786375 28.347156 L 166.911375 28.347156 Z M 167.786375 -0.0005 L 168.657469 -0.0005 L 168.657469 28.772938 L 167.786375 28.772938 Z M 168.657469 -0.0005 L 169.532469 -0.0005 L 169.532469 28.7495 L 168.657469 28.7495 Z M 169.532469 -0.0005 L 170.407469 -0.0005 L 170.407469 28.437 L 169.532469 28.437 Z M 170.407469 -0.0005 L 171.282469 -0.0005 L 171.282469 26.812 L 170.407469 26.812 Z M 171.282469 -0.0005 L 172.157469 -0.0005 L 172.157469 25.026844 L 171.282469 25.026844 Z M 172.157469 -0.0005 L 173.032469 -0.0005 L 173.032469 25.229969 L 172.157469 25.229969 Z M 173.032469 -0.0005 L 173.903562 -0.0005 L 173.903562 25.897938 L 173.032469 25.897938 Z M 173.903562 -0.0005 L 174.778562 -0.0005 L 174.778562 23.979969 L 173.903562 23.979969 Z M 174.778562 -0.0005 L 175.653562 -0.0005 L 175.653562 24.159656 L 174.778562 24.159656 Z M 175.653562 -0.0005 L 176.528562 -0.0005 L 176.528562 23.979969 L 175.653562 23.979969 Z M 176.528562 -0.0005 L 177.403562 -0.0005 L 177.403562 22.108875 L 176.528562 22.108875 Z M 177.403562 -0.0005 L 178.274656 -0.0005 L 178.274656 22.151844 L 177.403562 22.151844 Z M 178.274656 -0.0005 L 179.149656 -0.0005 L 179.149656 23.288563 L 178.274656 23.288563 Z M 179.149656 -0.0005 L 180.024656 -0.0005 L 180.024656 22.554188 L 179.149656 22.554188 Z M 180.024656 -0.0005 L 180.899656 -0.0005 L 180.899656 22.819813 L 180.024656 22.819813 Z M 180.899656 -0.0005 L 181.774656 -0.0005 L 181.774656 22.421375 L 180.899656 22.421375 Z M 181.774656 -0.0005 L 182.649656 -0.0005 L 182.649656 23.089344 L 181.774656 23.089344 Z M 182.649656 -0.0005 L 183.52075 -0.0005 L 183.52075 21.327625 L 182.649656 21.327625 Z M 183.52075 -0.0005 L 184.39575 -0.0005 L 184.39575 21.062 L 183.52075 21.062 Z M 184.39575 -0.0005 L 185.27075 -0.0005 L 185.27075 21.706531 L 184.39575 21.706531 Z M 185.27075 -0.0005 L 186.14575 -0.0005 L 186.14575 21.194813 L 185.27075 21.194813 Z M 186.14575 -0.0005 L 187.02075 -0.0005 L 187.02075 19.96825 L 186.14575 19.96825 Z M 187.02075 -0.0005 L 187.891844 -0.0005 L 187.891844 20.370594 L 187.02075 20.370594 Z M 187.891844 -0.0005 L 188.766844 -0.0005 L 188.766844 20.702625 L 187.891844 20.702625 Z M 188.766844 -0.0005 L 189.641844 -0.0005 L 189.641844 19.835438 L 188.766844 19.835438 Z M 189.641844 -0.0005 L 190.516844 -0.0005 L 190.516844 19.4995 L 189.641844 19.4995 Z M 190.516844 -0.0005 L 191.391844 -0.0005 L 191.391844 19.702625 L 190.516844 19.702625 Z M 191.391844 -0.0005 L 192.262937 -0.0005 L 192.262937 19.144031 L 191.391844 19.144031 Z M 192.262937 -0.0005 L 193.137937 -0.0005 L 193.137937 19.210438 L 192.262937 19.210438 Z M 193.137937 -0.0005 L 194.012937 -0.0005 L 194.012937 18.878406 L 193.137937 18.878406 Z M 194.012937 -0.0005 L 194.887937 -0.0005 L 194.887937 18.519031 L 194.012937 18.519031 Z M 194.887937 -0.0005 L 195.762937 -0.0005 L 195.762937 19.011219 L 194.887937 19.011219 Z M 195.762937 -0.0005 L 196.637937 -0.0005 L 196.637937 17.983875 L 195.762937 17.983875 Z M 196.637937 -0.0005 L 197.509031 -0.0005 L 197.509031 18.007313 L 196.637937 18.007313 Z M 197.509031 -0.0005 L 198.384031 -0.0005 L 198.384031 16.538563 L 197.509031 16.538563 Z M 198.384031 -0.0005 L 199.259031 -0.0005 L 199.259031 17.651844 L 198.384031 17.651844 Z M 199.259031 -0.0005 L 200.134031 -0.0005 L 200.134031 17.651844 L 199.259031 17.651844 Z M 200.134031 -0.0005 L 201.009031 -0.0005 L 201.009031 16.960438 L 200.134031 16.960438 Z M 201.009031 -0.0005 L 201.880125 -0.0005 L 201.880125 16.245594 L 201.009031 16.245594 Z M 201.880125 -0.0005 L 202.755125 -0.0005 L 202.755125 16.46825 L 201.880125 16.46825 Z M 202.755125 -0.0005 L 203.630125 -0.0005 L 203.630125 15.956531 L 202.755125 15.956531 Z M 203.630125 -0.0005 L 204.505125 -0.0005 L 204.505125 17.026844 L 203.630125 17.026844 Z M 204.505125 -0.0005 L 205.380125 -0.0005 L 205.380125 16.136219 L 204.505125 16.136219 Z M 205.380125 -0.0005 L 206.255125 -0.0005 L 206.255125 15.933094 L 205.380125 15.933094 Z M 206.255125 -0.0005 L 207.126219 -0.0005 L 207.126219 16.491688 L 206.255125 16.491688 Z M 207.126219 -0.0005 L 208.001219 -0.0005 L 208.001219 17.651844 L 207.126219 17.651844 Z M 208.001219 -0.0005 L 208.876219 -0.0005 L 208.876219 14.819813 L 208.001219 14.819813 Z M 208.876219 -0.0005 L 209.751219 -0.0005 L 209.751219 15.6245 L 208.876219 15.6245 Z M 209.751219 -0.0005 L 210.626219 -0.0005 L 210.626219 15.108875 L 209.751219 15.108875 Z M 210.626219 -0.0005 L 211.497312 -0.0005 L 211.497312 16.558094 L 210.626219 16.558094 Z M 211.497312 -0.0005 L 212.372312 -0.0005 L 212.372312 15.866688 L 211.497312 15.866688 Z M 212.372312 -0.0005 L 213.247312 -0.0005 L 213.247312 14.351063 L 212.372312 14.351063 Z M 213.247312 -0.0005 L 214.122312 -0.0005 L 214.122312 14.597156 L 213.247312 14.597156 Z M 214.122312 -0.0005 L 214.997312 -0.0005 L 214.997312 13.772938 L 214.122312 13.772938 Z M 214.997312 -0.0005 L 215.868406 -0.0005 L 215.868406 13.729969 L 214.997312 13.729969 Z M 215.868406 -0.0005 L 216.743406 -0.0005 L 216.743406 14.175281 L 215.868406 14.175281 Z M 216.743406 -0.0005 L 217.618406 -0.0005 L 217.618406 13.128406 L 216.743406 13.128406 Z M 217.618406 -0.0005 L 218.493406 -0.0005 L 218.493406 12.304188 L 217.618406 12.304188 Z M 218.493406 -0.0005 L 219.368406 -0.0005 L 219.368406 12.569813 L 218.493406 12.569813 Z M 219.368406 -0.0005 L 220.243406 -0.0005 L 220.243406 11.433094 L 219.368406 11.433094 Z M 220.243406 -0.0005 L 221.1145 -0.0005 L 221.1145 10.940906 L 220.243406 10.940906 Z M 221.1145 -0.0005 L 221.9895 -0.0005 L 221.9895 10.675281 L 221.1145 10.675281 Z M 221.9895 -0.0005 L 222.8645 -0.0005 L 222.8645 10.765125 L 221.9895 10.765125 Z M 222.8645 -0.0005 L 223.7395 -0.0005 L 223.7395 9.761219 L 222.8645 9.761219 Z M 223.7395 -0.0005 L 224.6145 -0.0005 L 224.6145 9.538563 L 223.7395 9.538563 Z M 224.6145 -0.0005 L 225.485594 -0.0005 L 225.485594 10.073719 L 224.6145 10.073719 Z M 225.485594 -0.0005 L 226.360594 -0.0005 L 226.360594 9.358875 L 225.485594 9.358875 Z M 226.360594 -0.0005 L 227.235594 -0.0005 L 227.235594 9.116688 L 226.360594 9.116688 Z M 227.235594 -0.0005 L 228.110594 -0.0005 L 228.110594 8.425281 L 227.235594 8.425281 Z M 228.110594 -0.0005 L 228.985594 -0.0005 L 228.985594 8.847156 L 228.110594 8.847156 Z M 228.985594 -0.0005 L 229.860594 -0.0005 L 229.860594 7.487781 L 228.985594 7.487781 Z M 229.860594 -0.0005 L 230.731687 -0.0005 L 230.731687 6.753406 L 229.860594 6.753406 Z M 230.731687 -0.0005 L 231.606687 -0.0005 L 231.606687 7.065906 L 230.731687 7.065906 Z M 231.606687 -0.0005 L 232.481687 -0.0005 L 232.481687 6.53075 L 231.606687 6.53075 Z M 232.481687 -0.0005 L 233.356687 -0.0005 L 233.356687 6.327625 L 232.481687 6.327625 Z M 233.356687 -0.0005 L 234.231687 -0.0005 L 234.231687 6.440906 L 233.356687 6.440906 Z M 234.231687 -0.0005 L 235.102781 -0.0005 L 235.102781 5.437 L 234.231687 5.437 Z M 235.102781 -0.0005 L 235.977781 -0.0005 L 235.977781 5.190906 L 235.102781 5.190906 Z M 235.977781 -0.0005 L 236.852781 -0.0005 L 236.852781 4.390125 L 235.977781 4.390125 Z M 236.852781 -0.0005 L 237.727781 -0.0005 L 237.727781 4.569813 L 236.852781 4.569813 Z M 237.727781 -0.0005 L 238.602781 -0.0005 L 238.602781 3.987781 L 237.727781 3.987781 Z M 238.602781 -0.0005 L 239.477781 -0.0005 L 239.477781 4.011219 L 238.602781 4.011219 Z M 239.477781 -0.0005 L 240.348875 -0.0005 L 240.348875 3.409656 L 239.477781 3.409656 Z M 240.348875 -0.0005 L 241.223875 -0.0005 L 241.223875 3.476063 L 240.348875 3.476063 Z M 241.223875 -0.0005 L 242.098875 -0.0005 L 242.098875 3.144031 L 241.223875 3.144031 Z M 242.098875 -0.0005 L 242.973875 -0.0005 L 242.973875 3.054188 L 242.098875 3.054188 Z M 242.973875 -0.0005 L 243.848875 -0.0005 L 243.848875 2.386219 L 242.973875 2.386219 Z M 243.848875 -0.0005 L 244.719969 -0.0005 L 244.719969 2.784656 L 243.848875 2.784656 Z M 244.719969 -0.0005 L 245.594969 -0.0005 L 245.594969 2.339344 L 244.719969 2.339344 Z M 245.594969 -0.0005 L 246.469969 -0.0005 L 246.469969 2.608875 L 245.594969 2.608875 Z M 246.469969 -0.0005 L 247.344969 -0.0005 L 247.344969 2.229969 L 246.469969 2.229969 Z M 247.344969 -0.0005 L 248.219969 -0.0005 L 248.219969 2.09325 L 247.344969 2.09325 Z M 248.219969 -0.0005 L 249.091062 -0.0005 L 249.091062 2.362781 L 248.219969 2.362781 Z M 249.091062 -0.0005 L 249.966062 -0.0005 L 249.966062 1.983875 L 249.091062 1.983875 Z M 249.966062 -0.0005 L 250.841062 -0.0005 L 250.841062 1.425281 L 249.966062 1.425281 Z M 250.841062 -0.0005 L 251.716062 -0.0005 L 251.716062 1.761219 L 250.841062 1.761219 Z M 251.716062 -0.0005 L 252.591062 -0.0005 L 252.591062 1.714344 L 251.716062 1.714344 Z M 252.591062 -0.0005 L 253.466062 -0.0005 L 253.466062 1.714344 L 252.591062 1.714344 Z M 253.466062 -0.0005 L 254.337156 -0.0005 L 254.337156 1.2495 L 253.466062 1.2495 Z M 254.337156 -0.0005 L 255.212156 -0.0005 L 255.212156 1.628406 L 254.337156 1.628406 Z M 255.212156 -0.0005 L 256.087156 -0.0005 L 256.087156 1.159656 L 255.212156 1.159656 Z M 256.087156 -0.0005 L 256.962156 -0.0005 L 256.962156 1.159656 L 256.087156 1.159656 Z M 256.962156 -0.0005 L 257.837156 -0.0005 L 257.837156 1.069813 L 256.962156 1.069813 Z M 257.837156 -0.0005 L 258.70825 -0.0005 L 258.70825 1.046375 L 257.837156 1.046375 Z M 258.70825 -0.0005 L 259.58325 -0.0005 L 259.58325 0.847156 L 258.70825 0.847156 Z M 259.58325 -0.0005 L 260.45825 -0.0005 L 260.45825 0.890125 L 259.58325 0.890125 Z M 260.45825 -0.0005 L 261.33325 -0.0005 L 261.33325 1.069813 L 260.45825 1.069813 Z M 261.33325 -0.0005 L 262.20825 -0.0005 L 262.20825 0.913563 L 261.33325 0.913563 Z M 262.20825 -0.0005 L 263.08325 -0.0005 L 263.08325 0.956531 L 262.20825 0.956531 Z M 263.08325 -0.0005 L 263.954344 -0.0005 L 263.954344 0.823719 L 263.08325 0.823719 Z M 263.954344 -0.0005 L 264.829344 -0.0005 L 264.829344 0.937 L 263.954344 0.937 Z M 264.829344 -0.0005 L 265.704344 -0.0005 L 265.704344 1.003406 L 264.829344 1.003406 Z M 265.704344 -0.0005 L 266.579344 -0.0005 L 266.579344 0.804188 L 265.704344 0.804188 Z M 266.579344 -0.0005 L 267.454344 -0.0005 L 267.454344 0.733875 L 266.579344 0.733875 Z M 267.454344 -0.0005 L 268.325438 -0.0005 L 268.325438 0.823719 L 267.454344 0.823719 Z M 268.325438 -0.0005 L 269.200438 -0.0005 L 269.200438 0.714344 L 268.325438 0.714344 Z M 269.200438 -0.0005 L 270.075438 -0.0005 L 270.075438 0.979969 L 269.200438 0.979969 Z M 270.075438 -0.0005 L 270.950438 -0.0005 L 270.950438 0.979969 L 270.075438 0.979969 Z M 270.950438 -0.0005 L 271.825438 -0.0005 L 271.825438 0.647938 L 270.950438 0.647938 Z M 271.825438 -0.0005 L 272.700438 -0.0005 L 272.700438 0.714344 L 271.825438 0.714344 Z M 272.700438 -0.0005 L 273.571531 -0.0005 L 273.571531 0.577625 L 272.700438 0.577625 Z M 273.571531 -0.0005 L 274.446531 -0.0005 L 274.446531 0.804188 L 273.571531 0.804188 Z M 274.446531 -0.0005 L 275.321531 -0.0005 L 275.321531 0.979969 L 274.446531 0.979969 Z M 275.321531 -0.0005 L 276.196531 -0.0005 L 276.196531 0.667469 L 275.321531 0.667469 Z M 276.196531 -0.0005 L 277.071531 -0.0005 L 277.071531 0.733875 L 276.196531 0.733875 Z M 277.071531 -0.0005 L 277.942625 -0.0005 L 277.942625 0.601063 L 277.071531 0.601063 Z M 277.942625 -0.0005 L 278.817625 -0.0005 L 278.817625 0.937 L 277.942625 0.937 Z M 278.817625 -0.0005 L 279.692625 -0.0005 L 279.692625 0.647938 L 278.817625 0.647938 Z M 279.692625 -0.0005 L 280.567625 -0.0005 L 280.567625 0.6245 L 279.692625 0.6245 Z M 280.567625 -0.0005 L 281.442625 -0.0005 L 281.442625 0.354969 L 280.567625 0.354969 Z M 281.442625 -0.0005 L 282.313719 -0.0005 L 282.313719 0.78075 L 281.442625 0.78075 Z M 282.313719 -0.0005 L 283.188719 -0.0005 L 283.188719 0.491688 L 282.313719 0.491688 Z M 283.188719 -0.0005 L 284.063719 -0.0005 L 284.063719 0.757313 L 283.188719 0.757313 Z M 284.063719 -0.0005 L 284.938719 -0.0005 L 284.938719 0.847156 L 284.063719 0.847156 Z M 284.938719 -0.0005 L 285.813719 -0.0005 L 285.813719 0.823719 L 284.938719 0.823719 Z M 285.813719 -0.0005 L 286.688719 -0.0005 L 286.688719 0.601063 L 285.813719 0.601063 Z M 286.688719 -0.0005 L 287.559813 -0.0005 L 287.559813 0.757313 L 286.688719 0.757313 Z M 287.559813 -0.0005 L 288.434813 -0.0005 L 288.434813 0.690906 L 287.559813 0.690906 Z M 288.434813 -0.0005 L 289.309813 -0.0005 L 289.309813 0.601063 L 288.434813 0.601063 Z M 289.309813 -0.0005 L 290.184813 -0.0005 L 290.184813 0.714344 L 289.309813 0.714344 Z M 290.184813 -0.0005 L 291.059813 -0.0005 L 291.059813 0.534656 L 290.184813 0.534656 Z M 291.059813 -0.0005 L 291.930906 -0.0005 L 291.930906 0.733875 L 291.059813 0.733875 Z M 291.930906 -0.0005 L 292.805906 -0.0005 L 292.805906 0.401844 L 291.930906 0.401844 Z M 292.805906 -0.0005 L 293.680906 -0.0005 L 293.680906 0.601063 L 292.805906 0.601063 Z M 293.680906 -0.0005 L 294.555906 -0.0005 L 294.555906 0.667469 L 293.680906 0.667469 Z M 294.555906 -0.0005 L 295.430906 -0.0005 L 295.430906 0.46825 L 294.555906 0.46825 Z M 295.430906 -0.0005 L 296.305906 -0.0005 L 296.305906 0.577625 L 295.430906 0.577625 Z M 296.305906 -0.0005 L 297.177 -0.0005 L 297.177 0.378406 L 296.305906 0.378406 Z M 297.177 -0.0005 L 298.052 -0.0005 L 298.052 0.444813 L 297.177 0.444813 Z M 298.052 -0.0005 L 298.927 -0.0005 L 298.927 0.6245 L 298.052 0.6245 Z M 298.927 -0.0005 L 299.802 -0.0005 L 299.802 0.577625 L 298.927 0.577625 Z M 299.802 -0.0005 L 300.677 -0.0005 L 300.677 0.401844 L 299.802 0.401844 Z M 300.677 -0.0005 L 301.548094 -0.0005 L 301.548094 0.46825 L 300.677 0.46825 Z M 301.548094 -0.0005 L 302.423094 -0.0005 L 302.423094 0.444813 L 301.548094 0.444813 Z M 302.423094 -0.0005 L 303.298094 -0.0005 L 303.298094 0.335438 L 302.423094 0.335438 Z M 303.298094 -0.0005 L 304.173094 -0.0005 L 304.173094 0.335438 L 303.298094 0.335438 Z M 304.173094 -0.0005 L 305.048094 -0.0005 L 305.048094 0.312 L 304.173094 0.312 Z M 305.048094 -0.0005 L 305.923094 -0.0005 L 305.923094 0.378406 L 305.048094 0.378406 Z M 305.923094 -0.0005 L 306.794188 -0.0005 L 306.794188 0.288563 L 305.923094 0.288563 Z M 306.794188 -0.0005 L 307.669188 -0.0005 L 307.669188 0.558094 L 306.794188 0.558094 Z M 307.669188 -0.0005 L 308.544188 -0.0005 L 308.544188 0.511219 L 307.669188 0.511219 Z M 308.544188 -0.0005 L 309.419188 -0.0005 L 309.419188 0.511219 L 308.544188 0.511219 Z M 309.419188 -0.0005 L 310.294188 -0.0005 L 310.294188 0.354969 L 309.419188 0.354969 Z M 310.294188 -0.0005 L 311.165281 -0.0005 L 311.165281 0.378406 L 310.294188 0.378406 Z M 311.165281 -0.0005 L 312.040281 -0.0005 L 312.040281 0.425281 L 311.165281 0.425281 Z M 312.040281 -0.0005 L 312.915281 -0.0005 L 312.915281 0.222156 L 312.040281 0.222156 Z M 312.915281 -0.0005 L 313.790281 -0.0005 L 313.790281 0.354969 L 312.915281 0.354969 Z M 313.790281 -0.0005 L 314.665281 -0.0005 L 314.665281 0.425281 L 313.790281 0.425281 Z M 314.665281 -0.0005 L 315.536375 -0.0005 L 315.536375 0.288563 L 314.665281 0.288563 Z M 315.536375 -0.0005 L 316.411375 -0.0005 L 316.411375 117.538563 L 315.536375 117.538563 Z M 315.536375 -0.0005 \" transform=\"matrix(1,0,0,-1,19.573,260.187)\"/>\n",
       "</g>\n",
       "<g style=\"fill:rgb(0%,0%,0%);fill-opacity:1;\">\n",
       "  <use xlink:href=\"#glyph-1487623024713066-1-7\" x=\"148.136\" y=\"10.128\"/>\n",
       "  <use xlink:href=\"#glyph-1487623024713066-1-8\" x=\"155.331019\" y=\"10.128\"/>\n",
       "  <use xlink:href=\"#glyph-1487623024713066-1-9\" x=\"158.09864\" y=\"10.128\"/>\n",
       "  <use xlink:href=\"#glyph-1487623024713066-1-10\" x=\"166.400508\" y=\"10.128\"/>\n",
       "  <use xlink:href=\"#glyph-1487623024713066-1-11\" x=\"170.827905\" y=\"10.128\"/>\n",
       "  <use xlink:href=\"#glyph-1487623024713066-1-12\" x=\"175.809225\" y=\"10.128\"/>\n",
       "  <use xlink:href=\"#glyph-1487623024713066-1-13\" x=\"180.790545\" y=\"10.128\"/>\n",
       "</g>\n",
       "<path style=\"fill:none;stroke-width:0.19925;stroke-linecap:butt;stroke-linejoin:miter;stroke:rgb(50%,50%,50%);stroke-opacity:1;stroke-miterlimit:10;\" d=\"M -0.235625 0.00159375 L -0.235625 4.251594 M -0.235625 238.638312 L -0.235625 234.388312 M 49.526094 0.00159375 L 49.526094 4.251594 M 49.526094 238.638312 L 49.526094 234.388312 M 99.287813 0.00159375 L 99.287813 4.251594 M 99.287813 238.638312 L 99.287813 234.388312 M 149.049531 0.00159375 L 149.049531 4.251594 M 149.049531 238.638312 L 149.049531 234.388312 M 198.81125 0.00159375 L 198.81125 4.251594 M 198.81125 238.638312 L 198.81125 234.388312 M 248.572969 0.00159375 L 248.572969 4.251594 M 248.572969 238.638312 L 248.572969 234.388312 \" transform=\"matrix(1,0,0,-1,391.345,260.193)\"/>\n",
       "<path style=\"fill:none;stroke-width:0.19925;stroke-linecap:butt;stroke-linejoin:miter;stroke:rgb(50%,50%,50%);stroke-opacity:1;stroke-miterlimit:10;\" d=\"M -26.848906 0.00159375 L -22.598906 0.00159375 M 268.479219 0.00159375 L 264.225313 0.00159375 M -26.848906 52.66175 L -22.598906 52.66175 M 268.479219 52.66175 L 264.225313 52.66175 M -26.848906 105.325812 L -22.598906 105.325812 M 268.479219 105.325812 L 264.225313 105.325812 M -26.848906 157.989875 L -22.598906 157.989875 M 268.479219 157.989875 L 264.225313 157.989875 M -26.848906 210.650031 L -22.598906 210.650031 M 268.479219 210.650031 L 264.225313 210.650031 \" transform=\"matrix(1,0,0,-1,391.345,260.193)\"/>\n",
       "<g clip-path=\"url(#clip-1487623024713066-2)\" clip-rule=\"nonzero\">\n",
       "<path style=\"fill:none;stroke-width:0.3985;stroke-linecap:butt;stroke-linejoin:miter;stroke:rgb(0%,0%,0%);stroke-opacity:1;stroke-miterlimit:10;\" d=\"M -26.848906 0.00159375 L -26.848906 238.638312 L 268.479219 238.638312 L 268.479219 0.00159375 Z M -26.848906 0.00159375 \" transform=\"matrix(1,0,0,-1,391.345,260.193)\"/>\n",
       "</g>\n",
       "<g style=\"fill:rgb(0%,0%,0%);fill-opacity:1;\">\n",
       "  <use xlink:href=\"#glyph-1487623024713066-1-3\" x=\"388.617\" y=\"270.133\"/>\n",
       "</g>\n",
       "<g style=\"fill:rgb(0%,0%,0%);fill-opacity:1;\">\n",
       "  <use xlink:href=\"#glyph-1487623024713066-1-14\" x=\"438.379\" y=\"270.133\"/>\n",
       "</g>\n",
       "<g style=\"fill:rgb(0%,0%,0%);fill-opacity:1;\">\n",
       "  <use xlink:href=\"#glyph-1487623024713066-1-6\" x=\"485.649\" y=\"270.133\"/>\n",
       "  <use xlink:href=\"#glyph-1487623024713066-1-3\" x=\"490.63032\" y=\"270.133\"/>\n",
       "</g>\n",
       "<g style=\"fill:rgb(0%,0%,0%);fill-opacity:1;\">\n",
       "  <use xlink:href=\"#glyph-1487623024713066-1-6\" x=\"535.411\" y=\"270.133\"/>\n",
       "  <use xlink:href=\"#glyph-1487623024713066-1-14\" x=\"540.39232\" y=\"270.133\"/>\n",
       "</g>\n",
       "<g style=\"fill:rgb(0%,0%,0%);fill-opacity:1;\">\n",
       "  <use xlink:href=\"#glyph-1487623024713066-1-2\" x=\"585.172\" y=\"270.133\"/>\n",
       "  <use xlink:href=\"#glyph-1487623024713066-1-3\" x=\"590.15332\" y=\"270.133\"/>\n",
       "</g>\n",
       "<g style=\"fill:rgb(0%,0%,0%);fill-opacity:1;\">\n",
       "  <use xlink:href=\"#glyph-1487623024713066-1-2\" x=\"634.934\" y=\"270.133\"/>\n",
       "  <use xlink:href=\"#glyph-1487623024713066-1-14\" x=\"639.91532\" y=\"270.133\"/>\n",
       "</g>\n",
       "<g style=\"fill:rgb(0%,0%,0%);fill-opacity:1;\">\n",
       "  <use xlink:href=\"#glyph-1487623024713066-1-3\" x=\"355.994\" y=\"263.403\"/>\n",
       "</g>\n",
       "<g style=\"fill:rgb(0%,0%,0%);fill-opacity:1;\">\n",
       "  <use xlink:href=\"#glyph-1487623024713066-1-2\" x=\"338.283\" y=\"209.773\"/>\n",
       "</g>\n",
       "<g style=\"fill:rgb(0%,0%,0%);fill-opacity:1;\">\n",
       "  <use xlink:href=\"#glyph-1487623024713066-2-2\" x=\"343.264\" y=\"209.773\"/>\n",
       "</g>\n",
       "<g style=\"fill:rgb(0%,0%,0%);fill-opacity:1;\">\n",
       "  <use xlink:href=\"#glyph-1487623024713066-1-3\" x=\"346.032\" y=\"209.773\"/>\n",
       "  <use xlink:href=\"#glyph-1487623024713066-1-3\" x=\"351.01332\" y=\"209.773\"/>\n",
       "  <use xlink:href=\"#glyph-1487623024713066-1-3\" x=\"355.99464\" y=\"209.773\"/>\n",
       "</g>\n",
       "<g style=\"fill:rgb(0%,0%,0%);fill-opacity:1;\">\n",
       "  <use xlink:href=\"#glyph-1487623024713066-1-1\" x=\"338.283\" y=\"157.111\"/>\n",
       "</g>\n",
       "<g style=\"fill:rgb(0%,0%,0%);fill-opacity:1;\">\n",
       "  <use xlink:href=\"#glyph-1487623024713066-2-2\" x=\"343.264\" y=\"157.111\"/>\n",
       "</g>\n",
       "<g style=\"fill:rgb(0%,0%,0%);fill-opacity:1;\">\n",
       "  <use xlink:href=\"#glyph-1487623024713066-1-3\" x=\"346.032\" y=\"157.111\"/>\n",
       "  <use xlink:href=\"#glyph-1487623024713066-1-3\" x=\"351.01332\" y=\"157.111\"/>\n",
       "  <use xlink:href=\"#glyph-1487623024713066-1-3\" x=\"355.99464\" y=\"157.111\"/>\n",
       "</g>\n",
       "<g style=\"fill:rgb(0%,0%,0%);fill-opacity:1;\">\n",
       "  <use xlink:href=\"#glyph-1487623024713066-1-4\" x=\"338.283\" y=\"104.449\"/>\n",
       "</g>\n",
       "<g style=\"fill:rgb(0%,0%,0%);fill-opacity:1;\">\n",
       "  <use xlink:href=\"#glyph-1487623024713066-2-2\" x=\"343.264\" y=\"104.449\"/>\n",
       "</g>\n",
       "<g style=\"fill:rgb(0%,0%,0%);fill-opacity:1;\">\n",
       "  <use xlink:href=\"#glyph-1487623024713066-1-3\" x=\"346.032\" y=\"104.449\"/>\n",
       "  <use xlink:href=\"#glyph-1487623024713066-1-3\" x=\"351.01332\" y=\"104.449\"/>\n",
       "  <use xlink:href=\"#glyph-1487623024713066-1-3\" x=\"355.99464\" y=\"104.449\"/>\n",
       "</g>\n",
       "<g style=\"fill:rgb(0%,0%,0%);fill-opacity:1;\">\n",
       "  <use xlink:href=\"#glyph-1487623024713066-1-5\" x=\"338.283\" y=\"51.787\"/>\n",
       "</g>\n",
       "<g style=\"fill:rgb(0%,0%,0%);fill-opacity:1;\">\n",
       "  <use xlink:href=\"#glyph-1487623024713066-2-2\" x=\"343.264\" y=\"51.787\"/>\n",
       "</g>\n",
       "<g style=\"fill:rgb(0%,0%,0%);fill-opacity:1;\">\n",
       "  <use xlink:href=\"#glyph-1487623024713066-1-3\" x=\"346.032\" y=\"51.787\"/>\n",
       "  <use xlink:href=\"#glyph-1487623024713066-1-3\" x=\"351.01332\" y=\"51.787\"/>\n",
       "  <use xlink:href=\"#glyph-1487623024713066-1-3\" x=\"355.99464\" y=\"51.787\"/>\n",
       "</g>\n",
       "<g clip-path=\"url(#clip-1487623024713066-3)\" clip-rule=\"nonzero\">\n",
       "<path style=\"fill-rule:nonzero;fill:rgb(89.99939%,89.99939%,100%);fill-opacity:1;stroke-width:0.3985;stroke-linecap:butt;stroke-linejoin:miter;stroke:rgb(0%,0%,100%);stroke-opacity:1;stroke-miterlimit:10;\" d=\"M -0.00125 0.00159375 L 5.233125 0.00159375 L 5.233125 112.435187 L -0.00125 112.435187 Z M 5.233125 0.00159375 L 10.4675 0.00159375 L 10.4675 152.142219 L 5.233125 152.142219 Z M 10.4675 0.00159375 L 15.701875 0.00159375 L 15.701875 201.728156 L 10.4675 201.728156 Z M 15.701875 0.00159375 L 20.93625 0.00159375 L 20.93625 213.548469 L 15.701875 213.548469 Z M 20.93625 0.00159375 L 26.170625 0.00159375 L 26.170625 216.946906 L 20.93625 216.946906 Z M 26.170625 0.00159375 L 31.405 0.00159375 L 31.405 203.989875 L 26.170625 203.989875 Z M 31.405 0.00159375 L 36.639375 0.00159375 L 36.639375 181.712531 L 31.405 181.712531 Z M 36.639375 0.00159375 L 41.869844 0.00159375 L 41.869844 162.728156 L 36.639375 162.728156 Z M 41.869844 0.00159375 L 47.104219 0.00159375 L 47.104219 149.275031 L 41.869844 149.275031 Z M 47.104219 0.00159375 L 52.338594 0.00159375 L 52.338594 136.739875 L 47.104219 136.739875 Z M 52.338594 0.00159375 L 57.572969 0.00159375 L 57.572969 127.235969 L 52.338594 127.235969 Z M 57.572969 0.00159375 L 62.807344 0.00159375 L 62.807344 114.306281 L 57.572969 114.306281 Z M 62.807344 0.00159375 L 68.041719 0.00159375 L 68.041719 105.298469 L 62.807344 105.298469 Z M 68.041719 0.00159375 L 73.276094 0.00159375 L 73.276094 102.243781 L 68.041719 102.243781 Z M 73.276094 0.00159375 L 78.510469 0.00159375 L 78.510469 95.610969 L 73.276094 95.610969 Z M 78.510469 0.00159375 L 83.744844 0.00159375 L 83.744844 88.318 L 78.510469 88.318 Z M 83.744844 0.00159375 L 88.975313 0.00159375 L 88.975313 81.626594 L 83.744844 81.626594 Z M 88.975313 0.00159375 L 94.209688 0.00159375 L 94.209688 75.704719 L 88.975313 75.704719 Z M 94.209688 0.00159375 L 99.444063 0.00159375 L 99.444063 71.857062 L 94.209688 71.857062 Z M 99.444063 0.00159375 L 104.678438 0.00159375 L 104.678438 69.040656 L 99.444063 69.040656 Z M 104.678438 0.00159375 L 109.912813 0.00159375 L 109.912813 64.591437 L 104.678438 64.591437 Z M 109.912813 0.00159375 L 115.147188 0.00159375 L 115.147188 61.009406 L 109.912813 61.009406 Z M 115.147188 0.00159375 L 120.381563 0.00159375 L 120.381563 55.716437 L 115.147188 55.716437 Z M 120.381563 0.00159375 L 125.615938 0.00159375 L 125.615938 55.321906 L 120.381563 55.321906 Z M 125.615938 0.00159375 L 130.850313 0.00159375 L 130.850313 54.34925 L 125.615938 54.34925 Z M 130.850313 0.00159375 L 136.084688 0.00159375 L 136.084688 50.189094 L 130.850313 50.189094 Z M 136.084688 0.00159375 L 141.315156 0.00159375 L 141.315156 50.478156 L 136.084688 50.478156 Z M 141.315156 0.00159375 L 146.549531 0.00159375 L 146.549531 48.028937 L 141.315156 48.028937 Z M 146.549531 0.00159375 L 151.783906 0.00159375 L 151.783906 43.446906 L 146.549531 43.446906 Z M 151.783906 0.00159375 L 157.018281 0.00159375 L 157.018281 41.235969 L 151.783906 41.235969 Z M 157.018281 0.00159375 L 162.252656 0.00159375 L 162.252656 41.603156 L 157.018281 41.603156 Z M 162.252656 0.00159375 L 167.487031 0.00159375 L 167.487031 38.814094 L 162.252656 38.814094 Z M 167.487031 0.00159375 L 172.721406 0.00159375 L 172.721406 36.78675 L 167.487031 36.78675 Z M 172.721406 0.00159375 L 177.955781 0.00159375 L 177.955781 36.364875 L 172.721406 36.364875 Z M 177.955781 0.00159375 L 183.190156 0.00159375 L 183.190156 36.837531 L 177.955781 36.837531 Z M 183.190156 0.00159375 L 188.420625 0.00159375 L 188.420625 34.521125 L 183.190156 34.521125 Z M 188.420625 0.00159375 L 193.655 0.00159375 L 193.655 31.41175 L 188.420625 31.41175 Z M 193.655 0.00159375 L 198.889375 0.00159375 L 198.889375 29.833625 L 193.655 29.833625 Z M 198.889375 0.00159375 L 204.12375 0.00159375 L 204.12375 29.595344 L 198.889375 29.595344 Z M 204.12375 0.00159375 L 209.358125 0.00159375 L 209.358125 30.177375 L 204.12375 30.177375 Z M 209.358125 0.00159375 L 214.5925 0.00159375 L 214.5925 27.489875 L 209.358125 27.489875 Z M 214.5925 0.00159375 L 219.826875 0.00159375 L 219.826875 26.095344 L 214.5925 26.095344 Z M 219.826875 0.00159375 L 225.06125 0.00159375 L 225.06125 25.884406 L 219.826875 25.884406 Z M 225.06125 0.00159375 L 230.295625 0.00159375 L 230.295625 25.700812 L 225.06125 25.700812 Z M 230.295625 0.00159375 L 235.526094 0.00159375 L 235.526094 23.435187 L 230.295625 23.435187 Z M 235.526094 0.00159375 L 240.760469 0.00159375 L 240.760469 24.489875 L 235.526094 24.489875 Z M 240.760469 0.00159375 L 245.994844 0.00159375 L 245.994844 22.985969 L 240.760469 22.985969 Z M 245.994844 0.00159375 L 251.229219 0.00159375 L 251.229219 21.618781 L 245.994844 21.618781 Z M 251.229219 0.00159375 L 256.463594 0.00159375 L 256.463594 20.829719 L 251.229219 20.829719 Z M 256.463594 0.00159375 L 261.697969 0.00159375 L 261.697969 21.3805 L 256.463594 21.3805 Z M 261.697969 0.00159375 L 266.932344 0.00159375 L 266.932344 20.013312 L 261.697969 20.013312 Z M 266.932344 0.00159375 L 272.166719 0.00159375 L 272.166719 20.642219 L 266.932344 20.642219 Z M 272.166719 0.00159375 L 277.401094 0.00159375 L 277.401094 19.247687 L 272.166719 19.247687 Z M 277.401094 0.00159375 L 282.631563 0.00159375 L 282.631563 19.142219 L 277.401094 19.142219 Z M 282.631563 0.00159375 L 287.865938 0.00159375 L 287.865938 16.614875 L 282.631563 16.614875 Z M 287.865938 0.00159375 L 293.100313 0.00159375 L 293.100313 17.775031 L 287.865938 17.775031 Z M 293.100313 0.00159375 L 298.334688 0.00159375 L 298.334688 6646.489875 L 293.100313 6646.489875 Z M 293.100313 0.00159375 \" transform=\"matrix(1,0,0,-1,391.345,260.193)\"/>\n",
       "</g>\n",
       "<g style=\"fill:rgb(0%,0%,0%);fill-opacity:1;\">\n",
       "  <use xlink:href=\"#glyph-1487623024713066-1-7\" x=\"474.217\" y=\"12.059\"/>\n",
       "  <use xlink:href=\"#glyph-1487623024713066-1-8\" x=\"481.412019\" y=\"12.059\"/>\n",
       "  <use xlink:href=\"#glyph-1487623024713066-1-9\" x=\"484.17964\" y=\"12.059\"/>\n",
       "  <use xlink:href=\"#glyph-1487623024713066-1-10\" x=\"492.481508\" y=\"12.059\"/>\n",
       "</g>\n",
       "<g style=\"fill:rgb(0%,0%,0%);fill-opacity:1;\">\n",
       "  <use xlink:href=\"#glyph-1487623024713066-1-15\" x=\"500.226464\" y=\"12.059\"/>\n",
       "  <use xlink:href=\"#glyph-1487623024713066-1-16\" x=\"504.100935\" y=\"12.059\"/>\n",
       "</g>\n",
       "<g style=\"fill:rgb(0%,0%,0%);fill-opacity:1;\">\n",
       "  <use xlink:href=\"#glyph-1487623024713066-1-17\" x=\"512.399814\" y=\"12.059\"/>\n",
       "  <use xlink:href=\"#glyph-1487623024713066-1-16\" x=\"519.594833\" y=\"12.059\"/>\n",
       "  <use xlink:href=\"#glyph-1487623024713066-1-18\" x=\"524.576153\" y=\"12.059\"/>\n",
       "  <use xlink:href=\"#glyph-1487623024713066-1-18\" x=\"527.343774\" y=\"12.059\"/>\n",
       "  <use xlink:href=\"#glyph-1487623024713066-1-8\" x=\"530.111395\" y=\"12.059\"/>\n",
       "  <use xlink:href=\"#glyph-1487623024713066-1-19\" x=\"532.879017\" y=\"12.059\"/>\n",
       "  <use xlink:href=\"#glyph-1487623024713066-1-8\" x=\"536.808282\" y=\"12.059\"/>\n",
       "  <use xlink:href=\"#glyph-1487623024713066-1-16\" x=\"539.575903\" y=\"12.059\"/>\n",
       "  <use xlink:href=\"#glyph-1487623024713066-1-20\" x=\"544.557223\" y=\"12.059\"/>\n",
       "</g>\n",
       "<path style=\"fill:none;stroke-width:0.19925;stroke-linecap:butt;stroke-linejoin:miter;stroke:rgb(50%,50%,50%);stroke-opacity:1;stroke-miterlimit:10;\" d=\"M -17.217156 -0.00165625 L -17.217156 4.25225 M -17.217156 238.642875 L -17.217156 234.388969 M 22.110969 -0.00165625 L 22.110969 4.25225 M 22.110969 238.642875 L 22.110969 234.388969 M 61.439094 -0.00165625 L 61.439094 4.25225 M 61.439094 238.642875 L 61.439094 234.388969 M 100.767219 -0.00165625 L 100.767219 4.25225 M 100.767219 238.642875 L 100.767219 234.388969 M 140.091437 -0.00165625 L 140.091437 4.25225 M 140.091437 238.642875 L 140.091437 234.388969 M 179.419562 -0.00165625 L 179.419562 4.25225 M 179.419562 238.642875 L 179.419562 234.388969 M 218.747687 -0.00165625 L 218.747687 4.25225 M 218.747687 238.642875 L 218.747687 234.388969 M 258.075812 -0.00165625 L 258.075812 4.25225 M 258.075812 238.642875 L 258.075812 234.388969 \" transform=\"matrix(1,0,0,-1,44.182,541.346)\"/>\n",
       "<path style=\"fill:none;stroke-width:0.19925;stroke-linecap:butt;stroke-linejoin:miter;stroke:rgb(50%,50%,50%);stroke-opacity:1;stroke-miterlimit:10;\" d=\"M -24.611688 -0.00165625 L -20.361688 -0.00165625 M 270.712531 -0.00165625 L 266.462531 -0.00165625 M -24.611688 43.510063 L -20.361688 43.510063 M 270.712531 43.510063 L 266.462531 43.510063 M -24.611688 87.021781 L -20.361688 87.021781 M 270.712531 87.021781 L 266.462531 87.021781 M -24.611688 130.5335 L -20.361688 130.5335 M 270.712531 130.5335 L 266.462531 130.5335 M -24.611688 174.045219 L -20.361688 174.045219 M 270.712531 174.045219 L 266.462531 174.045219 M -24.611688 217.556938 L -20.361688 217.556938 M 270.712531 217.556938 L 266.462531 217.556938 \" transform=\"matrix(1,0,0,-1,44.182,541.346)\"/>\n",
       "<path style=\"fill:none;stroke-width:0.3985;stroke-linecap:butt;stroke-linejoin:miter;stroke:rgb(0%,0%,0%);stroke-opacity:1;stroke-miterlimit:10;\" d=\"M -24.611688 -0.00165625 L -24.611688 238.642875 L 270.712531 238.642875 L 270.712531 -0.00165625 Z M -24.611688 -0.00165625 \" transform=\"matrix(1,0,0,-1,44.182,541.346)\"/>\n",
       "<g style=\"fill:rgb(0%,0%,0%);fill-opacity:1;\">\n",
       "  <use xlink:href=\"#glyph-1487623024713066-1-3\" x=\"24.474\" y=\"551.286\"/>\n",
       "</g>\n",
       "<g style=\"fill:rgb(0%,0%,0%);fill-opacity:1;\">\n",
       "  <use xlink:href=\"#glyph-1487623024713066-1-14\" x=\"63.801\" y=\"551.286\"/>\n",
       "</g>\n",
       "<g style=\"fill:rgb(0%,0%,0%);fill-opacity:1;\">\n",
       "  <use xlink:href=\"#glyph-1487623024713066-1-6\" x=\"100.638\" y=\"551.286\"/>\n",
       "  <use xlink:href=\"#glyph-1487623024713066-1-3\" x=\"105.61932\" y=\"551.286\"/>\n",
       "</g>\n",
       "<g style=\"fill:rgb(0%,0%,0%);fill-opacity:1;\">\n",
       "  <use xlink:href=\"#glyph-1487623024713066-1-6\" x=\"139.965\" y=\"551.286\"/>\n",
       "  <use xlink:href=\"#glyph-1487623024713066-1-14\" x=\"144.94632\" y=\"551.286\"/>\n",
       "</g>\n",
       "<g style=\"fill:rgb(0%,0%,0%);fill-opacity:1;\">\n",
       "  <use xlink:href=\"#glyph-1487623024713066-1-2\" x=\"179.292\" y=\"551.286\"/>\n",
       "  <use xlink:href=\"#glyph-1487623024713066-1-3\" x=\"184.27332\" y=\"551.286\"/>\n",
       "</g>\n",
       "<g style=\"fill:rgb(0%,0%,0%);fill-opacity:1;\">\n",
       "  <use xlink:href=\"#glyph-1487623024713066-1-2\" x=\"218.619\" y=\"551.286\"/>\n",
       "  <use xlink:href=\"#glyph-1487623024713066-1-14\" x=\"223.60032\" y=\"551.286\"/>\n",
       "</g>\n",
       "<g style=\"fill:rgb(0%,0%,0%);fill-opacity:1;\">\n",
       "  <use xlink:href=\"#glyph-1487623024713066-1-21\" x=\"257.946\" y=\"551.286\"/>\n",
       "  <use xlink:href=\"#glyph-1487623024713066-1-3\" x=\"262.92732\" y=\"551.286\"/>\n",
       "</g>\n",
       "<g style=\"fill:rgb(0%,0%,0%);fill-opacity:1;\">\n",
       "  <use xlink:href=\"#glyph-1487623024713066-1-21\" x=\"297.273\" y=\"551.286\"/>\n",
       "  <use xlink:href=\"#glyph-1487623024713066-1-14\" x=\"302.25432\" y=\"551.286\"/>\n",
       "</g>\n",
       "<g style=\"fill:rgb(0%,0%,0%);fill-opacity:1;\">\n",
       "  <use xlink:href=\"#glyph-1487623024713066-1-3\" x=\"11.069\" y=\"544.556\"/>\n",
       "</g>\n",
       "<g style=\"fill:rgb(0%,0%,0%);fill-opacity:1;\">\n",
       "  <use xlink:href=\"#glyph-1487623024713066-1-3\" x=\"3.321\" y=\"501.045\"/>\n",
       "</g>\n",
       "<g style=\"fill:rgb(0%,0%,0%);fill-opacity:1;\">\n",
       "  <use xlink:href=\"#glyph-1487623024713066-2-1\" x=\"8.302\" y=\"501.045\"/>\n",
       "</g>\n",
       "<g style=\"fill:rgb(0%,0%,0%);fill-opacity:1;\">\n",
       "  <use xlink:href=\"#glyph-1487623024713066-1-2\" x=\"11.069\" y=\"501.045\"/>\n",
       "</g>\n",
       "<g style=\"fill:rgb(0%,0%,0%);fill-opacity:1;\">\n",
       "  <use xlink:href=\"#glyph-1487623024713066-1-3\" x=\"3.321\" y=\"457.535\"/>\n",
       "</g>\n",
       "<g style=\"fill:rgb(0%,0%,0%);fill-opacity:1;\">\n",
       "  <use xlink:href=\"#glyph-1487623024713066-2-1\" x=\"8.302\" y=\"457.535\"/>\n",
       "</g>\n",
       "<g style=\"fill:rgb(0%,0%,0%);fill-opacity:1;\">\n",
       "  <use xlink:href=\"#glyph-1487623024713066-1-1\" x=\"11.069\" y=\"457.535\"/>\n",
       "</g>\n",
       "<g style=\"fill:rgb(0%,0%,0%);fill-opacity:1;\">\n",
       "  <use xlink:href=\"#glyph-1487623024713066-1-3\" x=\"3.321\" y=\"414.024\"/>\n",
       "</g>\n",
       "<g style=\"fill:rgb(0%,0%,0%);fill-opacity:1;\">\n",
       "  <use xlink:href=\"#glyph-1487623024713066-2-1\" x=\"8.302\" y=\"414.024\"/>\n",
       "</g>\n",
       "<g style=\"fill:rgb(0%,0%,0%);fill-opacity:1;\">\n",
       "  <use xlink:href=\"#glyph-1487623024713066-1-4\" x=\"11.069\" y=\"414.024\"/>\n",
       "</g>\n",
       "<g style=\"fill:rgb(0%,0%,0%);fill-opacity:1;\">\n",
       "  <use xlink:href=\"#glyph-1487623024713066-1-3\" x=\"3.321\" y=\"370.514\"/>\n",
       "</g>\n",
       "<g style=\"fill:rgb(0%,0%,0%);fill-opacity:1;\">\n",
       "  <use xlink:href=\"#glyph-1487623024713066-2-1\" x=\"8.302\" y=\"370.514\"/>\n",
       "</g>\n",
       "<g style=\"fill:rgb(0%,0%,0%);fill-opacity:1;\">\n",
       "  <use xlink:href=\"#glyph-1487623024713066-1-5\" x=\"11.069\" y=\"370.514\"/>\n",
       "</g>\n",
       "<g style=\"fill:rgb(0%,0%,0%);fill-opacity:1;\">\n",
       "  <use xlink:href=\"#glyph-1487623024713066-1-6\" x=\"11.069\" y=\"327.003\"/>\n",
       "</g>\n",
       "<g style=\"fill:rgb(0%,0%,0%);fill-opacity:1;\">\n",
       "  <use xlink:href=\"#glyph-1487623024713066-0-2\" x=\"22.758\" y=\"295.348\"/>\n",
       "</g>\n",
       "<g style=\"fill:rgb(0%,0%,0%);fill-opacity:1;\">\n",
       "  <use xlink:href=\"#glyph-1487623024713066-1-6\" x=\"25.526\" y=\"295.348\"/>\n",
       "  <use xlink:href=\"#glyph-1487623024713066-1-3\" x=\"30.50732\" y=\"295.348\"/>\n",
       "</g>\n",
       "<g style=\"fill:rgb(0%,0%,0%);fill-opacity:1;\">\n",
       "  <use xlink:href=\"#glyph-1487623024713066-3-1\" x=\"35.489\" y=\"291.733\"/>\n",
       "</g>\n",
       "<g clip-path=\"url(#clip-1487623024713066-4)\" clip-rule=\"nonzero\">\n",
       "<path style=\" stroke:none;fill-rule:nonzero;fill:rgb(89.99939%,89.99939%,100%);fill-opacity:1;\" d=\"M 44.183594 541.347656 L 45.605469 541.347656 L 45.605469 527.75 L 44.183594 527.75 Z M 45.605469 541.347656 L 47.027344 541.347656 L 47.027344 528.074219 L 45.605469 528.074219 Z M 47.027344 541.347656 L 48.449219 541.347656 L 48.449219 527.769531 L 47.027344 527.769531 Z M 48.449219 541.347656 L 49.871094 541.347656 L 49.871094 527.53125 L 48.449219 527.53125 Z M 49.871094 541.347656 L 51.292969 541.347656 L 51.292969 528.140625 L 49.871094 528.140625 Z M 51.292969 541.347656 L 52.71875 541.347656 L 52.71875 527.988281 L 51.292969 527.988281 Z M 52.71875 541.347656 L 54.140625 541.347656 L 54.140625 527.597656 L 52.71875 527.597656 Z M 54.140625 541.347656 L 55.5625 541.347656 L 55.5625 526.726562 L 54.140625 526.726562 Z M 55.5625 541.347656 L 56.984375 541.347656 L 56.984375 528.921875 L 55.5625 528.921875 Z M 56.984375 541.347656 L 58.40625 541.347656 L 58.40625 526.921875 L 56.984375 526.921875 Z M 58.40625 541.347656 L 59.832031 541.347656 L 59.832031 528.359375 L 58.40625 528.359375 Z M 59.832031 541.347656 L 61.253906 541.347656 L 61.253906 528.03125 L 59.832031 528.03125 Z M 61.253906 541.347656 L 62.675781 541.347656 L 62.675781 528.835938 L 61.253906 528.835938 Z M 62.675781 541.347656 L 64.097656 541.347656 L 64.097656 528.445312 L 62.675781 528.445312 Z M 64.097656 541.347656 L 65.519531 541.347656 L 65.519531 527.378906 L 64.097656 527.378906 Z M 65.519531 541.347656 L 66.941406 541.347656 L 66.941406 527.859375 L 65.519531 527.859375 Z M 66.941406 541.347656 L 68.367188 541.347656 L 68.367188 528.53125 L 66.941406 528.53125 Z M 68.367188 541.347656 L 69.789062 541.347656 L 69.789062 528.378906 L 68.367188 528.378906 Z M 69.789062 541.347656 L 71.210938 541.347656 L 71.210938 527.445312 L 69.789062 527.445312 Z M 71.210938 541.347656 L 72.632812 541.347656 L 72.632812 527.464844 L 71.210938 527.464844 Z M 72.632812 541.347656 L 74.054688 541.347656 L 74.054688 528.097656 L 72.632812 528.097656 Z M 74.054688 541.347656 L 75.476562 541.347656 L 75.476562 527.421875 L 74.054688 527.421875 Z M 75.476562 541.347656 L 76.902344 541.347656 L 76.902344 527.683594 L 75.476562 527.683594 Z M 76.902344 541.347656 L 78.324219 541.347656 L 78.324219 528.359375 L 76.902344 528.359375 Z M 78.324219 541.347656 L 79.746094 541.347656 L 79.746094 527.507812 L 78.324219 527.507812 Z M 79.746094 541.347656 L 81.167969 541.347656 L 81.167969 529.488281 L 79.746094 529.488281 Z M 81.167969 541.347656 L 82.589844 541.347656 L 82.589844 527.507812 L 81.167969 527.507812 Z M 82.589844 541.347656 L 84.011719 541.347656 L 84.011719 527.140625 L 82.589844 527.140625 Z M 84.011719 541.347656 L 85.4375 541.347656 L 85.4375 529.164062 L 84.011719 529.164062 Z M 85.4375 541.347656 L 86.859375 541.347656 L 86.859375 527.75 L 85.4375 527.75 Z M 86.859375 541.347656 L 88.28125 541.347656 L 88.28125 527.203125 L 86.859375 527.203125 Z M 88.28125 541.347656 L 89.703125 541.347656 L 89.703125 528.574219 L 88.28125 528.574219 Z M 89.703125 541.347656 L 91.125 541.347656 L 91.125 528.597656 L 89.703125 528.597656 Z M 91.125 541.347656 L 92.550781 541.347656 L 92.550781 527.3125 L 91.125 527.3125 Z M 92.550781 541.347656 L 93.972656 541.347656 L 93.972656 526.640625 L 92.550781 526.640625 Z M 93.972656 541.347656 L 95.394531 541.347656 L 95.394531 527.355469 L 93.972656 527.355469 Z M 95.394531 541.347656 L 96.816406 541.347656 L 96.816406 527.792969 L 95.394531 527.792969 Z M 96.816406 541.347656 L 98.238281 541.347656 L 98.238281 528.117188 L 96.816406 528.117188 Z M 98.238281 541.347656 L 99.660156 541.347656 L 99.660156 528.683594 L 98.238281 528.683594 Z M 99.660156 541.347656 L 101.085938 541.347656 L 101.085938 527.921875 L 99.660156 527.921875 Z M 101.085938 541.347656 L 102.507812 541.347656 L 102.507812 527.726562 L 101.085938 527.726562 Z M 102.507812 541.347656 L 103.929688 541.347656 L 103.929688 527.597656 L 102.507812 527.597656 Z M 103.929688 541.347656 L 105.351562 541.347656 L 105.351562 528.25 L 103.929688 528.25 Z M 105.351562 541.347656 L 106.773438 541.347656 L 106.773438 528.816406 L 105.351562 528.816406 Z M 106.773438 541.347656 L 108.195312 541.347656 L 108.195312 528.03125 L 106.773438 528.03125 Z M 108.195312 541.347656 L 109.621094 541.347656 L 109.621094 528.445312 L 108.195312 528.445312 Z M 109.621094 541.347656 L 111.042969 541.347656 L 111.042969 527.203125 L 109.621094 527.203125 Z M 111.042969 541.347656 L 112.464844 541.347656 L 112.464844 528.359375 L 111.042969 528.359375 Z M 112.464844 541.347656 L 113.886719 541.347656 L 113.886719 528.117188 L 112.464844 528.117188 Z M 113.886719 541.347656 L 115.308594 541.347656 L 115.308594 527.859375 L 113.886719 527.859375 Z M 115.308594 541.347656 L 116.730469 541.347656 L 116.730469 528.554688 L 115.308594 528.554688 Z M 116.730469 541.347656 L 118.15625 541.347656 L 118.15625 528.574219 L 116.730469 528.574219 Z M 118.15625 541.347656 L 119.578125 541.347656 L 119.578125 528.207031 L 118.15625 528.207031 Z M 119.578125 541.347656 L 121 541.347656 L 121 527.769531 L 119.578125 527.769531 Z M 121 541.347656 L 122.421875 541.347656 L 122.421875 528.011719 L 121 528.011719 Z M 122.421875 541.347656 L 123.84375 541.347656 L 123.84375 527.902344 L 122.421875 527.902344 Z M 123.84375 541.347656 L 125.269531 541.347656 L 125.269531 528.664062 L 123.84375 528.664062 Z M 125.269531 541.347656 L 126.691406 541.347656 L 126.691406 529.273438 L 125.269531 529.273438 Z M 126.691406 541.347656 L 128.113281 541.347656 L 128.113281 528.074219 L 126.691406 528.074219 Z M 128.113281 541.347656 L 129.535156 541.347656 L 129.535156 502.945312 L 128.113281 502.945312 Z M 129.535156 541.347656 L 130.957031 541.347656 L 130.957031 389.1875 L 129.535156 389.1875 Z M 130.957031 541.347656 L 132.378906 541.347656 L 132.378906 388.949219 L 130.957031 388.949219 Z M 132.378906 541.347656 L 133.804688 541.347656 L 133.804688 389.664062 L 132.378906 389.664062 Z M 133.804688 541.347656 L 135.226562 541.347656 L 135.226562 391.929688 L 133.804688 391.929688 Z M 135.226562 541.347656 L 136.648438 541.347656 L 136.648438 389.578125 L 135.226562 389.578125 Z M 136.648438 541.347656 L 138.070312 541.347656 L 138.070312 388.859375 L 136.648438 388.859375 Z M 138.070312 541.347656 L 139.492188 541.347656 L 139.492188 388.121094 L 138.070312 388.121094 Z M 139.492188 541.347656 L 140.914062 541.347656 L 140.914062 388.554688 L 139.492188 388.554688 Z M 140.914062 541.347656 L 142.339844 541.347656 L 142.339844 391.972656 L 140.914062 391.972656 Z M 142.339844 541.347656 L 143.761719 541.347656 L 143.761719 330.773438 L 142.339844 330.773438 Z M 143.761719 541.347656 L 145.183594 541.347656 L 145.183594 324.617188 L 143.761719 324.617188 Z M 145.183594 541.347656 L 146.605469 541.347656 L 146.605469 325.574219 L 145.183594 325.574219 Z M 146.605469 541.347656 L 148.027344 541.347656 L 148.027344 324.398438 L 146.605469 324.398438 Z M 148.027344 541.347656 L 149.449219 541.347656 L 149.449219 326.136719 L 148.027344 326.136719 Z M 149.449219 541.347656 L 150.875 541.347656 L 150.875 326.964844 L 149.449219 326.964844 Z M 150.875 541.347656 L 152.296875 541.347656 L 152.296875 328.269531 L 150.875 328.269531 Z M 152.296875 541.347656 L 153.71875 541.347656 L 153.71875 326.488281 L 152.296875 326.488281 Z M 153.71875 541.347656 L 155.140625 541.347656 L 155.140625 335.949219 L 153.71875 335.949219 Z M 155.140625 541.347656 L 156.5625 541.347656 L 156.5625 386.316406 L 155.140625 386.316406 Z M 156.5625 541.347656 L 157.988281 541.347656 L 157.988281 388.292969 L 156.5625 388.292969 Z M 157.988281 541.347656 L 159.410156 541.347656 L 159.410156 385.902344 L 157.988281 385.902344 Z M 159.410156 541.347656 L 160.832031 541.347656 L 160.832031 387.335938 L 159.410156 387.335938 Z M 160.832031 541.347656 L 162.253906 541.347656 L 162.253906 386.316406 L 160.832031 386.316406 Z M 162.253906 541.347656 L 163.675781 541.347656 L 163.675781 391.035156 L 162.253906 391.035156 Z M 163.675781 541.347656 L 165.097656 541.347656 L 165.097656 387.730469 L 163.675781 387.730469 Z M 165.097656 541.347656 L 166.523438 541.347656 L 166.523438 392.082031 L 165.097656 392.082031 Z M 166.523438 541.347656 L 167.945312 541.347656 L 167.945312 389.535156 L 166.523438 389.535156 Z M 167.945312 541.347656 L 169.367188 541.347656 L 169.367188 389.035156 L 167.945312 389.035156 Z M 169.367188 541.347656 L 170.789062 541.347656 L 170.789062 387.925781 L 169.367188 387.925781 Z M 170.789062 541.347656 L 172.210938 541.347656 L 172.210938 385.140625 L 170.789062 385.140625 Z M 172.210938 541.347656 L 173.632812 541.347656 L 173.632812 450.472656 L 172.210938 450.472656 Z M 173.632812 541.347656 L 175.058594 541.347656 L 175.058594 509.34375 L 173.632812 509.34375 Z M 175.058594 541.347656 L 176.480469 541.347656 L 176.480469 507.296875 L 175.058594 507.296875 Z M 176.480469 541.347656 L 177.902344 541.347656 L 177.902344 510.367188 L 176.480469 510.367188 Z M 177.902344 541.347656 L 179.324219 541.347656 L 179.324219 509.0625 L 177.902344 509.0625 Z M 179.324219 541.347656 L 180.746094 541.347656 L 180.746094 507.539062 L 179.324219 507.539062 Z M 180.746094 541.347656 L 182.167969 541.347656 L 182.167969 508.757812 L 180.746094 508.757812 Z M 182.171875 541.347656 L 183.59375 541.347656 L 183.59375 509.820312 L 182.171875 509.820312 Z M 183.59375 541.347656 L 185.015625 541.347656 L 185.015625 509.429688 L 183.59375 509.429688 Z M 185.015625 541.347656 L 186.4375 541.347656 L 186.4375 508.039062 L 185.015625 508.039062 Z M 186.4375 541.347656 L 187.859375 541.347656 L 187.859375 509.867188 L 186.4375 509.867188 Z M 187.859375 541.347656 L 189.28125 541.347656 L 189.28125 508.496094 L 187.859375 508.496094 Z M 189.28125 541.347656 L 190.707031 541.347656 L 190.707031 507.84375 L 189.28125 507.84375 Z M 190.707031 541.347656 L 192.128906 541.347656 L 192.128906 508.953125 L 190.707031 508.953125 Z M 192.128906 541.347656 L 193.550781 541.347656 L 193.550781 508.039062 L 192.128906 508.039062 Z M 193.550781 541.347656 L 194.972656 541.347656 L 194.972656 509.105469 L 193.550781 509.105469 Z M 194.972656 541.347656 L 196.394531 541.347656 L 196.394531 510.476562 L 194.972656 510.476562 Z M 196.394531 541.347656 L 197.816406 541.347656 L 197.816406 510.386719 L 196.394531 510.386719 Z M 197.816406 541.347656 L 199.242188 541.347656 L 199.242188 509.039062 L 197.816406 509.039062 Z M 199.242188 541.347656 L 200.664062 541.347656 L 200.664062 509.386719 L 199.242188 509.386719 Z M 200.664062 541.347656 L 202.085938 541.347656 L 202.085938 508.605469 L 200.664062 508.605469 Z M 202.085938 541.347656 L 203.507812 541.347656 L 203.507812 510.519531 L 202.085938 510.519531 Z M 203.507812 541.347656 L 204.929688 541.347656 L 204.929688 507.667969 L 203.507812 507.667969 Z M 204.929688 541.347656 L 206.351562 541.347656 L 206.351562 507.734375 L 204.929688 507.734375 Z M 206.351562 541.347656 L 207.777344 541.347656 L 207.777344 510.582031 L 206.351562 510.582031 Z M 207.777344 541.347656 L 209.199219 541.347656 L 209.199219 508.800781 L 207.777344 508.800781 Z M 209.199219 541.347656 L 210.621094 541.347656 L 210.621094 509.867188 L 209.199219 509.867188 Z M 210.621094 541.347656 L 212.042969 541.347656 L 212.042969 508.929688 L 210.621094 508.929688 Z M 212.042969 541.347656 L 213.464844 541.347656 L 213.464844 510.757812 L 212.042969 510.757812 Z M 213.464844 541.347656 L 214.890625 541.347656 L 214.890625 509.929688 L 213.464844 509.929688 Z M 214.890625 541.347656 L 216.3125 541.347656 L 216.3125 507.996094 L 214.890625 507.996094 Z M 216.3125 541.347656 L 217.734375 541.347656 L 217.734375 509.800781 L 216.3125 509.800781 Z M 217.734375 541.347656 L 219.15625 541.347656 L 219.15625 508.125 L 217.734375 508.125 Z M 219.15625 541.347656 L 220.578125 541.347656 L 220.578125 508.386719 L 219.15625 508.386719 Z M 220.578125 541.347656 L 222 541.347656 L 222 509.820312 L 220.578125 509.820312 Z M 222 541.347656 L 223.425781 541.347656 L 223.425781 509.5625 L 222 509.5625 Z M 223.425781 541.347656 L 224.847656 541.347656 L 224.847656 509.714844 L 223.425781 509.714844 Z M 224.847656 541.347656 L 226.269531 541.347656 L 226.269531 508.320312 L 224.847656 508.320312 Z M 226.269531 541.347656 L 227.691406 541.347656 L 227.691406 508.453125 L 226.269531 508.453125 Z M 227.691406 541.347656 L 229.113281 541.347656 L 229.113281 509.039062 L 227.691406 509.039062 Z M 229.113281 541.347656 L 230.535156 541.347656 L 230.535156 508.777344 L 229.113281 508.777344 Z M 230.535156 541.347656 L 231.960938 541.347656 L 231.960938 509.386719 L 230.535156 509.386719 Z M 231.960938 541.347656 L 233.382812 541.347656 L 233.382812 507.539062 L 231.960938 507.539062 Z M 233.382812 541.347656 L 234.804688 541.347656 L 234.804688 509.234375 L 233.382812 509.234375 Z M 234.804688 541.347656 L 236.226562 541.347656 L 236.226562 510.257812 L 234.804688 510.257812 Z M 236.226562 541.347656 L 237.648438 541.347656 L 237.648438 509.015625 L 236.226562 509.015625 Z M 237.648438 541.347656 L 239.070312 541.347656 L 239.070312 509.472656 L 237.648438 509.472656 Z M 239.070312 541.347656 L 240.496094 541.347656 L 240.496094 508.953125 L 239.070312 508.953125 Z M 240.496094 541.347656 L 241.917969 541.347656 L 241.917969 508.320312 L 240.496094 508.320312 Z M 241.917969 541.347656 L 243.339844 541.347656 L 243.339844 509.039062 L 241.917969 509.039062 Z M 243.339844 541.347656 L 244.761719 541.347656 L 244.761719 506.972656 L 243.339844 506.972656 Z M 244.761719 541.347656 L 246.183594 541.347656 L 246.183594 508.757812 L 244.761719 508.757812 Z M 246.183594 541.347656 L 247.609375 541.347656 L 247.609375 510.171875 L 246.183594 510.171875 Z M 247.609375 541.347656 L 249.03125 541.347656 L 249.03125 509.277344 L 247.609375 509.277344 Z M 249.03125 541.347656 L 250.453125 541.347656 L 250.453125 509.691406 L 249.03125 509.691406 Z M 250.453125 541.347656 L 251.875 541.347656 L 251.875 509.515625 L 250.453125 509.515625 Z M 251.875 541.347656 L 253.296875 541.347656 L 253.296875 507.710938 L 251.875 507.710938 Z M 253.296875 541.347656 L 254.71875 541.347656 L 254.71875 508.996094 L 253.296875 508.996094 Z M 254.71875 541.347656 L 256.144531 541.347656 L 256.144531 510.019531 L 254.71875 510.019531 Z M 256.144531 541.347656 L 257.566406 541.347656 L 257.566406 508.84375 L 256.144531 508.84375 Z M 257.566406 541.347656 L 258.988281 541.347656 L 258.988281 509.867188 L 257.566406 509.867188 Z M 258.988281 541.347656 L 260.410156 541.347656 L 260.410156 509.191406 L 258.988281 509.191406 Z M 260.410156 541.347656 L 261.832031 541.347656 L 261.832031 508.625 L 260.410156 508.625 Z M 261.832031 541.347656 L 263.253906 541.347656 L 263.253906 508.757812 L 261.832031 508.757812 Z M 263.253906 541.347656 L 264.679688 541.347656 L 264.679688 509.320312 L 263.253906 509.320312 Z M 264.679688 541.347656 L 266.101562 541.347656 L 266.101562 509.886719 L 264.679688 509.886719 Z M 266.101562 541.347656 L 267.523438 541.347656 L 267.523438 508.582031 L 266.101562 508.582031 Z M 267.523438 541.347656 L 268.945312 541.347656 L 268.945312 510.125 L 267.523438 510.125 Z M 268.945312 541.347656 L 270.367188 541.347656 L 270.367188 508.953125 L 268.945312 508.953125 Z M 270.367188 541.347656 L 271.789062 541.347656 L 271.789062 507.667969 L 270.367188 507.667969 Z M 271.789062 541.347656 L 273.214844 541.347656 L 273.214844 508.300781 L 271.789062 508.300781 Z M 273.214844 541.347656 L 274.636719 541.347656 L 274.636719 508.996094 L 273.214844 508.996094 Z M 274.636719 541.347656 L 276.058594 541.347656 L 276.058594 508.582031 L 274.636719 508.582031 Z M 276.058594 541.347656 L 277.480469 541.347656 L 277.480469 508.277344 L 276.058594 508.277344 Z M 277.480469 541.347656 L 278.902344 541.347656 L 278.902344 507.734375 L 277.480469 507.734375 Z M 278.902344 541.347656 L 280.328125 541.347656 L 280.328125 507.644531 L 278.902344 507.644531 Z M 280.328125 541.347656 L 281.75 541.347656 L 281.75 507.753906 L 280.328125 507.753906 Z M 281.75 541.347656 L 283.171875 541.347656 L 283.171875 507.125 L 281.75 507.125 Z M 283.171875 541.347656 L 284.59375 541.347656 L 284.59375 509.867188 L 283.171875 509.867188 Z M 284.59375 541.347656 L 286.015625 541.347656 L 286.015625 508.929688 L 284.59375 508.929688 Z M 286.015625 541.347656 L 287.4375 541.347656 L 287.4375 507.625 L 286.015625 507.625 Z M 287.4375 541.347656 L 288.863281 541.347656 L 288.863281 507.625 L 287.4375 507.625 Z M 288.863281 541.347656 L 290.285156 541.347656 L 290.285156 509.410156 L 288.863281 509.410156 Z M 288.863281 541.347656 \"/>\n",
       "</g>\n",
       "<g clip-path=\"url(#clip-1487623024713066-5)\" clip-rule=\"nonzero\">\n",
       "<path style=\"fill:none;stroke-width:0.3985;stroke-linecap:butt;stroke-linejoin:miter;stroke:rgb(0%,0%,100%);stroke-opacity:1;stroke-miterlimit:10;\" d=\"M 0.00159375 -0.00165625 L 1.423469 -0.00165625 L 1.423469 13.596 L 0.00159375 13.596 Z M 1.423469 -0.00165625 L 2.845344 -0.00165625 L 2.845344 13.271781 L 1.423469 13.271781 Z M 2.845344 -0.00165625 L 4.267219 -0.00165625 L 4.267219 13.576469 L 2.845344 13.576469 Z M 4.267219 -0.00165625 L 5.689094 -0.00165625 L 5.689094 13.81475 L 4.267219 13.81475 Z M 5.689094 -0.00165625 L 7.110969 -0.00165625 L 7.110969 13.205375 L 5.689094 13.205375 Z M 7.110969 -0.00165625 L 8.53675 -0.00165625 L 8.53675 13.357719 L 7.110969 13.357719 Z M 8.53675 -0.00165625 L 9.958625 -0.00165625 L 9.958625 13.748344 L 8.53675 13.748344 Z M 9.958625 -0.00165625 L 11.3805 -0.00165625 L 11.3805 14.619438 L 9.958625 14.619438 Z M 11.3805 -0.00165625 L 12.802375 -0.00165625 L 12.802375 12.424125 L 11.3805 12.424125 Z M 12.802375 -0.00165625 L 14.22425 -0.00165625 L 14.22425 14.424125 L 12.802375 14.424125 Z M 14.22425 -0.00165625 L 15.650031 -0.00165625 L 15.650031 12.986625 L 14.22425 12.986625 Z M 15.650031 -0.00165625 L 17.071906 -0.00165625 L 17.071906 13.31475 L 15.650031 13.31475 Z M 17.071906 -0.00165625 L 18.493781 -0.00165625 L 18.493781 12.510063 L 17.071906 12.510063 Z M 18.493781 -0.00165625 L 19.915656 -0.00165625 L 19.915656 12.900688 L 18.493781 12.900688 Z M 19.915656 -0.00165625 L 21.337531 -0.00165625 L 21.337531 13.967094 L 19.915656 13.967094 Z M 21.337531 -0.00165625 L 22.759406 -0.00165625 L 22.759406 13.486625 L 21.337531 13.486625 Z M 22.759406 -0.00165625 L 24.185187 -0.00165625 L 24.185187 12.81475 L 22.759406 12.81475 Z M 24.185187 -0.00165625 L 25.607062 -0.00165625 L 25.607062 12.967094 L 24.185187 12.967094 Z M 25.607062 -0.00165625 L 27.028937 -0.00165625 L 27.028937 13.900688 L 25.607062 13.900688 Z M 27.028937 -0.00165625 L 28.450812 -0.00165625 L 28.450812 13.881156 L 27.028937 13.881156 Z M 28.450812 -0.00165625 L 29.872687 -0.00165625 L 29.872687 13.248344 L 28.450812 13.248344 Z M 29.872687 -0.00165625 L 31.294562 -0.00165625 L 31.294562 13.924125 L 29.872687 13.924125 Z M 31.294562 -0.00165625 L 32.720344 -0.00165625 L 32.720344 13.662406 L 31.294562 13.662406 Z M 32.720344 -0.00165625 L 34.142219 -0.00165625 L 34.142219 12.986625 L 32.720344 12.986625 Z M 34.142219 -0.00165625 L 35.564094 -0.00165625 L 35.564094 13.838188 L 34.142219 13.838188 Z M 35.564094 -0.00165625 L 36.985969 -0.00165625 L 36.985969 11.857719 L 35.564094 11.857719 Z M 36.985969 -0.00165625 L 38.407844 -0.00165625 L 38.407844 13.838188 L 36.985969 13.838188 Z M 38.407844 -0.00165625 L 39.829719 -0.00165625 L 39.829719 14.205375 L 38.407844 14.205375 Z M 39.829719 -0.00165625 L 41.2555 -0.00165625 L 41.2555 12.181938 L 39.829719 12.181938 Z M 41.2555 -0.00165625 L 42.677375 -0.00165625 L 42.677375 13.596 L 41.2555 13.596 Z M 42.677375 -0.00165625 L 44.09925 -0.00165625 L 44.09925 14.142875 L 42.677375 14.142875 Z M 44.09925 -0.00165625 L 45.521125 -0.00165625 L 45.521125 12.771781 L 44.09925 12.771781 Z M 45.521125 -0.00165625 L 46.943 -0.00165625 L 46.943 12.748344 L 45.521125 12.748344 Z M 46.943 -0.00165625 L 48.368781 -0.00165625 L 48.368781 14.0335 L 46.943 14.0335 Z M 48.368781 -0.00165625 L 49.790656 -0.00165625 L 49.790656 14.705375 L 48.368781 14.705375 Z M 49.790656 -0.00165625 L 51.212531 -0.00165625 L 51.212531 13.990531 L 49.790656 13.990531 Z M 51.212531 -0.00165625 L 52.634406 -0.00165625 L 52.634406 13.553031 L 51.212531 13.553031 Z M 52.634406 -0.00165625 L 54.056281 -0.00165625 L 54.056281 13.228813 L 52.634406 13.228813 Z M 54.056281 -0.00165625 L 55.478156 -0.00165625 L 55.478156 12.662406 L 54.056281 12.662406 Z M 55.478156 -0.00165625 L 56.903937 -0.00165625 L 56.903937 13.424125 L 55.478156 13.424125 Z M 56.903937 -0.00165625 L 58.325812 -0.00165625 L 58.325812 13.619438 L 56.903937 13.619438 Z M 58.325812 -0.00165625 L 59.747687 -0.00165625 L 59.747687 13.748344 L 58.325812 13.748344 Z M 59.747687 -0.00165625 L 61.169562 -0.00165625 L 61.169562 13.096 L 59.747687 13.096 Z M 61.169562 -0.00165625 L 62.591437 -0.00165625 L 62.591437 12.529594 L 61.169562 12.529594 Z M 62.591437 -0.00165625 L 64.013312 -0.00165625 L 64.013312 13.31475 L 62.591437 13.31475 Z M 64.013312 -0.00165625 L 65.439094 -0.00165625 L 65.439094 12.900688 L 64.013312 12.900688 Z M 65.439094 -0.00165625 L 66.860969 -0.00165625 L 66.860969 14.142875 L 65.439094 14.142875 Z M 66.860969 -0.00165625 L 68.282844 -0.00165625 L 68.282844 12.986625 L 66.860969 12.986625 Z M 68.282844 -0.00165625 L 69.704719 -0.00165625 L 69.704719 13.228813 L 68.282844 13.228813 Z M 69.704719 -0.00165625 L 71.126594 -0.00165625 L 71.126594 13.486625 L 69.704719 13.486625 Z M 71.126594 -0.00165625 L 72.548469 -0.00165625 L 72.548469 12.791313 L 71.126594 12.791313 Z M 72.548469 -0.00165625 L 73.97425 -0.00165625 L 73.97425 12.771781 L 72.548469 12.771781 Z M 73.97425 -0.00165625 L 75.396125 -0.00165625 L 75.396125 13.138969 L 73.97425 13.138969 Z M 75.396125 -0.00165625 L 76.818 -0.00165625 L 76.818 13.576469 L 75.396125 13.576469 Z M 76.818 -0.00165625 L 78.239875 -0.00165625 L 78.239875 13.334281 L 76.818 13.334281 Z M 78.239875 -0.00165625 L 79.66175 -0.00165625 L 79.66175 13.443656 L 78.239875 13.443656 Z M 79.66175 -0.00165625 L 81.087531 -0.00165625 L 81.087531 12.681938 L 79.66175 12.681938 Z M 81.087531 -0.00165625 L 82.509406 -0.00165625 L 82.509406 12.072563 L 81.087531 12.072563 Z M 82.509406 -0.00165625 L 83.931281 -0.00165625 L 83.931281 13.271781 L 82.509406 13.271781 Z M 83.931281 -0.00165625 L 85.353156 -0.00165625 L 85.353156 38.400688 L 83.931281 38.400688 Z M 85.353156 -0.00165625 L 86.775031 -0.00165625 L 86.775031 152.1585 L 85.353156 152.1585 Z M 86.775031 -0.00165625 L 88.196906 -0.00165625 L 88.196906 152.396781 L 86.775031 152.396781 Z M 88.196906 -0.00165625 L 89.622687 -0.00165625 L 89.622687 151.681938 L 88.196906 151.681938 Z M 89.622687 -0.00165625 L 91.044562 -0.00165625 L 91.044562 149.416313 L 89.622687 149.416313 Z M 91.044562 -0.00165625 L 92.466437 -0.00165625 L 92.466437 151.767875 L 91.044562 151.767875 Z M 92.466437 -0.00165625 L 93.888312 -0.00165625 L 93.888312 152.486625 L 92.466437 152.486625 Z M 93.888312 -0.00165625 L 95.310187 -0.00165625 L 95.310187 153.224906 L 93.888312 153.224906 Z M 95.310187 -0.00165625 L 96.732062 -0.00165625 L 96.732062 152.791313 L 95.310187 152.791313 Z M 96.732062 -0.00165625 L 98.157844 -0.00165625 L 98.157844 149.373344 L 96.732062 149.373344 Z M 98.157844 -0.00165625 L 99.579719 -0.00165625 L 99.579719 210.572563 L 98.157844 210.572563 Z M 99.579719 -0.00165625 L 101.001594 -0.00165625 L 101.001594 216.728813 L 99.579719 216.728813 Z M 101.001594 -0.00165625 L 102.423469 -0.00165625 L 102.423469 215.771781 L 101.001594 215.771781 Z M 102.423469 -0.00165625 L 103.845344 -0.00165625 L 103.845344 216.947563 L 102.423469 216.947563 Z M 103.845344 -0.00165625 L 105.267219 -0.00165625 L 105.267219 215.209281 L 103.845344 215.209281 Z M 105.267219 -0.00165625 L 106.693 -0.00165625 L 106.693 214.381156 L 105.267219 214.381156 Z M 106.693 -0.00165625 L 108.114875 -0.00165625 L 108.114875 213.076469 L 106.693 213.076469 Z M 108.114875 -0.00165625 L 109.53675 -0.00165625 L 109.53675 214.857719 L 108.114875 214.857719 Z M 109.53675 -0.00165625 L 110.958625 -0.00165625 L 110.958625 205.396781 L 109.53675 205.396781 Z M 110.958625 -0.00165625 L 112.3805 -0.00165625 L 112.3805 155.029594 L 110.958625 155.029594 Z M 112.3805 -0.00165625 L 113.806281 -0.00165625 L 113.806281 153.053031 L 112.3805 153.053031 Z M 113.806281 -0.00165625 L 115.228156 -0.00165625 L 115.228156 155.443656 L 113.806281 155.443656 Z M 115.228156 -0.00165625 L 116.650031 -0.00165625 L 116.650031 154.010063 L 115.228156 154.010063 Z M 116.650031 -0.00165625 L 118.071906 -0.00165625 L 118.071906 155.029594 L 116.650031 155.029594 Z M 118.071906 -0.00165625 L 119.493781 -0.00165625 L 119.493781 150.310844 L 118.071906 150.310844 Z M 119.493781 -0.00165625 L 120.915656 -0.00165625 L 120.915656 153.615531 L 119.493781 153.615531 Z M 120.915656 -0.00165625 L 122.341437 -0.00165625 L 122.341437 149.263969 L 120.915656 149.263969 Z M 122.341437 -0.00165625 L 123.763312 -0.00165625 L 123.763312 151.810844 L 122.341437 151.810844 Z M 123.763312 -0.00165625 L 125.185187 -0.00165625 L 125.185187 152.310844 L 123.763312 152.310844 Z M 125.185187 -0.00165625 L 126.607062 -0.00165625 L 126.607062 153.420219 L 125.185187 153.420219 Z M 126.607062 -0.00165625 L 128.028937 -0.00165625 L 128.028937 156.205375 L 126.607062 156.205375 Z M 128.028937 -0.00165625 L 129.450812 -0.00165625 L 129.450812 90.873344 L 128.028937 90.873344 Z M 129.450812 -0.00165625 L 130.876594 -0.00165625 L 130.876594 32.00225 L 129.450812 32.00225 Z M 130.876594 -0.00165625 L 132.298469 -0.00165625 L 132.298469 34.049125 L 130.876594 34.049125 Z M 132.298469 -0.00165625 L 133.720344 -0.00165625 L 133.720344 30.978813 L 132.298469 30.978813 Z M 133.720344 -0.00165625 L 135.142219 -0.00165625 L 135.142219 32.2835 L 133.720344 32.2835 Z M 135.142219 -0.00165625 L 136.564094 -0.00165625 L 136.564094 33.806938 L 135.142219 33.806938 Z M 136.564094 -0.00165625 L 137.985969 -0.00165625 L 137.985969 32.588188 L 136.564094 32.588188 Z M 137.989875 -0.00165625 L 139.41175 -0.00165625 L 139.41175 31.525688 L 137.989875 31.525688 Z M 139.41175 -0.00165625 L 140.833625 -0.00165625 L 140.833625 31.916313 L 139.41175 31.916313 Z M 140.833625 -0.00165625 L 142.2555 -0.00165625 L 142.2555 33.306938 L 140.833625 33.306938 Z M 142.2555 -0.00165625 L 143.677375 -0.00165625 L 143.677375 31.478813 L 142.2555 31.478813 Z M 143.677375 -0.00165625 L 145.09925 -0.00165625 L 145.09925 32.849906 L 143.677375 32.849906 Z M 145.09925 -0.00165625 L 146.525031 -0.00165625 L 146.525031 33.50225 L 145.09925 33.50225 Z M 146.525031 -0.00165625 L 147.946906 -0.00165625 L 147.946906 32.392875 L 146.525031 32.392875 Z M 147.946906 -0.00165625 L 149.368781 -0.00165625 L 149.368781 33.306938 L 147.946906 33.306938 Z M 149.368781 -0.00165625 L 150.790656 -0.00165625 L 150.790656 32.240531 L 149.368781 32.240531 Z M 150.790656 -0.00165625 L 152.212531 -0.00165625 L 152.212531 30.869438 L 150.790656 30.869438 Z M 152.212531 -0.00165625 L 153.634406 -0.00165625 L 153.634406 30.959281 L 152.212531 30.959281 Z M 153.634406 -0.00165625 L 155.060187 -0.00165625 L 155.060187 32.306938 L 153.634406 32.306938 Z M 155.060187 -0.00165625 L 156.482062 -0.00165625 L 156.482062 31.959281 L 155.060187 31.959281 Z M 156.482062 -0.00165625 L 157.903937 -0.00165625 L 157.903937 32.740531 L 156.482062 32.740531 Z M 157.903937 -0.00165625 L 159.325812 -0.00165625 L 159.325812 30.826469 L 157.903937 30.826469 Z M 159.325812 -0.00165625 L 160.747687 -0.00165625 L 160.747687 33.678031 L 159.325812 33.678031 Z M 160.747687 -0.00165625 L 162.169562 -0.00165625 L 162.169562 33.611625 L 160.747687 33.611625 Z M 162.169562 -0.00165625 L 163.595344 -0.00165625 L 163.595344 30.763969 L 162.169562 30.763969 Z M 163.595344 -0.00165625 L 165.017219 -0.00165625 L 165.017219 32.545219 L 163.595344 32.545219 Z M 165.017219 -0.00165625 L 166.439094 -0.00165625 L 166.439094 31.478813 L 165.017219 31.478813 Z M 166.439094 -0.00165625 L 167.860969 -0.00165625 L 167.860969 32.416313 L 166.439094 32.416313 Z M 167.860969 -0.00165625 L 169.282844 -0.00165625 L 169.282844 30.588188 L 167.860969 30.588188 Z M 169.282844 -0.00165625 L 170.708625 -0.00165625 L 170.708625 31.416313 L 169.282844 31.416313 Z M 170.708625 -0.00165625 L 172.1305 -0.00165625 L 172.1305 33.349906 L 170.708625 33.349906 Z M 172.1305 -0.00165625 L 173.552375 -0.00165625 L 173.552375 31.545219 L 172.1305 31.545219 Z M 173.552375 -0.00165625 L 174.97425 -0.00165625 L 174.97425 33.221 L 173.552375 33.221 Z M 174.97425 -0.00165625 L 176.396125 -0.00165625 L 176.396125 32.959281 L 174.97425 32.959281 Z M 176.396125 -0.00165625 L 177.818 -0.00165625 L 177.818 31.525688 L 176.396125 31.525688 Z M 177.818 -0.00165625 L 179.243781 -0.00165625 L 179.243781 31.7835 L 177.818 31.7835 Z M 179.243781 -0.00165625 L 180.665656 -0.00165625 L 180.665656 31.631156 L 179.243781 31.631156 Z M 180.665656 -0.00165625 L 182.087531 -0.00165625 L 182.087531 33.025688 L 180.665656 33.025688 Z M 182.087531 -0.00165625 L 183.509406 -0.00165625 L 183.509406 32.892875 L 182.087531 32.892875 Z M 183.509406 -0.00165625 L 184.931281 -0.00165625 L 184.931281 32.306938 L 183.509406 32.306938 Z M 184.931281 -0.00165625 L 186.353156 -0.00165625 L 186.353156 32.568656 L 184.931281 32.568656 Z M 186.353156 -0.00165625 L 187.778937 -0.00165625 L 187.778937 31.959281 L 186.353156 31.959281 Z M 187.778937 -0.00165625 L 189.200812 -0.00165625 L 189.200812 33.806938 L 187.778937 33.806938 Z M 189.200812 -0.00165625 L 190.622687 -0.00165625 L 190.622687 32.111625 L 189.200812 32.111625 Z M 190.622687 -0.00165625 L 192.044562 -0.00165625 L 192.044562 31.088188 L 190.622687 31.088188 Z M 192.044562 -0.00165625 L 193.466437 -0.00165625 L 193.466437 32.330375 L 192.044562 32.330375 Z M 193.466437 -0.00165625 L 194.888312 -0.00165625 L 194.888312 31.873344 L 193.466437 31.873344 Z M 194.888312 -0.00165625 L 196.314094 -0.00165625 L 196.314094 32.392875 L 194.888312 32.392875 Z M 196.314094 -0.00165625 L 197.735969 -0.00165625 L 197.735969 33.025688 L 196.314094 33.025688 Z M 197.735969 -0.00165625 L 199.157844 -0.00165625 L 199.157844 32.306938 L 197.735969 32.306938 Z M 199.157844 -0.00165625 L 200.579719 -0.00165625 L 200.579719 34.373344 L 199.157844 34.373344 Z M 200.579719 -0.00165625 L 202.001594 -0.00165625 L 202.001594 32.588188 L 200.579719 32.588188 Z M 202.001594 -0.00165625 L 203.427375 -0.00165625 L 203.427375 31.174125 L 202.001594 31.174125 Z M 203.427375 -0.00165625 L 204.84925 -0.00165625 L 204.84925 32.068656 L 203.427375 32.068656 Z M 204.84925 -0.00165625 L 206.271125 -0.00165625 L 206.271125 31.654594 L 204.84925 31.654594 Z M 206.271125 -0.00165625 L 207.693 -0.00165625 L 207.693 31.830375 L 206.271125 31.830375 Z M 207.693 -0.00165625 L 209.114875 -0.00165625 L 209.114875 33.635063 L 207.693 33.635063 Z M 209.114875 -0.00165625 L 210.53675 -0.00165625 L 210.53675 32.349906 L 209.114875 32.349906 Z M 210.53675 -0.00165625 L 211.962531 -0.00165625 L 211.962531 31.326469 L 210.53675 31.326469 Z M 211.962531 -0.00165625 L 213.384406 -0.00165625 L 213.384406 32.50225 L 211.962531 32.50225 Z M 213.384406 -0.00165625 L 214.806281 -0.00165625 L 214.806281 31.478813 L 213.384406 31.478813 Z M 214.806281 -0.00165625 L 216.228156 -0.00165625 L 216.228156 32.154594 L 214.806281 32.154594 Z M 216.228156 -0.00165625 L 217.650031 -0.00165625 L 217.650031 32.721 L 216.228156 32.721 Z M 217.650031 -0.00165625 L 219.071906 -0.00165625 L 219.071906 32.588188 L 217.650031 32.588188 Z M 219.071906 -0.00165625 L 220.497687 -0.00165625 L 220.497687 32.025688 L 219.071906 32.025688 Z M 220.497687 -0.00165625 L 221.919562 -0.00165625 L 221.919562 31.459281 L 220.497687 31.459281 Z M 221.919562 -0.00165625 L 223.341437 -0.00165625 L 223.341437 32.763969 L 221.919562 32.763969 Z M 223.341437 -0.00165625 L 224.763312 -0.00165625 L 224.763312 31.221 L 223.341437 31.221 Z M 224.763312 -0.00165625 L 226.185187 -0.00165625 L 226.185187 32.392875 L 224.763312 32.392875 Z M 226.185187 -0.00165625 L 227.607062 -0.00165625 L 227.607062 33.678031 L 226.185187 33.678031 Z M 227.607062 -0.00165625 L 229.032844 -0.00165625 L 229.032844 33.045219 L 227.607062 33.045219 Z M 229.032844 -0.00165625 L 230.454719 -0.00165625 L 230.454719 32.349906 L 229.032844 32.349906 Z M 230.454719 -0.00165625 L 231.876594 -0.00165625 L 231.876594 32.763969 L 230.454719 32.763969 Z M 231.876594 -0.00165625 L 233.298469 -0.00165625 L 233.298469 33.068656 L 231.876594 33.068656 Z M 233.298469 -0.00165625 L 234.720344 -0.00165625 L 234.720344 33.611625 L 233.298469 33.611625 Z M 234.720344 -0.00165625 L 236.146125 -0.00165625 L 236.146125 33.701469 L 234.720344 33.701469 Z M 236.146125 -0.00165625 L 237.568 -0.00165625 L 237.568 33.592094 L 236.146125 33.592094 Z M 237.568 -0.00165625 L 238.989875 -0.00165625 L 238.989875 34.221 L 237.568 34.221 Z M 238.989875 -0.00165625 L 240.41175 -0.00165625 L 240.41175 31.478813 L 238.989875 31.478813 Z M 240.41175 -0.00165625 L 241.833625 -0.00165625 L 241.833625 32.416313 L 240.41175 32.416313 Z M 241.833625 -0.00165625 L 243.2555 -0.00165625 L 243.2555 33.721 L 241.833625 33.721 Z M 243.2555 -0.00165625 L 244.681281 -0.00165625 L 244.681281 33.721 L 243.2555 33.721 Z M 244.681281 -0.00165625 L 246.103156 -0.00165625 L 246.103156 31.935844 L 244.681281 31.935844 Z M 244.681281 -0.00165625 \" transform=\"matrix(1,0,0,-1,44.182,541.346)\"/>\n",
       "</g>\n",
       "<g style=\"fill:rgb(0%,0%,0%);fill-opacity:1;\">\n",
       "  <use xlink:href=\"#glyph-1487623024713066-1-22\" x=\"149.658\" y=\"291.272\"/>\n",
       "</g>\n",
       "<g style=\"fill:rgb(0%,0%,0%);fill-opacity:1;\">\n",
       "  <use xlink:href=\"#glyph-1487623024713066-1-10\" x=\"156.303081\" y=\"291.272\"/>\n",
       "  <use xlink:href=\"#glyph-1487623024713066-1-18\" x=\"160.730478\" y=\"291.272\"/>\n",
       "  <use xlink:href=\"#glyph-1487623024713066-1-16\" x=\"163.498099\" y=\"291.272\"/>\n",
       "</g>\n",
       "<g style=\"fill:rgb(0%,0%,0%);fill-opacity:1;\">\n",
       "  <use xlink:href=\"#glyph-1487623024713066-1-23\" x=\"168.748411\" y=\"291.272\"/>\n",
       "  <use xlink:href=\"#glyph-1487623024713066-1-8\" x=\"173.175808\" y=\"291.272\"/>\n",
       "  <use xlink:href=\"#glyph-1487623024713066-1-15\" x=\"175.943429\" y=\"291.272\"/>\n",
       "</g>\n",
       "<g style=\"fill:rgb(0%,0%,0%);fill-opacity:1;\">\n",
       "  <use xlink:href=\"#glyph-1487623024713066-1-24\" x=\"179.548909\" y=\"291.272\"/>\n",
       "</g>\n",
       "<path style=\"fill:none;stroke-width:0.19925;stroke-linecap:butt;stroke-linejoin:miter;stroke:rgb(50%,50%,50%);stroke-opacity:1;stroke-miterlimit:10;\" d=\"M -1.071469 -0.00165625 L -1.071469 4.25225 M -1.071469 238.635063 L -1.071469 234.385063 M 27.303531 -0.00165625 L 27.303531 4.25225 M 27.303531 238.635063 L 27.303531 234.385063 M 55.678531 -0.00165625 L 55.678531 4.25225 M 55.678531 238.635063 L 55.678531 234.385063 M 84.053531 -0.00165625 L 84.053531 4.25225 M 84.053531 238.635063 L 84.053531 234.385063 M 112.428531 -0.00165625 L 112.428531 4.25225 M 112.428531 238.635063 L 112.428531 234.385063 M 140.803531 -0.00165625 L 140.803531 4.25225 M 140.803531 238.635063 L 140.803531 234.385063 M 169.174625 -0.00165625 L 169.174625 4.25225 M 169.174625 238.635063 L 169.174625 234.385063 M 197.549625 -0.00165625 L 197.549625 4.25225 M 197.549625 238.635063 L 197.549625 234.385063 M 225.924625 -0.00165625 L 225.924625 4.25225 M 225.924625 238.635063 L 225.924625 234.385063 M 254.299625 -0.00165625 L 254.299625 4.25225 M 254.299625 238.635063 L 254.299625 234.385063 \" transform=\"matrix(1,0,0,-1,391.341,541.346)\"/>\n",
       "<path style=\"fill:none;stroke-width:0.19925;stroke-linecap:butt;stroke-linejoin:miter;stroke:rgb(50%,50%,50%);stroke-opacity:1;stroke-miterlimit:10;\" d=\"M -26.848812 -0.00165625 L -22.598812 -0.00165625 M 268.487125 -0.00165625 L 264.233219 -0.00165625 M -26.848812 28.224906 L -22.598812 28.224906 M 268.487125 28.224906 L 264.233219 28.224906 M -26.848812 56.451469 L -22.598812 56.451469 M 268.487125 56.451469 L 264.233219 56.451469 M -26.848812 84.678031 L -22.598812 84.678031 M 268.487125 84.678031 L 264.233219 84.678031 M -26.848812 112.900688 L -22.598812 112.900688 M 268.487125 112.900688 L 264.233219 112.900688 M -26.848812 141.12725 L -22.598812 141.12725 M 268.487125 141.12725 L 264.233219 141.12725 M -26.848812 169.353813 L -22.598812 169.353813 M 268.487125 169.353813 L 264.233219 169.353813 M -26.848812 197.580375 L -22.598812 197.580375 M 268.487125 197.580375 L 264.233219 197.580375 M -26.848812 225.803031 L -22.598812 225.803031 M 268.487125 225.803031 L 264.233219 225.803031 \" transform=\"matrix(1,0,0,-1,391.341,541.346)\"/>\n",
       "<g clip-path=\"url(#clip-1487623024713066-6)\" clip-rule=\"nonzero\">\n",
       "<path style=\"fill:none;stroke-width:0.3985;stroke-linecap:butt;stroke-linejoin:miter;stroke:rgb(0%,0%,0%);stroke-opacity:1;stroke-miterlimit:10;\" d=\"M -26.848812 -0.00165625 L -26.848812 238.635063 L 268.487125 238.635063 L 268.487125 -0.00165625 Z M -26.848812 -0.00165625 \" transform=\"matrix(1,0,0,-1,391.341,541.346)\"/>\n",
       "</g>\n",
       "<g style=\"fill:rgb(0%,0%,0%);fill-opacity:1;\">\n",
       "  <use xlink:href=\"#glyph-1487623024713066-1-3\" x=\"387.78\" y=\"551.286\"/>\n",
       "</g>\n",
       "<g style=\"fill:rgb(0%,0%,0%);fill-opacity:1;\">\n",
       "  <use xlink:href=\"#glyph-1487623024713066-1-6\" x=\"413.663\" y=\"551.286\"/>\n",
       "  <use xlink:href=\"#glyph-1487623024713066-1-3\" x=\"418.64432\" y=\"551.286\"/>\n",
       "</g>\n",
       "<g style=\"fill:rgb(0%,0%,0%);fill-opacity:1;\">\n",
       "  <use xlink:href=\"#glyph-1487623024713066-1-2\" x=\"442.037\" y=\"551.286\"/>\n",
       "  <use xlink:href=\"#glyph-1487623024713066-1-3\" x=\"447.01832\" y=\"551.286\"/>\n",
       "</g>\n",
       "<g style=\"fill:rgb(0%,0%,0%);fill-opacity:1;\">\n",
       "  <use xlink:href=\"#glyph-1487623024713066-1-21\" x=\"470.411\" y=\"551.286\"/>\n",
       "  <use xlink:href=\"#glyph-1487623024713066-1-3\" x=\"475.39232\" y=\"551.286\"/>\n",
       "</g>\n",
       "<g style=\"fill:rgb(0%,0%,0%);fill-opacity:1;\">\n",
       "  <use xlink:href=\"#glyph-1487623024713066-1-1\" x=\"498.785\" y=\"551.286\"/>\n",
       "  <use xlink:href=\"#glyph-1487623024713066-1-3\" x=\"503.76632\" y=\"551.286\"/>\n",
       "</g>\n",
       "<g style=\"fill:rgb(0%,0%,0%);fill-opacity:1;\">\n",
       "  <use xlink:href=\"#glyph-1487623024713066-1-14\" x=\"527.16\" y=\"551.286\"/>\n",
       "  <use xlink:href=\"#glyph-1487623024713066-1-3\" x=\"532.14132\" y=\"551.286\"/>\n",
       "</g>\n",
       "<g style=\"fill:rgb(0%,0%,0%);fill-opacity:1;\">\n",
       "  <use xlink:href=\"#glyph-1487623024713066-1-4\" x=\"555.534\" y=\"551.286\"/>\n",
       "  <use xlink:href=\"#glyph-1487623024713066-1-3\" x=\"560.51532\" y=\"551.286\"/>\n",
       "</g>\n",
       "<g style=\"fill:rgb(0%,0%,0%);fill-opacity:1;\">\n",
       "  <use xlink:href=\"#glyph-1487623024713066-1-25\" x=\"583.908\" y=\"551.286\"/>\n",
       "  <use xlink:href=\"#glyph-1487623024713066-1-3\" x=\"588.88932\" y=\"551.286\"/>\n",
       "</g>\n",
       "<g style=\"fill:rgb(0%,0%,0%);fill-opacity:1;\">\n",
       "  <use xlink:href=\"#glyph-1487623024713066-1-5\" x=\"612.282\" y=\"551.286\"/>\n",
       "  <use xlink:href=\"#glyph-1487623024713066-1-3\" x=\"617.26332\" y=\"551.286\"/>\n",
       "</g>\n",
       "<g style=\"fill:rgb(0%,0%,0%);fill-opacity:1;\">\n",
       "  <use xlink:href=\"#glyph-1487623024713066-1-26\" x=\"640.656\" y=\"551.286\"/>\n",
       "  <use xlink:href=\"#glyph-1487623024713066-1-3\" x=\"645.63732\" y=\"551.286\"/>\n",
       "</g>\n",
       "<g style=\"fill:rgb(0%,0%,0%);fill-opacity:1;\">\n",
       "  <use xlink:href=\"#glyph-1487623024713066-1-3\" x=\"355.99\" y=\"544.557\"/>\n",
       "</g>\n",
       "<g style=\"fill:rgb(0%,0%,0%);fill-opacity:1;\">\n",
       "  <use xlink:href=\"#glyph-1487623024713066-1-6\" x=\"338.278\" y=\"515.363\"/>\n",
       "</g>\n",
       "<g style=\"fill:rgb(0%,0%,0%);fill-opacity:1;\">\n",
       "  <use xlink:href=\"#glyph-1487623024713066-2-2\" x=\"343.26\" y=\"515.363\"/>\n",
       "</g>\n",
       "<g style=\"fill:rgb(0%,0%,0%);fill-opacity:1;\">\n",
       "  <use xlink:href=\"#glyph-1487623024713066-1-3\" x=\"346.027\" y=\"515.363\"/>\n",
       "  <use xlink:href=\"#glyph-1487623024713066-1-3\" x=\"351.00832\" y=\"515.363\"/>\n",
       "  <use xlink:href=\"#glyph-1487623024713066-1-3\" x=\"355.98964\" y=\"515.363\"/>\n",
       "</g>\n",
       "<g style=\"fill:rgb(0%,0%,0%);fill-opacity:1;\">\n",
       "  <use xlink:href=\"#glyph-1487623024713066-1-2\" x=\"338.278\" y=\"487.138\"/>\n",
       "</g>\n",
       "<g style=\"fill:rgb(0%,0%,0%);fill-opacity:1;\">\n",
       "  <use xlink:href=\"#glyph-1487623024713066-2-2\" x=\"343.26\" y=\"487.138\"/>\n",
       "</g>\n",
       "<g style=\"fill:rgb(0%,0%,0%);fill-opacity:1;\">\n",
       "  <use xlink:href=\"#glyph-1487623024713066-1-3\" x=\"346.027\" y=\"487.138\"/>\n",
       "  <use xlink:href=\"#glyph-1487623024713066-1-3\" x=\"351.00832\" y=\"487.138\"/>\n",
       "  <use xlink:href=\"#glyph-1487623024713066-1-3\" x=\"355.98964\" y=\"487.138\"/>\n",
       "</g>\n",
       "<g style=\"fill:rgb(0%,0%,0%);fill-opacity:1;\">\n",
       "  <use xlink:href=\"#glyph-1487623024713066-1-21\" x=\"338.278\" y=\"458.912\"/>\n",
       "</g>\n",
       "<g style=\"fill:rgb(0%,0%,0%);fill-opacity:1;\">\n",
       "  <use xlink:href=\"#glyph-1487623024713066-2-2\" x=\"343.26\" y=\"458.912\"/>\n",
       "</g>\n",
       "<g style=\"fill:rgb(0%,0%,0%);fill-opacity:1;\">\n",
       "  <use xlink:href=\"#glyph-1487623024713066-1-3\" x=\"346.027\" y=\"458.912\"/>\n",
       "  <use xlink:href=\"#glyph-1487623024713066-1-3\" x=\"351.00832\" y=\"458.912\"/>\n",
       "  <use xlink:href=\"#glyph-1487623024713066-1-3\" x=\"355.98964\" y=\"458.912\"/>\n",
       "</g>\n",
       "<g style=\"fill:rgb(0%,0%,0%);fill-opacity:1;\">\n",
       "  <use xlink:href=\"#glyph-1487623024713066-1-1\" x=\"338.278\" y=\"430.687\"/>\n",
       "</g>\n",
       "<g style=\"fill:rgb(0%,0%,0%);fill-opacity:1;\">\n",
       "  <use xlink:href=\"#glyph-1487623024713066-2-2\" x=\"343.26\" y=\"430.687\"/>\n",
       "</g>\n",
       "<g style=\"fill:rgb(0%,0%,0%);fill-opacity:1;\">\n",
       "  <use xlink:href=\"#glyph-1487623024713066-1-3\" x=\"346.027\" y=\"430.687\"/>\n",
       "  <use xlink:href=\"#glyph-1487623024713066-1-3\" x=\"351.00832\" y=\"430.687\"/>\n",
       "  <use xlink:href=\"#glyph-1487623024713066-1-3\" x=\"355.98964\" y=\"430.687\"/>\n",
       "</g>\n",
       "<g style=\"fill:rgb(0%,0%,0%);fill-opacity:1;\">\n",
       "  <use xlink:href=\"#glyph-1487623024713066-1-14\" x=\"338.278\" y=\"402.462\"/>\n",
       "</g>\n",
       "<g style=\"fill:rgb(0%,0%,0%);fill-opacity:1;\">\n",
       "  <use xlink:href=\"#glyph-1487623024713066-2-2\" x=\"343.26\" y=\"402.462\"/>\n",
       "</g>\n",
       "<g style=\"fill:rgb(0%,0%,0%);fill-opacity:1;\">\n",
       "  <use xlink:href=\"#glyph-1487623024713066-1-3\" x=\"346.027\" y=\"402.462\"/>\n",
       "  <use xlink:href=\"#glyph-1487623024713066-1-3\" x=\"351.00832\" y=\"402.462\"/>\n",
       "  <use xlink:href=\"#glyph-1487623024713066-1-3\" x=\"355.98964\" y=\"402.462\"/>\n",
       "</g>\n",
       "<g style=\"fill:rgb(0%,0%,0%);fill-opacity:1;\">\n",
       "  <use xlink:href=\"#glyph-1487623024713066-1-4\" x=\"338.278\" y=\"374.237\"/>\n",
       "</g>\n",
       "<g style=\"fill:rgb(0%,0%,0%);fill-opacity:1;\">\n",
       "  <use xlink:href=\"#glyph-1487623024713066-2-2\" x=\"343.26\" y=\"374.237\"/>\n",
       "</g>\n",
       "<g style=\"fill:rgb(0%,0%,0%);fill-opacity:1;\">\n",
       "  <use xlink:href=\"#glyph-1487623024713066-1-3\" x=\"346.027\" y=\"374.237\"/>\n",
       "  <use xlink:href=\"#glyph-1487623024713066-1-3\" x=\"351.00832\" y=\"374.237\"/>\n",
       "  <use xlink:href=\"#glyph-1487623024713066-1-3\" x=\"355.98964\" y=\"374.237\"/>\n",
       "</g>\n",
       "<g style=\"fill:rgb(0%,0%,0%);fill-opacity:1;\">\n",
       "  <use xlink:href=\"#glyph-1487623024713066-1-25\" x=\"338.278\" y=\"346.012\"/>\n",
       "</g>\n",
       "<g style=\"fill:rgb(0%,0%,0%);fill-opacity:1;\">\n",
       "  <use xlink:href=\"#glyph-1487623024713066-2-2\" x=\"343.26\" y=\"346.012\"/>\n",
       "</g>\n",
       "<g style=\"fill:rgb(0%,0%,0%);fill-opacity:1;\">\n",
       "  <use xlink:href=\"#glyph-1487623024713066-1-3\" x=\"346.027\" y=\"346.012\"/>\n",
       "  <use xlink:href=\"#glyph-1487623024713066-1-3\" x=\"351.00832\" y=\"346.012\"/>\n",
       "  <use xlink:href=\"#glyph-1487623024713066-1-3\" x=\"355.98964\" y=\"346.012\"/>\n",
       "</g>\n",
       "<g style=\"fill:rgb(0%,0%,0%);fill-opacity:1;\">\n",
       "  <use xlink:href=\"#glyph-1487623024713066-1-5\" x=\"338.278\" y=\"317.787\"/>\n",
       "</g>\n",
       "<g style=\"fill:rgb(0%,0%,0%);fill-opacity:1;\">\n",
       "  <use xlink:href=\"#glyph-1487623024713066-2-2\" x=\"343.26\" y=\"317.787\"/>\n",
       "</g>\n",
       "<g style=\"fill:rgb(0%,0%,0%);fill-opacity:1;\">\n",
       "  <use xlink:href=\"#glyph-1487623024713066-1-3\" x=\"346.027\" y=\"317.787\"/>\n",
       "  <use xlink:href=\"#glyph-1487623024713066-1-3\" x=\"351.00832\" y=\"317.787\"/>\n",
       "  <use xlink:href=\"#glyph-1487623024713066-1-3\" x=\"355.98964\" y=\"317.787\"/>\n",
       "</g>\n",
       "<g clip-path=\"url(#clip-1487623024713066-7)\" clip-rule=\"nonzero\">\n",
       "<path style=\"fill-rule:nonzero;fill:rgb(89.99939%,89.99939%,100%);fill-opacity:1;stroke-width:0.3985;stroke-linecap:butt;stroke-linejoin:miter;stroke:rgb(0%,0%,100%);stroke-opacity:1;stroke-miterlimit:10;\" d=\"M -0.00115625 -0.00165625 L 1.561344 -0.00165625 L 1.561344 100.904594 L -0.00115625 100.904594 Z M 1.561344 -0.00165625 L 3.123844 -0.00165625 L 3.123844 104.631156 L 1.561344 104.631156 Z M 3.123844 -0.00165625 L 4.686344 -0.00165625 L 4.686344 104.349906 L 3.123844 104.349906 Z M 4.686344 -0.00165625 L 6.244938 -0.00165625 L 6.244938 103.474906 L 4.686344 103.474906 Z M 6.244938 -0.00165625 L 7.807438 -0.00165625 L 7.807438 103.248344 L 6.244938 103.248344 Z M 7.807438 -0.00165625 L 9.369938 -0.00165625 L 9.369938 105.170219 L 7.807438 105.170219 Z M 9.369938 -0.00165625 L 10.932438 -0.00165625 L 10.932438 103.529594 L 9.369938 103.529594 Z M 10.932438 -0.00165625 L 12.494938 -0.00165625 L 12.494938 102.654594 L 10.932438 102.654594 Z M 12.494938 -0.00165625 L 14.053531 -0.00165625 L 14.053531 101.330375 L 12.494938 101.330375 Z M 14.053531 -0.00165625 L 15.616031 -0.00165625 L 15.616031 103.869438 L 14.053531 103.869438 Z M 15.616031 -0.00165625 L 17.178531 -0.00165625 L 17.178531 103.642875 L 15.616031 103.642875 Z M 17.178531 -0.00165625 L 18.741031 -0.00165625 L 18.741031 106.916313 L 17.178531 106.916313 Z M 18.741031 -0.00165625 L 20.303531 -0.00165625 L 20.303531 103.896781 L 18.741031 103.896781 Z M 20.303531 -0.00165625 L 21.862125 -0.00165625 L 21.862125 104.885063 L 20.303531 104.885063 Z M 21.862125 -0.00165625 L 23.424625 -0.00165625 L 23.424625 101.1585 L 21.862125 101.1585 Z M 23.424625 -0.00165625 L 24.987125 -0.00165625 L 24.987125 104.971 L 23.424625 104.971 Z M 24.987125 -0.00165625 L 26.549625 -0.00165625 L 26.549625 104.463188 L 24.987125 104.463188 Z M 26.549625 -0.00165625 L 28.112125 -0.00165625 L 28.112125 101.892875 L 26.549625 101.892875 Z M 28.112125 -0.00165625 L 29.670719 -0.00165625 L 29.670719 101.076469 L 28.112125 101.076469 Z M 29.670719 -0.00165625 L 31.233219 -0.00165625 L 31.233219 102.092094 L 29.670719 102.092094 Z M 31.233219 -0.00165625 L 32.795719 -0.00165625 L 32.795719 101.131156 L 31.233219 101.131156 Z M 32.795719 -0.00165625 L 34.358219 -0.00165625 L 34.358219 150.330375 L 32.795719 150.330375 Z M 34.358219 -0.00165625 L 35.920719 -0.00165625 L 35.920719 216.631156 L 34.358219 216.631156 Z M 35.920719 -0.00165625 L 37.479313 -0.00165625 L 37.479313 211.775688 L 35.920719 211.775688 Z M 37.479313 -0.00165625 L 39.041813 -0.00165625 L 39.041813 209.037406 L 37.479313 209.037406 Z M 39.041813 -0.00165625 L 40.604313 -0.00165625 L 40.604313 210.478813 L 39.041813 210.478813 Z M 40.604313 -0.00165625 L 42.166813 -0.00165625 L 42.166813 216.93975 L 40.604313 216.93975 Z M 42.166813 -0.00165625 L 43.729313 -0.00165625 L 43.729313 209.318656 L 42.166813 209.318656 Z M 43.729313 -0.00165625 L 45.287906 -0.00165625 L 45.287906 212.342094 L 43.729313 212.342094 Z M 45.287906 -0.00165625 L 46.850406 -0.00165625 L 46.850406 210.193656 L 45.287906 210.193656 Z M 46.850406 -0.00165625 L 48.412906 -0.00165625 L 48.412906 212.2835 L 46.850406 212.2835 Z M 48.412906 -0.00165625 L 49.975406 -0.00165625 L 49.975406 213.385063 L 48.412906 213.385063 Z M 49.975406 -0.00165625 L 51.537906 -0.00165625 L 51.537906 188.517875 L 49.975406 188.517875 Z M 51.537906 -0.00165625 L 53.0965 -0.00165625 L 53.0965 193.205375 L 51.537906 193.205375 Z M 53.0965 -0.00165625 L 54.659 -0.00165625 L 54.659 181.037406 L 53.0965 181.037406 Z M 54.659 -0.00165625 L 56.2215 -0.00165625 L 56.2215 185.838188 L 54.659 185.838188 Z M 56.2215 -0.00165625 L 57.784 -0.00165625 L 57.784 180.135063 L 56.2215 180.135063 Z M 57.784 -0.00165625 L 59.3465 -0.00165625 L 59.3465 186.853813 L 57.784 186.853813 Z M 59.3465 -0.00165625 L 60.905094 -0.00165625 L 60.905094 180.842094 L 59.3465 180.842094 Z M 60.905094 -0.00165625 L 62.467594 -0.00165625 L 62.467594 185.553031 L 60.905094 185.553031 Z M 62.467594 -0.00165625 L 64.030094 -0.00165625 L 64.030094 184.56475 L 62.467594 184.56475 Z M 64.030094 -0.00165625 L 65.592594 -0.00165625 L 65.592594 187.474906 L 64.030094 187.474906 Z M 65.592594 -0.00165625 L 67.155094 -0.00165625 L 67.155094 182.986625 L 65.592594 182.986625 Z M 67.155094 -0.00165625 L 68.713688 -0.00165625 L 68.713688 184.424125 L 67.155094 184.424125 Z M 68.713688 -0.00165625 L 70.276188 -0.00165625 L 70.276188 121.256156 L 68.713688 121.256156 Z M 70.276188 -0.00165625 L 71.838688 -0.00165625 L 71.838688 102.232719 L 70.276188 102.232719 Z M 71.838688 -0.00165625 L 73.401188 -0.00165625 L 73.401188 104.236625 L 71.838688 104.236625 Z M 73.401188 -0.00165625 L 74.963688 -0.00165625 L 74.963688 103.560844 L 73.401188 103.560844 Z M 74.963688 -0.00165625 L 76.522281 -0.00165625 L 76.522281 106.213188 L 74.963688 106.213188 Z M 76.522281 -0.00165625 L 78.084781 -0.00165625 L 78.084781 103.135063 L 76.522281 103.135063 Z M 78.084781 -0.00165625 L 79.647281 -0.00165625 L 79.647281 104.010063 L 78.084781 104.010063 Z M 79.647281 -0.00165625 L 81.209781 -0.00165625 L 81.209781 102.572563 L 79.647281 102.572563 Z M 81.209781 -0.00165625 L 82.772281 -0.00165625 L 82.772281 105.478813 L 81.209781 105.478813 Z M 82.772281 -0.00165625 L 84.330875 -0.00165625 L 84.330875 103.080375 L 82.772281 103.080375 Z M 84.330875 -0.00165625 L 85.893375 -0.00165625 L 85.893375 103.81475 L 84.330875 103.81475 Z M 85.893375 -0.00165625 L 87.455875 -0.00165625 L 87.455875 102.994438 L 85.893375 102.994438 Z M 87.455875 -0.00165625 L 89.018375 -0.00165625 L 89.018375 102.572563 L 87.455875 102.572563 Z M 89.018375 -0.00165625 L 90.580875 -0.00165625 L 90.580875 104.576469 L 89.018375 104.576469 Z M 90.580875 -0.00165625 L 92.139469 -0.00165625 L 92.139469 101.443656 L 90.580875 101.443656 Z M 92.139469 -0.00165625 L 93.701969 -0.00165625 L 93.701969 105.310844 L 92.139469 105.310844 Z M 93.701969 -0.00165625 L 95.264469 -0.00165625 L 95.264469 106.748344 L 93.701969 106.748344 Z M 95.264469 -0.00165625 L 96.826969 -0.00165625 L 96.826969 103.275688 L 95.264469 103.275688 Z M 96.826969 -0.00165625 L 98.389469 -0.00165625 L 98.389469 102.799125 L 96.826969 102.799125 Z M 98.389469 -0.00165625 L 99.948063 -0.00165625 L 99.948063 101.330375 L 98.389469 101.330375 Z M 99.948063 -0.00165625 L 101.510563 -0.00165625 L 101.510563 102.994438 L 99.948063 102.994438 Z M 101.510563 -0.00165625 L 103.073063 -0.00165625 L 103.073063 84.732719 L 101.510563 84.732719 Z M 103.073063 -0.00165625 L 104.635563 -0.00165625 L 104.635563 21.338188 L 103.073063 21.338188 Z M 104.635563 -0.00165625 L 106.194156 -0.00165625 L 106.194156 20.37725 L 104.635563 20.37725 Z M 106.194156 -0.00165625 L 107.756656 -0.00165625 L 107.756656 19.900688 L 106.194156 19.900688 Z M 107.756656 -0.00165625 L 109.319156 -0.00165625 L 109.319156 21.25225 L 107.756656 21.25225 Z M 109.319156 -0.00165625 L 110.881656 -0.00165625 L 110.881656 21.197563 L 109.319156 21.197563 Z M 110.881656 -0.00165625 L 112.444156 -0.00165625 L 112.444156 20.521781 L 110.881656 20.521781 Z M 112.444156 -0.00165625 L 114.00275 -0.00165625 L 114.00275 21.138969 L 112.444156 21.138969 Z M 114.00275 -0.00165625 L 115.56525 -0.00165625 L 115.56525 21.365531 L 114.00275 21.365531 Z M 115.56525 -0.00165625 L 117.12775 -0.00165625 L 117.12775 21.084281 L 115.56525 21.084281 Z M 117.12775 -0.00165625 L 118.69025 -0.00165625 L 118.69025 20.263969 L 117.12775 20.263969 Z M 118.69025 -0.00165625 L 120.25275 -0.00165625 L 120.25275 20.717094 L 118.69025 20.717094 Z M 120.25275 -0.00165625 L 121.811344 -0.00165625 L 121.811344 21.365531 L 120.25275 21.365531 Z M 121.811344 -0.00165625 L 123.373844 -0.00165625 L 123.373844 20.236625 L 121.811344 20.236625 Z M 123.373844 -0.00165625 L 124.936344 -0.00165625 L 124.936344 20.717094 L 123.373844 20.717094 Z M 124.936344 -0.00165625 L 126.498844 -0.00165625 L 126.498844 20.209281 L 124.936344 20.209281 Z M 126.498844 -0.00165625 L 128.061344 -0.00165625 L 128.061344 21.732719 L 126.498844 21.732719 Z M 128.061344 -0.00165625 L 129.619938 -0.00165625 L 129.619938 22.326469 L 128.061344 22.326469 Z M 129.619938 -0.00165625 L 131.182438 -0.00165625 L 131.182438 21.224906 L 129.619938 21.224906 Z M 131.182438 -0.00165625 L 132.744938 -0.00165625 L 132.744938 20.263969 L 131.182438 20.263969 Z M 132.744938 -0.00165625 L 134.307438 -0.00165625 L 134.307438 21.170219 L 132.744938 21.170219 Z M 134.307438 -0.00165625 L 135.869938 -0.00165625 L 135.869938 20.662406 L 134.307438 20.662406 Z M 135.869938 -0.00165625 L 137.428531 -0.00165625 L 137.428531 20.576469 L 135.869938 20.576469 Z M 137.428531 -0.00165625 L 138.991031 -0.00165625 L 138.991031 20.490531 L 137.428531 20.490531 Z M 138.991031 -0.00165625 L 140.553531 -0.00165625 L 140.553531 20.236625 L 138.991031 20.236625 Z M 140.553531 -0.00165625 L 142.116031 -0.00165625 L 142.116031 20.68975 L 140.553531 20.68975 Z M 142.116031 -0.00165625 L 143.678531 -0.00165625 L 143.678531 21.084281 L 142.116031 21.084281 Z M 143.678531 -0.00165625 L 145.237125 -0.00165625 L 145.237125 23.795219 L 143.678531 23.795219 Z M 145.237125 -0.00165625 L 146.799625 -0.00165625 L 146.799625 22.013969 L 145.237125 22.013969 Z M 146.799625 -0.00165625 L 148.362125 -0.00165625 L 148.362125 21.396781 L 146.799625 21.396781 Z M 148.362125 -0.00165625 L 149.924625 -0.00165625 L 149.924625 21.650688 L 148.362125 21.650688 Z M 149.924625 -0.00165625 L 151.487125 -0.00165625 L 151.487125 20.916313 L 149.924625 20.916313 Z M 151.487125 -0.00165625 L 153.045719 -0.00165625 L 153.045719 21.056938 L 151.487125 21.056938 Z M 153.045719 -0.00165625 L 154.608219 -0.00165625 L 154.608219 20.236625 L 153.045719 20.236625 Z M 154.608219 -0.00165625 L 156.170719 -0.00165625 L 156.170719 20.857719 L 154.608219 20.857719 Z M 156.170719 -0.00165625 L 157.733219 -0.00165625 L 157.733219 19.787406 L 156.170719 19.787406 Z M 157.733219 -0.00165625 L 159.295719 -0.00165625 L 159.295719 21.2835 L 157.733219 21.2835 Z M 159.295719 -0.00165625 L 160.854313 -0.00165625 L 160.854313 21.506156 L 159.295719 21.506156 Z M 160.854313 -0.00165625 L 162.416813 -0.00165625 L 162.416813 21.931938 L 160.854313 21.931938 Z M 162.416813 -0.00165625 L 163.979313 -0.00165625 L 163.979313 21.537406 L 162.416813 21.537406 Z M 163.979313 -0.00165625 L 165.541813 -0.00165625 L 165.541813 22.240531 L 163.979313 22.240531 Z M 165.541813 -0.00165625 L 167.104313 -0.00165625 L 167.104313 21.170219 L 165.541813 21.170219 Z M 167.104313 -0.00165625 L 168.662906 -0.00165625 L 168.662906 21.084281 L 167.104313 21.084281 Z M 168.662906 -0.00165625 L 170.225406 -0.00165625 L 170.225406 21.846 L 168.662906 21.846 Z M 170.225406 -0.00165625 L 171.787906 -0.00165625 L 171.787906 20.830375 L 170.225406 20.830375 Z M 171.787906 -0.00165625 L 173.350406 -0.00165625 L 173.350406 21.25225 L 171.787906 21.25225 Z M 173.350406 -0.00165625 L 174.912906 -0.00165625 L 174.912906 21.478813 L 173.350406 21.478813 Z M 174.912906 -0.00165625 L 176.4715 -0.00165625 L 176.4715 21.537406 L 174.912906 21.537406 Z M 176.4715 -0.00165625 L 178.034 -0.00165625 L 178.034 20.830375 L 176.4715 20.830375 Z M 178.034 -0.00165625 L 179.5965 -0.00165625 L 179.5965 20.68975 L 178.034 20.68975 Z M 179.5965 -0.00165625 L 181.159 -0.00165625 L 181.159 22.326469 L 179.5965 22.326469 Z M 181.159 -0.00165625 L 182.7215 -0.00165625 L 182.7215 21.56475 L 181.159 21.56475 Z M 182.7215 -0.00165625 L 184.280094 -0.00165625 L 184.280094 21.224906 L 182.7215 21.224906 Z M 184.280094 -0.00165625 L 185.842594 -0.00165625 L 185.842594 20.603813 L 184.280094 20.603813 Z M 185.842594 -0.00165625 L 187.405094 -0.00165625 L 187.405094 21.396781 L 185.842594 21.396781 Z M 187.405094 -0.00165625 L 188.967594 -0.00165625 L 188.967594 20.068656 L 187.405094 20.068656 Z M 188.967594 -0.00165625 L 190.530094 -0.00165625 L 190.530094 20.631156 L 188.967594 20.631156 Z M 190.530094 -0.00165625 L 192.088688 -0.00165625 L 192.088688 20.521781 L 190.530094 20.521781 Z M 192.088688 -0.00165625 L 193.651188 -0.00165625 L 193.651188 20.549125 L 192.088688 20.549125 Z M 193.651188 -0.00165625 L 195.213688 -0.00165625 L 195.213688 22.013969 L 193.651188 22.013969 Z M 195.213688 -0.00165625 L 196.776188 -0.00165625 L 196.776188 21.592094 L 195.213688 21.592094 Z M 196.776188 -0.00165625 L 198.338688 -0.00165625 L 198.338688 21.197563 L 196.776188 21.197563 Z M 198.338688 -0.00165625 L 199.897281 -0.00165625 L 199.897281 20.549125 L 198.338688 20.549125 Z M 199.897281 -0.00165625 L 201.459781 -0.00165625 L 201.459781 21.791313 L 199.897281 21.791313 Z M 201.459781 -0.00165625 L 203.022281 -0.00165625 L 203.022281 22.12725 L 201.459781 22.12725 Z M 203.022281 -0.00165625 L 204.584781 -0.00165625 L 204.584781 21.138969 L 203.022281 21.138969 Z M 204.584781 -0.00165625 L 206.143375 -0.00165625 L 206.143375 22.12725 L 204.584781 22.12725 Z M 206.143375 -0.00165625 L 207.705875 -0.00165625 L 207.705875 20.603813 L 206.143375 20.603813 Z M 207.705875 -0.00165625 L 209.268375 -0.00165625 L 209.268375 20.857719 L 207.705875 20.857719 Z M 209.268375 -0.00165625 L 210.830875 -0.00165625 L 210.830875 21.791313 L 209.268375 21.791313 Z M 210.830875 -0.00165625 L 212.393375 -0.00165625 L 212.393375 22.12725 L 210.830875 22.12725 Z M 212.393375 -0.00165625 L 213.951969 -0.00165625 L 213.951969 19.869438 L 212.393375 19.869438 Z M 213.951969 -0.00165625 L 215.514469 -0.00165625 L 215.514469 21.2835 L 213.951969 21.2835 Z M 215.514469 -0.00165625 L 217.076969 -0.00165625 L 217.076969 22.013969 L 215.514469 22.013969 Z M 217.076969 -0.00165625 L 218.639469 -0.00165625 L 218.639469 22.806938 L 217.076969 22.806938 Z M 218.639469 -0.00165625 L 220.201969 -0.00165625 L 220.201969 21.506156 L 218.639469 21.506156 Z M 220.201969 -0.00165625 L 221.760563 -0.00165625 L 221.760563 20.236625 L 220.201969 20.236625 Z M 221.760563 -0.00165625 L 223.323063 -0.00165625 L 223.323063 21.904594 L 221.760563 21.904594 Z M 223.323063 -0.00165625 L 224.885563 -0.00165625 L 224.885563 22.12725 L 223.323063 22.12725 Z M 224.885563 -0.00165625 L 226.448063 -0.00165625 L 226.448063 20.322563 L 224.885563 20.322563 Z M 226.448063 -0.00165625 L 228.010563 -0.00165625 L 228.010563 21.424125 L 226.448063 21.424125 Z M 228.010563 -0.00165625 L 229.569156 -0.00165625 L 229.569156 21.592094 L 228.010563 21.592094 Z M 229.569156 -0.00165625 L 231.131656 -0.00165625 L 231.131656 20.349906 L 229.569156 20.349906 Z M 231.131656 -0.00165625 L 232.694156 -0.00165625 L 232.694156 21.224906 L 231.131656 21.224906 Z M 232.694156 -0.00165625 L 234.256656 -0.00165625 L 234.256656 20.662406 L 232.694156 20.662406 Z M 234.256656 -0.00165625 L 235.819156 -0.00165625 L 235.819156 19.955375 L 234.256656 19.955375 Z M 235.819156 -0.00165625 L 237.37775 -0.00165625 L 237.37775 21.424125 L 235.819156 21.424125 Z M 237.37775 -0.00165625 L 238.94025 -0.00165625 L 238.94025 21.818656 L 237.37775 21.818656 Z M 238.94025 -0.00165625 L 240.50275 -0.00165625 L 240.50275 21.506156 L 238.94025 21.506156 Z M 240.50275 -0.00165625 L 242.06525 -0.00165625 L 242.06525 19.560844 L 240.50275 19.560844 Z M 242.06525 -0.00165625 L 243.62775 -0.00165625 L 243.62775 21.451469 L 242.06525 21.451469 Z M 243.62775 -0.00165625 L 245.186344 -0.00165625 L 245.186344 21.537406 L 243.62775 21.537406 Z M 245.186344 -0.00165625 L 246.748844 -0.00165625 L 246.748844 22.580375 L 245.186344 22.580375 Z M 246.748844 -0.00165625 L 248.311344 -0.00165625 L 248.311344 20.349906 L 246.748844 20.349906 Z M 248.311344 -0.00165625 L 249.873844 -0.00165625 L 249.873844 20.209281 L 248.311344 20.209281 Z M 249.873844 -0.00165625 L 251.436344 -0.00165625 L 251.436344 22.271781 L 249.873844 22.271781 Z M 251.436344 -0.00165625 L 252.994938 -0.00165625 L 252.994938 21.451469 L 251.436344 21.451469 Z M 252.994938 -0.00165625 L 254.557438 -0.00165625 L 254.557438 19.615531 L 252.994938 19.615531 Z M 254.557438 -0.00165625 L 256.119938 -0.00165625 L 256.119938 20.295219 L 254.557438 20.295219 Z M 256.119938 -0.00165625 L 257.682438 -0.00165625 L 257.682438 21.111625 L 256.119938 21.111625 Z M 257.682438 -0.00165625 L 259.244938 -0.00165625 L 259.244938 22.43975 L 257.682438 22.43975 Z M 259.244938 -0.00165625 L 260.803531 -0.00165625 L 260.803531 20.662406 L 259.244938 20.662406 Z M 260.803531 -0.00165625 L 262.366031 -0.00165625 L 262.366031 19.5335 L 260.803531 19.5335 Z M 262.366031 -0.00165625 L 263.928531 -0.00165625 L 263.928531 19.701469 L 262.366031 19.701469 Z M 263.928531 -0.00165625 L 265.491031 -0.00165625 L 265.491031 21.904594 L 263.928531 21.904594 Z M 265.491031 -0.00165625 L 267.053531 -0.00165625 L 267.053531 19.701469 L 265.491031 19.701469 Z M 267.053531 -0.00165625 L 268.612125 -0.00165625 L 268.612125 19.193656 L 267.053531 19.193656 Z M 268.612125 -0.00165625 L 270.174625 -0.00165625 Z M 270.174625 -0.00165625 L 271.737125 -0.00165625 Z M 271.737125 -0.00165625 L 273.299625 -0.00165625 Z M 273.299625 -0.00165625 L 274.862125 -0.00165625 Z M 274.862125 -0.00165625 L 276.420719 -0.00165625 Z M 276.420719 -0.00165625 L 277.983219 -0.00165625 Z M 277.983219 -0.00165625 L 279.545719 -0.00165625 Z M 279.545719 -0.00165625 L 281.108219 -0.00165625 Z M 281.108219 -0.00165625 L 282.670719 -0.00165625 L 282.670719 112.900688 L 281.108219 112.900688 Z M 281.108219 -0.00165625 \" transform=\"matrix(1,0,0,-1,391.341,541.346)\"/>\n",
       "</g>\n",
       "<g style=\"fill:rgb(0%,0%,0%);fill-opacity:1;\">\n",
       "  <use xlink:href=\"#glyph-1487623024713066-1-27\" x=\"482.228\" y=\"293.215\"/>\n",
       "  <use xlink:href=\"#glyph-1487623024713066-1-8\" x=\"489.838461\" y=\"293.215\"/>\n",
       "  <use xlink:href=\"#glyph-1487623024713066-1-19\" x=\"492.606082\" y=\"293.215\"/>\n",
       "  <use xlink:href=\"#glyph-1487623024713066-1-15\" x=\"496.535347\" y=\"293.215\"/>\n",
       "  <use xlink:href=\"#glyph-1487623024713066-1-12\" x=\"500.409818\" y=\"293.215\"/>\n",
       "  <use xlink:href=\"#glyph-1487623024713066-1-20\" x=\"505.391138\" y=\"293.215\"/>\n",
       "  <use xlink:href=\"#glyph-1487623024713066-1-23\" x=\"510.926381\" y=\"293.215\"/>\n",
       "  <use xlink:href=\"#glyph-1487623024713066-1-10\" x=\"515.353778\" y=\"293.215\"/>\n",
       "</g>\n",
       "<g style=\"fill:rgb(0%,0%,0%);fill-opacity:1;\">\n",
       "  <use xlink:href=\"#glyph-1487623024713066-1-28\" x=\"523.098734\" y=\"293.215\"/>\n",
       "</g>\n",
       "<g style=\"fill:rgb(0%,0%,0%);fill-opacity:1;\">\n",
       "  <use xlink:href=\"#glyph-1487623024713066-1-16\" x=\"528.775447\" y=\"293.215\"/>\n",
       "  <use xlink:href=\"#glyph-1487623024713066-1-29\" x=\"533.756767\" y=\"293.215\"/>\n",
       "  <use xlink:href=\"#glyph-1487623024713066-1-10\" x=\"537.659133\" y=\"293.215\"/>\n",
       "</g>\n",
       "</g>\n",
       "</svg>\n",
       "\n"
      ],
      "text/plain": [
       "PGFPlots.GroupPlot(PGFPlots.Axis[PGFPlots.Axis(PGFPlots.Plots.Plot[PGFPlots.Plots.Histogram(Real[10.0,3.612,0.401424,1.03865,1.52328,4.93327,1.37715,2.71617,4.7982,1.52611  …  0.682916,0.489688,0.921692,0.493251,1.3726,4.43732,1.2779,1.04196,0.285735,5.80709],100,false,false,\"fill=blue!10\",:default)],\"Timegap\",nothing,nothing,nothing,nothing,nothing,nothing,-5,9,0,nothing,nothing,nothing,nothing,nothing,nothing,\"12cm\",\"10cm\",nothing,nothing,nothing,nothing,nothing,nothing,nothing,nothing,\"axis\"),PGFPlots.Axis(PGFPlots.Plots.Plot[PGFPlots.Plots.Histogram(Real[30.0,23.158,30.0,30.0,8.61377,30.0,8.68708,7.45662,30.0,23.7864  …  13.3485,30.0,30.0,14.5234,30.0,30.0,15.7111,30.0,30.0,30.0],100,false,false,\"fill=blue!10\",:default)],\"Time to Collision\",nothing,nothing,nothing,nothing,nothing,nothing,nothing,27,0,nothing,nothing,nothing,nothing,nothing,nothing,\"12cm\",\"10cm\",nothing,nothing,nothing,nothing,nothing,nothing,nothing,nothing,\"axis\"),PGFPlots.Axis(PGFPlots.Plots.Plot[PGFPlots.Plots.Histogram(Real[13.1539,15.5847,15.5562,13.0794,15.8893,15.1192,17.9676,28.2626,15.8504,16.937  …  16.0039,14.7144,15.002,15.5294,15.7518,16.8389,18.3298,15.5281,15.1274,14.4039],100,false,false,\"fill=blue!10\",:default)],\"Velocity\",nothing,nothing,nothing,nothing,nothing,nothing,nothing,nothing,0,nothing,nothing,nothing,nothing,nothing,nothing,\"12cm\",\"10cm\",nothing,nothing,nothing,nothing,nothing,nothing,nothing,nothing,\"axis\"),PGFPlots.Axis(PGFPlots.Plots.Plot[PGFPlots.Plots.Histogram(Real[100.0,56.2919,6.24464,13.5849,24.2039,74.5873,24.7441,76.766,76.0532,25.8477  …  10.9294,7.20545,13.8272,7.65989,21.6209,74.7197,23.4236,16.1796,4.32242,83.6447],100,false,false,\"fill=blue!10\",:default)],\"Distance Fore\",nothing,nothing,nothing,nothing,nothing,nothing,nothing,95,0,nothing,nothing,nothing,nothing,nothing,nothing,\"12cm\",\"10cm\",nothing,nothing,nothing,nothing,nothing,nothing,nothing,nothing,\"axis\")],(2,2),nothing,\"horizontal sep = 1.75cm, vertical sep = 1.5cm\")"
      ]
     },
     "execution_count": 31,
     "metadata": {},
     "output_type": "execute_result"
    }
   ],
   "source": [
    "# analyze emergent behavior\n",
    "g = GroupPlot(2, 2, groupStyle = \"horizontal sep = 1.75cm, vertical sep = 1.5cm\")\n",
    "nbins = 100\n",
    "timegap_axis = Axis(Plots.Histogram(emergent[\"timegap\"], bins=nbins), \n",
    "                    ymin=0, \n",
    "                    xmax=9, \n",
    "                    xmin=-5,\n",
    "                    width=\"12cm\",\n",
    "                    height=\"10cm\",\n",
    "                    title=\"Timegap\")\n",
    "push!(g, timegap_axis)\n",
    "ttc_axis = Axis(Plots.Histogram(emergent[\"ttc\"], bins=nbins), \n",
    "                    ymin=0, \n",
    "                    xmax=27,\n",
    "                    width=\"12cm\",\n",
    "                    height=\"10cm\",\n",
    "                    title=\"Time to Collision\")\n",
    "push!(g, ttc_axis)\n",
    "velocity_axis = Axis(Plots.Histogram(emergent[\"velocity\"], bins=nbins), \n",
    "                    ymin=0,  \n",
    "                    width=\"12cm\",\n",
    "                    height=\"10cm\",\n",
    "                    title=\"Velocity\")\n",
    "push!(g, velocity_axis)\n",
    "distance_fore_axis = Axis(Plots.Histogram(emergent[\"distance_fore\"], bins=nbins), \n",
    "                    ymin=0,  \n",
    "                    xmax=95,\n",
    "                    width=\"12cm\",\n",
    "                    height=\"10cm\",\n",
    "                    title=\"Distance Fore\")\n",
    "push!(g, distance_fore_axis)\n",
    "g"
   ]
  },
  {
   "cell_type": "code",
   "execution_count": 32,
   "metadata": {
    "collapsed": false
   },
   "outputs": [],
   "source": [
    "TikzPictures.save(\"/Users/wulfebw/Desktop/hist_hard_brake.pdf\", g)"
   ]
  },
  {
   "cell_type": "code",
   "execution_count": null,
   "metadata": {
    "collapsed": false
   },
   "outputs": [],
   "source": [
    "cutpoints"
   ]
  },
  {
   "cell_type": "code",
   "execution_count": null,
   "metadata": {
    "collapsed": true
   },
   "outputs": [],
   "source": []
  }
 ],
 "metadata": {
  "kernelspec": {
   "display_name": "Julia 0.5.0",
   "language": "julia",
   "name": "julia-0.5"
  },
  "language_info": {
   "file_extension": ".jl",
   "mimetype": "application/julia",
   "name": "julia",
   "version": "0.5.0"
  },
  "widgets": {
   "state": {
    "01068093-a1dd-4fd9-b3a3-ee1d5ce19c92": {
     "views": [
      {
       "cell_index": 11
      }
     ]
    },
    "039c666d-f181-47b6-af30-c0d4b8fb3c23": {
     "views": [
      {
       "cell_index": 11
      }
     ]
    },
    "0a65f533-3c6c-4bbf-9055-c1f15c0747f1": {
     "views": [
      {
       "cell_index": 11
      }
     ]
    },
    "0b78e2e5-3f63-4efb-8b85-86509bdd7179": {
     "views": [
      {
       "cell_index": 11
      }
     ]
    },
    "0cbb184b-bca3-4b46-adc8-02574577857a": {
     "views": [
      {
       "cell_index": 11
      }
     ]
    },
    "12b38157-9fec-44c3-9f8a-9838827f0b63": {
     "views": [
      {
       "cell_index": 11
      }
     ]
    },
    "12c33f9a-3214-4129-ac1e-4d0938ac914b": {
     "views": [
      {
       "cell_index": 12
      }
     ]
    },
    "221322b8-4d8f-4a2b-80db-667511847e12": {
     "views": [
      {
       "cell_index": 11
      }
     ]
    },
    "228a918e-a4e2-4b8f-9484-2f9bf4af0bf0": {
     "views": [
      {
       "cell_index": 11
      }
     ]
    },
    "23d587ef-d4f1-4608-b672-6b6c9521068f": {
     "views": [
      {
       "cell_index": 11
      }
     ]
    },
    "24496454-29c4-426c-8668-aa5bfdd048ca": {
     "views": [
      {
       "cell_index": 11
      }
     ]
    },
    "24cbe3e0-83ce-4d51-a688-b4ddd9d35f9f": {
     "views": [
      {
       "cell_index": 13
      }
     ]
    },
    "2a3d2130-2d6a-48ac-8570-8f73d41462ad": {
     "views": [
      {
       "cell_index": 13
      }
     ]
    },
    "2b1e1189-9817-47e2-8ab4-4bd9a2ccb70d": {
     "views": [
      {
       "cell_index": 11
      }
     ]
    },
    "2b5c2132-bbd9-490f-ba1f-e77a29d78ac6": {
     "views": [
      {
       "cell_index": 13
      }
     ]
    },
    "2e443b86-0d5b-44a8-97a6-27278e0527ba": {
     "views": [
      {
       "cell_index": 11
      }
     ]
    },
    "2f190bf7-c985-45e3-85f4-e8c6d1605bd1": {
     "views": [
      {
       "cell_index": 11
      }
     ]
    },
    "30db186a-6205-4b00-bb19-1cb541697a3f": {
     "views": [
      {
       "cell_index": 11
      }
     ]
    },
    "367e8d36-bf5f-4a35-9d9c-8560b1a6635c": {
     "views": [
      {
       "cell_index": 13
      }
     ]
    },
    "4124b730-22fb-4e27-9dc2-92812734d4b0": {
     "views": [
      {
       "cell_index": 11
      }
     ]
    },
    "475cbfd0-74c7-4f5f-91a2-2647373438eb": {
     "views": [
      {
       "cell_index": 11
      }
     ]
    },
    "487fb60f-9e8b-4404-826d-0b219c1fb366": {
     "views": [
      {
       "cell_index": 13
      }
     ]
    },
    "4b180250-3772-43fa-87a4-3c12851ad82d": {
     "views": [
      {
       "cell_index": 11
      }
     ]
    },
    "4c52a34a-716c-48da-9d8f-f2f0602096f4": {
     "views": [
      {
       "cell_index": 11
      }
     ]
    },
    "4f4708ca-c5cd-49df-a82e-37c4afbc7102": {
     "views": [
      {
       "cell_index": 11
      }
     ]
    },
    "52c96b05-d37b-4c17-932d-735166957624": {
     "views": [
      {
       "cell_index": 11
      }
     ]
    },
    "5699bb47-2ba5-461d-8b22-fcfa942532c5": {
     "views": [
      {
       "cell_index": 13
      }
     ]
    },
    "59654b16-8411-4cb9-af14-6ee2f42f766b": {
     "views": [
      {
       "cell_index": 11
      }
     ]
    },
    "5a56c622-55c9-45ee-86bd-9fcd6913b5e9": {
     "views": [
      {
       "cell_index": 13
      }
     ]
    },
    "5e643f0d-4278-4920-8968-1ca0723e3951": {
     "views": [
      {
       "cell_index": 11
      }
     ]
    },
    "603b470f-6fa1-4feb-8ddf-6f390f47ff99": {
     "views": [
      {
       "cell_index": 11
      }
     ]
    },
    "62a118cf-5b0e-4edf-952c-ba55f8eaeb66": {
     "views": [
      {
       "cell_index": 11
      }
     ]
    },
    "635d6e67-6a62-4bdf-9a32-2893413fb916": {
     "views": [
      {
       "cell_index": 11
      }
     ]
    },
    "64559c79-2e45-407b-9252-3090560fb36d": {
     "views": [
      {
       "cell_index": 11
      }
     ]
    },
    "6d88965b-ca81-47f7-978f-35f7913df7ee": {
     "views": [
      {
       "cell_index": 11
      }
     ]
    },
    "6e094931-310d-42b1-ae66-f45db8c9baed": {
     "views": [
      {
       "cell_index": 11
      }
     ]
    },
    "721cfbe4-8116-4519-a612-d91fac2c4ad4": {
     "views": [
      {
       "cell_index": 11
      }
     ]
    },
    "74b12a76-d212-449e-93f3-0c151420767e": {
     "views": [
      {
       "cell_index": 11
      }
     ]
    },
    "799ff4de-5c02-4151-ab19-bf342ac11e80": {
     "views": [
      {
       "cell_index": 11
      }
     ]
    },
    "7a15dca9-c24e-4489-8d01-b6c7945ae395": {
     "views": [
      {
       "cell_index": 11
      }
     ]
    },
    "7de17c5f-2fe7-44c2-b2b9-ebcde4edaf17": {
     "views": [
      {
       "cell_index": 11
      }
     ]
    },
    "8df471ce-d284-4f4e-bd15-22a40347cc36": {
     "views": [
      {
       "cell_index": 11
      }
     ]
    },
    "91ca0568-a869-4eb3-b89f-405d18d78b28": {
     "views": [
      {
       "cell_index": 11
      }
     ]
    },
    "91db69f2-4732-4bb8-9279-b70190764f6e": {
     "views": [
      {
       "cell_index": 13
      }
     ]
    },
    "9329f990-240d-4f3d-a5ec-98764a2611f6": {
     "views": [
      {
       "cell_index": 11
      }
     ]
    },
    "93e65f92-408c-4b66-b800-e17ebfaa6334": {
     "views": [
      {
       "cell_index": 11
      }
     ]
    },
    "945b066a-5561-4e75-99c9-f141fa0771ac": {
     "views": [
      {
       "cell_index": 11
      }
     ]
    },
    "9561ceab-57cd-441f-b287-4cfb97b756d5": {
     "views": [
      {
       "cell_index": 11
      }
     ]
    },
    "a0ec69c1-615d-4ab0-ba23-d7ba6f0551ee": {
     "views": [
      {
       "cell_index": 11
      }
     ]
    },
    "a28f9985-ef2e-404c-afa5-2a274bfebc73": {
     "views": [
      {
       "cell_index": 11
      }
     ]
    },
    "a3278e42-34aa-46ef-a48d-d1bcae646908": {
     "views": [
      {
       "cell_index": 11
      }
     ]
    },
    "b00a5d8e-71af-41d2-934d-e617a12b8d09": {
     "views": [
      {
       "cell_index": 11
      }
     ]
    },
    "b20bff8f-87f4-4f3d-ab6f-90bc19828cf0": {
     "views": [
      {
       "cell_index": 11
      }
     ]
    },
    "bc080bc8-babc-427c-96c2-46abc5fcd680": {
     "views": [
      {
       "cell_index": 11
      }
     ]
    },
    "c926a992-d10d-413a-94ca-cccd8ca0f0ab": {
     "views": [
      {
       "cell_index": 11
      }
     ]
    },
    "cb18b5bd-7824-4aa7-a526-26e62d570058": {
     "views": [
      {
       "cell_index": 13
      }
     ]
    },
    "ce01f60c-51c5-49ac-bbfa-3a2bdecb6b47": {
     "views": [
      {
       "cell_index": 11
      }
     ]
    },
    "cef8e52c-f39a-489b-a1d1-f3ee90eb77f3": {
     "views": [
      {
       "cell_index": 11
      }
     ]
    },
    "cfb5c48c-250b-47b2-a6e1-432e6cbd16eb": {
     "views": [
      {
       "cell_index": 11
      }
     ]
    },
    "d01ec5e8-039e-432a-9887-8561c52f1873": {
     "views": [
      {
       "cell_index": 11
      }
     ]
    },
    "d030aa84-fc15-468a-905a-36b8a5b56458": {
     "views": [
      {
       "cell_index": 12
      }
     ]
    },
    "dcc0c8fa-912a-4ac7-8872-82d6b346c774": {
     "views": [
      {
       "cell_index": 11
      }
     ]
    },
    "dcf9bfd7-dbc0-4290-8c6e-479848408faf": {
     "views": [
      {
       "cell_index": 13
      }
     ]
    },
    "ea270092-51ef-412e-a6aa-f469562338c8": {
     "views": [
      {
       "cell_index": 11
      }
     ]
    },
    "efa17ea8-8e15-4d27-bb1a-e4c6b004b57a": {
     "views": [
      {
       "cell_index": 11
      }
     ]
    },
    "f1637e93-1182-42ea-bd02-2dbf0bdc4b5d": {
     "views": [
      {
       "cell_index": 11
      }
     ]
    },
    "f765319e-6a28-467c-ab8e-b3eea9554c81": {
     "views": [
      {
       "cell_index": 11
      }
     ]
    },
    "f898b233-75c0-48b6-9067-88286bf57b20": {
     "views": [
      {
       "cell_index": 11
      }
     ]
    },
    "f8bd1fd5-9572-47c0-983b-015417f8c116": {
     "views": [
      {
       "cell_index": 11
      }
     ]
    },
    "fb40ec7e-3737-404e-bc6c-a51a480c6305": {
     "views": [
      {
       "cell_index": 11
      }
     ]
    },
    "ff10cd3e-a219-40dc-b1c2-74a302f3c197": {
     "views": [
      {
       "cell_index": 11
      }
     ]
    }
   },
   "version": "1.2.0"
  }
 },
 "nbformat": 4,
 "nbformat_minor": 1
}
