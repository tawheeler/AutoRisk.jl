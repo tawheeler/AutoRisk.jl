{
 "cells": [
  {
   "cell_type": "code",
   "execution_count": 1,
   "metadata": {
    "collapsed": false
   },
   "outputs": [
    {
     "name": "stderr",
     "output_type": "stream",
     "text": [
      "\u001b[1m\u001b[34mINFO: Recompiling stale cache file /Users/wulfebw/.julia/lib/v0.5/AutoRisk.ji for module AutoRisk.\n",
      "\u001b[0mWARNING: Method definition show(IO, AutomotiveDrivingModels.AutoCore.Vehicle) in module AutoCore at /Users/wulfebw/.julia/v0.5/AutomotiveDrivingModels/src/core/vehicles.jl:97 overwritten in module AutoRisk at /Users/wulfebw/Dropbox/School/Stanford/research/risk/auto_risk/src/utils/automotive.jl:123.\n",
      "WARNING: Method definition show(IO, AutomotiveDrivingModels.AutoCore.VehicleDef) in module AutoCore at /Users/wulfebw/.julia/v0.5/AutomotiveDrivingModels/src/core/vehicles.jl:84 overwritten in module AutoRisk at /Users/wulfebw/Dropbox/School/Stanford/research/risk/auto_risk/src/utils/automotive.jl:128.\n",
      "WARNING: Method definition show(IO, AutomotiveDrivingModels.AutoCore.VehicleState) in module AutoCore at /Users/wulfebw/.julia/v0.5/AutomotiveDrivingModels/src/core/vehicles.jl:54 overwritten in module AutoRisk at /Users/wulfebw/Dropbox/School/Stanford/research/risk/auto_risk/src/utils/automotive.jl:135.\n",
      "WARNING: Method definition show(IO, AutomotiveDrivingModels.AutoCore.Frenet) in module AutoCore at /Users/wulfebw/.julia/v0.5/AutomotiveDrivingModels/src/core/vehicles.jl:29 overwritten in module AutoRisk at /Users/wulfebw/Dropbox/School/Stanford/research/risk/auto_risk/src/utils/automotive.jl:141.\n",
      "WARNING: Method definition get_neighbor_rear_along_lane(AutomotiveDrivingModels.AutoCore.Scene, AutomotiveDrivingModels.AutoCore.Roadway, AutomotiveDrivingModels.AutoCore.LaneTag, Float64, AutomotiveDrivingModels.AutoCore.VehicleTargetPoint, AutomotiveDrivingModels.AutoCore.VehicleTargetPoint) in module AutoCore at /Users/wulfebw/.julia/v0.5/AutomotiveDrivingModels/src/core/scenes.jl:419 overwritten in module AutoRisk at /Users/wulfebw/Dropbox/School/Stanford/research/risk/auto_risk/src/utils/automotive.jl:184.\n",
      "WARNING: Method definition #get_neighbor_rear_along_lane(Array{Any, 1}, AutomotiveDrivingModels.AutoCore.#get_neighbor_rear_along_lane, AutomotiveDrivingModels.AutoCore.Scene, AutomotiveDrivingModels.AutoCore.Roadway, AutomotiveDrivingModels.AutoCore.LaneTag, Float64, AutomotiveDrivingModels.AutoCore.VehicleTargetPoint, AutomotiveDrivingModels.AutoCore.VehicleTargetPoint) in module AutoCore overwritten in module AutoRisk.\n"
     ]
    },
    {
     "data": {
      "text/html": [
       "<div id=\"interact-js-shim\">\n",
       "    <script charset=\"utf-8\">\n",
       "(function (IPython, $, _, MathJax) {\n",
       "    $.event.special.destroyed = {\n",
       "\tremove: function(o) {\n",
       "\t    if (o.handler) {\n",
       "\t\to.handler.apply(this, arguments)\n",
       "\t    }\n",
       "\t}\n",
       "    }\n",
       "\n",
       "    var OutputArea = IPython.version >= \"4.0.0\" ? require(\"notebook/js/outputarea\").OutputArea : IPython.OutputArea;\n",
       "\n",
       "    var redrawValue = function (container, type, val) {\n",
       "\tvar selector = $(\"<div/>\");\n",
       "\tvar oa = new OutputArea(_.extend(selector, {\n",
       "\t    selector: selector,\n",
       "\t    prompt_area: true,\n",
       "\t    events: IPython.events,\n",
       "\t    keyboard_manager: IPython.keyboard_manager\n",
       "\t})); // Hack to work with IPython 2.1.0\n",
       "\n",
       "\tswitch (type) {\n",
       "\tcase \"image/png\":\n",
       "            var _src = 'data:' + type + ';base64,' + val;\n",
       "\t    $(container).find(\"img\").attr('src', _src);\n",
       "\t    break;\n",
       "\tcase \"text/latex\":\n",
       "\t\tif (MathJax){\n",
       "\t\t\tvar math = MathJax.Hub.getAllJax(container)[0];\n",
       "\t\t\tMathJax.Hub.Queue([\"Text\", math, val.replace(/^\\${1,2}|\\${1,2}$/g, '')]);\n",
       "\t\t\tbreak;\n",
       "\t\t}\n",
       "\tdefault:\n",
       "\t    var toinsert = OutputArea.append_map[type].apply(\n",
       "\t\toa, [val, {}, selector]\n",
       "\t    );\n",
       "\t    $(container).empty().append(toinsert.contents());\n",
       "\t    selector.remove();\n",
       "\t}\n",
       "    }\n",
       "\n",
       "\n",
       "    $(document).ready(function() {\n",
       "\tfunction initComm(evt, data) {\n",
       "\t    var comm_manager = data.kernel.comm_manager;\n",
       "        //_.extend(comm_manager.targets, require(\"widgets/js/widget\"))\n",
       "\t    comm_manager.register_target(\"Signal\", function (comm) {\n",
       "            comm.on_msg(function (msg) {\n",
       "                var val = msg.content.data.value;\n",
       "                $(\".signal-\" + comm.comm_id).each(function() {\n",
       "                var type = $(this).data(\"type\");\n",
       "                if (typeof(val[type]) !== \"undefined\" && val[type] !== null) {\n",
       "                    redrawValue(this, type, val[type], type);\n",
       "                }\n",
       "                });\n",
       "                delete val;\n",
       "                delete msg.content.data.value;\n",
       "            });\n",
       "\t    });\n",
       "\n",
       "\t    // coordingate with Comm and redraw Signals\n",
       "\t    // XXX: Test using Reactive here to improve performance\n",
       "\t    $([IPython.events]).on(\n",
       "\t\t'output_appended.OutputArea', function (event, type, value, md, toinsert) {\n",
       "\t\t    if (md && md.reactive) {\n",
       "                // console.log(md.comm_id);\n",
       "                toinsert.addClass(\"signal-\" + md.comm_id);\n",
       "                toinsert.data(\"type\", type);\n",
       "                // Signal back indicating the mimetype required\n",
       "                var comm_manager = IPython.notebook.kernel.comm_manager;\n",
       "                var comm = comm_manager.comms[md.comm_id];\n",
       "                comm.then(function (c) {\n",
       "                    c.send({action: \"subscribe_mime\",\n",
       "                       mime: type});\n",
       "                    toinsert.bind(\"destroyed\", function() {\n",
       "                        c.send({action: \"unsubscribe_mime\",\n",
       "                               mime: type});\n",
       "                    });\n",
       "                })\n",
       "\t\t    }\n",
       "\t    });\n",
       "\t}\n",
       "\n",
       "\ttry {\n",
       "\t    // try to initialize right away. otherwise, wait on the status_started event.\n",
       "\t    initComm(undefined, IPython.notebook);\n",
       "\t} catch (e) {\n",
       "\t    $([IPython.events]).on('kernel_created.Kernel kernel_created.Session', initComm);\n",
       "\t}\n",
       "    });\n",
       "})(IPython, jQuery, _, MathJax);\n",
       "</script>\n",
       "    <script>\n",
       "        window.interactLoadedFlag = true\n",
       "       $(\"#interact-js-shim\").bind(\"destroyed\", function () {\n",
       "           if (window.interactLoadedFlag) {\n",
       "               console.warn(\"JavaScript required by Interact will be removed if you remove this cell or run using Interact more than once.\")\n",
       "           }\n",
       "       })\n",
       "       $([IPython.events]).on(\"kernel_starting.Kernel kernel_restarting.Kernel\", function () { window.interactLoadedFlag = false })\n",
       "   </script>\n",
       "</div>"
      ]
     },
     "metadata": {},
     "output_type": "display_data"
    },
    {
     "name": "stderr",
     "output_type": "stream",
     "text": [
      "WARNING: Method definition show(IO, AutomotiveDrivingModels.AutoCore.Frenet) in module AutoCore at /Users/wulfebw/.julia/v0.5/AutomotiveDrivingModels/src/core/vehicles.jl:29 overwritten in module AutoRisk at /Users/wulfebw/Dropbox/School/Stanford/research/risk/auto_risk/src/utils/automotive.jl:141.\n",
      "WARNING: Method definition show(IO, AutomotiveDrivingModels.AutoCore.VehicleState) in module AutoCore at /Users/wulfebw/.julia/v0.5/AutomotiveDrivingModels/src/core/vehicles.jl:54 overwritten in module AutoRisk at /Users/wulfebw/Dropbox/School/Stanford/research/risk/auto_risk/src/utils/automotive.jl:135.\n",
      "WARNING: Method definition show(IO, AutomotiveDrivingModels.AutoCore.VehicleDef) in module AutoCore at /Users/wulfebw/.julia/v0.5/AutomotiveDrivingModels/src/core/vehicles.jl:84 overwritten in module AutoRisk at /Users/wulfebw/Dropbox/School/Stanford/research/risk/auto_risk/src/utils/automotive.jl:128.\n",
      "WARNING: Method definition show(IO, AutomotiveDrivingModels.AutoCore.Vehicle) in module AutoCore at /Users/wulfebw/.julia/v0.5/AutomotiveDrivingModels/src/core/vehicles.jl:97 overwritten in module AutoRisk at /Users/wulfebw/Dropbox/School/Stanford/research/risk/auto_risk/src/utils/automotive.jl:123.\n",
      "WARNING: Method definition get_neighbor_rear_along_lane(AutomotiveDrivingModels.AutoCore.Scene, AutomotiveDrivingModels.AutoCore.Roadway, AutomotiveDrivingModels.AutoCore.LaneTag, Float64, AutomotiveDrivingModels.AutoCore.VehicleTargetPoint, AutomotiveDrivingModels.AutoCore.VehicleTargetPoint) in module AutoCore at /Users/wulfebw/.julia/v0.5/AutomotiveDrivingModels/src/core/scenes.jl:419 overwritten in module AutoRisk at /Users/wulfebw/Dropbox/School/Stanford/research/risk/auto_risk/src/utils/automotive.jl:184.\n",
      "WARNING: Method definition #get_neighbor_rear_along_lane(Array{Any, 1}, AutomotiveDrivingModels.AutoCore.#get_neighbor_rear_along_lane, AutomotiveDrivingModels.AutoCore.Scene, AutomotiveDrivingModels.AutoCore.Roadway, AutomotiveDrivingModels.AutoCore.LaneTag, Float64, AutomotiveDrivingModels.AutoCore.VehicleTargetPoint, AutomotiveDrivingModels.AutoCore.VehicleTargetPoint) in module AutoCore overwritten in module AutoRisk.\n",
      "WARNING: using AutoRisk.update! in module Main conflicts with an existing identifier.\n"
     ]
    }
   ],
   "source": [
    "using AutoRisk\n",
    "using AutoViz\n",
    "using Reel"
   ]
  },
  {
   "cell_type": "code",
   "execution_count": 2,
   "metadata": {
    "collapsed": false,
    "scrolled": true
   },
   "outputs": [],
   "source": [
    "include(\"../collection/heuristic_dataset_config.jl\")\n",
    "include(\"../collection/collect_heuristic_dataset.jl\")\n",
    "parse_flags!(FLAGS, [])\n",
    "FLAGS[\"num_monte_carlo_runs\"] = 1\n",
    "FLAGS[\"prime_time\"] = 10.0\n",
    "FLAGS[\"sampling_time\"] = 1.0\n",
    "col = build_dataset_collector(\"\", FLAGS);\n",
    "Reel.set_output_type(\"gif\");"
   ]
  },
  {
   "cell_type": "code",
   "execution_count": 3,
   "metadata": {
    "collapsed": false
   },
   "outputs": [],
   "source": [
    "function Base.show(col::DatasetCollector, seed::Int; target_idx::Int = 1)\n",
    "    if target_idx <= size(col.eval.targets, 1)\n",
    "        # this is labeled collisions, but can be any target, selected by target_idx\n",
    "        in_collision_veh_idxs = find(col.eval.targets[target_idx,:] .== 1.)\n",
    "    else\n",
    "        in_collision_veh_idxs = []\n",
    "    end\n",
    "    \n",
    "    # if no collisions then still display the scene, but change car colors\n",
    "    collisions_exist = in_collision_veh_idxs == [] ? false : true\n",
    "    collision_color = collisions_exist ? colorant\"red\" : colorant\"orange\"\n",
    "    if !collisions_exist\n",
    "        in_collision_veh_idxs = sort(collect(values(col.eval.veh_id_to_idx)))\n",
    "    end\n",
    "    \n",
    "    # prepare film for save case\n",
    "    frames = Frames(MIME(\"image/png\"), fps=10)\n",
    "    \n",
    "    # display the record\n",
    "    @manipulate for follow_veh_idx in in_collision_veh_idxs,\n",
    "                zoom in collect(1.:2:20.),\n",
    "                i in 0:(col.eval.rec.nscenes - 1),\n",
    "                save in [false, true],\n",
    "                clear in [false, true]\n",
    "        \n",
    "        # set camera\n",
    "        follow_veh_id = -1\n",
    "        if follow_veh_idx == 0\n",
    "            cam = FitToContentCamera()\n",
    "        else\n",
    "            for (veh_id, veh_idx) in col.eval.veh_id_to_idx\n",
    "                if veh_idx == follow_veh_idx\n",
    "                    follow_veh_id = veh_id\n",
    "                    break\n",
    "                end\n",
    "            end\n",
    "            cam = CarFollowCamera(follow_veh_id, zoom)\n",
    "        end\n",
    "\n",
    "        # render scene\n",
    "        idx = -(col.eval.rec.nscenes - i)\n",
    "        carcolors = Dict{Int,Colorant}()\n",
    "        for veh in get_scene(col.eval.rec, idx)\n",
    "            carcolors[veh.def.id] = veh.def.id == follow_veh_id ? collision_color : colorant\"green\"\n",
    "        end\n",
    "        stats = follow_veh_id == -1 ? [] : [CarFollowingStatsOverlay(follow_veh_id, 2), \n",
    "            NeighborsOverlay(follow_veh_id, textparams = TextParams(y_start=300))]\n",
    "#         stats = follow_veh_id == -1 ? [] : [MOBILOverlay(follow_veh_id, col.models[follow_veh_id].mlane)]\n",
    "#         stats = follow_veh_id == -1 ? [] : [CarFollowingStatsOverlay(follow_veh_id, 2)]\n",
    "        frame = render(get_scene(col.eval.rec, idx), col.roadway, stats,\n",
    "            cam = cam, car_colors = carcolors)\n",
    "        push!(frames, frame)\n",
    "        \n",
    "        # to use the save, move around the slider above and collect some frames to write\n",
    "        # then switch to save, then switch off save\n",
    "        # this will write the frames, and then clear them\n",
    "        if save\n",
    "            filename = \"seed_$(seed)_veh_id_$(follow_veh_idx)_target_$(target_idx)\"\n",
    "            write(\"../../data/visualizations/visualizer_outputs/$(filename).gif\", frames)\n",
    "            frames = Frames(MIME(\"image/png\"), fps=2)\n",
    "        end\n",
    "        \n",
    "        # to clear frames without saving them set this to true then false\n",
    "        if clear\n",
    "            frames = Frames(MIME(\"image/png\"), fps=10)\n",
    "        end\n",
    "        \n",
    "        frame\n",
    "    end\n",
    "\n",
    "end"
   ]
  },
  {
   "cell_type": "code",
   "execution_count": 6,
   "metadata": {
    "collapsed": false,
    "scrolled": false
   },
   "outputs": [
    {
     "name": "stderr",
     "output_type": "stream",
     "text": [
      "\u001b[1m\u001b[34mINFO: id 0 collecting seed 1311\n",
      "\u001b[0m"
     ]
    }
   ],
   "source": [
    "seed = 1311\n",
    "reset!(col, seed)\n",
    "evaluate!(col.eval, col.scene, col.models, col.roadway, seed);"
   ]
  },
  {
   "cell_type": "code",
   "execution_count": 7,
   "metadata": {
    "collapsed": false,
    "scrolled": false
   },
   "outputs": [
    {
     "data": {
      "text/html": [],
      "text/plain": [
       "Interact.Options{:ToggleButtons,Int64}(Signal{Int64}(1, nactions=1),\"follow_veh_idx\",1,\"1\",Interact.OptionDict(DataStructures.OrderedDict(\"1\"=>1,\"2\"=>2,\"3\"=>3,\"4\"=>4,\"5\"=>5,\"6\"=>6,\"7\"=>7,\"8\"=>8,\"9\"=>9,\"10\"=>10…),Dict(11=>\"11\",134=>\"134\",158=>\"158\",160=>\"160\",29=>\"29\",131=>\"131\",173=>\"173\",74=>\"74\",176=>\"176\",57=>\"57\"…)),Any[],Any[],true,\"horizontal\")"
      ]
     },
     "metadata": {},
     "output_type": "display_data"
    },
    {
     "data": {
      "text/html": [],
      "text/plain": [
       "Interact.Options{:ToggleButtons,Float64}(Signal{Float64}(1.0, nactions=1),\"zoom\",1.0,\"1.0\",Interact.OptionDict(DataStructures.OrderedDict(\"1.0\"=>1.0,\"3.0\"=>3.0,\"5.0\"=>5.0,\"7.0\"=>7.0,\"9.0\"=>9.0,\"11.0\"=>11.0,\"13.0\"=>13.0,\"15.0\"=>15.0,\"17.0\"=>17.0,\"19.0\"=>19.0…),Dict(7.0=>\"7.0\",9.0=>\"9.0\",13.0=>\"13.0\",3.0=>\"3.0\",19.0=>\"19.0\",17.0=>\"17.0\",11.0=>\"11.0\",5.0=>\"5.0\",15.0=>\"15.0\",1.0=>\"1.0\"…)),Any[],Any[],true,\"horizontal\")"
      ]
     },
     "metadata": {},
     "output_type": "display_data"
    },
    {
     "data": {
      "text/html": [],
      "text/plain": [
       "Interact.Options{:SelectionSlider,Int64}(Signal{Int64}(54, nactions=1),\"i\",54,\"54\",Interact.OptionDict(DataStructures.OrderedDict(\"0\"=>0,\"1\"=>1,\"2\"=>2,\"3\"=>3,\"4\"=>4,\"5\"=>5,\"6\"=>6,\"7\"=>7,\"8\"=>8,\"9\"=>9…),Dict(68=>\"68\",2=>\"2\",89=>\"89\",11=>\"11\",39=>\"39\",46=>\"46\",85=>\"85\",25=>\"25\",55=>\"55\",42=>\"42\"…)),Any[],Any[],true,\"horizontal\")"
      ]
     },
     "metadata": {},
     "output_type": "display_data"
    },
    {
     "data": {
      "text/html": [],
      "text/plain": [
       "Interact.Options{:ToggleButtons,Bool}(Signal{Bool}(false, nactions=1),\"save\",false,\"false\",Interact.OptionDict(DataStructures.OrderedDict(\"false\"=>false,\"true\"=>true),Dict(false=>\"false\",true=>\"true\")),Any[],Any[],true,\"horizontal\")"
      ]
     },
     "metadata": {},
     "output_type": "display_data"
    },
    {
     "data": {
      "text/html": [],
      "text/plain": [
       "Interact.Options{:ToggleButtons,Bool}(Signal{Bool}(false, nactions=1),\"clear\",false,\"false\",Interact.OptionDict(DataStructures.OrderedDict(\"false\"=>false,\"true\"=>true),Dict(false=>\"false\",true=>\"true\")),Any[],Any[],true,\"horizontal\")"
      ]
     },
     "metadata": {},
     "output_type": "display_data"
    },
    {
     "data": {
      "image/png": "[encoded data removed]",
      "text/plain": [
       "Cairo.CairoSurface{UInt32}(Ptr{Void} @0x00007f9a5657c890,1000.0,600.0,#undef)"
      ]
     },
     "execution_count": 7,
     "metadata": {
      "comm_id": "533cd214-740a-408b-93b3-3901426b0b79",
      "reactive": true
     },
     "output_type": "execute_result"
    },
    {
     "name": "stderr",
     "output_type": "stream",
     "text": [
      "Failed to push!\n",
      "    0\n",
      "to node\n",
      "    WeakRef(Signal{Int64}(0, nactions=2))\n",
      "BoundsError: attempt to access 110-element Array{AutomotiveDrivingModels.AutoCore.Scene,1} at index [111]\n",
      " in get_scene(::AutomotiveDrivingModels.AutoCore.SceneRecord, ::Int64) at /Users/wulfebw/.julia/v0.5/AutomotiveDrivingModels/src/core/scene_records.jl:28\n",
      " in (::##28#29{Int64,AutoRisk.DatasetCollector,Int64})(::Int64, ::Float64, ::Int64, ::Bool, ::Bool) at ./In[3]:43\n",
      " in (::Reactive.##16#17{##28#29{Int64,AutoRisk.DatasetCollector,Int64},Tuple{Reactive.Signal{Int64},Reactive.Signal{Float64},Reactive.Signal{Int64},Reactive.Signal{Bool},Reactive.Signal{Bool}}})(::Reactive.Signal{Any}, ::Int64) at /Users/wulfebw/.julia/v0.5/Reactive/src/operators.jl:39\n",
      " in do_action(::Reactive.Action, ::Int64) at /Users/wulfebw/.julia/v0.5/Reactive/src/core.jl:135\n",
      " in send_value!(::Reactive.Signal{Int64}, ::Int64, ::Int64) at /Users/wulfebw/.julia/v0.5/Reactive/src/core.jl:130\n",
      " in send_value!(::WeakRef, ::Int64, ::Int64) at /Users/wulfebw/.julia/v0.5/Reactive/src/core.jl:133\n",
      " in run(::Int64) at /Users/wulfebw/.julia/v0.5/Reactive/src/core.jl:215\n",
      " in run() at /Users/wulfebw/.julia/v0.5/Reactive/src/core.jl:235\n",
      " in macro expansion at /Users/wulfebw/.julia/v0.5/Reactive/src/core.jl:263 [inlined]\n",
      " in (::Reactive.##12#14)() at ./task.jl:360\n",
      "Failed to push!\n",
      "    0\n",
      "to node\n",
      "    WeakRef(Signal{Int64}(0, nactions=2))\n",
      "BoundsError: attempt to access 110-element Array{AutomotiveDrivingModels.AutoCore.Scene,1} at index [111]\n",
      " in get_scene(::AutomotiveDrivingModels.AutoCore.SceneRecord, ::Int64) at /Users/wulfebw/.julia/v0.5/AutomotiveDrivingModels/src/core/scene_records.jl:28\n",
      " in (::##28#29{Int64,AutoRisk.DatasetCollector,Int64})(::Int64, ::Float64, ::Int64, ::Bool, ::Bool) at ./In[3]:43\n",
      " in (::Reactive.##16#17{##28#29{Int64,AutoRisk.DatasetCollector,Int64},Tuple{Reactive.Signal{Int64},Reactive.Signal{Float64},Reactive.Signal{Int64},Reactive.Signal{Bool},Reactive.Signal{Bool}}})(::Reactive.Signal{Any}, ::Int64) at /Users/wulfebw/.julia/v0.5/Reactive/src/operators.jl:39\n",
      " in do_action(::Reactive.Action, ::Int64) at /Users/wulfebw/.julia/v0.5/Reactive/src/core.jl:135\n",
      " in send_value!(::Reactive.Signal{Int64}, ::Int64, ::Int64) at /Users/wulfebw/.julia/v0.5/Reactive/src/core.jl:130\n",
      " in send_value!(::WeakRef, ::Int64, ::Int64) at /Users/wulfebw/.julia/v0.5/Reactive/src/core.jl:133\n",
      " in run(::Int64) at /Users/wulfebw/.julia/v0.5/Reactive/src/core.jl:215\n",
      " in run() at /Users/wulfebw/.julia/v0.5/Reactive/src/core.jl:235\n",
      " in macro expansion at /Users/wulfebw/.julia/v0.5/Reactive/src/core.jl:263 [inlined]\n",
      " in (::Reactive.##12#14)() at ./task.jl:360\n"
     ]
    }
   ],
   "source": [
    "show(col, seed, target_idx = 2)"
   ]
  },
  {
   "cell_type": "code",
   "execution_count": null,
   "metadata": {
    "collapsed": false
   },
   "outputs": [],
   "source": [
    "println(col.eval.features[42,62])"
   ]
  },
  {
   "cell_type": "code",
   "execution_count": null,
   "metadata": {
    "collapsed": false
   },
   "outputs": [],
   "source": [
    "println(mean(col.eval.features[:,1:length(col.scene)], 2))\n",
    "println(mean(col.eval.targets[:,1:length(col.scene)], 2))\n",
    "println(col.eval.features[:,114])\n",
    "println(col.eval.num_veh)"
   ]
  },
  {
   "cell_type": "code",
   "execution_count": null,
   "metadata": {
    "collapsed": false
   },
   "outputs": [],
   "source": [
    "function AutoRisk.normalize_input!(network::Network, input::Array{Float64})\n",
    "    println(\"normalize\")\n",
    "    input .-= network.means\n",
    "    input ./= network.stds\n",
    "end\n",
    "\n",
    "function AutoRisk.fprop_network(network::Network, input::Array{Float64})\n",
    "    # fprop through network\n",
    "    num_layers = length(network.weights)\n",
    "    state = input\n",
    "    for lidx in 1:num_layers\n",
    "        state = state * network.weights[lidx] .+ network.biases[lidx]\n",
    "        if lidx != num_layers\n",
    "            # mutates state\n",
    "            network.nonlinearity(state)\n",
    "        end\n",
    "    end\n",
    "    return sigmoid(state)\n",
    "end"
   ]
  },
  {
   "cell_type": "code",
   "execution_count": null,
   "metadata": {
    "collapsed": false
   },
   "outputs": [],
   "source": [
    "seed = 1\n",
    "reset!(col, seed)\n",
    "extract_features!(col.eval.rec, col.roadway, col.models, col.eval.prediction_features)\n",
    "input_dim = size(col.eval.prediction_features, 1)\n",
    "for vidx in 1:size(features, 2)\n",
    "    println(size(features[:, vidx]))\n",
    "    pred = predict(col.eval.prediction_model,  reshape(features[:, vidx], (1, input_dim)))\n",
    "    println(size(pred))\n",
    "    println(pred)\n",
    "end\n",
    "# println(size(col.eval.prediction_model.means))\n",
    "# println(size(features))\n",
    "# normalize_input!(col.eval.prediction_model, features)\n",
    "# println(\"predict\")\n",
    "prediction = predict(col.eval.prediction_model, features)"
   ]
  },
  {
   "cell_type": "code",
   "execution_count": null,
   "metadata": {
    "collapsed": false
   },
   "outputs": [],
   "source": [
    "println(size(prediction))"
   ]
  },
  {
   "cell_type": "code",
   "execution_count": null,
   "metadata": {
    "collapsed": false
   },
   "outputs": [],
   "source": [
    "carcolors = Dict{Int,Colorant}()\n",
    "@manipulate for veh_idx in 1:col.scene.n_vehicles,\n",
    "                zoom in collect(1.:2:20.),\n",
    "                tidx in collect(1:5)\n",
    "    for (idx, veh) in enumerate(col.scene)\n",
    "        carcolors[veh.def.id] = convert(RGB, HSV(prediction[tidx, idx] * 180, 0.85, 0.85))\n",
    "    end\n",
    "    cam = CarFollowCamera(colscene[veh_idx].def.id, zoom)\n",
    "    render(col.scene, col.roadway, cam = cam, car_colors = carcolors)\n",
    "end"
   ]
  },
  {
   "cell_type": "code",
   "execution_count": null,
   "metadata": {
    "collapsed": true
   },
   "outputs": [],
   "source": [
    "# function build_collector(flags)\n",
    "#     num_scenarios = flags[\"num_scenarios\"]\n",
    "#     output_filepath = flags[\"output_filepath\"]\n",
    "#     feature_dim = flags[\"feature_dim\"]\n",
    "#     target_dim = flags[\"target_dim\"]\n",
    "#     chunk_dim = flags[\"chunk_dim\"]\n",
    "#     roadway_length = flags[\"roadway_length\"]\n",
    "#     roadway_radius = flags[\"roadway_radius\"]\n",
    "#     min_num_veh = flags[\"min_num_vehicles\"]\n",
    "#     max_num_veh = flags[\"max_num_vehicles\"]\n",
    "#     min_base_speed = flags[\"min_base_speed\"]\n",
    "#     max_base_speed = flags[\"max_base_speed\"]\n",
    "#     min_vehicle_length = flags[\"min_vehicle_length\"]\n",
    "#     max_vehicle_length = flags[\"max_vehicle_length\"]\n",
    "#     min_vehicle_width = flags[\"min_vehicle_width\"]\n",
    "#     max_vehicle_width = flags[\"max_vehicle_width\"]\n",
    "#     min_init_dist = flags[\"min_init_dist\"]\n",
    "#     num_lanes = flags[\"num_lanes\"]\n",
    "#     prime_time = flags[\"prime_time\"]\n",
    "#     sampling_time = flags[\"sampling_time\"]\n",
    "#     sampling_period = flags[\"sampling_period\"]\n",
    "#     num_runs = flags[\"num_monte_carlo_runs\"]\n",
    "#     veh_idx_can_change = false\n",
    "#     max_num_samples = flags[\"num_scenarios\"] * max_num_veh \n",
    "#     delayed_response = flags[\"delayed_response\"]\n",
    "#     evaluator_type = flags[\"evaluator_type\"]\n",
    "#     network_filepath = flags[\"network_filepath\"]\n",
    "#     sim_time = sampling_time + prime_time\n",
    "\n",
    "#     # roadway gen\n",
    "#     roadway = gen_stadium_roadway(num_lanes, length = roadway_length, radius = roadway_radius, ncurvepts_per_turn = 30)\n",
    "#     roadway_gen = StaticRoadwayGenerator(roadway)\n",
    "\n",
    "#     # scene gen\n",
    "#     scene = Scene(max_num_veh)\n",
    "#     scene_gen = HeuristicSceneGenerator(\n",
    "#         min_num_veh, \n",
    "#         max_num_veh, \n",
    "#         min_base_speed,\n",
    "#         max_base_speed,\n",
    "#         min_vehicle_length,\n",
    "#         max_vehicle_length,\n",
    "#         min_vehicle_width, \n",
    "#         max_vehicle_width,\n",
    "#         min_init_dist)\n",
    "    \n",
    "#     # behavior gen\n",
    "#     params = [get_aggressive_behavior_params(deterministic = false, delayed_response = delayed_response),\n",
    "#         get_passive_behavior_params(deterministic = false, delayed_response = delayed_response), \n",
    "#         get_normal_behavior_params(deterministic = false, delayed_response = delayed_response)]\n",
    "#     weights = WeightVec([.2,.3,.5])\n",
    "#     timestep = 0.1\n",
    "#     behavior_gen = PredefinedBehaviorGenerator(timestep, params, weights)\n",
    "#     models = Dict{Int, DriverModel}()\n",
    "    \n",
    "#     # evaluator\n",
    "#     max_num_scenes = Int((prime_time + sampling_time) / sampling_period)\n",
    "#     rec = SceneRecord(max_num_scenes, sampling_period, max_num_veh)\n",
    "#     features = Array{Float64}(feature_dim, max_num_veh)\n",
    "#     targets = Array{Float64}(target_dim, max_num_veh)\n",
    "#     agg_targets = Array{Float64}(target_dim, max_num_veh)\n",
    "#     if evaluator_type == \"bootstrap\"\n",
    "#         prediction_model = Network(network_filepath)\n",
    "#         eval = BootstrappingMonteCarloEvaluator(num_runs, timestep, prime_time,\n",
    "#             sampling_time, veh_idx_can_change, rec, features, targets, \n",
    "#             agg_targets, prediction_model)\n",
    "#     else\n",
    "#         eval = MonteCarloEvaluator(num_runs, timestep, prime_time, sampling_time,\n",
    "#         veh_idx_can_change, rec, features, targets, agg_targets)\n",
    "#     end\n",
    "\n",
    "#     # dataset\n",
    "#     dataset = Dataset(output_filepath, feature_dim, target_dim,\n",
    "#         max_num_samples, chunk_dim = chunk_dim, init_file = false)\n",
    "\n",
    "#     # collector\n",
    "#     seeds = collect(1:num_scenarios)\n",
    "#     col = DatasetCollector(seeds, roadway_gen, scene_gen, behavior_gen, eval,\n",
    "#         dataset, scene, models, roadway)\n",
    "    \n",
    "#     return col\n",
    "# end"
   ]
  },
  {
   "cell_type": "code",
   "execution_count": null,
   "metadata": {
    "collapsed": true
   },
   "outputs": [],
   "source": [
    "# function precompute(col::DatasetCollector, seed::Int64)\n",
    "#     # reset\n",
    "#     reset!(col, seed)\n",
    "#     empty!(col.eval.rec)\n",
    "    \n",
    "#     # prime\n",
    "#     simulate!(col.scene, col.models, col.roadway, col.eval.rec, col.eval.prime_time)\n",
    "    \n",
    "#     # extract features \n",
    "#     extract_features!(col.eval.rec, col.roadway, col.models, col.eval.features)\n",
    "    \n",
    "#     # sample\n",
    "#     empty!(col.eval.veh_id_to_idx)\n",
    "#     get_veh_id_to_idx(col.scene, col.eval.veh_id_to_idx)\n",
    "#     prime_idx = col.eval.rec.nscenes\n",
    "#     simulate!(col.scene, col.models, col.roadway, col.eval.rec, \n",
    "#         col.eval.sampling_time)\n",
    "    \n",
    "#     # extract targets\n",
    "#     past_idx = col.eval.rec.nscenes - prime_idx\n",
    "#     extract_targets!(col.eval.rec, col.roadway, col.eval.targets, \n",
    "#         col.eval.veh_id_to_idx, col.eval.veh_idx_can_change, past_idx)\n",
    "    \n",
    "# end"
   ]
  }
 ],
 "metadata": {
  "kernelspec": {
   "display_name": "Julia 0.5.0",
   "language": "julia",
   "name": "julia-0.5"
  },
  "language_info": {
   "file_extension": ".jl",
   "mimetype": "application/julia",
   "name": "julia",
   "version": "0.5.0"
  },
  "widgets": {
   "state": {
    "0e19d506-ff19-454e-9e32-b5d94a6fb8a3": {
     "views": [
      {
       "cell_index": 4
      }
     ]
    },
    "1ee1bebc-b096-4b0a-8a04-eb94799125a4": {
     "views": [
      {
       "cell_index": 4
      }
     ]
    },
    "25fd7815-e31c-4f80-bb45-dbd34c584c55": {
     "views": [
      {
       "cell_index": 4
      }
     ]
    },
    "33a50ca2-304f-48ba-bd86-51bcc3f85e17": {
     "views": [
      {
       "cell_index": 4
      }
     ]
    },
    "47795396-3d6a-4995-948a-5455c517d7ed": {
     "views": [
      {
       "cell_index": 4
      }
     ]
    },
    "49e409dd-3472-453c-bae4-2535838a9d4e": {
     "views": [
      {
       "cell_index": 4
      }
     ]
    },
    "56f7bc63-1fce-4d78-b09e-9f5bfad04ecf": {
     "views": [
      {
       "cell_index": 4
      }
     ]
    },
    "674344dd-fb29-4adc-bdc5-8ab222d75027": {
     "views": [
      {
       "cell_index": 4
      }
     ]
    },
    "6b135ac6-7050-461d-a717-d719149b7202": {
     "views": [
      {
       "cell_index": 4
      }
     ]
    },
    "9e8cd097-9d3e-4ed0-9d1c-2a9d5dcf8390": {
     "views": [
      {
       "cell_index": 4
      }
     ]
    },
    "aafd4128-bb76-4d3a-b545-f3fb0cf32801": {
     "views": [
      {
       "cell_index": 4
      }
     ]
    },
    "ac591d97-1713-4f9f-8a7d-d47aaa3cf100": {
     "views": [
      {
       "cell_index": 4
      }
     ]
    },
    "db703b05-ff17-4a8d-b17e-3316ee2b6a18": {
     "views": [
      {
       "cell_index": 4
      }
     ]
    },
    "de2b7823-991d-4e34-abd9-38a37ef2808c": {
     "views": [
      {
       "cell_index": 4
      }
     ]
    },
    "e608e10b-10a2-416d-95ad-34e8d4405752": {
     "views": [
      {
       "cell_index": 4
      }
     ]
    },
    "ea397e6a-5759-49d2-8361-f801d2412c14": {
     "views": [
      {
       "cell_index": 4
      }
     ]
    },
    "efe8bd25-1187-4953-af21-ddd1f6d5e66d": {
     "views": [
      {
       "cell_index": 4
      }
     ]
    }
   },
   "version": "1.2.0"
  }
 },
 "nbformat": 4,
 "nbformat_minor": 1
}
